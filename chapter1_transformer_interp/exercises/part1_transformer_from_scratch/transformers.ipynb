{
  "cells": [
    {
      "cell_type": "markdown",
      "metadata": {
        "id": "sRrD2AbyMwmP"
      },
      "source": [
        "# [1.1] - Transformers from scratch\n"
      ]
    },
    {
      "cell_type": "markdown",
      "metadata": {
        "id": "usCBu-Op2CeU"
      },
      "source": [
        "Colab: [exercises](https://colab.research.google.com/drive/1lDwKASSYGE4y_7DuGSqlo3DN41NHrXEw?usp=sharing) | [solutions](https://colab.research.google.com/drive/1bZkkJd8pAVnSN23svyszZ3f4WrnYKN_3?usp=sharing)\n",
        "\n",
        "[Streamlit page](https://arena3-chapter1-transformer-interp.streamlit.app/[1.1]_Transformer_from_Scratch)\n",
        "\n",
        "Please send any problems / bugs on the `#errata` channel in the [Slack group](https://join.slack.com/t/arena-uk/shared_invite/zt-28h0xs49u-ZN9ZDbGXl~oCorjbBsSQag), and ask any questions on the dedicated channels for this chapter of material."
      ]
    },
    {
      "cell_type": "markdown",
      "metadata": {
        "id": "9XdSGDOH2qtL"
      },
      "source": [
        "<img src=\"https://raw.githubusercontent.com/callummcdougall/TransformerLens-intro/main/images/page_images/transformer-building.png\" width=\"350\">\n"
      ]
    },
    {
      "cell_type": "markdown",
      "metadata": {
        "id": "Ny4PdCRf3YPu"
      },
      "source": [
        "# Introduction"
      ]
    },
    {
      "cell_type": "markdown",
      "metadata": {
        "id": "IGQQ6Sm7fHNm"
      },
      "source": [
        "This is a clean, first principles implementation of GPT-2 in PyTorch. The architectural choices closely follow those used by the TransformerLens library (which you'll be using a lot more in later exercises).\n",
        "\n",
        "The exercises are written to accompany Neel Nanda's [TransformerLens library](https://github.com/neelnanda-io/TransformerLens) for doing mechanistic interpretability research on GPT-2 style language models. We'll be working with this library extensively in this chapter of the course.\n",
        "\n",
        "Each exercise will have a difficulty and importance rating out of 5, as well as an estimated maximum time you should spend on these exercises and sometimes a short annotation. You should interpret the ratings & time estimates relatively (e.g. if you find yourself spending about 50% longer on the exercises than the time estimates, adjust accordingly). Please do skip exercises / look at solutions if you don't feel like they're important enough to be worth doing, and you'd rather get to the good stuff!\n"
      ]
    },
    {
      "cell_type": "markdown",
      "metadata": {
        "id": "ugWVaR9Gm4Rw"
      },
      "source": [
        "## Content & Learning Objectives\n"
      ]
    },
    {
      "cell_type": "markdown",
      "metadata": {
        "id": "jzS18i5wfHNm"
      },
      "source": [
        "#### 1️⃣ Understanding Inputs & Outputs of a Transformer\n",
        "\n",
        "In this section, we'll take a first look at transformers - what their function is, how information moves inside a transformer, and what inputs & outputs they take.\n",
        "\n",
        "> ##### Learning objectives\n",
        ">\n",
        "> - Understand what a transformer is used for\n",
        "> - Understand causal attention, and what a transformer's output representsalgebra operations on tensors\n",
        "> - Learn what tokenization is, and how models do it\n",
        "> - Understand what logits are, and how to use them to derive a probability distribution over the vocabulary\n",
        "\n",
        "#### 2️⃣ Clean Transformer Implementation\n",
        "\n",
        "Here, we'll implement a transformer from scratch, using only PyTorch's tensor operations. This will give us a good understanding of how transformers work, and how to use them. We do this by going module-by-module, in an experience which should feel somewhat similar to last week's ResNet exercises. Much like with ResNets, you'll conclude by loading in pretrained weights and verifying that your model works as expected.\n",
        "\n",
        "> ##### Learning objectives\n",
        ">\n",
        "> * Understand that a transformer is composed of attention heads and MLPs, with each one performing operations on the residual stream\n",
        "> * Understand that the attention heads in a single layer operate independently, and that they have the role of calculating attention patterns (which determine where information is moved to & from in the residual stream)\n",
        "> * Learn about & implement the following transformer modules:\n",
        ">     * LayerNorm (transforming the input to have zero mean and unit variance)\n",
        ">     * Positional embedding (a lookup table from position indices to residual stream vectors)\n",
        ">     * Attention (the method of computing attention patterns for residual stream vectors)\n",
        ">     * MLP (the collection of linear and nonlinear transformations which operate on each residual stream vector in the same way)\n",
        ">     * Embedding (a lookup table from tokens to residual stream vectors)\n",
        ">     * Unembedding (a matrix for converting residual stream vectors into a distribution over tokens)\n",
        "\n",
        "#### 3️⃣ Training a Transformer\n",
        "\n",
        "Next, you'll learn how to train your transformer from scratch. This will be quite similar to the training loops you wrote for ResNet in your first week.\n",
        "\n",
        "> ##### Learning objectives\n",
        ">\n",
        "> * Understand how to train a transformer from scratch\n",
        "> * Write a basic transformer training loop\n",
        "> * Interpret the transformer's falling cross entropy loss with reference to features of the training data (e.g. bigram frequencies)\n",
        "\n",
        "#### 4️⃣ Sampling from a Transformer\n",
        "\n",
        "Lastly, you'll learn how to sample from a transformer. This will involve implementing a few different sampling methods, and writing a caching system which can reuse computations from previous forward passes to improve your model's text generation speed.\n",
        "\n",
        "*The second half of this section is less important, and you can skip it if you want.*\n",
        "\n",
        "> ##### Learning objectives\n",
        ">\n",
        "> * Learn how to sample from a transformer\n",
        ">     * This includes basic methods like greedy search or top-k, and more advanced methods like beam search\n",
        "> * Learn how to cache the output of a transformer, so that it can be used to generate text more efficiently\n",
        ">     * Optionally, rewrite your sampling functions to make use of your caching methods\n"
      ]
    },
    {
      "cell_type": "markdown",
      "metadata": {
        "id": "3mItbKVVm4Rx"
      },
      "source": [
        "## Setup (don't read, just run!)\n"
      ]
    },
    {
      "cell_type": "code",
      "execution_count": 1,
      "metadata": {
        "id": "P_ngQtCbm4Rx"
      },
      "outputs": [],
      "source": [
        "try:\n",
        "    import google.colab # type: ignore\n",
        "    IN_COLAB = True\n",
        "except:\n",
        "    IN_COLAB = False\n",
        "\n",
        "import os, sys\n",
        "chapter = \"chapter1_transformer_interp\"\n",
        "repo = \"ARENA_3.0\"\n",
        "\n",
        "if IN_COLAB:\n",
        "    # Install packages\n",
        "    %pip install transformer_lens\n",
        "    %pip install einops\n",
        "    %pip install jaxtyping\n",
        "    %pip install git+https://github.com/callummcdougall/CircuitsVis.git#subdirectory=python\n",
        "\n",
        "    # Code to download the necessary files (e.g. solutions, test funcs)\n",
        "    if not os.path.exists(f\"/content/{chapter}\"):\n",
        "        !wget https://github.com/callummcdougall/ARENA_3.0/archive/refs/heads/main.zip\n",
        "        !unzip /content/main.zip 'ARENA_3.0-main/chapter1_transformer_interp/exercises/*'\n",
        "        sys.path.append(f\"/content/{repo}-main/{chapter}/exercises\")\n",
        "        os.remove(\"/content/main.zip\")\n",
        "        os.rename(f\"{repo}-main/{chapter}\", chapter)\n",
        "        os.rmdir(f\"{repo}-main\")\n",
        "        os.chdir(f\"{chapter}/exercises\")\n",
        "else:\n",
        "    chapter_dir = r\"./\" if chapter in os.listdir() else os.getcwd().split(chapter)[0]\n",
        "    sys.path.append(chapter_dir + f\"{chapter}/exercises\")"
      ]
    },
    {
      "cell_type": "code",
      "execution_count": 7,
      "metadata": {
        "id": "tfWhhdEBm4Ry"
      },
      "outputs": [
        {
          "data": {
            "application/vnd.jupyter.widget-view+json": {
              "model_id": "3ca6cad069ef4e1ca1839704d5d5e7ad",
              "version_major": 2,
              "version_minor": 0
            },
            "text/plain": [
              "Downloading model.safetensors:   0%|          | 0.00/548M [00:00<?, ?B/s]"
            ]
          },
          "metadata": {},
          "output_type": "display_data"
        },
        {
          "data": {
            "application/vnd.jupyter.widget-view+json": {
              "model_id": "6895a40aa7634beda652915efeacdb0e",
              "version_major": 2,
              "version_minor": 0
            },
            "text/plain": [
              "Downloading tokenizer_config.json:   0%|          | 0.00/26.0 [00:00<?, ?B/s]"
            ]
          },
          "metadata": {},
          "output_type": "display_data"
        },
        {
          "data": {
            "application/vnd.jupyter.widget-view+json": {
              "model_id": "647baabab77946d0b2bb3a40d4e5e5a2",
              "version_major": 2,
              "version_minor": 0
            },
            "text/plain": [
              "Downloading tokenizer.json:   0%|          | 0.00/1.36M [00:00<?, ?B/s]"
            ]
          },
          "metadata": {},
          "output_type": "display_data"
        },
        {
          "name": "stdout",
          "output_type": "stream",
          "text": [
            "Loaded pretrained model gpt2-small into HookedTransformer\n"
          ]
        }
      ],
      "source": [
        "import os; os.environ['ACCELERATE_DISABLE_RICH'] = \"1\"\n",
        "import sys\n",
        "import einops\n",
        "from dataclasses import dataclass\n",
        "from transformer_lens import HookedTransformer\n",
        "from transformer_lens.utils import gelu_new, tokenize_and_concatenate\n",
        "import torch as t\n",
        "from torch import Tensor\n",
        "import torch.nn as nn\n",
        "import numpy as np\n",
        "import math\n",
        "from tqdm.notebook import tqdm\n",
        "from typing import Tuple, List, Optional, Dict, Callable\n",
        "from jaxtyping import Float, Int\n",
        "from transformers.models.gpt2.tokenization_gpt2_fast import GPT2TokenizerFast\n",
        "from collections import defaultdict\n",
        "from rich.table import Table\n",
        "from rich import print as rprint\n",
        "import datasets\n",
        "from torch.utils.data import DataLoader\n",
        "import wandb\n",
        "from pathlib import Path\n",
        "import webbrowser\n",
        "\n",
        "current_dir = Path(os.getcwd())\n",
        "plotly_utils_dir = current_dir.parent\n",
        "if str(plotly_utils_dir) not in sys.path:\n",
        "    sys.path.append(str(plotly_utils_dir))\n",
        "\n",
        "# Make sure exercises are in the path\n",
        "exercises_dir = Path(f\"{os.getcwd().split(chapter)[0]}/{chapter}/exercises\").resolve()\n",
        "section_dir = (exercises_dir / \"part1_transformer_from_scratch\").resolve()\n",
        "if str(exercises_dir) not in sys.path: sys.path.append(str(exercises_dir))\n",
        "\n",
        "from plotly_utils import imshow\n",
        "import part1_transformer_from_scratch.solutions as solutions\n",
        "\n",
        "device = t.device(\"mps\" if t.backends.mps.is_available() else \"cpu\")\n",
        "\n",
        "MAIN = __name__ == '__main__'\n",
        "\n",
        "reference_gpt2 = HookedTransformer.from_pretrained(\"gpt2-small\", fold_ln=False, center_unembed=False, center_writing_weights=False)"
      ]
    },
    {
      "cell_type": "markdown",
      "metadata": {
        "id": "w1x_mWI6m4Rz"
      },
      "source": [
        "# 1️⃣ Understanding Inputs & Outputs of a Transformer\n"
      ]
    },
    {
      "cell_type": "markdown",
      "metadata": {
        "id": "B_FUMfnwA6Oq"
      },
      "source": [
        "> ### Learning Objectives\n",
        ">\n",
        "> * Understand what a transformer is used for\n",
        "> * Understand causal attention, and what a transformer's output represents\n",
        "> * Learn what tokenization is, and how models do it\n",
        "> * Understand what logits are, and how to use them to derive a probability distribution over the vocabulary\n"
      ]
    },
    {
      "cell_type": "markdown",
      "metadata": {
        "id": "d--zV4Crm4Rz"
      },
      "source": [
        "## What is the point of a transformer?\n"
      ]
    },
    {
      "cell_type": "markdown",
      "metadata": {
        "id": "MaMw4jYgm4Rz"
      },
      "source": [
        "**Transformers exist to model text!**\n",
        "\n",
        "We're going to focus GPT-2 style transformers. Key feature: They generate text! You feed in language, and the model generates a probability distribution over tokens. And you can repeatedly sample from this to generate text!\n",
        "\n",
        "(To explain this in more detail - you feed in a sequence of length $N$, then sample from the probability distribution over the $N+1$-th word, use this to construct a new sequence of length $N+1$, then feed this new sequence into the model to get a probability distribution over the $N+2$-th word, and so on.)\n",
        "\n",
        "### How is the model trained?\n",
        "\n",
        "You give it a bunch of text, and train it to predict the next token.\n",
        "\n",
        "Importantly, if you give a model 100 tokens in a sequence, it predicts the next token for *each* prefix, i.e. it produces 100 logit vectors (= probability distributions) over the set of all words in our vocabulary, with the `i`-th logit vector representing the probability distribution over the token *following* the `i`-th token in the sequence.\n",
        "\n",
        "<details>\n",
        "<summary>Aside - logits</summary>\n",
        "\n",
        "If you haven't encountered the term \"logits\" before, here's a quick refresher.\n",
        "\n",
        "Given an arbitrary vector $x$, we can turn it into a probability distribution via the **softmax** function: $x_i \\to \\frac{e^{x_i}}{\\sum e^{x_j}}$. The exponential makes everything positive; the normalization makes it add to one.\n",
        "\n",
        "The model's output is the vector $x$ (one for each prediction it makes). We call this vector a logit because it represents a probability distribution, and it is related to the actual probabilities via the softmax function.\n",
        "</details>\n",
        "\n",
        "How do we stop the transformer by \"cheating\" by just looking at the tokens it's trying to predict? Answer - we make the transformer have *causal attention* (as opposed to *bidirectional attention*). Causal attention only allows information to move forwards in the sequence, never backwards. The prediction of what comes after token 50 is only a function of the first 50 tokens, *not* of token 51. We say the transformer is **autoregressive**, because it only predicts future words based on past data.\n"
      ]
    },
    {
      "cell_type": "markdown",
      "metadata": {
        "id": "AHzR45fBfHNq"
      },
      "source": [
        "<img src=\"https://raw.githubusercontent.com/callummcdougall/computational-thread-art/master/example_images/misc/transformer-overview-new.png\" width=\"900\">\n"
      ]
    },
    {
      "cell_type": "markdown",
      "metadata": {
        "id": "z8ZVvPhDm4R0"
      },
      "source": [
        "## Tokens - Transformer Inputs\n"
      ]
    },
    {
      "cell_type": "markdown",
      "metadata": {
        "id": "UkBYr2qym4R0"
      },
      "source": [
        "Our tranformer's input is natural language (i.e. a sequence of characters, strings, etc). But ML models generally take vectors as input, not language. How do we convert language to vectors?\n",
        "\n",
        "We can factor this into 2 questions:\n",
        "\n",
        "1. How do we split up language into small sub-units?\n",
        "2. How do we convert these sub-units into vectors?\n",
        "\n",
        "Let's start with the second of these questions.\n"
      ]
    },
    {
      "cell_type": "markdown",
      "metadata": {
        "id": "MRP795JofHNq"
      },
      "source": [
        "### Converting sub-units to vectors\n",
        "\n",
        "We basically make a massive lookup table, which is called an **embedding**. It has one vector for each possible sub-unit of language we might get (we call this set of all sub-units our **vocabulary**). We label every element in our vocabulary with an integer (this labelling never changes), and we use this integer to index into the embedding.\n",
        "\n",
        "A key intuition is that one-hot encodings let you think about each integer independently. We don't bake in any relation between words when we perform our embedding, because every word has a completely separate embedding vector.\n",
        "\n",
        "<details>\n",
        "<summary>Aside - one-hot encodings</summary>\n",
        "\n",
        "We sometimes think about **one-hot encodings** of words. These are vectors with zeros everywhere, except for a single one in the position corresponding to the word's index in the vocabulary. This means that indexing into the embedding is equivalent to multiplying the **embedding matrix** by the one-hot encoding (where the embedding matrix is the matrix we get by stacking all the embedding vectors on top of each other).\n",
        "\n",
        "$$\n",
        "\\begin{aligned}\n",
        "W_E &= \\begin{bmatrix}\n",
        "\\leftarrow v_0 \\rightarrow \\\\\n",
        "\\leftarrow v_1 \\rightarrow \\\\\n",
        "\\vdots \\\\\n",
        "\\leftarrow v_{d_{vocab}-1} \\rightarrow \\\\\n",
        "\\end{bmatrix} \\quad \\text{is the embedding matrix (size }d_{vocab} \\times d_{embed}\\text{),} \\\\\n",
        "\\\\\n",
        "t_i &= (0, \\dots, 0, 1, 0, \\dots, 0) \\quad \\text{is the one-hot encoding for the }i\\text{th word (length }d_{vocab}\\text{)} \\\\\n",
        "\\\\\n",
        "v_i &= t_i W_E \\quad \\text{is the embedding vector for the }i\\text{th word (length }d_{embed}\\text{).} \\\\\n",
        "\\end{aligned}\n",
        "$$\n",
        "\n",
        "</details>\n",
        "\n",
        "Now, let's answer the first question - how do we split language into sub-units?\n"
      ]
    },
    {
      "cell_type": "markdown",
      "metadata": {
        "id": "Y7t_YsDxm4R0"
      },
      "source": [
        "### Splitting language into sub-units\n",
        "\n",
        "We need to define a standard way of splitting up language into a series of substrings, where each substring is a member of our **vocabulary** set.\n",
        "\n",
        "Could we use a dictionary, and have our vocabulary be the set of all words in the dictionary? No, because this couldn't handle arbitrary text (e.g. URLs, punctuation, etc). We need a more general way of splitting up language.\n",
        "\n",
        "Could we just use the 256 ASCII characters? This fixes the previous problem, but it loses structure of language - some sequences of characters are more meaningful than others. For example, \"language\" is a lot more meaningful than \"hjksdfiu\". We want \"language\" to be a single token, but not \"hjksdfiu\" - this is a more efficient use of our vocab.\n",
        "\n",
        "What actually happens? The most common strategy is called **Byte-Pair encodings**.\n",
        "\n",
        "We begin with the 256 ASCII characters as our tokens, and then find the most common pair of tokens, and merge that into a new token. Note that we do have a space character as one of our 256 tokens, and merges using space are very common. For instance, here are the five first merges for the tokenizer used by GPT-2 (you'll be able to verify this below).\n",
        "\n",
        "```\n",
        "\" t\"\n",
        "\" a\"\n",
        "\"he\"\n",
        "\"in\"\n",
        "\"re\"\n",
        "```\n",
        "\n",
        "Note - you might see the character `Ġ` in front of some tokens. This is a special token that indicates that the token begins with a space. Tokens with a leading space vs not are different.\n",
        "\n",
        "You can run the code below to see some more of GPT-2's tokenizer's vocabulary:\n"
      ]
    },
    {
      "cell_type": "code",
      "execution_count": 8,
      "metadata": {
        "id": "sHq2U0hKnXMm"
      },
      "outputs": [
        {
          "name": "stdout",
          "output_type": "stream",
          "text": [
            "[('!', 0), ('\"', 1), ('#', 2), ('$', 3), ('%', 4), ('&', 5), (\"'\", 6), ('(', 7), (')', 8), ('*', 9), ('+', 10), (',', 11), ('-', 12), ('.', 13), ('/', 14), ('0', 15), ('1', 16), ('2', 17), ('3', 18), ('4', 19)]\n",
            "\n",
            "[('ľ', 250), ('Ŀ', 251), ('ŀ', 252), ('Ł', 253), ('ł', 254), ('Ń', 255), ('Ġt', 256), ('Ġa', 257), ('he', 258), ('in', 259), ('re', 260), ('on', 261), ('Ġthe', 262), ('er', 263), ('Ġs', 264), ('at', 265), ('Ġw', 266), ('Ġo', 267), ('en', 268), ('Ġc', 269)]\n",
            "\n",
            "[('Ġprodu', 990), ('Ġstill', 991), ('led', 992), ('ah', 993), ('Ġhere', 994), ('Ġworld', 995), ('Ġthough', 996), ('Ġnum', 997), ('arch', 998), ('imes', 999), ('ale', 1000), ('ĠSe', 1001), ('ĠIf', 1002), ('//', 1003), ('ĠLe', 1004), ('Ġret', 1005), ('Ġref', 1006), ('Ġtrans', 1007), ('ner', 1008), ('ution', 1009)]\n",
            "\n"
          ]
        }
      ],
      "source": [
        "sorted_vocab = sorted(list(reference_gpt2.tokenizer.vocab.items()), key=lambda n: n[1])\n",
        "print(sorted_vocab[:20])\n",
        "print()\n",
        "print(sorted_vocab[250:270])\n",
        "print()\n",
        "print(sorted_vocab[990:1010])\n",
        "print()"
      ]
    },
    {
      "cell_type": "markdown",
      "metadata": {
        "id": "ddGjdpeinaI8"
      },
      "source": [
        "As you get to the end of the vocabulary, you'll be producing some pretty weird-looking esoteric tokens (because you'll already have exhausted all of the short frequently-occurring ones):\n"
      ]
    },
    {
      "cell_type": "code",
      "execution_count": 9,
      "metadata": {
        "id": "Rl40Jlw0m4R0"
      },
      "outputs": [
        {
          "name": "stdout",
          "output_type": "stream",
          "text": [
            "[('Revolution', 50237), ('Ġsnipers', 50238), ('Ġreverted', 50239), ('Ġconglomerate', 50240), ('Terry', 50241), ('794', 50242), ('Ġharsher', 50243), ('Ġdesolate', 50244), ('ĠHitman', 50245), ('Commission', 50246), ('Ġ(/', 50247), ('âĢ¦.\"', 50248), ('Compar', 50249), ('Ġamplification', 50250), ('ominated', 50251), ('Ġregress', 50252), ('ĠCollider', 50253), ('Ġinformants', 50254), ('Ġgazed', 50255), ('<|endoftext|>', 50256)]\n"
          ]
        }
      ],
      "source": [
        "print(sorted_vocab[-20:])"
      ]
    },
    {
      "cell_type": "markdown",
      "metadata": {
        "id": "QcOKIhU-1IOS"
      },
      "source": [
        "\n",
        "<details>\n",
        "<summary>Fun (totally optional) exercise - can you guess what the first-formed 3/4/5/6/7-letter encodings in GPT-2's vocabulary are?</summary>\n",
        "Run this code to find out:\n",
        "\n",
        "```python\n",
        "lengths = dict.fromkeys(range(3, 8), \"\")\n",
        "for tok, idx in sorted_vocab:\n",
        "    if not lengths.get(len(tok), True):\n",
        "        lengths[len(tok)] = tok\n",
        "\n",
        "for length, tok in lengths.items():\n",
        "    print(f\"{length}: {tok}\")\n",
        "```\n",
        "</details>\n"
      ]
    },
    {
      "cell_type": "markdown",
      "metadata": {
        "id": "S5OKWOqHnmBg"
      },
      "source": [
        "Transformers in the `transformer_lens` library have a `to_tokens` method that converts text to numbers. It also prepends them with a special token called BOS (beginning of sequence) to indicate the start of a sequence. You can disable this with the `prepend_bos=False` argument.\n",
        "\n",
        "<details>\n",
        "<summary>Aside - BOS token</summary>\n",
        "\n",
        "The beginning of sequence (BOS) token is a special token used to mark the beginning of the sequence. Confusingly, in GPT-2, the End of Sequence (EOS), Beginning of Sequence (BOS) and Padding (PAD) tokens are all the same, `<|endoftext|>` with index `50256`.\n",
        "\n",
        "Why is this token added? Some basic intuitions are:\n",
        "\n",
        "* It provides context that this is the start of a sequence, which can help the model generate more appropriate text.\n",
        "* It can act as a \"rest position\" for attention heads (more on this later, when we discuss attention).\n",
        "\n",
        "TransformerLens adds this token automatically (including in forward passes of transformer models, e.g. it's implicitly added when you call `model(\"Hello World\")`). You can disable this behaviour by setting the flag `prepend_bos=False` in `to_tokens`, `to_str_tokens`, `model.forward` and any other function that converts strings to multi-token tensors.\n",
        "\n",
        "**Key Point: *If you get weird off-by-one errors, check whether there's an unexpected `prepend_bos`!***\n",
        "\n",
        "Why are the BOS, EOS and PAD tokens the same? This is because GPT-2 is an autoregressive model, and uses these kinds of tokens in a slightly different way to other transformer families (e.g. BERT). For instance, GPT has no need to distinguish between BOS and EOS tokens, because it only processes text from left to right.\n",
        "\n",
        "</details>\n",
        "\n",
        "### Some tokenization annoyances\n",
        "\n",
        "There are a few funky and frustrating things about tokenization, which causes it to behave differently than you might expect. For instance:\n",
        "\n",
        "#### Whether a word begins with a capital or space matters!\n"
      ]
    },
    {
      "cell_type": "code",
      "execution_count": 10,
      "metadata": {
        "id": "0vlZ-pRAnoEw"
      },
      "outputs": [
        {
          "name": "stdout",
          "output_type": "stream",
          "text": [
            "['<|endoftext|>', 'R', 'alph']\n",
            "['<|endoftext|>', ' Ralph']\n",
            "['<|endoftext|>', ' r', 'alph']\n",
            "['<|endoftext|>', 'ral', 'ph']\n"
          ]
        }
      ],
      "source": [
        "print(reference_gpt2.to_str_tokens(\"Ralph\"))\n",
        "print(reference_gpt2.to_str_tokens(\" Ralph\"))\n",
        "print(reference_gpt2.to_str_tokens(\" ralph\"))\n",
        "print(reference_gpt2.to_str_tokens(\"ralph\"))"
      ]
    },
    {
      "cell_type": "markdown",
      "metadata": {
        "id": "joPO920PntIw"
      },
      "source": [
        "#### Arithmetic is a mess.\n",
        "\n",
        "Length is inconsistent, common numbers bundle together.\n"
      ]
    },
    {
      "cell_type": "code",
      "execution_count": 11,
      "metadata": {
        "id": "rzbf4t-Zm4R1"
      },
      "outputs": [
        {
          "name": "stdout",
          "output_type": "stream",
          "text": [
            "['<|endoftext|>', '568', '73', '+', '318', '46', '23', '=', '123', '45', '67', '89', '-', '1', '000000', '000']\n"
          ]
        }
      ],
      "source": [
        "print(reference_gpt2.to_str_tokens(\"56873+3184623=123456789-1000000000\"))"
      ]
    },
    {
      "cell_type": "markdown",
      "metadata": {
        "id": "GgtPkQE-m4R2"
      },
      "source": [
        "> ### Key Takeaways\n",
        ">\n",
        "> * We learn a dictionary of vocab of tokens (sub-words).\n",
        "> * We (approx) losslessly convert language to integers via tokenizing it.\n",
        "> * We convert integers to vectors via a lookup table.\n",
        "> * Note: input to the transformer is a sequence of *tokens* (ie integers), not vectors\n"
      ]
    },
    {
      "cell_type": "markdown",
      "metadata": {
        "id": "rCSs3uXgn9Kb"
      },
      "source": [
        "## Text generation\n",
        "\n",
        "Now that we understand the basic ideas here, let's go through the entire process of text generation, from our original string to a new token which we can append to our string and plug back into the model.\n",
        "\n",
        "#### **Step 1:** Convert text to tokens\n",
        "\n",
        "The sequence gets tokenized, so it has shape `[batch, seq_len]`. Here, the batch dimension is just one (because we only have one sequence).\n"
      ]
    },
    {
      "cell_type": "code",
      "execution_count": 12,
      "metadata": {
        "id": "mommexyJm4R3"
      },
      "outputs": [
        {
          "name": "stdout",
          "output_type": "stream",
          "text": [
            "tensor([[50256,    40,   716,   281,  4998,  1960,   382, 19741,    11,   875,\n",
            "         12342,    12,  8807,    11,   402, 11571,    12,    17,  3918, 47385,\n",
            "            13,  1881,  1110,   314,   481,  7074,  1692,  1241,  4430,   290,\n",
            "          1011,   625,   262,   995,     0]], device='mps:0')\n",
            "torch.Size([1, 35])\n",
            "['<|endoftext|>', 'I', ' am', ' an', ' amazing', ' aut', 'ore', 'gressive', ',', ' dec', 'oder', '-', 'only', ',', ' G', 'PT', '-', '2', ' style', ' transformer', '.', ' One', ' day', ' I', ' will', ' exceed', ' human', ' level', ' intelligence', ' and', ' take', ' over', ' the', ' world', '!']\n"
          ]
        }
      ],
      "source": [
        "reference_text = \"I am an amazing autoregressive, decoder-only, GPT-2 style transformer. One day I will exceed human level intelligence and take over the world!\"\n",
        "tokens = reference_gpt2.to_tokens(reference_text).to(device)\n",
        "print(tokens)\n",
        "print(tokens.shape)\n",
        "print(reference_gpt2.to_str_tokens(tokens))"
      ]
    },
    {
      "cell_type": "markdown",
      "metadata": {
        "id": "Ovci8XHNm4R3"
      },
      "source": [
        "#### **Step 2:** Map tokens to logits\n",
        "\n",
        "\n",
        "From our input of shape `[batch, seq_len]`, we get output of shape `[batch, seq_len, vocab_size]`. The `[i, j, :]`-th element of our output is a vector of logits representing our prediction for the `j+1`-th token in the `i`-th sequence.\n"
      ]
    },
    {
      "cell_type": "code",
      "execution_count": 13,
      "metadata": {
        "id": "5iK_hEUzm4R3"
      },
      "outputs": [
        {
          "name": "stdout",
          "output_type": "stream",
          "text": [
            "torch.Size([1, 35, 50257])\n"
          ]
        }
      ],
      "source": [
        "logits, cache = reference_gpt2.run_with_cache(tokens)\n",
        "print(logits.shape)"
      ]
    },
    {
      "cell_type": "markdown",
      "metadata": {
        "id": "39kXnrmrgeIw"
      },
      "source": [
        "(`run_with_cache` tells the model to cache all intermediate activations. This isn't important right now; we'll look at it in more detail later.)\n"
      ]
    },
    {
      "cell_type": "markdown",
      "metadata": {
        "id": "SDv_ftwFm4R4"
      },
      "source": [
        "#### **Step 3:** Convert the logits to a distribution with a softmax\n",
        "\n",
        "This doesn't change the shape, it is still `[batch, seq_len, vocab_size]`.\n"
      ]
    },
    {
      "cell_type": "code",
      "execution_count": 14,
      "metadata": {
        "id": "csYLLcvcm4R4"
      },
      "outputs": [
        {
          "name": "stdout",
          "output_type": "stream",
          "text": [
            "torch.Size([1, 35, 50257])\n"
          ]
        }
      ],
      "source": [
        "probs = logits.softmax(dim=-1)\n",
        "print(probs.shape)"
      ]
    },
    {
      "cell_type": "markdown",
      "metadata": {
        "id": "BkOqYy8qm4R4"
      },
      "source": [
        "#### **Bonus step:** What is the most likely next token at each position?\n"
      ]
    },
    {
      "cell_type": "code",
      "execution_count": 15,
      "metadata": {
        "id": "9tKcEGLXm4R4"
      },
      "outputs": [
        {
          "name": "stdout",
          "output_type": "stream",
          "text": [
            "[('<|endoftext|>', '\\n'), ('I', \"'m\"), (' am', ' a'), (' an', ' avid'), (' amazing', ' person'), (' aut', 'od'), ('ore', 'sp'), ('gressive', '.'), (',', ' and'), (' dec', 'ently'), ('oder', ','), ('-', 'driven'), ('only', ' programmer'), (',', ' and'), (' G', 'IM'), ('PT', '-'), ('-', 'only'), ('2', '.'), (' style', ','), (' transformer', '.'), ('.', ' I'), (' One', ' of'), (' day', ' I'), (' I', ' will'), (' will', ' be'), (' exceed', ' my'), (' human', 'ly'), (' level', ' of'), (' intelligence', ' and'), (' and', ' I'), (' take', ' over'), (' over', ' the'), (' the', ' world'), (' world', '.'), ('!', ' I')]\n"
          ]
        }
      ],
      "source": [
        "most_likely_next_tokens = reference_gpt2.tokenizer.batch_decode(logits.argmax(dim=-1)[0])\n",
        "\n",
        "print(list(zip(reference_gpt2.to_str_tokens(tokens), most_likely_next_tokens)))"
      ]
    },
    {
      "cell_type": "markdown",
      "metadata": {
        "id": "yESVZd2igyPd"
      },
      "source": [
        "We can see that, in a few cases (particularly near the end of the sequence), the model accurately predicts the next token in the sequence. We might guess that `\"take over the world\"` is a common phrase that the model has seen in training, which is why the model can predict it.\n"
      ]
    },
    {
      "cell_type": "markdown",
      "metadata": {
        "id": "DrZCnki1m4R4"
      },
      "source": [
        "#### **Step 4:** Map distribution to a token\n"
      ]
    },
    {
      "cell_type": "code",
      "execution_count": 16,
      "metadata": {
        "id": "Pp9PB99Mm4R4"
      },
      "outputs": [
        {
          "name": "stdout",
          "output_type": "stream",
          "text": [
            "' I'\n"
          ]
        }
      ],
      "source": [
        "next_token = logits[0, -1].argmax(dim=-1)\n",
        "next_char = reference_gpt2.to_string(next_token)\n",
        "print(repr(next_char))"
      ]
    },
    {
      "cell_type": "markdown",
      "metadata": {
        "id": "I4uXGn1mhSnf"
      },
      "source": [
        "Note that we're indexing `logits[0, -1]`. This is because logits have shape `[1, sequence_length, vocab_size]`, so this indexing returns the vector of length `vocab_size` representing the model's prediction for what token follows the **last** token in the input sequence.\n",
        "\n",
        "In this case, we can see that the model predicts the token `' I'`.\n"
      ]
    },
    {
      "cell_type": "markdown",
      "metadata": {
        "id": "8XmSN1YFm4R5"
      },
      "source": [
        "### **Step 5:** Add this to the end of the input, re-run\n",
        "\n",
        "There are more efficient ways to do this (e.g. where we cache some of the values each time we run our input, so we don't have to do as much calculation each time we generate a new value), but this doesn't matter conceptually right now.\n"
      ]
    },
    {
      "cell_type": "code",
      "execution_count": 17,
      "metadata": {
        "id": "dpgN-auXm4R6"
      },
      "outputs": [
        {
          "name": "stdout",
          "output_type": "stream",
          "text": [
            "Sequence so far: '<|endoftext|>I am an amazing autoregressive, decoder-only, GPT-2 style transformer. One day I will exceed human level intelligence and take over the world!'\n",
            "36th char = ' I'\n",
            "37th char = ' am'\n",
            "38th char = ' a'\n",
            "39th char = ' very'\n",
            "40th char = ' talented'\n",
            "41th char = ' and'\n",
            "42th char = ' talented'\n",
            "43th char = ' person'\n",
            "44th char = ','\n",
            "45th char = ' and'\n"
          ]
        }
      ],
      "source": [
        "print(f\"Sequence so far: {reference_gpt2.to_string(tokens)[0]!r}\")\n",
        "\n",
        "for i in range(10):\n",
        "    print(f\"{tokens.shape[-1]+1}th char = {next_char!r}\")\n",
        "    # Define new input sequence, by appending the previously generated token\n",
        "    tokens = t.cat([tokens, next_token[None, None]], dim=-1)\n",
        "    # Pass our new sequence through the model, to get new output\n",
        "    logits = reference_gpt2(tokens)\n",
        "    # Get the predicted token at the end of our sequence\n",
        "    next_token = logits[0, -1].argmax(dim=-1)\n",
        "    # Decode and print the result\n",
        "    next_char = reference_gpt2.to_string(next_token)"
      ]
    },
    {
      "cell_type": "markdown",
      "metadata": {
        "id": "PVd8J0QLm4R6"
      },
      "source": [
        "## Key takeaways\n",
        "\n",
        "* Transformer takes in language, predicts next token (for *each* token in a causal way)\n",
        "* We convert language to a sequence of integers with a tokenizer.\n",
        "* We convert integers to vectors with a lookup table.\n",
        "* Output is a vector of logits (one for each input token), we convert to a probability distn with a softmax, and can then convert this to a token (eg taking the largest logit, or sampling).\n",
        "* We append this to the input + run again to generate more text (Jargon: *autoregressive*)\n",
        "* Meta level point: Transformers are sequence operation models, they take in a sequence, do processing in parallel at each position, and use attention to move information between positions!\n"
      ]
    },
    {
      "cell_type": "markdown",
      "metadata": {
        "id": "BaSOTaLdm4R6"
      },
      "source": [
        "# 2️⃣ Clean Transformer Implementation\n"
      ]
    },
    {
      "cell_type": "markdown",
      "metadata": {
        "id": "-3YLmU9boWEv"
      },
      "source": [
        "> ##### Learning objectives\n",
        ">\n",
        "> * Understand that a transformer is composed of attention heads and MLPs, with each one performing operations on the residual stream\n",
        "> * Understand that the attention heads in a single layer operate independently, and that they have the role of calculating attention patterns (which determine where information is moved to & from in the residual stream)\n",
        "> * Learn about & implement the following transformer modules:\n",
        ">     * LayerNorm (transforming the input to have zero mean and unit variance)\n",
        ">     * Positional embedding (a lookup table from position indices to residual stream vectors)\n",
        ">     * Attention (the method of computing attention patterns for residual stream vectors)\n",
        ">     * MLP (the collection of linear and nonlinear transformations which operate on each residual stream vector in the same way)\n",
        ">     * Embedding (a lookup table from tokens to residual stream vectors)\n",
        ">     * Unembedding (a matrix for converting residual stream vectors into a distribution over tokens)\n"
      ]
    },
    {
      "cell_type": "markdown",
      "metadata": {
        "id": "v2LTUZkXm4R7"
      },
      "source": [
        "## High-Level architecture\n",
        "\n",
        "Go watch Neel's [Transformer Circuits walkthrough](https://www.youtube.com/watch?v=KV5gbOmHbjU) if you want more intuitions!\n",
        "\n",
        "(Diagram is bottom to top.)\n"
      ]
    },
    {
      "cell_type": "markdown",
      "metadata": {
        "id": "9XtGO8lYm4R6"
      },
      "source": [
        "<img src=\"https://raw.githubusercontent.com/callummcdougall/computational-thread-art/master/example_images/misc/transformer-new.png\" width=\"850\">\n"
      ]
    },
    {
      "cell_type": "markdown",
      "metadata": {
        "id": "347we6hfo6oP"
      },
      "source": [
        "### Tokenization & Embedding\n",
        "\n",
        "The input tokens $t$ are integers. We get them from taking a sequence, and tokenizing it (like we saw in the previous section).\n",
        "\n",
        "The token embedding is a lookup table mapping tokens to vectors, which is implemented as a matrix $W_E$. The matrix consists of a stack of token embedding vectors (one for each token).\n"
      ]
    },
    {
      "cell_type": "markdown",
      "metadata": {
        "id": "7SVWlk-qo9Bg"
      },
      "source": [
        "### Residual stream\n",
        "\n",
        "The residual stream is the sum of all previous outputs of layers of the model, is the input to each new layer. It has shape `[batch, seq_len, d_model]` (where `d_model` is the length of a single embedding vector).\n",
        "\n",
        "The initial value of the residual stream is denoted $x_0$ in the diagram, and $x_i$ are later values of the residual stream (after more attention and MLP layers have been applied to the residual stream).\n",
        "\n",
        "The residual stream is *really* fundamental. It's the central object of the transformer. It's how model remembers things, moves information between layers for composition, and it's the medium used to store the information that attention moves between positions.\n",
        "\n",
        "<details>\n",
        "<summary>Aside - <b>logit lens</b></summary>\n",
        "\n",
        "A key idea of transformers is the [residual stream as output accumulation](https://www.lesswrong.com/posts/X26ksz4p3wSyycKNB/gears-level-mental-models-of-transformer-interpretability#Residual_Stream_as_Output_Accumulation:~:text=The%20Models-,Residual%20Stream%20as%20Output%20Accumulation,-The%20residual%20stream). As we move through the layers of the model, shifting information around and processing it, the values in the residual stream represent the accumulation of all the inferences made by the transformer up to that point.\n",
        "\n",
        "This is neatly illustrated by the **logit lens**. Rather than getting predictions from the residual stream at the very end of the model, we can take the value of the residual stream midway through the model and convert it to a distribution over tokens. When we do this, we find surprisingly coherent predictions, especially in the last few layers before the end.\n",
        "</details>\n"
      ]
    },
    {
      "cell_type": "markdown",
      "metadata": {
        "id": "MTQ0R_FIo_Er"
      },
      "source": [
        "### Transformer blocks\n",
        "\n",
        "Then we have a series of `n_layers` **transformer blocks** (also sometimes called **residual blocks**).\n",
        "\n",
        "Note - a block contains an attention layer *and* an MLP layer, but we say a transformer has $k$ layers if it has $k$ blocks (i.e. $2k$ total layers).\n"
      ]
    },
    {
      "cell_type": "markdown",
      "metadata": {
        "id": "bN8L6lEgpBNB"
      },
      "source": [
        "#### Attention\n",
        "\n",
        "First we have attention. This moves information from prior positions in the sequence to the current token.\n",
        "\n",
        "We do this for *every* token in parallel using the same parameters. The only difference is that we look backwards only (to avoid \"cheating\"). This means later tokens have more of the sequence that they can look at.\n",
        "\n",
        "Attention layers are the only bit of a transformer that moves information between positions (i.e. between vectors at different sequence positions in the residual stream).\n",
        "\n",
        "Attention layers are made up of `n_heads` heads - each with their own parameters, own attention pattern, and own information how to copy things from source to destination. The heads act independently and additively, we just add their outputs together, and back to the stream.\n",
        "\n",
        "Each head does the following:\n",
        "* Produces an **attention pattern** for each destination token, a probability distribution of prior source tokens (including the current one) weighting how much information to copy.\n",
        "* Moves information (via a linear map) in the same way from each source token to each destination token.\n",
        "\n",
        "A few key points:\n",
        "\n",
        "* What information we copy depends on the source token's *residual stream*, but this doesn't mean it only depends on the value of that token, because the residual stream can store more information than just the token identity (the purpose of the attention heads is to move information between vectors at different positions in the residual stream!)\n",
        "* We can think of each attention head as consisting of two different **circuits**:\n",
        "    * One circuit determines **where to move information to and from** (this is a function of the residual stream for the source and destination tokens)\n",
        "    * The other circuit determines **what information to move** (this is a function of only the source token's residual stream)\n",
        "    * For reasons which will become clear later, we refer to the first circuit as the **QK circuit**, and the second circuit as the **OV circuit**\n",
        "\n",
        "<details>\n",
        "<summary>Key intuition - attention as generalized convolution</summary>\n",
        "\n",
        "We can think of attention as a kind of generalized convolution. Standard convolution layers work by imposing a \"prior of locality\", i.e. the assumption that pixels which are close together are more likely to share information. Although language has some locality (two words next to each other are more likely to share information than two words 100 tokens apart), the picture is a lot more nuanced, because which tokens are relevant to which others depends on the context of the sentence. For instance, in the sentence `\"When Mary and John went to the store, John gave a drink to Mary\"`, the names in this sentence are the most important tokens for predicting that the final token will be `\"Mary\"`, and this is because of the particular context of this sentence rather than the tokens' position.\n",
        "\n",
        "Attention layers are effectively our way of saying to the transformer, \"don't impose a prior of locality, but instead develop your own algorithm to figure out which tokens are important to which other tokens in any given sequence.\"\n",
        "</details>\n",
        "\n",
        "Below is a schematic diagram of the attention layers. Don't worry if you don't follow this right now, we'll go into more detail during implementation.\n"
      ]
    },
    {
      "cell_type": "markdown",
      "metadata": {
        "id": "9oU4oR-_omed"
      },
      "source": [
        "<img src=\"https://raw.githubusercontent.com/callummcdougall/computational-thread-art/master/example_images/misc/transformer-attn-new.png\" width=\"1100\">\n"
      ]
    },
    {
      "cell_type": "markdown",
      "metadata": {
        "id": "fGmfTAbCm4R7"
      },
      "source": [
        "### MLP\n",
        "\n",
        "The MLP layers are just a standard neural network, with a singular hidden layer and a nonlinear activation function. The exact activation isn't conceptually important ([GELU](https://paperswithcode.com/method/gelu) seems to perform best).\n",
        "\n",
        "Our hidden dimension is normally `d_mlp = 4 * d_model`. Exactly why the ratios are what they are isn't super important (people basically cargo-cult what GPT did back in the day!).\n",
        "\n",
        "Importantly, **the MLP operates on positions in the residual stream independently, and in exactly the same way**. It doesn't move information between positions.\n",
        "\n",
        "Intuition - once attention has moved relevant information to a single position in the residual stream, MLPs can actually do computation, reasoning, lookup information, etc. *What the hell is going on inside MLPs* is a pretty big open problem in transformer mechanistic interpretability - see the [Toy Model of Superposition Paper](https://transformer-circuits.pub/2022/toy_model/index.html) for more on why this is hard.\n",
        "\n",
        "<details>\n",
        "<summary>Key intuition - MLPs as key-value pairs</summary>\n",
        "\n",
        "We can write the MLP's output as $f(x^T W^{in})W^{out}$, where $W^{in}$ and $W^{out}$ are the different weights of the MLP (ignoring biases), $f$ is the activation function, and $x$ is a vector in the residual stream. This can be rewritten as:\n",
        "\n",
        "$$\n",
        "f(x^T W^{in}) W^{out} = \\sum_{i=1}^{d_{mlp}} f(x^T W^{in}_{[:, i]}) W^{out}_{[i, :]}\n",
        "$$\n",
        "\n",
        "We can view the vectors $W^{in}_{[:, i]}$ as the **input directions**, and $W^{out}_{[i, :]}$ as the **output directions**. We say the input directions are **activated** by certain textual features, and when they are activated, vectors are written in the corresponding output direction. This is very similar to the concept of keys and values in attention layers, which is why these vectors are also sometimes called keys and values (e.g. see the paper [Transformer Feed-Forward Layers Are Key-Value Memories](https://arxiv.org/pdf/2012.14913.pdf)).\n",
        "\n",
        "Terminology note - sometimes we refer to each of these $d_{mlp}$ input-output pairs as **neurons**.\n",
        "\n",
        "<img src=\"https://raw.githubusercontent.com/callummcdougall/computational-thread-art/master/example_images/misc/mlp-neurons-2.png\" width=\"900\">\n",
        "\n",
        "---\n",
        "\n",
        "Here's a step-by-step breakdown of the linear algebra, if it was too fast above. We have:\n",
        "\n",
        "$$\n",
        "\\begin{aligned}\n",
        "x^T W^{in} &= x^T [W^{in}_{[:, 1]}\\,, ...\\;, W^{in}_{[:, n]}] \\\\\n",
        "&= (x^T W^{in}_{[:, 1]}\\,, \\; ...\\;, \\; x^T W^{in}_{[:, n]})\n",
        "\\end{aligned}\n",
        "$$\n",
        "\n",
        "where $W^{in}_{[:, i]}$ are the columns of $W^{in}$. In other words, these values (the pre-GELU activations) are projections of $x$ along the input directions of the neurons.\n",
        "\n",
        "If we add our activation function and the second matrix, then we get:\n",
        "\n",
        "$$\n",
        "\\begin{aligned}\n",
        "f(x^T W^{in})W^{out} &= (f(x^T W^{in}_{[:, 1]})\\,, \\; ...\\;,\\; f(x^T W^{in}_{[:, n]})) \\begin{bmatrix} \\leftarrow W^{out}_{[1, :]} \\rightarrow \\\\ \\vdots \\\\ \\leftarrow W^{out}_{[n, :]} \\rightarrow \\end{bmatrix} \\\\\n",
        "&= f(x^T W^{in}_{[:, 1]}) W^{out}_{[1, :]} + \\;...\\; + f(x^T W^{in}_{[:, n]}) W^{out}_{[n, :]} \\\\\n",
        "&= \\sum_{i=1}^n f(x^T W^{in}_{[:, i]}) W^{out}_{[i, :]}\n",
        "\\end{aligned}\n",
        "$$\n",
        "\n",
        "where $W^{out}_{[i, :]}$ are the rows of $W^{out}$. In other words, our output is a linear combination of the rows of $W^{out}$, with the coefficients of that linear combination given by the projections of $x$ along the columns of $W^{in}$.\n",
        "\n",
        "</details>\n",
        "\n",
        "<details>\n",
        "<summary>Key intuition - MLPs as knowledge storage</summary>\n",
        "\n",
        "We can think of MLPs as where knowledge gets stored in our transformer. The attention mechanism is what moves information around between sequence positions, but the MLPs is where this information is processed, and new information is written into the residual stream which is a function of the old information.\n",
        "\n",
        "This is deeply connected to the key-value pairs model, since you can treat key-value pairs as a kind of associative memory system (where the key serves as a unique identifier, and the value holds the related information).\n",
        "\n",
        "Another related intuition (for which there is some evidence) is **MLPs as memory management**. In an idealized case, we might find that the $i$-th neuron satisfies $W^{in}_{[:, i]} \\approx - W^{out}_{[i, :]} \\approx \\vec v$ for some unit vector $\\vec v$, meaning it may be responsible for erasing the positive component of vector $\\vec x$ in the direction $\\vec v$ (exercise - can you show why this is the case?). This can free up space in the residual stream for other components to write to.\n",
        "</details>\n"
      ]
    },
    {
      "cell_type": "markdown",
      "metadata": {
        "id": "JxqWjPd2pI2p"
      },
      "source": [
        "<img src=\"https://raw.githubusercontent.com/callummcdougall/computational-thread-art/master/example_images/misc/transformer-mlp-new-2.png\" width=\"650\">\n"
      ]
    },
    {
      "cell_type": "markdown",
      "metadata": {
        "id": "Fvfe6yEtpYMd"
      },
      "source": [
        "### Unembedding\n",
        "\n",
        "Finally, we unembed!\n",
        "\n",
        "This just consists of applying a linear map $W_U$, going from final residual stream to a vector of logits - this is the output.\n",
        "\n",
        "<details>\n",
        "<summary>Aside - tied embeddings</summary>\n",
        "\n",
        "Note - sometimes we use something called a **tied embedding** - this is where we use the same weights for our $W_E$ and $W_U$ matrices. In other words, to get the logit score for a particular token at some sequence position, we just take the vector in the residual stream at that sequence position and take the inner product with the corresponding token embedding vector. This is more training-efficient (because there are fewer parameters in our model), and it might seem pricipled at first. After all, if two words have very similar meanings, shouldn't they have similar embedding vectors because the model will treat them the same, and similar unembedding vectors because they could both be substituted for each other in most output?\n",
        "\n",
        "However, this is actually not very principled, for the following main reason: **the direct path involving the embedding and unembedding should approximate bigram frequencies**.\n",
        "\n",
        "Let's break down this claim. **Bigram frequencies** refers to the frequencies of pairs of words in the english language (e.g. the bigram frequency of \"Barack Obama\" is much higher than the product of the individual frequencies of the words \"Barack\" and \"Obama\"). If our model had no attention heads or MLP layers, then all we have is a linear map from our one-hot encoded token `T` to a probability distribution over the token following `T`. This map is represented by the linear transformation $t \\to t^T W_E W_U$ (where $t$ is our one-hot encoded token vector). Since the output of this transformation can only be a function of the token `T` (and no earlier tokens), the best we can do is have this map approximate the true frequency of bigrams starting with `T`, which appear in the training data. Importantly, **this is not a symmetric map**. We want `T = \"Barack\"` to result in a high probability of the next token being `\"Obama\"`, but not the other way around!\n",
        "\n",
        "Even in multi-layer models, a similar principle applies. There will be more paths through the model than just the \"direct path\" $W_E W_U$, but because of the residual connections there will always exist a direct path, so there will always be some incentive for $W_E W_U$ to approximate bigram frequencies.\n",
        "\n",
        "</details>\n"
      ]
    },
    {
      "cell_type": "markdown",
      "metadata": {
        "id": "g5isIxIEpnO6"
      },
      "source": [
        "### Bonus things - less conceptually important but key technical details\n",
        "\n",
        "#### LayerNorm\n",
        "\n",
        "* Simple normalization function applied at the start of each layer (i.e. before each MLP, attention layer, and before the unembedding)\n",
        "* Converts each input vector (independently in parallel for each batch x position residual stream vector) to have mean zero and variance 1.\n",
        "* Then applies an elementwise scaling and translation\n",
        "* Cool maths tangent: The scale & translate is just a linear map. LayerNorm is only applied immediately before another linear map. Linear compose linear = linear, so we can just fold this into a single effective linear layer and ignore it.\n",
        "    * `fold_ln=True` flag in `from_pretrained` does this for you.\n",
        "* LayerNorm is annoying for interpertability - the scale part is not linear, so you can't think about different bits of the input independently. But it's *almost* linear - if you're changing a small part of the input it's linear, but if you're changing enough to alter the norm substantially it's not linear.\n",
        "</details>\n",
        "\n",
        "\n",
        "#### Positional embeddings\n",
        "\n",
        "* **Problem:** Attention operates over all pairs of positions. This means it's symmetric with regards to position - the attention calculation from token 5 to token 1 and token 5 to token 2 are the same by default\n",
        "    * This is dumb because nearby tokens are more relevant.\n",
        "* There's a lot of dumb hacks for this.\n",
        "* We'll focus on **learned, absolute positional embeddings**. This means we learn a lookup table mapping the index of the position of each token to a residual stream vector, and add this to the embed.\n",
        "    * Note that we *add* rather than concatenate. This is because the residual stream is shared memory, and likely under significant superposition (the model compresses more features in there than the model has dimensions)\n",
        "    * We basically never concatenate inside a transformer, unless doing weird shit like generating text efficiently.\n",
        "* This connects to **attention as generalized convolution**\n",
        "    * We argued that language does still have locality, and so it's helpful for transformers to have access to the positional information so they \"know\" two tokens are next to each other (and hence probably relevant to each other).\n"
      ]
    },
    {
      "cell_type": "markdown",
      "metadata": {
        "id": "pb3wtM2bm4R7"
      },
      "source": [
        "## Actual Code!\n",
        "\n",
        "Key (for the results you get when running the code immediately below)\n",
        "\n",
        "```\n",
        "batch = 1\n",
        "position = 35\n",
        "d_model = 768\n",
        "n_heads = 12\n",
        "n_layers = 12\n",
        "d_mlp = 3072 (= 4 * d_model)\n",
        "d_head = 64 (= d_model / n_heads)\n",
        "```\n"
      ]
    },
    {
      "cell_type": "markdown",
      "metadata": {
        "id": "WC9PaopAm4R7"
      },
      "source": [
        "### Parameters and Activations\n",
        "\n",
        "It's important to distinguish between parameters and activations in the model.\n",
        "\n",
        "* **Parameters** are the weights and biases that are learned during training.\n",
        "    * These don't change when the model input changes.\n",
        "* **Activations** are temporary numbers calculated during a forward pass, that are functions of the input.\n",
        "    * We can think of these values as only existing for the duration of a single forward pass, and disappearing afterwards.\n",
        "    * We can use hooks to access these values during a forward pass (more on hooks later), but it doesn't make sense to talk about a model's activations outside the context of some particular input.\n",
        "    * Attention scores and patterns are activations (this is slightly non-intuitve because they're used in a matrix multiplication with another activation).\n",
        "\n",
        "#### Print All Activation Shapes of Reference Model\n",
        "\n",
        "Run the following code to print all the activation shapes of the reference model:\n"
      ]
    },
    {
      "cell_type": "code",
      "execution_count": 18,
      "metadata": {
        "id": "m6lM8CJmpwDJ"
      },
      "outputs": [
        {
          "name": "stdout",
          "output_type": "stream",
          "text": [
            "hook_embed                     (1, 35, 768)\n",
            "hook_pos_embed                 (1, 35, 768)\n",
            "blocks.0.hook_resid_pre        (1, 35, 768)\n",
            "blocks.0.ln1.hook_scale        (1, 35, 1)\n",
            "blocks.0.ln1.hook_normalized   (1, 35, 768)\n",
            "blocks.0.attn.hook_q           (1, 35, 12, 64)\n",
            "blocks.0.attn.hook_k           (1, 35, 12, 64)\n",
            "blocks.0.attn.hook_v           (1, 35, 12, 64)\n",
            "blocks.0.attn.hook_attn_scores (1, 12, 35, 35)\n",
            "blocks.0.attn.hook_pattern     (1, 12, 35, 35)\n",
            "blocks.0.attn.hook_z           (1, 35, 12, 64)\n",
            "blocks.0.hook_attn_out         (1, 35, 768)\n",
            "blocks.0.hook_resid_mid        (1, 35, 768)\n",
            "blocks.0.ln2.hook_scale        (1, 35, 1)\n",
            "blocks.0.ln2.hook_normalized   (1, 35, 768)\n",
            "blocks.0.mlp.hook_pre          (1, 35, 3072)\n",
            "blocks.0.mlp.hook_post         (1, 35, 3072)\n",
            "blocks.0.hook_mlp_out          (1, 35, 768)\n",
            "blocks.0.hook_resid_post       (1, 35, 768)\n",
            "ln_final.hook_scale            (1, 35, 1)\n",
            "ln_final.hook_normalized       (1, 35, 768)\n"
          ]
        }
      ],
      "source": [
        "for activation_name, activation in cache.items():\n",
        "    # Only print for first layer\n",
        "    if \".0.\" in activation_name or \"blocks\" not in activation_name:\n",
        "        print(f\"{activation_name:30} {tuple(activation.shape)}\")"
      ]
    },
    {
      "cell_type": "markdown",
      "metadata": {
        "id": "RTSyQI7wm4R7"
      },
      "source": [
        "#### Print All Parameters Shapes of Reference Model\n"
      ]
    },
    {
      "cell_type": "code",
      "execution_count": 19,
      "metadata": {
        "id": "HiiiIUbdm4R7"
      },
      "outputs": [
        {
          "name": "stdout",
          "output_type": "stream",
          "text": [
            "embed.W_E          (50257, 768)\n",
            "pos_embed.W_pos    (1024, 768)\n",
            "blocks.0.ln1.w     (768,)\n",
            "blocks.0.ln1.b     (768,)\n",
            "blocks.0.ln2.w     (768,)\n",
            "blocks.0.ln2.b     (768,)\n",
            "blocks.0.attn.W_Q  (12, 768, 64)\n",
            "blocks.0.attn.W_K  (12, 768, 64)\n",
            "blocks.0.attn.W_V  (12, 768, 64)\n",
            "blocks.0.attn.W_O  (12, 64, 768)\n",
            "blocks.0.attn.b_Q  (12, 64)\n",
            "blocks.0.attn.b_K  (12, 64)\n",
            "blocks.0.attn.b_V  (12, 64)\n",
            "blocks.0.attn.b_O  (768,)\n",
            "blocks.0.mlp.W_in  (768, 3072)\n",
            "blocks.0.mlp.b_in  (3072,)\n",
            "blocks.0.mlp.W_out (3072, 768)\n",
            "blocks.0.mlp.b_out (768,)\n",
            "ln_final.w         (768,)\n",
            "ln_final.b         (768,)\n",
            "unembed.W_U        (768, 50257)\n",
            "unembed.b_U        (50257,)\n"
          ]
        }
      ],
      "source": [
        "for name, param in reference_gpt2.named_parameters():\n",
        "    # Only print for first layer\n",
        "    if \".0.\" in name or \"blocks\" not in name:\n",
        "        print(f\"{name:18} {tuple(param.shape)}\")"
      ]
    },
    {
      "cell_type": "markdown",
      "metadata": {
        "id": "s7tXtTowp0Fy"
      },
      "source": [
        "[This diagram](https://raw.githubusercontent.com/callummcdougall/computational-thread-art/master/example_images/misc/full-merm.svg) shows the name of all activations and parameters in a fully general transformer model from transformerlens (except for a few at the start and end, like the embedding and unembedding). Lots of this won't make sense at first, but you can return to this diagram later and check that you understand most/all parts of it.\n",
        "\n",
        "There's also an annotated version [here](https://raw.githubusercontent.com/callummcdougall/computational-thread-art/master/example_images/misc/transformer-full-updated.png).\n"
      ]
    },
    {
      "cell_type": "markdown",
      "metadata": {
        "id": "TTbG6T8Bm4R8"
      },
      "source": [
        "### Config\n",
        "\n",
        "The config object contains all the hyperparameters of the model. We can print the config of the reference model to see what it contains:\n"
      ]
    },
    {
      "cell_type": "code",
      "execution_count": 20,
      "metadata": {
        "id": "WPzJd3z-m4R8"
      },
      "outputs": [
        {
          "name": "stdout",
          "output_type": "stream",
          "text": [
            "HookedTransformerConfig:\n",
            "{'act_fn': 'gelu_new',\n",
            " 'add_special_tokens': True,\n",
            " 'attention_dir': 'causal',\n",
            " 'attn_only': False,\n",
            " 'attn_types': None,\n",
            " 'checkpoint_index': None,\n",
            " 'checkpoint_label_type': None,\n",
            " 'checkpoint_value': None,\n",
            " 'd_head': 64,\n",
            " 'd_mlp': 3072,\n",
            " 'd_model': 768,\n",
            " 'd_vocab': 50257,\n",
            " 'd_vocab_out': 50257,\n",
            " 'default_prepend_bos': True,\n",
            " 'device': device(type='mps'),\n",
            " 'dtype': torch.float32,\n",
            " 'eps': 1e-05,\n",
            " 'final_rms': False,\n",
            " 'from_checkpoint': False,\n",
            " 'gated_mlp': False,\n",
            " 'init_mode': 'gpt2',\n",
            " 'init_weights': False,\n",
            " 'initializer_range': 0.02886751345948129,\n",
            " 'model_name': 'gpt2',\n",
            " 'n_ctx': 1024,\n",
            " 'n_devices': 1,\n",
            " 'n_heads': 12,\n",
            " 'n_layers': 12,\n",
            " 'n_params': 84934656,\n",
            " 'normalization_type': 'LN',\n",
            " 'original_architecture': 'GPT2LMHeadModel',\n",
            " 'parallel_attn_mlp': False,\n",
            " 'positional_embedding_type': 'standard',\n",
            " 'rotary_dim': None,\n",
            " 'scale_attn_by_inverse_layer_idx': False,\n",
            " 'seed': None,\n",
            " 'tokenizer_name': 'gpt2',\n",
            " 'use_attn_result': False,\n",
            " 'use_attn_scale': True,\n",
            " 'use_hook_mlp_in': False,\n",
            " 'use_hook_tokens': False,\n",
            " 'use_local_attn': False,\n",
            " 'use_split_qkv_input': False,\n",
            " 'window_size': None}\n"
          ]
        }
      ],
      "source": [
        "# As a reference - note there's a lot of stuff we don't care about in here, to do with library internals or other architectures\n",
        "print(reference_gpt2.cfg)"
      ]
    },
    {
      "cell_type": "markdown",
      "metadata": {
        "id": "dCXCsrSSm4R8"
      },
      "source": [
        "We define a stripped down config for our model:\n"
      ]
    },
    {
      "cell_type": "code",
      "execution_count": 21,
      "metadata": {
        "id": "VzsnAKw7m4R8"
      },
      "outputs": [
        {
          "name": "stdout",
          "output_type": "stream",
          "text": [
            "Config(d_model=768, debug=True, layer_norm_eps=1e-05, d_vocab=50257, init_range=0.02, n_ctx=1024, d_head=64, d_mlp=3072, n_heads=12, n_layers=12)\n"
          ]
        }
      ],
      "source": [
        "@dataclass\n",
        "class Config:\n",
        "    d_model: int = 768\n",
        "    debug: bool = True\n",
        "    layer_norm_eps: float = 1e-5\n",
        "    d_vocab: int = 50257\n",
        "    init_range: float = 0.02\n",
        "    n_ctx: int = 1024\n",
        "    d_head: int = 64\n",
        "    d_mlp: int = 3072\n",
        "    n_heads: int = 12\n",
        "    n_layers: int = 12\n",
        "\n",
        "cfg = Config()\n",
        "print(cfg)"
      ]
    },
    {
      "cell_type": "markdown",
      "metadata": {
        "id": "RZlXjTMWm4R8"
      },
      "source": [
        "## Tests\n"
      ]
    },
    {
      "cell_type": "markdown",
      "metadata": {
        "id": "DJ8aqDkYm4R8"
      },
      "source": [
        "Tests are great, write lightweight ones to use as you go!\n",
        "\n",
        "**Naive test:** Generate random inputs of the right shape, input to your model, check whether there's an error and print the correct output.\n"
      ]
    },
    {
      "cell_type": "code",
      "execution_count": 22,
      "metadata": {
        "id": "iqUK4acom4R8"
      },
      "outputs": [],
      "source": [
        "def rand_float_test(cls, shape):\n",
        "    cfg = Config(debug=True)\n",
        "    layer = cls(cfg).to(device)\n",
        "    random_input = t.randn(shape).to(device)\n",
        "    print(\"Input shape:\", random_input.shape)\n",
        "    output = layer(random_input)\n",
        "    if isinstance(output, tuple): output = output[0]\n",
        "    print(\"Output shape:\", output.shape, \"\\n\")\n",
        "\n",
        "def rand_int_test(cls, shape):\n",
        "    cfg = Config(debug=True)\n",
        "    layer = cls(cfg).to(device)\n",
        "    random_input = t.randint(100, 1000, shape).to(device)\n",
        "    print(\"Input shape:\", random_input.shape)\n",
        "    output = layer(random_input)\n",
        "    if isinstance(output, tuple): output = output[0]\n",
        "    print(\"Output shape:\", output.shape, \"\\n\")\n",
        "\n",
        "def load_gpt2_test(cls, gpt2_layer, input):\n",
        "    cfg = Config(debug=True)\n",
        "    layer = cls(cfg).to(device)\n",
        "    layer.load_state_dict(gpt2_layer.state_dict(), strict=False)\n",
        "    print(\"Input shape:\", input.shape)\n",
        "    output = layer(input)\n",
        "    if isinstance(output, tuple): output = output[0]\n",
        "    print(\"Output shape:\", output.shape)\n",
        "    try: reference_output = gpt2_layer(input)\n",
        "    except: reference_output = gpt2_layer(input, input, input)\n",
        "    print(\"Reference output shape:\", reference_output.shape, \"\\n\")\n",
        "    comparison = t.isclose(output, reference_output, atol=1e-4, rtol=1e-3)\n",
        "    print(f\"{comparison.sum()/comparison.numel():.2%} of the values are correct\\n\")"
      ]
    },
    {
      "cell_type": "markdown",
      "metadata": {
        "id": "Vo4pVDvim4R8"
      },
      "source": [
        "## LayerNorm\n",
        "\n",
        "```c\n",
        "Difficulty: 🔴🔴🔴⚪⚪\n",
        "Importance: 🔵🔵🔵⚪⚪\n",
        "\n",
        "You should spend up to 10-15 minutes on this exercise.\n",
        "```\n",
        "\n",
        "You should fill in the code below, and then run the tests to verify that your layer is working correctly.\n",
        "\n",
        "Your LayerNorm should do the following:\n",
        "\n",
        "* Make mean 0\n",
        "* Normalize to have variance 1\n",
        "* Scale with learned weights\n",
        "* Translate with learned bias\n",
        "\n",
        "You can use the PyTorch [LayerNorm documentation](https://pytorch.org/docs/stable/generated/torch.nn.LayerNorm.html) as a reference. A few more notes:\n",
        "\n",
        "* Your layernorm implementation always has `affine=True`, i.e. you do learn parameters `w` and `b` (which are represented as $\\gamma$ and $\\beta$ respectively in the PyTorch documentation).\n",
        "* Remember that, after the centering and normalization, each vector of length `d_model` in your input should have mean 0 and variance 1.\n",
        "* As the PyTorch documentation page says, your variance should be computed using `unbiased=False`.\n",
        "* The `layer_norm_eps` argument in your config object corresponds to the $\\epsilon$ term in the PyTorch documentation (it is included to avoid division-by-zero errors).\n",
        "* We've given you a `debug` argument in your config. If `debug=True`, then you can print output like the shape of objects in your `forward` function to help you debug (this is a very useful trick to improve your coding speed).\n",
        "\n",
        "Fill in the function, where it says `pass` (this will be the basic pattern for most other exercises in this section).\n"
      ]
    },
    {
      "cell_type": "code",
      "execution_count": 24,
      "metadata": {
        "id": "OlU317NRm4R9"
      },
      "outputs": [
        {
          "name": "stdout",
          "output_type": "stream",
          "text": [
            "Input shape: torch.Size([2, 4, 768])\n",
            "Output shape: torch.Size([2, 4, 768]) \n",
            "\n",
            "Input shape: torch.Size([1, 35, 768])\n",
            "Output shape: torch.Size([1, 35, 768])\n",
            "Reference output shape: torch.Size([1, 35, 768]) \n",
            "\n",
            "100.00% of the values are correct\n",
            "\n"
          ]
        }
      ],
      "source": [
        "class LayerNorm(nn.Module):\n",
        "    def __init__(self, cfg: Config):\n",
        "        super().__init__()\n",
        "        self.cfg = cfg\n",
        "        self.w = nn.Parameter(t.ones(cfg.d_model))\n",
        "        self.b = nn.Parameter(t.zeros(cfg.d_model))\n",
        "\n",
        "    def forward(self, residual: Float[Tensor, \"batch posn d_model\"]) -> Float[Tensor, \"batch posn d_model\"]:\n",
        "        res_mean = t.mean(residual, dim=-1, keepdim=True)\n",
        "        res_var = t.var(residual, dim=-1, keepdim=True, unbiased=False)\n",
        "        return ((residual - res_mean) / (res_var + self.cfg.layer_norm_eps)**0.5) * self.w + self.b\n",
        "\n",
        "rand_float_test(LayerNorm, [2, 4, 768])\n",
        "load_gpt2_test(LayerNorm, reference_gpt2.ln_final, cache[\"resid_post\", 11])"
      ]
    },
    {
      "cell_type": "markdown",
      "metadata": {
        "id": "u9GJDIsAm4R9"
      },
      "source": [
        "## Embedding\n",
        "\n",
        "```c\n",
        "Difficulty: 🔴🔴⚪⚪⚪\n",
        "Importance: 🔵🔵🔵⚪⚪\n",
        "\n",
        "You should spend up to 5-10 minutes on this exercise.\n",
        "```\n",
        "\n",
        "This is basically a lookup table from tokens to residual stream vectors.\n",
        "\n",
        "(Hint - you can implement this in just one line, without any complicated functions.)\n"
      ]
    },
    {
      "cell_type": "code",
      "execution_count": 26,
      "metadata": {
        "id": "oc6WFuDAm4R9"
      },
      "outputs": [
        {
          "name": "stdout",
          "output_type": "stream",
          "text": [
            "Input shape: torch.Size([2, 4])\n",
            "Output shape: torch.Size([2, 4, 768]) \n",
            "\n",
            "Input shape: torch.Size([1, 45])\n",
            "Output shape: torch.Size([1, 45, 768])\n",
            "Reference output shape: torch.Size([1, 45, 768]) \n",
            "\n",
            "100.00% of the values are correct\n",
            "\n"
          ]
        }
      ],
      "source": [
        "class Embed(nn.Module):\n",
        "    def __init__(self, cfg: Config):\n",
        "        super().__init__()\n",
        "        self.cfg = cfg\n",
        "        self.W_E = nn.Parameter(t.empty((cfg.d_vocab, cfg.d_model)))\n",
        "        nn.init.normal_(self.W_E, std=self.cfg.init_range)\n",
        "\n",
        "    def forward(self, tokens: Int[Tensor, \"batch position\"]) -> Float[Tensor, \"batch position d_model\"]:\n",
        "        return self.W_E[tokens]\n",
        "\n",
        "rand_int_test(Embed, [2, 4])\n",
        "load_gpt2_test(Embed, reference_gpt2.embed, tokens)"
      ]
    },
    {
      "cell_type": "markdown",
      "metadata": {
        "id": "fStv2M35fHN0"
      },
      "source": [
        "<details>\n",
        "<summary>Help - I keep getting <code>RuntimeError: CUDA error: device-side assert triggered</code>.</summary>\n",
        "\n",
        "This is a uniquely frustrating type of error message, because it (1) forces you to restart the kernel, and (2) often won't tell you where the error message actually originated from!\n",
        "\n",
        "You can fix the second problem by adding the line `os.environ['CUDA_LAUNCH_BLOCKING'] = \"1\"` to the very top of your file (after importing `os`). This won't fix your bug, but it makes sure the correct origin point is identified.\n",
        "\n",
        "As for actually fixing the bug, this error usually ends up being the result of bad indexing, e.g. you're trying to apply an embedding layer to tokens which are larger than your maximum embedding.\n",
        "</details>\n"
      ]
    },
    {
      "cell_type": "markdown",
      "metadata": {
        "id": "YhHFmPZ6m4R9"
      },
      "source": [
        "## Positional Embedding\n",
        "\n",
        "```c\n",
        "Difficulty: 🔴🔴⚪⚪⚪\n",
        "Importance: 🔵🔵🔵⚪⚪\n",
        "\n",
        "You should spend up to 10-15 minutes on this exercise.\n",
        "```\n",
        "\n",
        "Positional embedding can also be thought of as a lookup table, but rather than the indices being our token IDs, the indices are just the numbers `0`, `1`, `2`, ..., `seq_len-1` (i.e. the position indices of the tokens in the sequence).\n"
      ]
    },
    {
      "cell_type": "code",
      "execution_count": 30,
      "metadata": {
        "id": "fNAkYB8dm4R9"
      },
      "outputs": [
        {
          "name": "stdout",
          "output_type": "stream",
          "text": [
            "Input shape: torch.Size([2, 4])\n",
            "Output shape: torch.Size([4, 768]) \n",
            "\n",
            "Input shape: torch.Size([1, 45])\n",
            "Output shape: torch.Size([45, 768])\n",
            "Reference output shape: torch.Size([1, 45, 768]) \n",
            "\n",
            "100.00% of the values are correct\n",
            "\n"
          ]
        }
      ],
      "source": [
        "class PosEmbed(nn.Module):\n",
        "    def __init__(self, cfg: Config):\n",
        "        super().__init__()\n",
        "        self.cfg = cfg\n",
        "        self.W_pos = nn.Parameter(t.empty((cfg.n_ctx, cfg.d_model)))\n",
        "        nn.init.normal_(self.W_pos, std=self.cfg.init_range)\n",
        "\n",
        "    def forward(self, tokens: Int[Tensor, \"batch position\"]) -> Float[Tensor, \"batch position d_model\"]:\n",
        "        return self.W_pos[range(tokens.shape[1])]\n",
        "\n",
        "rand_int_test(PosEmbed, [2, 4])\n",
        "load_gpt2_test(PosEmbed, reference_gpt2.pos_embed, tokens)"
      ]
    },
    {
      "cell_type": "markdown",
      "metadata": {
        "id": "o_WZWukYm4R-"
      },
      "source": [
        "## Attention\n",
        "\n",
        "```c\n",
        "Difficulty: 🔴🔴🔴🔴⚪\n",
        "Importance: 🔵🔵🔵🔵🔵\n",
        "\n",
        "You should spend up to 30-45 minutes on this exercise.\n",
        "```\n",
        "\n",
        "* **Step 1:** Produce an attention pattern - for each destination token, probability distribution over previous tokens (including current token)\n",
        "    * Linear map from input -> query, key shape `[batch, seq_posn, head_index, d_head]`\n",
        "    * Dot product every *pair* of queries and keys to get attn_scores `[batch, head_index, query_pos, key_pos]` (query = dest, key = source)\n",
        "    * **Scale** and mask `attn_scores` to make it lower triangular, i.e. causal\n",
        "    * Softmax along the `key_pos` dimension, to get a probability distribution for each query (destination) token - this is our attention pattern!\n",
        "* **Step 2:** Move information from source tokens to destination token using attention pattern (move = apply linear map)\n",
        "    * Linear map from input -> value `[batch, key_pos, head_index, d_head]`\n",
        "    * Mix along the `key_pos` with attn pattern to get `z`, which is a weighted average of the value vectors `[batch, query_pos, head_index, d_head]`\n",
        "    * Map to output, `[batch, position, d_model]` (position = query_pos, we've summed over all heads)\n",
        "\n",
        "Note - when we say **scale**, we mean dividing by `sqrt(d_head)`. The purpose of this is to avoid vanishing gradients (which is a big problem when we're dealing with a function like softmax - if one of the values is much larger than all the others, the probabilities will be close to 0 or 1, and the gradients will be close to 0).\n",
        "\n",
        "Below is a much larger, more detailed version of the attention head diagram from earlier. This should give you an idea of the actual tensor operations involved. A few clarifications on this diagram:\n",
        "\n",
        "* Whenever there is a third dimension shown in the pictures, this refers to the `head_index` dimension. We can see that all operations within the attention layer are done independently for each head.\n",
        "* The objects in the box are activations; they have a batch dimension (for simplicity, we assume the batch dimension is 1 in the diagram). The objects to the right of the box are our parameters (weights and biases); they have no batch dimension.\n",
        "* We arrange the keys, queries and values as `(batch, seq_pos, head_idx, d_head)`, because the biases have shape `(head_idx, d_head)`, so this makes it convenient to add the biases (recall the rules of array broadcasting!).\n"
      ]
    },
    {
      "cell_type": "markdown",
      "metadata": {
        "id": "FuZvGlnhsIcr"
      },
      "source": [
        "<img src=\"https://raw.githubusercontent.com/callummcdougall/computational-thread-art/master/example_images/misc/transformer-attn-21.png\" width=\"1400\">\n"
      ]
    },
    {
      "cell_type": "markdown",
      "metadata": {
        "id": "PCODWJmAsr8x"
      },
      "source": [
        "<details>\n",
        "<summary><b>A few extra notes on attention (optional)</b></summary>\n",
        "\n",
        "Usually we have the relation `e = n * h` (i.e. `d_model = num_heads * d_head`). There are some computational justifications for this, but mostly this is just done out of convention (just like how we usually have `d_mlp = 4 * d_model`!).\n",
        "\n",
        "---\n",
        "\n",
        "The names **keys**, **queries** and **values** come from their analogy to retrieval systems. Broadly speaking:\n",
        "\n",
        "* The **queries** represent some information that a token is **\"looking for\"**\n",
        "* The **keys** represent the information that a token **\"contains\"**\n",
        "    * So the attention score being high basically means that the source (key) token contains the information which the destination (query) token **is looking for**\n",
        "* The **values** represent the information that is actually taken from the source token, to be moved to the destination token\n",
        "\n",
        "---\n",
        "\n",
        "This diagram can better help us understand the difference between the **QK** and **OV** circuit. We'll discuss this just briefly here, and will go into much more detail later on.\n",
        "\n",
        "The **QK** circuit consists of the operation of the $W_Q$ and $W_K$ matrices. In other words, it determines the attention pattern, i.e. where information is moved to and from in the residual stream. The functional form of the attention pattern $A$ is:\n",
        "\n",
        "$$\n",
        "A = \\text{softmax}\\left(\\frac{x^T W_Q W_K^T x}{\\sqrt{d_{head}}}\\right)\n",
        "$$\n",
        "\n",
        "where $x$ is the residual stream (shape `[seq_len, d_model]`), and $W_Q$, $W_K$ are the weight matrices for a single head (i.e. shape `[d_model, d_head]`).\n",
        "\n",
        "The **OV** circuit consists of the operation of the $W_V$ and $W_O$ matrices. Once attention patterns are fixed, these matrices operate on the residual stream at the source position, and their output is the thing which gets moved from source to destination position.\n",
        "\n",
        "The functional form of an entire attention head is:\n",
        "\n",
        "$$\n",
        "\\begin{aligned}\n",
        "\\text{output} &= \\text{softmax}\\left(\\frac{x W_Q W_K^T x^T}{\\sqrt{d_{head}}}\\right) (x W_V W_O) \\\\\n",
        "    &= Ax W_V W_O\n",
        "\\end{aligned}\n",
        "$$\n",
        "\n",
        "where $W_V$ has shape `[d_model, d_head]`, and $W_O$ has shape `[d_head, d_model]`.\n",
        "\n",
        "Here, we can clearly see that the **QK circuit** and **OV circuit** are doing conceptually different things, and should be thought of as two distinct parts of the attention head.\n",
        "\n",
        "Again, don't worry if you don't follow all of this right now - we'll go into **much** more detail on all of this in subsequent exercises. The purpose of the discussion here is just to give you a flavour of what's to come!\n",
        "\n",
        "</details>\n"
      ]
    },
    {
      "cell_type": "markdown",
      "metadata": {
        "id": "oA2JcOaHm4R-"
      },
      "source": [
        "First, it's useful to visualize and play around with attention patterns - what exactly are we looking at here? (Click on a head to lock onto just showing that head's pattern, it'll make it easier to interpret)\n"
      ]
    },
    {
      "cell_type": "code",
      "execution_count": 31,
      "metadata": {
        "id": "T38f-qpJtBTD"
      },
      "outputs": [
        {
          "data": {
            "text/html": [
              "<div id=\"circuits-vis-2da8b333-f8df\" style=\"margin: 15px 0;\"/>\n",
              "    <script crossorigin type=\"module\">\n",
              "    import { render, AttentionPatterns } from \"https://unpkg.com/circuitsvis@1.41.0/dist/cdn/esm.js\";\n",
              "    render(\n",
              "      \"circuits-vis-2da8b333-f8df\",\n",
              "      AttentionPatterns,\n",
              "      {\"tokens\": [\"<|endoftext|>\", \"I\", \" am\", \" an\", \" amazing\", \" aut\", \"ore\", \"gressive\", \",\", \" dec\", \"oder\", \"-\", \"only\", \",\", \" G\", \"PT\", \"-\", \"2\", \" style\", \" transformer\", \".\", \" One\", \" day\", \" I\", \" will\", \" exceed\", \" human\", \" level\", \" intelligence\", \" and\", \" take\", \" over\", \" the\", \" world\", \"!\"], \"attention\": [[[1.0, 0.0, 0.0, 0.0, 0.0, 0.0, 0.0, 0.0, 0.0, 0.0, 0.0, 0.0, 0.0, 0.0, 0.0, 0.0, 0.0, 0.0, 0.0, 0.0, 0.0, 0.0, 0.0, 0.0, 0.0, 0.0, 0.0, 0.0, 0.0, 0.0, 0.0, 0.0, 0.0, 0.0, 0.0], [0.9679255485534668, 0.032074425369501114, 0.0, 0.0, 0.0, 0.0, 0.0, 0.0, 0.0, 0.0, 0.0, 0.0, 0.0, 0.0, 0.0, 0.0, 0.0, 0.0, 0.0, 0.0, 0.0, 0.0, 0.0, 0.0, 0.0, 0.0, 0.0, 0.0, 0.0, 0.0, 0.0, 0.0, 0.0, 0.0, 0.0], [0.8024235963821411, 0.16839200258255005, 0.02918434329330921, 0.0, 0.0, 0.0, 0.0, 0.0, 0.0, 0.0, 0.0, 0.0, 0.0, 0.0, 0.0, 0.0, 0.0, 0.0, 0.0, 0.0, 0.0, 0.0, 0.0, 0.0, 0.0, 0.0, 0.0, 0.0, 0.0, 0.0, 0.0, 0.0, 0.0, 0.0, 0.0], [0.6959056258201599, 0.12269631028175354, 0.14588482677936554, 0.03551323711872101, 0.0, 0.0, 0.0, 0.0, 0.0, 0.0, 0.0, 0.0, 0.0, 0.0, 0.0, 0.0, 0.0, 0.0, 0.0, 0.0, 0.0, 0.0, 0.0, 0.0, 0.0, 0.0, 0.0, 0.0, 0.0, 0.0, 0.0, 0.0, 0.0, 0.0, 0.0], [0.5661023259162903, 0.14705199003219604, 0.08665256202220917, 0.11258421838283539, 0.08760890364646912, 0.0, 0.0, 0.0, 0.0, 0.0, 0.0, 0.0, 0.0, 0.0, 0.0, 0.0, 0.0, 0.0, 0.0, 0.0, 0.0, 0.0, 0.0, 0.0, 0.0, 0.0, 0.0, 0.0, 0.0, 0.0, 0.0, 0.0, 0.0, 0.0, 0.0], [0.4621875584125519, 0.13512831926345825, 0.096983402967453, 0.17473739385604858, 0.0462459996342659, 0.08471739292144775, 0.0, 0.0, 0.0, 0.0, 0.0, 0.0, 0.0, 0.0, 0.0, 0.0, 0.0, 0.0, 0.0, 0.0, 0.0, 0.0, 0.0, 0.0, 0.0, 0.0, 0.0, 0.0, 0.0, 0.0, 0.0, 0.0, 0.0, 0.0, 0.0], [0.4325161874294281, 0.10382882505655289, 0.08330132812261581, 0.0699574425816536, 0.07479371875524521, 0.21568655967712402, 0.019915904849767685, 0.0, 0.0, 0.0, 0.0, 0.0, 0.0, 0.0, 0.0, 0.0, 0.0, 0.0, 0.0, 0.0, 0.0, 0.0, 0.0, 0.0, 0.0, 0.0, 0.0, 0.0, 0.0, 0.0, 0.0, 0.0, 0.0, 0.0, 0.0], [0.22236749529838562, 0.09167700260877609, 0.08796311914920807, 0.2516874074935913, 0.08263689279556274, 0.10428168624639511, 0.06469012051820755, 0.0946962833404541, 0.0, 0.0, 0.0, 0.0, 0.0, 0.0, 0.0, 0.0, 0.0, 0.0, 0.0, 0.0, 0.0, 0.0, 0.0, 0.0, 0.0, 0.0, 0.0, 0.0, 0.0, 0.0, 0.0, 0.0, 0.0, 0.0, 0.0], [0.40499573945999146, 0.09078016132116318, 0.052373554557561874, 0.026201870292425156, 0.11047196388244629, 0.036674078553915024, 0.025538934394717216, 0.24528256058692932, 0.007681126240640879, 0.0, 0.0, 0.0, 0.0, 0.0, 0.0, 0.0, 0.0, 0.0, 0.0, 0.0, 0.0, 0.0, 0.0, 0.0, 0.0, 0.0, 0.0, 0.0, 0.0, 0.0, 0.0, 0.0, 0.0, 0.0, 0.0], [0.3998596668243408, 0.04361319541931152, 0.06183883547782898, 0.07298353314399719, 0.03661302849650383, 0.09147467464208603, 0.07241711765527725, 0.07013338804244995, 0.06429050862789154, 0.08677610754966736, 0.0, 0.0, 0.0, 0.0, 0.0, 0.0, 0.0, 0.0, 0.0, 0.0, 0.0, 0.0, 0.0, 0.0, 0.0, 0.0, 0.0, 0.0, 0.0, 0.0, 0.0, 0.0, 0.0, 0.0, 0.0], [0.09702550619840622, 0.03552756458520889, 0.023214805871248245, 0.03676706552505493, 0.02515837363898754, 0.27756163477897644, 0.07676514238119125, 0.19501186907291412, 0.05580100044608116, 0.14529401063919067, 0.031873028725385666, 0.0, 0.0, 0.0, 0.0, 0.0, 0.0, 0.0, 0.0, 0.0, 0.0, 0.0, 0.0, 0.0, 0.0, 0.0, 0.0, 0.0, 0.0, 0.0, 0.0, 0.0, 0.0, 0.0, 0.0], [0.2414383590221405, 0.03971055895090103, 0.07687386870384216, 0.028042644262313843, 0.12435993552207947, 0.05601577088236809, 0.060636721551418304, 0.128400981426239, 0.01569943316280842, 0.09114038944244385, 0.13185454905033112, 0.005826777778565884, 0.0, 0.0, 0.0, 0.0, 0.0, 0.0, 0.0, 0.0, 0.0, 0.0, 0.0, 0.0, 0.0, 0.0, 0.0, 0.0, 0.0, 0.0, 0.0, 0.0, 0.0, 0.0, 0.0], [0.1436309814453125, 0.05110500007867813, 0.05505897477269173, 0.07798512279987335, 0.07854284346103668, 0.035019729286432266, 0.13498607277870178, 0.22634074091911316, 0.04162850230932236, 0.035131387412548065, 0.020235992968082428, 0.04114446043968201, 0.059190262109041214, 0.0, 0.0, 0.0, 0.0, 0.0, 0.0, 0.0, 0.0, 0.0, 0.0, 0.0, 0.0, 0.0, 0.0, 0.0, 0.0, 0.0, 0.0, 0.0, 0.0, 0.0, 0.0], [0.31562840938568115, 0.06791997700929642, 0.03787236288189888, 0.017874617129564285, 0.08683168888092041, 0.029227832332253456, 0.01766417734324932, 0.18301630020141602, 0.004987802356481552, 0.043228697031736374, 0.05172270908951759, 0.008913466706871986, 0.12899242341518402, 0.006119511090219021, 0.0, 0.0, 0.0, 0.0, 0.0, 0.0, 0.0, 0.0, 0.0, 0.0, 0.0, 0.0, 0.0, 0.0, 0.0, 0.0, 0.0, 0.0, 0.0, 0.0, 0.0], [0.2841019928455353, 0.05345391854643822, 0.02396920509636402, 0.022562256082892418, 0.046198222786188126, 0.06391071528196335, 0.04539211466908455, 0.07758501917123795, 0.027644295245409012, 0.05804118514060974, 0.17727383971214294, 0.03400599583983421, 0.030527248978614807, 0.032130781561136246, 0.023203205317258835, 0.0, 0.0, 0.0, 0.0, 0.0, 0.0, 0.0, 0.0, 0.0, 0.0, 0.0, 0.0, 0.0, 0.0, 0.0, 0.0, 0.0, 0.0, 0.0, 0.0], [0.14103911817073822, 0.02857782691717148, 0.0376039557158947, 0.031378261744976044, 0.03697334602475166, 0.07347068190574646, 0.07151784747838974, 0.09211229532957077, 0.03358152508735657, 0.03639132156968117, 0.18937671184539795, 0.032445184886455536, 0.0602104477584362, 0.03916925564408302, 0.04040956497192383, 0.055742621421813965, 0.0, 0.0, 0.0, 0.0, 0.0, 0.0, 0.0, 0.0, 0.0, 0.0, 0.0, 0.0, 0.0, 0.0, 0.0, 0.0, 0.0, 0.0, 0.0], [0.2026529461145401, 0.030252762138843536, 0.06003403663635254, 0.021786119788885117, 0.10314241796731949, 0.045168355107307434, 0.04681028798222542, 0.10542110353708267, 0.011398814618587494, 0.0715995728969574, 0.10570330917835236, 0.0041993665508925915, 0.11079788953065872, 0.013912498950958252, 0.028923507779836655, 0.03286944702267647, 0.0053275153040885925, 0.0, 0.0, 0.0, 0.0, 0.0, 0.0, 0.0, 0.0, 0.0, 0.0, 0.0, 0.0, 0.0, 0.0, 0.0, 0.0, 0.0, 0.0], [0.20498356223106384, 0.04007228836417198, 0.04229816421866417, 0.024939019232988358, 0.04992293938994408, 0.02937169373035431, 0.03076970763504505, 0.10315559804439545, 0.025490205734968185, 0.07886798679828644, 0.10560189187526703, 0.017352692782878876, 0.08083692938089371, 0.03128694370388985, 0.054510630667209625, 0.05288318544626236, 0.02174278348684311, 0.005913799628615379, 0.0, 0.0, 0.0, 0.0, 0.0, 0.0, 0.0, 0.0, 0.0, 0.0, 0.0, 0.0, 0.0, 0.0, 0.0, 0.0, 0.0], [0.24350903928279877, 0.036364905536174774, 0.04196161404252052, 0.026215719059109688, 0.040445681661367416, 0.09965366125106812, 0.0257522352039814, 0.032494623214006424, 0.02445993758738041, 0.03520265594124794, 0.03383534401655197, 0.03347690403461456, 0.046648576855659485, 0.027967926114797592, 0.01864079013466835, 0.11764267086982727, 0.03875285014510155, 0.022786686196923256, 0.0541880838572979, 0.0, 0.0, 0.0, 0.0, 0.0, 0.0, 0.0, 0.0, 0.0, 0.0, 0.0, 0.0, 0.0, 0.0, 0.0, 0.0], [0.1419457346200943, 0.03406403958797455, 0.033009883016347885, 0.02023869752883911, 0.03927315026521683, 0.026005540043115616, 0.006318644154816866, 0.040797848254442215, 0.03638002276420593, 0.14631055295467377, 0.016386164352297783, 0.02359846979379654, 0.01584276556968689, 0.04227607324719429, 0.02245824784040451, 0.0686739906668663, 0.027878496795892715, 0.03722240775823593, 0.08677612245082855, 0.13454318046569824, 0.0, 0.0, 0.0, 0.0, 0.0, 0.0, 0.0, 0.0, 0.0, 0.0, 0.0, 0.0, 0.0, 0.0, 0.0], [0.21778132021427155, 0.026903655380010605, 0.023647217079997063, 0.007102568168193102, 0.0351700559258461, 0.013998553156852722, 0.01039227843284607, 0.09431244432926178, 0.0029622905422002077, 0.037838101387023926, 0.03792332857847214, 0.00373397720977664, 0.06506102532148361, 0.0036364607512950897, 0.01475804764777422, 0.12028621882200241, 0.004900883883237839, 0.008107364177703857, 0.017449840903282166, 0.2499871850013733, 0.004047108348459005, 0.0, 0.0, 0.0, 0.0, 0.0, 0.0, 0.0, 0.0, 0.0, 0.0, 0.0, 0.0, 0.0, 0.0], [0.1218722015619278, 0.07663220167160034, 0.03023197501897812, 0.01637185551226139, 0.052687931805849075, 0.021402161568403244, 0.02340388298034668, 0.10649681836366653, 0.018582483753561974, 0.03509166091680527, 0.08394153416156769, 0.017393313348293304, 0.04183053970336914, 0.021453863009810448, 0.03333102539181709, 0.050274237990379333, 0.020740842446684837, 0.04090355709195137, 0.030540931969881058, 0.09200654923915863, 0.028245722874999046, 0.03656468540430069, 0.0, 0.0, 0.0, 0.0, 0.0, 0.0, 0.0, 0.0, 0.0, 0.0, 0.0, 0.0, 0.0], [0.2126019150018692, 0.020284099504351616, 0.05000370368361473, 0.015904178842902184, 0.05722508952021599, 0.022857319563627243, 0.04604589194059372, 0.03530845046043396, 0.011784453876316547, 0.04140487313270569, 0.01680363155901432, 0.01578206941485405, 0.02020842954516411, 0.013090196065604687, 0.020854244008660316, 0.06297551840543747, 0.018039437010884285, 0.018052978441119194, 0.024445293471217155, 0.17059144377708435, 0.01593979261815548, 0.041521936655044556, 0.04827510565519333, 0.0, 0.0, 0.0, 0.0, 0.0, 0.0, 0.0, 0.0, 0.0, 0.0, 0.0, 0.0], [0.2671400308609009, 0.03564615547657013, 0.020422901958227158, 0.006622725632041693, 0.04034101217985153, 0.019110338762402534, 0.014575302600860596, 0.0564163401722908, 0.008403632789850235, 0.01552690751850605, 0.04414672777056694, 0.011055927723646164, 0.040019989013671875, 0.009353085421025753, 0.0193518977612257, 0.07054150849580765, 0.012798825278878212, 0.01283263135701418, 0.014165593311190605, 0.11736971884965897, 0.007312794681638479, 0.09727424383163452, 0.02075115218758583, 0.038820531219244, 0.0, 0.0, 0.0, 0.0, 0.0, 0.0, 0.0, 0.0, 0.0, 0.0, 0.0], [0.14591237902641296, 0.03319379314780235, 0.03138772398233414, 0.009927903302013874, 0.05209656059741974, 0.0198409091681242, 0.019401730969548225, 0.07582408934831619, 0.01286325789988041, 0.03345128521323204, 0.016568392515182495, 0.014797168783843517, 0.059083860367536545, 0.015597395598888397, 0.01136923860758543, 0.02185947634279728, 0.01947386935353279, 0.014793705195188522, 0.05341864377260208, 0.09521481394767761, 0.01620457135140896, 0.06210920959711075, 0.061828430742025375, 0.066579669713974, 0.03720194473862648, 0.0, 0.0, 0.0, 0.0, 0.0, 0.0, 0.0, 0.0, 0.0, 0.0], [0.06265699863433838, 0.014285155571997166, 0.025387214496731758, 0.03009253740310669, 0.021246910095214844, 0.029529914259910583, 0.02644667960703373, 0.014830502681434155, 0.015861928462982178, 0.0433143675327301, 0.021963970735669136, 0.019970117136836052, 0.04342852905392647, 0.01869289204478264, 0.009475361555814743, 0.024197479709982872, 0.023853637278079987, 0.02690875716507435, 0.014060701243579388, 0.17528516054153442, 0.03583676367998123, 0.047922585159540176, 0.03575059399008751, 0.01207050122320652, 0.05927419662475586, 0.14765655994415283, 0.0, 0.0, 0.0, 0.0, 0.0, 0.0, 0.0, 0.0, 0.0], [0.09766791760921478, 0.03152170032262802, 0.02668641321361065, 0.03645578771829605, 0.034923672676086426, 0.08635784685611725, 0.013895392417907715, 0.030186716467142105, 0.01940256543457508, 0.035141728818416595, 0.04878157377243042, 0.0125515665858984, 0.04099079966545105, 0.02020881325006485, 0.01265326514840126, 0.007451041601598263, 0.013522963970899582, 0.02407809905707836, 0.04302704334259033, 0.15066809952259064, 0.02925257757306099, 0.01881018653512001, 0.016104497015476227, 0.028549881651997566, 0.029875926673412323, 0.051215626299381256, 0.04001832753419876, 0.0, 0.0, 0.0, 0.0, 0.0, 0.0, 0.0, 0.0], [0.09151806682348251, 0.011421117931604385, 0.03979906067252159, 0.01165859680622816, 0.03344331309199333, 0.041076045483350754, 0.009538301266729832, 0.040612563490867615, 0.00911438837647438, 0.046904079616069794, 0.027317630127072334, 0.010844960808753967, 0.024547481909394264, 0.010004590265452862, 0.008095650002360344, 0.008396808058023453, 0.011855494230985641, 0.008184168487787247, 0.04104065150022507, 0.36258116364479065, 0.007537391502410173, 0.009961562231183052, 0.02104574255645275, 0.011855035088956356, 0.030058300122618675, 0.03281192481517792, 0.028863202780485153, 0.009912785142660141, 0.0, 0.0, 0.0, 0.0, 0.0, 0.0, 0.0], [0.1094629168510437, 0.0258727315813303, 0.023928707465529442, 0.020045263692736626, 0.035904474556446075, 0.031679894775152206, 0.02914527803659439, 0.11399826407432556, 0.013954706490039825, 0.03480718284845352, 0.01810562238097191, 0.01762225851416588, 0.019007297232747078, 0.015307599678635597, 0.009703021496534348, 0.012407957576215267, 0.020091677084565163, 0.027262520045042038, 0.0656459853053093, 0.027155393734574318, 0.02622661367058754, 0.01894300989806652, 0.04077140986919403, 0.01907329261302948, 0.021573398262262344, 0.030219445005059242, 0.07011836022138596, 0.06031462177634239, 0.04165104404091835, 0.0, 0.0, 0.0, 0.0, 0.0, 0.0], [0.11406353116035461, 0.026556259021162987, 0.019958436489105225, 0.0089314766228199, 0.034943241626024246, 0.016834327951073647, 0.009377746842801571, 0.0445132814347744, 0.0037722261622548103, 0.028760330751538277, 0.020741179585456848, 0.005650996696203947, 0.06007758155465126, 0.004424978978931904, 0.010821840725839138, 0.041129279881715775, 0.007085714489221573, 0.010433997958898544, 0.02654852531850338, 0.11019260436296463, 0.007190025877207518, 0.056519415229558945, 0.028027094900608063, 0.06370096653699875, 0.03407689929008484, 0.07150983810424805, 0.04093318432569504, 0.014252970926463604, 0.06984369456768036, 0.009128457866609097, 0.0, 0.0, 0.0, 0.0, 0.0], [0.14399918913841248, 0.02045459672808647, 0.042623866349458694, 0.011592102237045765, 0.027789445593953133, 0.014342916198074818, 0.029106201604008675, 0.04215818643569946, 0.013669696636497974, 0.020581506192684174, 0.008641069754958153, 0.012402215972542763, 0.019577063620090485, 0.014879733324050903, 0.023319056257605553, 0.02236715704202652, 0.014413869008421898, 0.006065309513360262, 0.0069853076711297035, 0.08859110623598099, 0.01421924214810133, 0.02754121832549572, 0.05707314610481262, 0.024985678493976593, 0.05733301118016243, 0.04808967560529709, 0.018268713727593422, 0.07940184324979782, 0.04377175122499466, 0.024849100038409233, 0.02090703323483467, 0.0, 0.0, 0.0, 0.0], [0.0778680294752121, 0.019732851535081863, 0.019906383007764816, 0.015179584734141827, 0.02926989085972309, 0.008963346481323242, 0.011427873745560646, 0.03169627487659454, 0.006965249311178923, 0.04064171016216278, 0.01998523809015751, 0.008789056912064552, 0.0357498936355114, 0.007953658699989319, 0.00961217749863863, 0.014965910464525223, 0.010367286391556263, 0.013545003719627857, 0.013747329823672771, 0.06818550080060959, 0.011837062425911427, 0.019355520606040955, 0.016761241480708122, 0.016301212832331657, 0.06125027686357498, 0.12023527920246124, 0.04739143326878548, 0.023822030052542686, 0.14942994713783264, 0.01412148866802454, 0.04741879925131798, 0.0075234416872262955, 0.0, 0.0, 0.0], [0.14836621284484863, 0.03627423197031021, 0.02376878261566162, 0.005308409221470356, 0.03226037696003914, 0.01743946224451065, 0.01509028859436512, 0.04443066194653511, 0.004935786593705416, 0.02115151286125183, 0.023849109187722206, 0.006127794273197651, 0.044309746474027634, 0.00571784470230341, 0.006861453410238028, 0.016362609341740608, 0.007707123178988695, 0.009109619073569775, 0.02842758037149906, 0.14491385221481323, 0.00635161017999053, 0.03453827649354935, 0.023273002356290817, 0.048037879168987274, 0.03441665321588516, 0.06975371390581131, 0.027561917901039124, 0.012016530148684978, 0.035357337445020676, 0.008575201034545898, 0.03916306421160698, 0.009715797379612923, 0.008826584555208683, 0.0, 0.0], [0.11389321833848953, 0.021931463852524757, 0.02644757740199566, 0.00760289141908288, 0.020530689507722855, 0.029713129624724388, 0.03694963827729225, 0.02875795029103756, 0.007981302216649055, 0.029359199106693268, 0.015349616296589375, 0.018420180305838585, 0.02085096761584282, 0.00851475540548563, 0.01093092281371355, 0.009227689355611801, 0.021279292181134224, 0.00922299176454544, 0.02765108272433281, 0.12458854913711548, 0.010509644635021687, 0.060961976647377014, 0.022033248096704483, 0.03036690503358841, 0.027411190792918205, 0.034599464386701584, 0.03202730789780617, 0.0395297072827816, 0.05353793129324913, 0.017732907086610794, 0.017497558146715164, 0.017771489918231964, 0.012080212123692036, 0.03473734110593796, 0.0], [0.13933584094047546, 0.021371258422732353, 0.014541358686983585, 0.0051232920959591866, 0.0316351056098938, 0.010921813547611237, 0.012541365809738636, 0.022492894902825356, 0.004774260334670544, 0.024901431053876877, 0.010858368128538132, 0.010577709414064884, 0.025906074792146683, 0.005286502186208963, 0.01675230823457241, 0.045204393565654755, 0.012112227268517017, 0.014714711345732212, 0.014629176817834377, 0.08781153708696365, 0.0072878506034612656, 0.07496536523103714, 0.015995552763342857, 0.043923426419496536, 0.041024111211299896, 0.07587814331054688, 0.027924586087465286, 0.015250171534717083, 0.013413427397608757, 0.01453277375549078, 0.02721547521650791, 0.03453553467988968, 0.01820741966366768, 0.0350533090531826, 0.023301251232624054]], [[1.0, 0.0, 0.0, 0.0, 0.0, 0.0, 0.0, 0.0, 0.0, 0.0, 0.0, 0.0, 0.0, 0.0, 0.0, 0.0, 0.0, 0.0, 0.0, 0.0, 0.0, 0.0, 0.0, 0.0, 0.0, 0.0, 0.0, 0.0, 0.0, 0.0, 0.0, 0.0, 0.0, 0.0, 0.0], [0.00041899672942236066, 0.9995810389518738, 0.0, 0.0, 0.0, 0.0, 0.0, 0.0, 0.0, 0.0, 0.0, 0.0, 0.0, 0.0, 0.0, 0.0, 0.0, 0.0, 0.0, 0.0, 0.0, 0.0, 0.0, 0.0, 0.0, 0.0, 0.0, 0.0, 0.0, 0.0, 0.0, 0.0, 0.0, 0.0, 0.0], [0.0001339477312285453, 0.00951183307915926, 0.9903541803359985, 0.0, 0.0, 0.0, 0.0, 0.0, 0.0, 0.0, 0.0, 0.0, 0.0, 0.0, 0.0, 0.0, 0.0, 0.0, 0.0, 0.0, 0.0, 0.0, 0.0, 0.0, 0.0, 0.0, 0.0, 0.0, 0.0, 0.0, 0.0, 0.0, 0.0, 0.0, 0.0], [0.0008606766350567341, 0.002610036637634039, 0.015066787600517273, 0.9814624786376953, 0.0, 0.0, 0.0, 0.0, 0.0, 0.0, 0.0, 0.0, 0.0, 0.0, 0.0, 0.0, 0.0, 0.0, 0.0, 0.0, 0.0, 0.0, 0.0, 0.0, 0.0, 0.0, 0.0, 0.0, 0.0, 0.0, 0.0, 0.0, 0.0, 0.0, 0.0], [3.717040453921072e-05, 0.0006769578903913498, 0.0012692960444837809, 0.00021407783788163215, 0.9978025555610657, 0.0, 0.0, 0.0, 0.0, 0.0, 0.0, 0.0, 0.0, 0.0, 0.0, 0.0, 0.0, 0.0, 0.0, 0.0, 0.0, 0.0, 0.0, 0.0, 0.0, 0.0, 0.0, 0.0, 0.0, 0.0, 0.0, 0.0, 0.0, 0.0, 0.0], [8.425399573752657e-05, 0.0007904709782451391, 0.0032152754720300436, 0.0027085626497864723, 0.001305819838307798, 0.9918956160545349, 0.0, 0.0, 0.0, 0.0, 0.0, 0.0, 0.0, 0.0, 0.0, 0.0, 0.0, 0.0, 0.0, 0.0, 0.0, 0.0, 0.0, 0.0, 0.0, 0.0, 0.0, 0.0, 0.0, 0.0, 0.0, 0.0, 0.0, 0.0, 0.0], [0.00014960468979552388, 0.001836181036196649, 0.0016375008272007108, 0.0010130577720701694, 0.004209803882986307, 8.00436464487575e-05, 0.9910737872123718, 0.0, 0.0, 0.0, 0.0, 0.0, 0.0, 0.0, 0.0, 0.0, 0.0, 0.0, 0.0, 0.0, 0.0, 0.0, 0.0, 0.0, 0.0, 0.0, 0.0, 0.0, 0.0, 0.0, 0.0, 0.0, 0.0, 0.0, 0.0], [0.00026855626492761075, 0.0009259643848054111, 0.0008250504033640027, 0.0006819652044214308, 0.007268855348229408, 0.001351708429865539, 0.00034691739710979164, 0.9883310198783875, 0.0, 0.0, 0.0, 0.0, 0.0, 0.0, 0.0, 0.0, 0.0, 0.0, 0.0, 0.0, 0.0, 0.0, 0.0, 0.0, 0.0, 0.0, 0.0, 0.0, 0.0, 0.0, 0.0, 0.0, 0.0, 0.0, 0.0], [0.0073263742960989475, 0.007828530855476856, 0.003931883722543716, 0.0001837399322539568, 6.433095404645428e-05, 0.00010083174129249528, 6.769911124138162e-05, 7.1641021349933e-05, 0.9804250597953796, 0.0, 0.0, 0.0, 0.0, 0.0, 0.0, 0.0, 0.0, 0.0, 0.0, 0.0, 0.0, 0.0, 0.0, 0.0, 0.0, 0.0, 0.0, 0.0, 0.0, 0.0, 0.0, 0.0, 0.0, 0.0, 0.0], [3.917574213119224e-05, 9.1374313342385e-05, 0.000333991163643077, 6.816790119046345e-05, 7.812328112777323e-05, 0.0009843052830547094, 0.00016941320791374892, 0.0025414624251425266, 4.4133088522357866e-05, 0.9956498742103577, 0.0, 0.0, 0.0, 0.0, 0.0, 0.0, 0.0, 0.0, 0.0, 0.0, 0.0, 0.0, 0.0, 0.0, 0.0, 0.0, 0.0, 0.0, 0.0, 0.0, 0.0, 0.0, 0.0, 0.0, 0.0], [5.5203158808581065e-06, 2.3466500351787545e-05, 9.186455281451344e-05, 8.013432670850307e-05, 3.93920527130831e-05, 8.521595009369776e-05, 2.573589881649241e-05, 7.120819645933807e-05, 4.276956133253407e-06, 0.00015049766807351261, 0.9994226694107056, 0.0, 0.0, 0.0, 0.0, 0.0, 0.0, 0.0, 0.0, 0.0, 0.0, 0.0, 0.0, 0.0, 0.0, 0.0, 0.0, 0.0, 0.0, 0.0, 0.0, 0.0, 0.0, 0.0, 0.0], [0.0010400301543995738, 0.0022993593011051416, 0.002392072696238756, 0.00031332342769019306, 0.0001336289569735527, 0.0005168466595932841, 0.0011971085332334042, 6.827455945312977e-05, 0.00544432457536459, 0.00028217415092512965, 4.305734910303727e-05, 0.9862697720527649, 0.0, 0.0, 0.0, 0.0, 0.0, 0.0, 0.0, 0.0, 0.0, 0.0, 0.0, 0.0, 0.0, 0.0, 0.0, 0.0, 0.0, 0.0, 0.0, 0.0, 0.0, 0.0, 0.0], [4.630399780580774e-05, 0.0003248221764806658, 0.0002445938007440418, 0.0015311648603528738, 0.0008613685495220125, 0.0012943862238898873, 6.198453775141388e-05, 2.664261955942493e-05, 4.840858673560433e-05, 0.0019855613354593515, 0.00013971854059491307, 0.00011434301995905116, 0.9933207035064697, 0.0, 0.0, 0.0, 0.0, 0.0, 0.0, 0.0, 0.0, 0.0, 0.0, 0.0, 0.0, 0.0, 0.0, 0.0, 0.0, 0.0, 0.0, 0.0, 0.0, 0.0, 0.0], [0.003044243436306715, 0.0018223605584353209, 0.0009289882727898657, 4.880234700976871e-05, 1.6391166354878806e-05, 2.9095670470269397e-05, 2.5079812985495664e-05, 2.9130291295587085e-05, 0.45632192492485046, 2.4578685042797588e-05, 2.483210300852079e-05, 0.0030043970327824354, 1.6773831248428905e-06, 0.5346785187721252, 0.0, 0.0, 0.0, 0.0, 0.0, 0.0, 0.0, 0.0, 0.0, 0.0, 0.0, 0.0, 0.0, 0.0, 0.0, 0.0, 0.0, 0.0, 0.0, 0.0, 0.0], [0.00039817907963879406, 0.0010285007301717997, 0.0008281130576506257, 0.0002375318726990372, 7.348862709477544e-05, 0.0014350328128784895, 6.76566269248724e-05, 0.00029547506710514426, 0.0001429580443073064, 9.929091174853966e-05, 4.608206836564932e-06, 0.0005140083958394825, 5.0356566134723835e-06, 0.00012475516996346414, 0.9947452545166016, 0.0, 0.0, 0.0, 0.0, 0.0, 0.0, 0.0, 0.0, 0.0, 0.0, 0.0, 0.0, 0.0, 0.0, 0.0, 0.0, 0.0, 0.0, 0.0, 0.0], [9.074803529074416e-05, 0.0002652586263138801, 0.0001101112284231931, 0.00021231842401903123, 8.290486584883183e-05, 0.0011814151657745242, 1.568861262057908e-05, 0.0016655857907608151, 1.1725265721906908e-05, 0.0020509359892457724, 0.00013842518092133105, 1.55735597218154e-05, 1.1507385352160782e-05, 9.066140592040028e-06, 0.00022655668726656586, 0.9939122200012207, 0.0, 0.0, 0.0, 0.0, 0.0, 0.0, 0.0, 0.0, 0.0, 0.0, 0.0, 0.0, 0.0, 0.0, 0.0, 0.0, 0.0, 0.0, 0.0], [0.00044135405914857984, 0.0006528944941237569, 0.0006495668785646558, 9.398062684340402e-05, 4.1127012082142755e-05, 0.00017028408183250576, 0.0005066694575361907, 2.889609277190175e-05, 0.0023701803293079138, 0.00010454285074956715, 1.9230894395150244e-05, 0.4705579876899719, 1.6804000551928766e-05, 0.002284090965986252, 0.0002169810759369284, 3.2769305107649416e-05, 0.5218125581741333, 0.0, 0.0, 0.0, 0.0, 0.0, 0.0, 0.0, 0.0, 0.0, 0.0, 0.0, 0.0, 0.0, 0.0, 0.0, 0.0, 0.0, 0.0], [0.0005350504070520401, 0.0006631231517530978, 0.0001895744790090248, 0.00011594502575462684, 3.930579623556696e-05, 8.452090696664527e-05, 0.00026859971694648266, 0.00030034728115424514, 0.00012727550347335637, 0.00015363385318778455, 2.152443084924016e-05, 0.0004102010279893875, 0.0015090352389961481, 0.00011659001756925136, 0.000137739087222144, 7.389120582956821e-05, 0.00039899349212646484, 0.9948546886444092, 0.0, 0.0, 0.0, 0.0, 0.0, 0.0, 0.0, 0.0, 0.0, 0.0, 0.0, 0.0, 0.0, 0.0, 0.0, 0.0, 0.0], [0.0002235240681329742, 0.0002502527495380491, 0.00011739293404389173, 1.860819429566618e-05, 0.0006291473400779068, 0.0007579216035082936, 3.7840745790163055e-05, 0.003385137999430299, 1.7918209778144956e-05, 0.00017818242486100644, 3.434413156355731e-05, 7.747560448478907e-05, 6.471137749031186e-05, 1.527021777292248e-05, 0.0002935947268269956, 0.0005734377191402018, 7.15437054168433e-05, 0.00015883080777712166, 0.993094801902771, 0.0, 0.0, 0.0, 0.0, 0.0, 0.0, 0.0, 0.0, 0.0, 0.0, 0.0, 0.0, 0.0, 0.0, 0.0, 0.0], [0.00030640943441540003, 0.00041680005961097777, 0.00045197136932983994, 0.00015746349527034909, 0.0015800707042217255, 0.0022666268050670624, 0.0001448357361368835, 0.002518868073821068, 4.471172360354103e-05, 0.0027394595090299845, 0.00043489670497365296, 0.00015683074889238924, 2.8505653972388245e-05, 4.005823575425893e-05, 0.0005936662200838327, 0.0001177518570329994, 0.00014039567031431943, 0.0001806032087188214, 0.0009641849319450557, 0.9867159128189087, 0.0, 0.0, 0.0, 0.0, 0.0, 0.0, 0.0, 0.0, 0.0, 0.0, 0.0, 0.0, 0.0, 0.0, 0.0], [0.00904688611626625, 0.0007260882412083447, 6.491785461548716e-05, 4.578256994136609e-05, 3.6695244489237666e-05, 3.389695848454721e-05, 4.131312380195595e-05, 9.00011946214363e-05, 0.016163909807801247, 1.8953782273456454e-05, 3.351367558934726e-05, 0.0021810783073306084, 5.341160431271419e-06, 0.018749436363577843, 0.000178977134055458, 0.0004993678303435445, 0.002435564761981368, 4.271610305295326e-05, 7.329280924750492e-05, 1.9154320398229174e-05, 0.9495131969451904, 0.0, 0.0, 0.0, 0.0, 0.0, 0.0, 0.0, 0.0, 0.0, 0.0, 0.0, 0.0, 0.0, 0.0], [0.00021946332708466798, 0.0011669573141261935, 0.00021983262558933347, 0.0009876297554001212, 0.00031338518601842225, 0.00012072676327079535, 5.6315479923796374e-06, 2.426011451461818e-05, 4.544197508948855e-05, 1.8529628505348228e-05, 1.4025741620571353e-05, 1.0155005838896614e-05, 0.00040180361247621477, 4.052638541907072e-05, 0.00017106776067521423, 9.869075256574433e-06, 9.488579962635413e-06, 0.00039310925058089197, 5.709424840460997e-06, 1.7844309695647098e-05, 2.853041405614931e-05, 0.9957762360572815, 0.0, 0.0, 0.0, 0.0, 0.0, 0.0, 0.0, 0.0, 0.0, 0.0, 0.0, 0.0, 0.0], [0.0001936094486154616, 0.0008434163755737245, 0.0005215282435528934, 2.5664437998784706e-05, 0.00046233032480813563, 0.0002540149725973606, 1.8471109797246754e-05, 0.00011509728210512549, 0.00027288938872516155, 0.000154366425704211, 1.2149086614954285e-05, 0.0006913724355399609, 5.695957224816084e-05, 0.0002402468817308545, 3.827477848972194e-05, 9.934437548508868e-05, 0.0006488896906375885, 8.011709724087268e-05, 0.0001921877992572263, 2.552929800003767e-05, 0.00032434676541015506, 0.0010871044360101223, 0.9936420321464539, 0.0, 0.0, 0.0, 0.0, 0.0, 0.0, 0.0, 0.0, 0.0, 0.0, 0.0, 0.0], [0.001607762067578733, 0.17697319388389587, 0.01548357866704464, 0.00037138722836971283, 0.00037863364559598267, 0.00016452698037028313, 0.00032773808925412595, 0.0001698968408163637, 0.0021229612175375223, 3.573096910258755e-05, 6.090123133617453e-05, 0.0004562163958325982, 1.5447722034878097e-05, 0.0022543128579854965, 0.001566686318255961, 0.00011843732499983162, 0.00046998882316984236, 5.037317532696761e-05, 0.00012108041119063273, 6.008956552250311e-05, 0.0008920560940168798, 0.0007518458878621459, 0.00026899625663645566, 0.7952781915664673, 0.0, 0.0, 0.0, 0.0, 0.0, 0.0, 0.0, 0.0, 0.0, 0.0, 0.0], [0.000391986541217193, 0.00021421178826130927, 0.0005306120146997273, 1.074579449777957e-05, 0.00011862377868965268, 4.225786688039079e-05, 0.00021160391042940319, 4.6925499191274866e-05, 0.00044815841829404235, 0.00010691296483855695, 3.935471613658592e-05, 0.0001683087320998311, 0.00017352412396576256, 0.0004524508840404451, 0.00014294097491074353, 0.00011699359311023727, 0.0001752679527271539, 0.0001011995118460618, 4.2513900552876294e-05, 2.0371739083202556e-05, 3.8371279515558854e-05, 0.00011344631639076397, 0.0002527926699258387, 6.991038389969617e-05, 0.9959704875946045, 0.0, 0.0, 0.0, 0.0, 0.0, 0.0, 0.0, 0.0, 0.0, 0.0], [0.00021530756202992052, 0.00010005857620853931, 0.0023809236008673906, 0.001983144087716937, 0.0011120133567601442, 5.5634875025134534e-05, 0.0006109278765507042, 0.0002456442452967167, 8.819021604722366e-05, 0.0011510418262332678, 0.0001066991753759794, 0.00017554934311192483, 5.736299499403685e-05, 7.814814307494089e-05, 0.0002457353984937072, 9.594705261406489e-06, 0.00017032439063768834, 2.89728104689857e-05, 1.4011779057909735e-05, 0.00016692141070961952, 1.2888894161733333e-05, 0.00024495625984854996, 0.0005147031624801457, 4.942123268847354e-05, 0.000574657111428678, 0.9896071553230286, 0.0, 0.0, 0.0, 0.0, 0.0, 0.0, 0.0, 0.0, 0.0], [0.00011423414980527014, 0.000862741144374013, 0.0007732230587862432, 0.0007090751896612346, 0.000729213934391737, 0.0014031630707904696, 0.00021403611754067242, 0.00017666476196609437, 6.622041837545112e-05, 3.2159365218831226e-05, 0.00045330545981414616, 0.00012008490011794493, 2.212893741670996e-05, 5.807502020616084e-05, 0.00012917444109916687, 1.9079649064224213e-05, 0.00011076663940912113, 8.564163181290496e-06, 2.363054227316752e-05, 0.00033799820812419057, 5.2118815801804885e-05, 0.00014455679047387093, 0.00019694963702932, 0.00045105229946784675, 2.0576242604875006e-05, 8.764302037889138e-05, 0.992683470249176, 0.0, 0.0, 0.0, 0.0, 0.0, 0.0, 0.0, 0.0], [0.0001979833614313975, 0.00019567919662222266, 0.0002261224144604057, 0.0004194360808469355, 0.0005979689303785563, 0.0004517447960097343, 0.0003478283470030874, 0.0002585807233117521, 2.801987466227729e-05, 0.0007220000843517482, 0.00013010442489758134, 0.001163206179626286, 6.916894926689565e-05, 2.478910391801037e-05, 0.00010386003850726411, 0.0003812489740084857, 0.0011587812332436442, 0.0003314433852210641, 0.0002449452003929764, 0.000127551713376306, 0.0001609842001926154, 1.9267901734565385e-05, 0.00027174182469025254, 2.0765510271303356e-05, 6.825054151704535e-05, 0.0008764261729083955, 0.0006782175041735172, 0.9907240271568298, 0.0, 0.0, 0.0, 0.0, 0.0, 0.0, 0.0], [3.1571831641485915e-05, 0.0006791105261072516, 0.0007090710569173098, 0.00024164810020010918, 0.0004120536323171109, 0.0009237404447048903, 0.0002084854058921337, 6.639285857090726e-05, 0.00011664796329569072, 8.601917943451554e-05, 0.010591302998363972, 0.00033728990820236504, 2.1898405975662172e-05, 0.00010110706352861598, 0.00010436072625452653, 5.858713484485634e-05, 0.00032512066536583006, 1.5854100638534874e-05, 5.033598426962271e-06, 0.000409489672165364, 1.3119478353473824e-05, 5.313364090397954e-05, 1.1887225809914526e-05, 5.5366654123645276e-05, 1.219765908899717e-05, 8.95265256986022e-05, 0.0022435507271438837, 0.00021041877334937453, 0.981866180896759, 0.0, 0.0, 0.0, 0.0, 0.0, 0.0], [0.0007582923863083124, 0.0012331422185525298, 8.604957110946998e-05, 6.291319004958495e-05, 2.879173007386271e-05, 3.3166903449455276e-05, 7.622718840138987e-05, 0.00010868196841329336, 0.006450853776186705, 0.00014789093984290957, 1.0376485988672357e-05, 0.0023889713920652866, 7.883583748480305e-05, 0.007510704454034567, 0.0002874312922358513, 0.00013675719674210995, 0.0027602973859757185, 0.0007447178941220045, 8.811117731966078e-05, 2.4701999791432172e-05, 0.006188869476318359, 0.00011647059000097215, 0.00017244028276763856, 0.0002621753083076328, 0.0001841979392338544, 4.432148125488311e-05, 4.855179213336669e-05, 8.903018169803545e-05, 2.6887822969001718e-05, 0.9698501229286194, 0.0, 0.0, 0.0, 0.0, 0.0], [0.0002462742559146136, 0.000359199068043381, 0.00020521874830592424, 9.38773519010283e-05, 8.577321568736807e-05, 5.4952157370280474e-05, 4.5318305637920275e-05, 1.0722147635533474e-05, 4.8671081458451226e-05, 0.00011017586075467989, 0.0001006408128887415, 9.772235353011638e-05, 0.0005496825324371457, 4.3629388528643176e-05, 3.945780554204248e-05, 7.140219531720504e-05, 9.81434786808677e-05, 5.700964175048284e-05, 2.425112688797526e-05, 2.31456533583696e-06, 5.056929512647912e-05, 0.00011318480392219499, 0.00029069912852719426, 6.889962241984904e-05, 0.0006683258689008653, 0.00023217458510771394, 8.348704795935191e-06, 1.7434613255318254e-05, 1.027309917844832e-05, 0.00013885690714232624, 0.9960569143295288, 0.0, 0.0, 0.0, 0.0], [0.00011105885641882196, 3.599145929911174e-05, 4.416049341671169e-05, 0.00022596320195589215, 0.0002402582613285631, 1.7348917026538402e-05, 7.204290886875242e-05, 0.00023738965683151037, 8.274732681456953e-05, 0.00010178532102145255, 7.876367817516439e-06, 6.391833449015394e-05, 3.2952113542705774e-05, 7.889189146226272e-05, 0.00011627440835582092, 7.139134595490759e-06, 6.571753328898922e-05, 5.39636403118493e-06, 8.334014637512155e-06, 1.9613842596299946e-05, 4.110623922315426e-05, 8.537978283129632e-05, 3.1616138585377485e-05, 9.916973795043305e-06, 2.383238825132139e-05, 0.0018293509492650628, 2.6111232727998868e-05, 3.313504203106277e-05, 1.4612694940296933e-05, 0.0008547270554117858, 0.00016745127504691482, 0.995307981967926, 0.0, 0.0, 0.0], [0.0022552250884473324, 0.0004647739406209439, 0.00012283753312658519, 0.006661214865744114, 8.82893509697169e-05, 0.0002494273940101266, 0.00017555152589920908, 2.6563477149466053e-05, 0.004149135202169418, 0.00020833108283113688, 1.5973320842022076e-05, 0.0007248212932609022, 1.231803707923973e-05, 0.004929243121296167, 0.0007067766855470836, 2.7460117053124122e-05, 0.0008252441184595227, 5.148727723280899e-05, 9.10723701963434e-06, 0.001170197268947959, 0.0011320470366626978, 0.0003872277738992125, 0.00010000268957810476, 0.0005395385669544339, 0.00012797651288565248, 7.418702443828806e-05, 0.0006351867341436446, 5.991831858409569e-05, 0.00020302319899201393, 0.022641245275735855, 7.111386366887018e-05, 0.0034798558335751295, 0.9476746916770935, 0.0, 0.0], [0.00010488780390005559, 0.0005403967807069421, 0.0002700603217817843, 2.781978946586605e-05, 0.0008878498920239508, 0.000253171514486894, 0.0002921393606811762, 0.0009951420361176133, 3.9432004996342584e-05, 6.531608960358426e-05, 5.1983181037940085e-05, 0.0006716324714943767, 1.9524075469234958e-05, 3.7964196963002905e-05, 0.0003154694277327508, 0.000157602786202915, 0.0006809098995290697, 0.00017366687825415283, 0.0002327574766241014, 0.0004935184260830283, 0.00015254232857841998, 8.968843758339062e-05, 0.0014225757913663983, 0.00022503008949570358, 0.00015392211207654327, 0.00010696866957005113, 0.005650227889418602, 0.0008653203258290887, 0.00028749360353685915, 0.00013868435053154826, 1.43541310535511e-05, 2.8161923182778992e-05, 0.00011611970694502816, 0.9844376444816589, 0.0], [0.001883041812106967, 0.00023014011094346642, 7.190554606495425e-05, 3.7982895264576655e-06, 0.002256364095956087, 4.367989458842203e-05, 0.0001278296549571678, 0.0006368031026795506, 0.0005364002427086234, 5.3257017498253845e-06, 7.917852053651586e-05, 2.6016026822617278e-05, 1.1253252523601986e-05, 0.0005611255182884634, 9.10380549612455e-06, 0.00021052223746664822, 2.6891109882853925e-05, 3.2424468372482806e-05, 0.0002593938843347132, 0.00045266738743521273, 0.0011521006235852838, 1.1493548299768008e-05, 4.818247180082835e-05, 0.00010571518214419484, 8.452779002254829e-05, 0.00010020870104199275, 2.8483804271672852e-05, 2.0415502149262466e-05, 1.8022999483946478e-06, 7.628967432538047e-05, 4.604338755598292e-05, 9.973571286536753e-05, 5.258407327346504e-06, 0.00019488570978865027, 0.9905608296394348]], [[1.0, 0.0, 0.0, 0.0, 0.0, 0.0, 0.0, 0.0, 0.0, 0.0, 0.0, 0.0, 0.0, 0.0, 0.0, 0.0, 0.0, 0.0, 0.0, 0.0, 0.0, 0.0, 0.0, 0.0, 0.0, 0.0, 0.0, 0.0, 0.0, 0.0, 0.0, 0.0, 0.0, 0.0, 0.0], [0.9424744844436646, 0.05752555653452873, 0.0, 0.0, 0.0, 0.0, 0.0, 0.0, 0.0, 0.0, 0.0, 0.0, 0.0, 0.0, 0.0, 0.0, 0.0, 0.0, 0.0, 0.0, 0.0, 0.0, 0.0, 0.0, 0.0, 0.0, 0.0, 0.0, 0.0, 0.0, 0.0, 0.0, 0.0, 0.0, 0.0], [0.8506750464439392, 0.09740973263978958, 0.051915243268013, 0.0, 0.0, 0.0, 0.0, 0.0, 0.0, 0.0, 0.0, 0.0, 0.0, 0.0, 0.0, 0.0, 0.0, 0.0, 0.0, 0.0, 0.0, 0.0, 0.0, 0.0, 0.0, 0.0, 0.0, 0.0, 0.0, 0.0, 0.0, 0.0, 0.0, 0.0, 0.0], [0.7641512751579285, 0.10970382392406464, 0.07497042417526245, 0.05117453634738922, 0.0, 0.0, 0.0, 0.0, 0.0, 0.0, 0.0, 0.0, 0.0, 0.0, 0.0, 0.0, 0.0, 0.0, 0.0, 0.0, 0.0, 0.0, 0.0, 0.0, 0.0, 0.0, 0.0, 0.0, 0.0, 0.0, 0.0, 0.0, 0.0, 0.0, 0.0], [0.6748190522193909, 0.08416197448968887, 0.0547025240957737, 0.07581551373004913, 0.11050096899271011, 0.0, 0.0, 0.0, 0.0, 0.0, 0.0, 0.0, 0.0, 0.0, 0.0, 0.0, 0.0, 0.0, 0.0, 0.0, 0.0, 0.0, 0.0, 0.0, 0.0, 0.0, 0.0, 0.0, 0.0, 0.0, 0.0, 0.0, 0.0, 0.0, 0.0], [0.6857607960700989, 0.08229529112577438, 0.05202113837003708, 0.08139172941446304, 0.040858782827854156, 0.05767226964235306, 0.0, 0.0, 0.0, 0.0, 0.0, 0.0, 0.0, 0.0, 0.0, 0.0, 0.0, 0.0, 0.0, 0.0, 0.0, 0.0, 0.0, 0.0, 0.0, 0.0, 0.0, 0.0, 0.0, 0.0, 0.0, 0.0, 0.0, 0.0, 0.0], [0.6174606084823608, 0.0565345324575901, 0.09111694991588593, 0.06854881346225739, 0.06338419765233994, 0.03596976399421692, 0.06698518246412277, 0.0, 0.0, 0.0, 0.0, 0.0, 0.0, 0.0, 0.0, 0.0, 0.0, 0.0, 0.0, 0.0, 0.0, 0.0, 0.0, 0.0, 0.0, 0.0, 0.0, 0.0, 0.0, 0.0, 0.0, 0.0, 0.0, 0.0, 0.0], [0.6047279238700867, 0.06088970601558685, 0.05921144410967827, 0.09558159112930298, 0.042659156024456024, 0.03184346482157707, 0.04263066127896309, 0.06245603784918785, 0.0, 0.0, 0.0, 0.0, 0.0, 0.0, 0.0, 0.0, 0.0, 0.0, 0.0, 0.0, 0.0, 0.0, 0.0, 0.0, 0.0, 0.0, 0.0, 0.0, 0.0, 0.0, 0.0, 0.0, 0.0, 0.0, 0.0], [0.40084385871887207, 0.0753358006477356, 0.04270840063691139, 0.011760726571083069, 0.02668057195842266, 0.013492081314325333, 0.02846549078822136, 0.013900605961680412, 0.3868124783039093, 0.0, 0.0, 0.0, 0.0, 0.0, 0.0, 0.0, 0.0, 0.0, 0.0, 0.0, 0.0, 0.0, 0.0, 0.0, 0.0, 0.0, 0.0, 0.0, 0.0, 0.0, 0.0, 0.0, 0.0, 0.0, 0.0], [0.4968024790287018, 0.06792885810136795, 0.057920027524232864, 0.07101531326770782, 0.06963259726762772, 0.018800096586346626, 0.06757569313049316, 0.06346481293439865, 0.06656692922115326, 0.020293205976486206, 0.0, 0.0, 0.0, 0.0, 0.0, 0.0, 0.0, 0.0, 0.0, 0.0, 0.0, 0.0, 0.0, 0.0, 0.0, 0.0, 0.0, 0.0, 0.0, 0.0, 0.0, 0.0, 0.0, 0.0, 0.0], [0.5176074504852295, 0.08289016783237457, 0.052397679537534714, 0.06842368841171265, 0.0460883267223835, 0.026865975931286812, 0.0818149670958519, 0.03230840712785721, 0.05516276881098747, 0.018549645319581032, 0.017890896648168564, 0.0, 0.0, 0.0, 0.0, 0.0, 0.0, 0.0, 0.0, 0.0, 0.0, 0.0, 0.0, 0.0, 0.0, 0.0, 0.0, 0.0, 0.0, 0.0, 0.0, 0.0, 0.0, 0.0, 0.0], [0.3038181960582733, 0.03185645118355751, 0.02915770374238491, 0.011053654365241528, 0.013536783866584301, 0.016536910086870193, 0.015181971713900566, 0.015511739067733288, 0.026294954121112823, 0.016890998929739, 0.011886654421687126, 0.5082740187644958, 0.0, 0.0, 0.0, 0.0, 0.0, 0.0, 0.0, 0.0, 0.0, 0.0, 0.0, 0.0, 0.0, 0.0, 0.0, 0.0, 0.0, 0.0, 0.0, 0.0, 0.0, 0.0, 0.0], [0.3585987687110901, 0.07880908250808716, 0.05902865529060364, 0.044458672404289246, 0.07822325080633163, 0.01967952400445938, 0.051331255584955215, 0.04009836167097092, 0.08024679869413376, 0.027811914682388306, 0.01025062520056963, 0.13610363006591797, 0.015359461307525635, 0.0, 0.0, 0.0, 0.0, 0.0, 0.0, 0.0, 0.0, 0.0, 0.0, 0.0, 0.0, 0.0, 0.0, 0.0, 0.0, 0.0, 0.0, 0.0, 0.0, 0.0, 0.0], [0.2511676847934723, 0.04623398557305336, 0.027838533744215965, 0.00705649284645915, 0.017244184389710426, 0.008997930213809013, 0.017309969291090965, 0.009924139827489853, 0.25275102257728577, 0.012778316624462605, 0.008546067401766777, 0.04791999235749245, 0.006098272278904915, 0.28613340854644775, 0.0, 0.0, 0.0, 0.0, 0.0, 0.0, 0.0, 0.0, 0.0, 0.0, 0.0, 0.0, 0.0, 0.0, 0.0, 0.0, 0.0, 0.0, 0.0, 0.0, 0.0], [0.3980077803134918, 0.06433821469545364, 0.04979853332042694, 0.05949561670422554, 0.031821127980947495, 0.03071472980082035, 0.058995556086301804, 0.05480389669537544, 0.039193689823150635, 0.03556446731090546, 0.024916471913456917, 0.04571933299303055, 0.01667165942490101, 0.0389430895447731, 0.05101580172777176, 0.0, 0.0, 0.0, 0.0, 0.0, 0.0, 0.0, 0.0, 0.0, 0.0, 0.0, 0.0, 0.0, 0.0, 0.0, 0.0, 0.0, 0.0, 0.0, 0.0], [0.39033836126327515, 0.07549387216567993, 0.03844676911830902, 0.0436677560210228, 0.017820758745074272, 0.012712192721664906, 0.045307260006666183, 0.03603021055459976, 0.04217066243290901, 0.016753030940890312, 0.04224865511059761, 0.05092344060540199, 0.03077208437025547, 0.04072083160281181, 0.05648880824446678, 0.06010528653860092, 0.0, 0.0, 0.0, 0.0, 0.0, 0.0, 0.0, 0.0, 0.0, 0.0, 0.0, 0.0, 0.0, 0.0, 0.0, 0.0, 0.0, 0.0, 0.0], [0.18182340264320374, 0.018224772065877914, 0.017477894201874733, 0.006372257601469755, 0.007922589778900146, 0.010062875226140022, 0.008703154511749744, 0.010297472588717937, 0.01535442378371954, 0.011538193561136723, 0.0070910369977355, 0.3139553964138031, 0.00601981533691287, 0.015887562185525894, 0.015421995893120766, 0.01318857166916132, 0.3406585156917572, 0.0, 0.0, 0.0, 0.0, 0.0, 0.0, 0.0, 0.0, 0.0, 0.0, 0.0, 0.0, 0.0, 0.0, 0.0, 0.0, 0.0, 0.0], [0.2388143390417099, 0.07684362679719925, 0.04843558743596077, 0.02831975184381008, 0.04297624155879021, 0.019430750980973244, 0.033217232674360275, 0.027472933754324913, 0.018975920975208282, 0.040467504411935806, 0.02009561099112034, 0.05857323110103607, 0.03530571237206459, 0.019691891968250275, 0.09703756868839264, 0.039098069071769714, 0.061994556337594986, 0.09324943274259567, 0.0, 0.0, 0.0, 0.0, 0.0, 0.0, 0.0, 0.0, 0.0, 0.0, 0.0, 0.0, 0.0, 0.0, 0.0, 0.0, 0.0], [0.3563612699508667, 0.04354533553123474, 0.05439365655183792, 0.035997215658426285, 0.05560871958732605, 0.03285679966211319, 0.01944384165108204, 0.06911690533161163, 0.02064945176243782, 0.03360534459352493, 0.02761874906718731, 0.034079983830451965, 0.02684745192527771, 0.020337317138910294, 0.022298935800790787, 0.03622737154364586, 0.03464476764202118, 0.02265498787164688, 0.053711894899606705, 0.0, 0.0, 0.0, 0.0, 0.0, 0.0, 0.0, 0.0, 0.0, 0.0, 0.0, 0.0, 0.0, 0.0, 0.0, 0.0], [0.3967010974884033, 0.05178239196538925, 0.039961934089660645, 0.06630747020244598, 0.04557187482714653, 0.023983391001820564, 0.019396750256419182, 0.021365972235798836, 0.02025376819074154, 0.03685586526989937, 0.009492039680480957, 0.0418100506067276, 0.014498679898679256, 0.01978372409939766, 0.029715223237872124, 0.04631546884775162, 0.04246643930673599, 0.03147520869970322, 0.022027641534805298, 0.020235080271959305, 0.0, 0.0, 0.0, 0.0, 0.0, 0.0, 0.0, 0.0, 0.0, 0.0, 0.0, 0.0, 0.0, 0.0, 0.0], [0.23151393234729767, 0.13258199393749237, 0.060261063277721405, 0.011383586563169956, 0.024262715131044388, 0.014553463086485863, 0.016979563981294632, 0.013957408256828785, 0.022475890815258026, 0.02772129885852337, 0.02060706913471222, 0.04084689915180206, 0.027723202481865883, 0.02455071732401848, 0.038579147309064865, 0.04770103842020035, 0.04407110810279846, 0.07720741629600525, 0.04604470729827881, 0.04773350805044174, 0.029244281351566315, 0.0, 0.0, 0.0, 0.0, 0.0, 0.0, 0.0, 0.0, 0.0, 0.0, 0.0, 0.0, 0.0, 0.0], [0.20264174044132233, 0.04893084615468979, 0.03894677385687828, 0.026632267981767654, 0.04094349592924118, 0.016175061464309692, 0.0438801646232605, 0.04927309229969978, 0.0374428927898407, 0.018747972324490547, 0.010438332334160805, 0.030274199321866035, 0.011668807826936245, 0.03915902227163315, 0.08361907303333282, 0.026806524023413658, 0.03237595781683922, 0.026771051809191704, 0.04136867821216583, 0.043805550783872604, 0.09921545535326004, 0.03088301047682762, 0.0, 0.0, 0.0, 0.0, 0.0, 0.0, 0.0, 0.0, 0.0, 0.0, 0.0, 0.0, 0.0], [0.22999972105026245, 0.02927536889910698, 0.02482367493212223, 0.03074752166867256, 0.024439776316285133, 0.025078168138861656, 0.019048292189836502, 0.04161752015352249, 0.025246405974030495, 0.055363453924655914, 0.013840331695973873, 0.03206315636634827, 0.023373743519186974, 0.026896368712186813, 0.03765583410859108, 0.028709651902318, 0.034981437027454376, 0.038269225507974625, 0.05304878577589989, 0.07750779390335083, 0.04235747084021568, 0.0629706084728241, 0.022685645148158073, 0.0, 0.0, 0.0, 0.0, 0.0, 0.0, 0.0, 0.0, 0.0, 0.0, 0.0, 0.0], [0.2523007392883301, 0.043092597275972366, 0.04779430106282234, 0.021534821018576622, 0.05364763364195824, 0.014357623644173145, 0.01696820929646492, 0.012399839237332344, 0.02810792066156864, 0.02296457439661026, 0.013637280091643333, 0.03462434932589531, 0.013057571835815907, 0.029753539711236954, 0.025925686582922935, 0.036895398050546646, 0.0364658460021019, 0.020091161131858826, 0.03424841910600662, 0.032270647585392, 0.07516514509916306, 0.03381401672959328, 0.05794452875852585, 0.04293809458613396, 0.0, 0.0, 0.0, 0.0, 0.0, 0.0, 0.0, 0.0, 0.0, 0.0, 0.0], [0.24815595149993896, 0.04183841869235039, 0.03725351765751839, 0.01991417445242405, 0.06031176820397377, 0.013761507347226143, 0.010237020440399647, 0.02711835689842701, 0.02124747447669506, 0.014996426180005074, 0.015956420451402664, 0.01974194310605526, 0.016942858695983887, 0.02278241142630577, 0.02115941047668457, 0.013419791124761105, 0.021131552755832672, 0.015880083665251732, 0.03851577639579773, 0.03509929031133652, 0.06386470049619675, 0.04215891286730766, 0.055951766669750214, 0.06510590761899948, 0.057454608380794525, 0.0, 0.0, 0.0, 0.0, 0.0, 0.0, 0.0, 0.0, 0.0, 0.0], [0.245906263589859, 0.03979461267590523, 0.03404999151825905, 0.03872011974453926, 0.028344353660941124, 0.024568259716033936, 0.013687258586287498, 0.019880950450897217, 0.01750793866813183, 0.041312143206596375, 0.02464905008673668, 0.017028091475367546, 0.015493794344365597, 0.018039900809526443, 0.02871253900229931, 0.008945331908762455, 0.01785881258547306, 0.02984650991857052, 0.02698223479092121, 0.06119256839156151, 0.03972144052386284, 0.04008689895272255, 0.0465637668967247, 0.046592067927122116, 0.046358153223991394, 0.0281569454818964, 0.0, 0.0, 0.0, 0.0, 0.0, 0.0, 0.0, 0.0, 0.0], [0.24299508333206177, 0.03093668632209301, 0.0372810997068882, 0.02997978962957859, 0.03951822966337204, 0.02068972960114479, 0.024463780224323273, 0.01616225205361843, 0.02351461909711361, 0.015184121206402779, 0.009779486805200577, 0.010400435887277126, 0.008830749429762363, 0.023988908156752586, 0.02441921830177307, 0.037842024117708206, 0.010589975863695145, 0.013367547653615475, 0.016263317316770554, 0.09984056651592255, 0.025632809847593307, 0.027902813628315926, 0.054687757045030594, 0.03170406073331833, 0.02747957408428192, 0.016517236828804016, 0.08002805709838867, 0.0, 0.0, 0.0, 0.0, 0.0, 0.0, 0.0, 0.0], [0.24383282661437988, 0.021781526505947113, 0.019058486446738243, 0.02660842053592205, 0.037405651062726974, 0.027086667716503143, 0.005031605251133442, 0.026656080037355423, 0.017429368570446968, 0.02866247110068798, 0.012151011265814304, 0.03022322617471218, 0.01406831108033657, 0.01816091127693653, 0.015435304492712021, 0.01572183519601822, 0.03215308114886284, 0.024973012506961823, 0.047933779656887054, 0.045990023761987686, 0.0311921164393425, 0.03841527923941612, 0.0378812775015831, 0.03472227603197098, 0.03550751879811287, 0.033360403031110764, 0.05460802838206291, 0.023949556052684784, 0.0, 0.0, 0.0, 0.0, 0.0, 0.0, 0.0], [0.308788001537323, 0.04082435369491577, 0.010766164399683475, 0.027089759707450867, 0.0194332767277956, 0.033555492758750916, 0.010839533060789108, 0.01149556040763855, 0.011286411434412003, 0.01931932009756565, 0.034423623234033585, 0.010595870204269886, 0.019463732838630676, 0.011577969416975975, 0.014172392897307873, 0.021593380719423294, 0.010569144040346146, 0.018212497234344482, 0.007991204038262367, 0.05231860280036926, 0.01970776915550232, 0.035325244069099426, 0.029598267748951912, 0.028512952849268913, 0.021019773557782173, 0.018976137042045593, 0.031007936224341393, 0.01773698255419731, 0.10379862785339355, 0.0, 0.0, 0.0, 0.0, 0.0, 0.0], [0.11270291358232498, 0.013211623765528202, 0.015115475282073021, 0.008062333799898624, 0.01807505451142788, 0.020267304033041, 0.009121800772845745, 0.021654386073350906, 0.024600286036729813, 0.012220295146107674, 0.005230678711086512, 0.021195217967033386, 0.007505761459469795, 0.02724008820950985, 0.016828978434205055, 0.009307182393968105, 0.0237741582095623, 0.009840193204581738, 0.023520387709140778, 0.01809619925916195, 0.11592712998390198, 0.008296097628772259, 0.015038424171507359, 0.01626184768974781, 0.02283715270459652, 0.007970297709107399, 0.01034600380808115, 0.013601310551166534, 0.009923169389367104, 0.36222824454307556, 0.0, 0.0, 0.0, 0.0, 0.0], [0.19907142221927643, 0.02335294522345066, 0.027535494416952133, 0.020741203799843788, 0.04944242537021637, 0.03964550420641899, 0.011580484919250011, 0.03849604353308678, 0.0122127216309309, 0.012634867802262306, 0.018897850066423416, 0.01150272972881794, 0.014417958445847034, 0.012855146080255508, 0.01591629721224308, 0.009284339845180511, 0.011929106898605824, 0.014574802480638027, 0.029562363401055336, 0.030921489000320435, 0.049348872154951096, 0.026833031326532364, 0.03316974639892578, 0.026513896882534027, 0.03841780871152878, 0.03666594251990318, 0.03740682825446129, 0.03744916617870331, 0.0418136790394783, 0.040805015712976456, 0.027000801637768745, 0.0, 0.0, 0.0, 0.0], [0.1358085423707962, 0.02159821055829525, 0.02843143418431282, 0.021366802975535393, 0.03184177353978157, 0.02831074222922325, 0.011232448741793633, 0.016139332205057144, 0.023436734452843666, 0.025144286453723907, 0.012804507277905941, 0.012000505812466145, 0.020912284031510353, 0.02500326931476593, 0.02769222855567932, 0.01730591431260109, 0.012859735637903214, 0.01606629602611065, 0.032790008932352066, 0.038290299475193024, 0.06080478057265282, 0.036749981343746185, 0.03524733707308769, 0.03857797384262085, 0.03904813155531883, 0.036643415689468384, 0.014530421234667301, 0.02163229137659073, 0.010490992106497288, 0.06733926385641098, 0.038672853261232376, 0.04122713580727577, 0.0, 0.0, 0.0], [0.1308814436197281, 0.023744316771626472, 0.020114336162805557, 0.009702399373054504, 0.026952236890792847, 0.013591093011200428, 0.009517529048025608, 0.013271695002913475, 0.027617888525128365, 0.01149838324636221, 0.008886142633855343, 0.01686580665409565, 0.009971983730793, 0.03131859749555588, 0.014953799545764923, 0.015636589378118515, 0.018755866214632988, 0.008822454139590263, 0.024258315563201904, 0.01859988458454609, 0.06659712642431259, 0.023935340344905853, 0.030215026810765266, 0.03847969323396683, 0.06054789200425148, 0.03886100649833679, 0.0210395697504282, 0.02691996470093727, 0.030786732211709023, 0.06339393556118011, 0.053022902458906174, 0.07499755918979645, 0.01624254882335663, 0.0, 0.0], [0.21679525077342987, 0.03523939475417137, 0.014480549842119217, 0.03231682628393173, 0.021502694115042686, 0.019766874611377716, 0.0077169653959572315, 0.03142576664686203, 0.011421247385442257, 0.03985081985592842, 0.005697540007531643, 0.013826766982674599, 0.011217714287340641, 0.011028856970369816, 0.014342345297336578, 0.01669156923890114, 0.013800655491650105, 0.009054165333509445, 0.01655159331858158, 0.045164477080106735, 0.01674337312579155, 0.04049500450491905, 0.046006571501493454, 0.03918023034930229, 0.02077178657054901, 0.042418383061885834, 0.029444094747304916, 0.016546525061130524, 0.043390486389398575, 0.018028806895017624, 0.017493005841970444, 0.03195447847247124, 0.02317999117076397, 0.026455247774720192, 0.0], [0.12406569719314575, 0.055755212903022766, 0.025793135166168213, 0.007745690643787384, 0.019214728847146034, 0.011872400529682636, 0.009303737431764603, 0.01584259606897831, 0.012728431262075901, 0.012888262048363686, 0.013962862081825733, 0.016627270728349686, 0.015507086180150509, 0.013195216655731201, 0.017325103282928467, 0.021147968247532845, 0.017335498705506325, 0.015824295580387115, 0.02479439042508602, 0.01190302986651659, 0.03651023656129837, 0.023874761536717415, 0.04022136330604553, 0.06286032497882843, 0.10149351507425308, 0.053322598338127136, 0.021689606830477715, 0.0182443019002676, 0.008406988345086575, 0.023202313110232353, 0.0496041513979435, 0.020869329571723938, 0.016017988324165344, 0.011101940646767616, 0.04974794760346413]], [[1.0, 0.0, 0.0, 0.0, 0.0, 0.0, 0.0, 0.0, 0.0, 0.0, 0.0, 0.0, 0.0, 0.0, 0.0, 0.0, 0.0, 0.0, 0.0, 0.0, 0.0, 0.0, 0.0, 0.0, 0.0, 0.0, 0.0, 0.0, 0.0, 0.0, 0.0, 0.0, 0.0, 0.0, 0.0], [0.10777997225522995, 0.8922200202941895, 0.0, 0.0, 0.0, 0.0, 0.0, 0.0, 0.0, 0.0, 0.0, 0.0, 0.0, 0.0, 0.0, 0.0, 0.0, 0.0, 0.0, 0.0, 0.0, 0.0, 0.0, 0.0, 0.0, 0.0, 0.0, 0.0, 0.0, 0.0, 0.0, 0.0, 0.0, 0.0, 0.0], [0.011847438290715218, 0.553614616394043, 0.4345378875732422, 0.0, 0.0, 0.0, 0.0, 0.0, 0.0, 0.0, 0.0, 0.0, 0.0, 0.0, 0.0, 0.0, 0.0, 0.0, 0.0, 0.0, 0.0, 0.0, 0.0, 0.0, 0.0, 0.0, 0.0, 0.0, 0.0, 0.0, 0.0, 0.0, 0.0, 0.0, 0.0], [0.06322270631790161, 0.02171914465725422, 0.09427294880151749, 0.8207851648330688, 0.0, 0.0, 0.0, 0.0, 0.0, 0.0, 0.0, 0.0, 0.0, 0.0, 0.0, 0.0, 0.0, 0.0, 0.0, 0.0, 0.0, 0.0, 0.0, 0.0, 0.0, 0.0, 0.0, 0.0, 0.0, 0.0, 0.0, 0.0, 0.0, 0.0, 0.0], [0.005095749162137508, 0.0005348752602003515, 0.0010105493711307645, 0.0046575614251196384, 0.9887012243270874, 0.0, 0.0, 0.0, 0.0, 0.0, 0.0, 0.0, 0.0, 0.0, 0.0, 0.0, 0.0, 0.0, 0.0, 0.0, 0.0, 0.0, 0.0, 0.0, 0.0, 0.0, 0.0, 0.0, 0.0, 0.0, 0.0, 0.0, 0.0, 0.0, 0.0], [0.005585949867963791, 0.0003024000907316804, 0.0007955090841278434, 0.0006780324038118124, 0.028760116547346115, 0.9638779759407043, 0.0, 0.0, 0.0, 0.0, 0.0, 0.0, 0.0, 0.0, 0.0, 0.0, 0.0, 0.0, 0.0, 0.0, 0.0, 0.0, 0.0, 0.0, 0.0, 0.0, 0.0, 0.0, 0.0, 0.0, 0.0, 0.0, 0.0, 0.0, 0.0], [0.0002665721985977143, 0.0001539612130727619, 4.344199624028988e-05, 0.00031633779872208834, 0.007582360878586769, 0.008635668084025383, 0.9830016493797302, 0.0, 0.0, 0.0, 0.0, 0.0, 0.0, 0.0, 0.0, 0.0, 0.0, 0.0, 0.0, 0.0, 0.0, 0.0, 0.0, 0.0, 0.0, 0.0, 0.0, 0.0, 0.0, 0.0, 0.0, 0.0, 0.0, 0.0, 0.0], [0.0006940611056052148, 4.8331687139580026e-05, 4.511341467150487e-05, 2.3520773538621143e-05, 0.002237762790173292, 0.0012080520391464233, 0.009321358986198902, 0.9864218235015869, 0.0, 0.0, 0.0, 0.0, 0.0, 0.0, 0.0, 0.0, 0.0, 0.0, 0.0, 0.0, 0.0, 0.0, 0.0, 0.0, 0.0, 0.0, 0.0, 0.0, 0.0, 0.0, 0.0, 0.0, 0.0, 0.0, 0.0], [0.04771991819143295, 0.006346917245537043, 0.00550761679187417, 0.012776731513440609, 0.012552564032375813, 0.012200516648590565, 0.007760595064610243, 0.017114857211709023, 0.8780202269554138, 0.0, 0.0, 0.0, 0.0, 0.0, 0.0, 0.0, 0.0, 0.0, 0.0, 0.0, 0.0, 0.0, 0.0, 0.0, 0.0, 0.0, 0.0, 0.0, 0.0, 0.0, 0.0, 0.0, 0.0, 0.0, 0.0], [9.403753210790455e-05, 7.299092317225586e-07, 1.2948485164088197e-06, 1.0040570259661763e-06, 1.5192367754934821e-05, 3.609514169511385e-05, 3.1514315196545795e-05, 0.0010808227816596627, 4.236837776261382e-05, 0.9986969828605652, 0.0, 0.0, 0.0, 0.0, 0.0, 0.0, 0.0, 0.0, 0.0, 0.0, 0.0, 0.0, 0.0, 0.0, 0.0, 0.0, 0.0, 0.0, 0.0, 0.0, 0.0, 0.0, 0.0, 0.0, 0.0], [0.0002984418242704123, 1.022516607918078e-05, 2.077383396681398e-05, 1.0716731594584417e-05, 7.45379802538082e-05, 0.0001658054388826713, 0.0013668594183400273, 0.0025834788102656603, 5.0240501877851784e-05, 0.3243961036205292, 0.6710227727890015, 0.0, 0.0, 0.0, 0.0, 0.0, 0.0, 0.0, 0.0, 0.0, 0.0, 0.0, 0.0, 0.0, 0.0, 0.0, 0.0, 0.0, 0.0, 0.0, 0.0, 0.0, 0.0, 0.0, 0.0], [0.009233676828444004, 0.0007820434402674437, 0.0006810437189415097, 0.0018207868561148643, 0.00438339076936245, 0.017509130761027336, 0.0033242455683648586, 0.017607448622584343, 0.0809968113899231, 0.10943048447370529, 0.014291888102889061, 0.7399390339851379, 0.0, 0.0, 0.0, 0.0, 0.0, 0.0, 0.0, 0.0, 0.0, 0.0, 0.0, 0.0, 0.0, 0.0, 0.0, 0.0, 0.0, 0.0, 0.0, 0.0, 0.0, 0.0, 0.0], [0.00023930301540531218, 3.3237906791327987e-06, 2.2832809918327257e-05, 1.0244765690003987e-05, 1.0253601431031711e-05, 4.4964177504880354e-05, 2.3576638341182843e-05, 6.216635665623471e-05, 0.0003292965702712536, 0.008749580942094326, 0.0018788743764162064, 0.0014183481689542532, 0.9872071146965027, 0.0, 0.0, 0.0, 0.0, 0.0, 0.0, 0.0, 0.0, 0.0, 0.0, 0.0, 0.0, 0.0, 0.0, 0.0, 0.0, 0.0, 0.0, 0.0, 0.0, 0.0, 0.0], [0.012295367196202278, 0.0005298631731420755, 0.00035605128505267203, 0.000600671861320734, 0.0005327525432221591, 0.000534971070010215, 0.00034733518259599805, 0.000867118185851723, 0.0343230664730072, 0.013273660093545914, 0.007531194016337395, 0.05941794067621231, 0.09377509355545044, 0.7756149172782898, 0.0, 0.0, 0.0, 0.0, 0.0, 0.0, 0.0, 0.0, 0.0, 0.0, 0.0, 0.0, 0.0, 0.0, 0.0, 0.0, 0.0, 0.0, 0.0, 0.0, 0.0], [7.850903057260439e-05, 1.1863347936014179e-05, 5.970536221866496e-06, 4.359464583103545e-06, 6.933040822332259e-06, 5.5673201131867245e-05, 8.76202011568239e-06, 2.2130047000246122e-05, 0.0002223831688752398, 0.0002802508242893964, 0.0008127281325869262, 0.001567728933878243, 0.00018956410349346697, 0.005879407282918692, 0.9908537864685059, 0.0, 0.0, 0.0, 0.0, 0.0, 0.0, 0.0, 0.0, 0.0, 0.0, 0.0, 0.0, 0.0, 0.0, 0.0, 0.0, 0.0, 0.0, 0.0, 0.0], [9.474972466705367e-05, 8.603451533417683e-06, 3.7448555758601287e-06, 1.4634140654834482e-07, 2.701730863918783e-06, 1.1417369023547508e-05, 8.620813787274528e-06, 9.928095096256584e-05, 3.1195077099255286e-06, 0.0002262080815853551, 0.0005323350778780878, 2.9804856239934452e-05, 0.0013675603549927473, 5.107982724439353e-05, 0.009570812806487083, 0.9879898428916931, 0.0, 0.0, 0.0, 0.0, 0.0, 0.0, 0.0, 0.0, 0.0, 0.0, 0.0, 0.0, 0.0, 0.0, 0.0, 0.0, 0.0, 0.0, 0.0], [0.00394470477476716, 0.00013029125693719834, 9.947719081537798e-05, 0.00019776365661527961, 0.00042658430174924433, 0.0014889822341501713, 0.0002834683400578797, 0.0015356711810454726, 0.00481010228395462, 0.005567731335759163, 0.0010473566362634301, 0.040826525539159775, 0.009189018048346043, 0.09278515726327896, 0.015852969139814377, 0.02794085443019867, 0.7938733696937561, 0.0, 0.0, 0.0, 0.0, 0.0, 0.0, 0.0, 0.0, 0.0, 0.0, 0.0, 0.0, 0.0, 0.0, 0.0, 0.0, 0.0, 0.0], [0.00021723605459555984, 2.3531181795988232e-05, 7.806306712154765e-06, 4.732971774501493e-06, 1.5671147366447258e-06, 8.667418114782777e-06, 1.2646234608837403e-05, 6.129276880528778e-05, 0.0001886947575258091, 0.0005901316180825233, 0.00042056679376401007, 0.0009746510186232626, 0.0004217762325424701, 0.004066701978445053, 0.0014422371750697494, 0.011960010975599289, 0.022402001544833183, 0.9571957588195801, 0.0, 0.0, 0.0, 0.0, 0.0, 0.0, 0.0, 0.0, 0.0, 0.0, 0.0, 0.0, 0.0, 0.0, 0.0, 0.0, 0.0], [0.000736043497454375, 3.0168125704221893e-06, 1.3554699762607925e-06, 1.4014611906532082e-06, 3.3876993256853893e-05, 3.752277189050801e-05, 1.0748661225079559e-05, 0.00043026905041188, 1.6196701835724525e-05, 0.0006748249870724976, 0.0005265902727842331, 0.00012409142800606787, 4.7107030695769936e-05, 0.00024138069420587271, 0.0006886533810757101, 0.0003870197106152773, 0.0021441488061100245, 0.0017651607049629092, 0.992130696773529, 0.0, 0.0, 0.0, 0.0, 0.0, 0.0, 0.0, 0.0, 0.0, 0.0, 0.0, 0.0, 0.0, 0.0, 0.0, 0.0], [6.529783604491968e-06, 4.0131435952162064e-09, 4.275882314885848e-09, 9.052336658044169e-09, 5.135141805112653e-07, 3.7317520309443353e-06, 1.482418383602635e-07, 4.655104476114502e-06, 1.6630433918862764e-08, 3.0296830573206535e-06, 3.191971700289287e-05, 1.4017439298186218e-07, 4.954933388034988e-07, 2.3671049120821408e-07, 7.952893952278828e-07, 0.00018607273523230106, 2.446670578137855e-06, 1.1982286196143832e-05, 0.0005082351271994412, 0.9992390871047974, 0.0, 0.0, 0.0, 0.0, 0.0, 0.0, 0.0, 0.0, 0.0, 0.0, 0.0, 0.0, 0.0, 0.0, 0.0], [0.00941789522767067, 0.0001736239792080596, 0.00019593248725868762, 0.00010542462405283004, 0.0001210008340422064, 0.00013750330253969878, 0.00020822322403546423, 0.00026208802592009306, 0.000980383949354291, 0.00017425217083655298, 0.0013313913950696588, 0.0032773097045719624, 0.00484061986207962, 0.012378804385662079, 0.001825895393267274, 0.024282069876790047, 0.054799724370241165, 0.07428488880395889, 0.07759275287389755, 0.10845353454351425, 0.6251567006111145, 0.0, 0.0, 0.0, 0.0, 0.0, 0.0, 0.0, 0.0, 0.0, 0.0, 0.0, 0.0, 0.0, 0.0], [0.00017886343994177878, 2.9717737106693676e-06, 1.2879253290520865e-06, 1.6619756024738308e-06, 3.1533973015029915e-06, 7.608568012074102e-06, 4.4805756260757335e-07, 4.628850092558423e-06, 4.462096967472462e-06, 4.64084223494865e-06, 4.678128334489884e-06, 2.2255211661104113e-05, 0.0006885036127641797, 5.880861135665327e-05, 5.5113021517172456e-05, 0.0013147712452337146, 0.0004210430197417736, 0.0005279305041767657, 0.00030591682298108935, 0.0011363045778125525, 0.004935148172080517, 0.9903199076652527, 0.0, 0.0, 0.0, 0.0, 0.0, 0.0, 0.0, 0.0, 0.0, 0.0, 0.0, 0.0, 0.0], [0.000900080893188715, 3.460901280050166e-05, 6.0000811572535895e-06, 1.331792645942187e-06, 8.382389751204755e-06, 7.950180588522926e-06, 8.3529477024058e-07, 5.0174403440905735e-06, 1.108558353735134e-05, 1.550620982015971e-05, 2.2449667085311376e-05, 3.239464422222227e-05, 7.153354090405628e-05, 0.0001110613884520717, 6.552025297423825e-06, 3.5578490496845916e-05, 0.0004608426825143397, 0.0006020997534506023, 0.007735587656497955, 0.004731385037302971, 0.012920075096189976, 0.016999119892716408, 0.9552805423736572, 0.0, 0.0, 0.0, 0.0, 0.0, 0.0, 0.0, 0.0, 0.0, 0.0, 0.0, 0.0], [8.094529039226472e-05, 5.419524313765578e-05, 2.1191044652368873e-05, 8.660325079290487e-07, 5.241386588750174e-06, 2.811391141221975e-06, 9.647654906075331e-07, 4.259616162016755e-06, 6.819966074544936e-06, 2.6370153136667795e-06, 1.0387312613602262e-05, 3.117776577710174e-05, 2.574702193669509e-05, 8.829349826555699e-05, 0.00010530036524869502, 0.0003744478744920343, 0.0005833794130012393, 0.0009019328281283379, 0.0004312016535550356, 0.004991122055798769, 0.0035159168764948845, 0.015127425082027912, 0.018385017290711403, 0.9552488923072815, 0.0, 0.0, 0.0, 0.0, 0.0, 0.0, 0.0, 0.0, 0.0, 0.0, 0.0], [0.0001992669713217765, 5.897858272874146e-07, 4.0930638078862103e-07, 5.28363045759761e-07, 4.043712351631257e-07, 6.811433763687091e-07, 2.501953701994353e-07, 3.1909752351566567e-07, 5.017991043132497e-06, 3.0599392175645335e-06, 4.776838977704756e-06, 8.106210771074984e-06, 1.7870957890409045e-05, 5.904921272303909e-05, 7.019456916168565e-06, 5.101932038087398e-05, 0.0001541965757496655, 0.0001555772323627025, 0.000463094242149964, 0.0001873668807093054, 0.0029354386497288942, 0.006998662371188402, 0.004895046353340149, 0.010302463546395302, 0.9735497236251831, 0.0, 0.0, 0.0, 0.0, 0.0, 0.0, 0.0, 0.0, 0.0, 0.0], [4.041910506202839e-05, 7.668171875252483e-09, 6.183992695696361e-08, 4.109978135602432e-08, 3.161345034641272e-07, 1.00040480788266e-07, 6.65852937231648e-08, 4.78027175176976e-07, 4.035175749095288e-08, 6.7532610046328045e-06, 8.574316012754934e-08, 1.051429165954687e-07, 3.2702887438063044e-06, 4.896559744338447e-07, 1.2450316262402339e-06, 9.069843144970946e-06, 2.0693225906143198e-06, 8.541718671040144e-06, 4.513624662649818e-05, 8.528203034074977e-05, 8.476252696709707e-05, 0.0010267917532473803, 0.001334776752628386, 0.0002960072015412152, 0.005626792553812265, 0.9914274215698242, 0.0, 0.0, 0.0, 0.0, 0.0, 0.0, 0.0, 0.0, 0.0], [0.00037474645068868995, 1.2430066931301553e-07, 2.522922670777916e-07, 3.052439865314227e-07, 4.772519787366036e-06, 6.075452461118402e-07, 8.501727961629513e-07, 1.1030845598725136e-05, 8.099026871377646e-08, 9.65134745456453e-07, 7.193357305368409e-07, 3.233946586078673e-07, 1.7605441371415509e-06, 4.446816888048488e-07, 3.2987500730996544e-07, 2.43002923525637e-05, 3.6642779832618544e-06, 3.0616449748777086e-06, 2.6271376555087045e-05, 0.00034267239971086383, 2.0788118490600027e-05, 0.00013409694656729698, 0.0003047238278668374, 9.80360564426519e-05, 0.0004919707425870001, 0.004237078595906496, 0.9939159750938416, 0.0, 0.0, 0.0, 0.0, 0.0, 0.0, 0.0, 0.0], [0.0002319763007108122, 7.363621534750564e-07, 1.0658058045009966e-06, 4.7498201638518367e-07, 2.1877863218833227e-06, 2.0741731532325502e-06, 1.38421185624793e-07, 2.510637841623975e-06, 1.9716063093255798e-07, 6.672018571407534e-06, 8.99183589808672e-07, 6.36222694083699e-07, 6.544808002217906e-07, 7.717981134192087e-07, 4.80187907214713e-07, 1.1122285286546685e-05, 5.561946181842359e-06, 3.862760877382243e-06, 6.753734487574548e-05, 0.00028979676426388323, 4.372486364445649e-05, 0.00015209009870886803, 0.0009337725350633264, 0.0001815947180148214, 8.423341932939366e-05, 0.00993387307971716, 0.00872319471091032, 0.9793182611465454, 0.0, 0.0, 0.0, 0.0, 0.0, 0.0, 0.0], [0.00015704880934208632, 3.1231971320266894e-07, 2.9319500072233495e-07, 3.137171233902336e-07, 2.19609796658915e-06, 1.4164395452098688e-06, 1.1236420505156275e-06, 1.3091781738694408e-06, 5.921523893448466e-08, 7.978132998687215e-07, 2.803681354635046e-06, 1.9767028902606398e-07, 3.9940209717315156e-07, 2.3049051378620788e-07, 2.2642520889348816e-06, 1.6729471099097282e-05, 1.666769094299525e-06, 2.8725510219373973e-06, 2.4947055862867273e-05, 0.00025532778818160295, 4.849698598263785e-06, 4.708055348601192e-05, 5.32566882611718e-05, 4.240352427586913e-05, 0.00020874949404969811, 0.0020438111387193203, 0.08346742391586304, 0.0036730000283569098, 0.9099871516227722, 0.0, 0.0, 0.0, 0.0, 0.0, 0.0], [0.0010030735284090042, 7.605885002703872e-06, 5.478899311128771e-06, 4.704078037320869e-06, 1.081820300896652e-06, 7.246807740557415e-07, 6.057198334019631e-07, 1.5847801932977745e-06, 3.183092121616937e-05, 1.8444866327627096e-06, 1.3723738447879441e-06, 6.841012691438664e-06, 4.99609814141877e-06, 0.0001422040950274095, 2.1025882688263664e-06, 2.0461060557863675e-05, 6.875479448353872e-05, 8.339426858583465e-05, 7.060826465021819e-05, 0.00022269987675826997, 0.0013453480787575245, 0.0011953056091442704, 0.0007637679809704423, 0.003412768244743347, 0.009595153853297234, 0.008245933800935745, 0.004028416704386473, 0.015673421323299408, 0.03710905462503433, 0.9169487953186035, 0.0, 0.0, 0.0, 0.0, 0.0], [0.00014598091365769506, 1.3442395641050098e-07, 3.0679672136102454e-07, 1.2700826346190297e-07, 9.539651557588513e-08, 4.421364607765099e-08, 7.270972712802859e-09, 2.163062333693233e-07, 1.7861738399460592e-07, 1.1440990022038022e-07, 4.546685872242051e-08, 1.140670420340939e-07, 1.7846329569692898e-07, 8.568688940613356e-07, 1.0497400637632381e-07, 1.247494537892635e-06, 1.1682682270475198e-06, 6.484977461695962e-07, 9.923028301273007e-06, 2.663564919203054e-05, 2.1480929717654362e-05, 7.192338671302423e-05, 0.00015873317897785455, 0.00014563243894372135, 0.002426163526251912, 0.0015144929056987166, 0.0007063158554956317, 0.0022442752961069345, 0.00456681102514267, 0.009832317940890789, 0.9781237244606018, 0.0, 0.0, 0.0, 0.0], [1.0698721780499909e-05, 5.1284089863656845e-08, 7.38247223353028e-08, 9.797475541972744e-08, 4.944854481436778e-07, 6.269693813010235e-07, 2.625726551741536e-07, 7.361911116277042e-07, 2.510111016817973e-07, 2.1764851680927677e-06, 5.363730792851129e-07, 8.606905339547666e-07, 2.1515683101824834e-07, 1.0358767212892417e-06, 2.4894990247048554e-07, 1.348099067399744e-05, 8.521080417267513e-06, 5.148467153048841e-06, 4.645076842280105e-06, 1.68325914273737e-05, 5.864615741302259e-05, 3.652437953860499e-05, 0.00016485663945786655, 1.1944931429752614e-05, 0.0005173992831259966, 0.002427901141345501, 0.0003477343707345426, 0.0015963991172611713, 0.009022912010550499, 0.013163676485419273, 0.06333833932876587, 0.9092466831207275, 0.0, 0.0, 0.0], [0.0012287287972867489, 8.407610039284918e-06, 8.363968845515046e-06, 8.199011972465087e-06, 3.972159447585e-06, 3.987261152360588e-06, 1.5942542859193054e-06, 4.764977802551584e-06, 4.461927346710581e-06, 8.699233148945495e-06, 3.4822912766685477e-06, 4.087234628968872e-06, 4.3831901166413445e-06, 1.2878648703917861e-05, 2.7649919047689764e-06, 1.1550821909622755e-05, 2.850840610335581e-05, 1.9726190657820553e-05, 8.007948781596497e-05, 0.0001638156536500901, 0.0002766091492958367, 0.000482995412312448, 0.0005902999546378851, 0.0011750637786462903, 0.0034667160362005234, 0.005802720319479704, 0.01190753374248743, 0.016952933743596077, 0.02846648171544075, 0.06137571483850479, 0.11517621576786041, 0.2017771452665329, 0.5509371161460876, 0.0, 0.0], [3.782525163842365e-05, 6.459637802436191e-08, 1.9273652895890336e-08, 7.975796734172036e-08, 6.700316816932173e-07, 1.2464310827908776e-07, 3.072165100093116e-08, 3.367148906363582e-07, 9.95400384340428e-08, 4.5415413296723273e-07, 3.406016446660942e-08, 1.7256151352285087e-07, 3.359024844939995e-07, 3.2563306717747764e-07, 1.1636583252538912e-08, 3.204212362106773e-06, 1.253353616448294e-06, 1.7662987374933437e-06, 1.1125992386951111e-05, 2.041031257249415e-05, 8.103414074867032e-06, 1.2881070688308682e-05, 0.00014193191600497812, 1.141113716585096e-05, 0.00010671366908354685, 0.0001095113402698189, 0.00179271399974823, 0.0015404940349981189, 0.0012465257896110415, 0.0015975915594026446, 0.000892707088496536, 0.009557012468576431, 0.009279932826757431, 0.9736242294311523, 0.0], [0.0003539695171639323, 2.6440293368068524e-06, 1.7576116988493595e-06, 1.2348087921054685e-06, 5.9497019719856326e-06, 1.3091840855850023e-06, 3.362102347637119e-07, 2.4850476165738655e-07, 6.705450914523681e-07, 6.699529109255309e-08, 6.061910085009004e-07, 4.619048183940322e-07, 2.357329321966972e-06, 1.4622187336499337e-06, 2.97635722290579e-07, 1.6005770930860308e-06, 2.460903488099575e-06, 1.9317160422360757e-06, 3.200146966264583e-05, 2.4651984858792275e-05, 3.429637217777781e-05, 0.00016550853615626693, 7.88396573625505e-05, 0.00018387180170975626, 0.001165156252682209, 0.0001225534942932427, 0.0011725203366950154, 0.0004984774859622121, 0.003501482540741563, 0.003400749759748578, 0.011839523911476135, 0.005179096944630146, 0.01671387255191803, 0.029127702116966248, 0.9263802766799927]], [[1.0, 0.0, 0.0, 0.0, 0.0, 0.0, 0.0, 0.0, 0.0, 0.0, 0.0, 0.0, 0.0, 0.0, 0.0, 0.0, 0.0, 0.0, 0.0, 0.0, 0.0, 0.0, 0.0, 0.0, 0.0, 0.0, 0.0, 0.0, 0.0, 0.0, 0.0, 0.0, 0.0, 0.0, 0.0], [0.9238102436065674, 0.07618981599807739, 0.0, 0.0, 0.0, 0.0, 0.0, 0.0, 0.0, 0.0, 0.0, 0.0, 0.0, 0.0, 0.0, 0.0, 0.0, 0.0, 0.0, 0.0, 0.0, 0.0, 0.0, 0.0, 0.0, 0.0, 0.0, 0.0, 0.0, 0.0, 0.0, 0.0, 0.0, 0.0, 0.0], [0.3758925497531891, 0.10050603002309799, 0.5236014127731323, 0.0, 0.0, 0.0, 0.0, 0.0, 0.0, 0.0, 0.0, 0.0, 0.0, 0.0, 0.0, 0.0, 0.0, 0.0, 0.0, 0.0, 0.0, 0.0, 0.0, 0.0, 0.0, 0.0, 0.0, 0.0, 0.0, 0.0, 0.0, 0.0, 0.0, 0.0, 0.0], [0.41213732957839966, 0.08231593668460846, 0.18084751069545746, 0.3246992230415344, 0.0, 0.0, 0.0, 0.0, 0.0, 0.0, 0.0, 0.0, 0.0, 0.0, 0.0, 0.0, 0.0, 0.0, 0.0, 0.0, 0.0, 0.0, 0.0, 0.0, 0.0, 0.0, 0.0, 0.0, 0.0, 0.0, 0.0, 0.0, 0.0, 0.0, 0.0], [0.1405227929353714, 0.0058123162016272545, 0.028276359662413597, 0.05733032524585724, 0.768058180809021, 0.0, 0.0, 0.0, 0.0, 0.0, 0.0, 0.0, 0.0, 0.0, 0.0, 0.0, 0.0, 0.0, 0.0, 0.0, 0.0, 0.0, 0.0, 0.0, 0.0, 0.0, 0.0, 0.0, 0.0, 0.0, 0.0, 0.0, 0.0, 0.0, 0.0], [0.01923069916665554, 0.0014746837550774217, 0.0016810798551887274, 0.00490583898499608, 0.025906618684530258, 0.9468010663986206, 0.0, 0.0, 0.0, 0.0, 0.0, 0.0, 0.0, 0.0, 0.0, 0.0, 0.0, 0.0, 0.0, 0.0, 0.0, 0.0, 0.0, 0.0, 0.0, 0.0, 0.0, 0.0, 0.0, 0.0, 0.0, 0.0, 0.0, 0.0, 0.0], [0.006040866021066904, 0.004658218007534742, 0.012865052558481693, 0.008953908458352089, 0.0702168419957161, 0.12025350332260132, 0.7770116329193115, 0.0, 0.0, 0.0, 0.0, 0.0, 0.0, 0.0, 0.0, 0.0, 0.0, 0.0, 0.0, 0.0, 0.0, 0.0, 0.0, 0.0, 0.0, 0.0, 0.0, 0.0, 0.0, 0.0, 0.0, 0.0, 0.0, 0.0, 0.0], [0.016248278319835663, 0.0039293840527534485, 0.012836669571697712, 0.00509962672367692, 0.017354194074869156, 0.015599319711327553, 0.13602757453918457, 0.7929049134254456, 0.0, 0.0, 0.0, 0.0, 0.0, 0.0, 0.0, 0.0, 0.0, 0.0, 0.0, 0.0, 0.0, 0.0, 0.0, 0.0, 0.0, 0.0, 0.0, 0.0, 0.0, 0.0, 0.0, 0.0, 0.0, 0.0, 0.0], [0.13423295319080353, 0.07014793902635574, 0.03862926736474037, 0.03592688590288162, 0.05720488727092743, 0.06419355422258377, 0.03908979892730713, 0.21457326412200928, 0.34600144624710083, 0.0, 0.0, 0.0, 0.0, 0.0, 0.0, 0.0, 0.0, 0.0, 0.0, 0.0, 0.0, 0.0, 0.0, 0.0, 0.0, 0.0, 0.0, 0.0, 0.0, 0.0, 0.0, 0.0, 0.0, 0.0, 0.0], [0.003595882561057806, 0.0003849509230349213, 0.0004921664949506521, 0.0008088783361017704, 0.0025900998152792454, 0.002407651161774993, 0.0001713184465188533, 0.011153029277920723, 0.0021147842053323984, 0.9762810468673706, 0.0, 0.0, 0.0, 0.0, 0.0, 0.0, 0.0, 0.0, 0.0, 0.0, 0.0, 0.0, 0.0, 0.0, 0.0, 0.0, 0.0, 0.0, 0.0, 0.0, 0.0, 0.0, 0.0, 0.0, 0.0], [0.00022834476840216666, 4.6662560635013506e-05, 8.206452912418172e-05, 7.730658398941159e-05, 0.00012034209066769108, 0.004319250117987394, 0.003844222519546747, 0.0011965002631768584, 0.00016446944209747016, 0.8530563116073608, 0.13686451315879822, 0.0, 0.0, 0.0, 0.0, 0.0, 0.0, 0.0, 0.0, 0.0, 0.0, 0.0, 0.0, 0.0, 0.0, 0.0, 0.0, 0.0, 0.0, 0.0, 0.0, 0.0, 0.0, 0.0, 0.0], [0.06578908115625381, 0.01929076761007309, 0.02049270272254944, 0.0219567958265543, 0.026686694473028183, 0.08618329465389252, 0.031040845438838005, 0.16103008389472961, 0.03016255982220173, 0.21323668956756592, 0.0755448192358017, 0.24858558177947998, 0.0, 0.0, 0.0, 0.0, 0.0, 0.0, 0.0, 0.0, 0.0, 0.0, 0.0, 0.0, 0.0, 0.0, 0.0, 0.0, 0.0, 0.0, 0.0, 0.0, 0.0, 0.0, 0.0], [0.009123357012867928, 0.0033993213437497616, 0.016818279400467873, 0.004648817237466574, 0.014602276496589184, 0.05833255872130394, 0.07909007370471954, 0.017663627862930298, 0.016087297350168228, 0.1505354940891266, 0.33433887362480164, 0.05438901484012604, 0.24097101390361786, 0.0, 0.0, 0.0, 0.0, 0.0, 0.0, 0.0, 0.0, 0.0, 0.0, 0.0, 0.0, 0.0, 0.0, 0.0, 0.0, 0.0, 0.0, 0.0, 0.0, 0.0, 0.0], [0.042534321546554565, 0.016550598666071892, 0.0078134061768651, 0.006833468098193407, 0.009650958701968193, 0.009173313155770302, 0.005910307168960571, 0.030093057081103325, 0.05324171110987663, 0.03575889766216278, 0.11968664079904556, 0.07133757323026657, 0.29692232608795166, 0.2944934070110321, 0.0, 0.0, 0.0, 0.0, 0.0, 0.0, 0.0, 0.0, 0.0, 0.0, 0.0, 0.0, 0.0, 0.0, 0.0, 0.0, 0.0, 0.0, 0.0, 0.0, 0.0], [0.010158048942685127, 0.004377421922981739, 0.006503194570541382, 0.0035466894041746855, 0.006157062482088804, 0.005149818025529385, 0.004158249124884605, 0.014994037337601185, 0.01772412285208702, 0.008609657175838947, 0.013557271100580692, 0.02768983505666256, 0.027776170521974564, 0.08518612384796143, 0.7644123435020447, 0.0, 0.0, 0.0, 0.0, 0.0, 0.0, 0.0, 0.0, 0.0, 0.0, 0.0, 0.0, 0.0, 0.0, 0.0, 0.0, 0.0, 0.0, 0.0, 0.0], [0.000576093269046396, 3.7584810343105346e-05, 3.1005649361759424e-05, 2.8090829800930806e-05, 0.0001175720535684377, 0.0010626472067087889, 0.0008489766041748226, 0.002364427549764514, 0.0003171177813783288, 0.0005040704272687435, 0.0005438950029201806, 0.0009964635828509927, 0.004787201061844826, 0.0016582129755988717, 0.021181119605898857, 0.9649454951286316, 0.0, 0.0, 0.0, 0.0, 0.0, 0.0, 0.0, 0.0, 0.0, 0.0, 0.0, 0.0, 0.0, 0.0, 0.0, 0.0, 0.0, 0.0, 0.0], [0.05710110440850258, 0.012982730753719807, 0.012463335879147053, 0.012371193617582321, 0.013064752332866192, 0.03530244901776314, 0.013208792544901371, 0.06362830102443695, 0.010588889010250568, 0.06113201007246971, 0.027357162907719612, 0.08200796693563461, 0.03997459262609482, 0.04302835464477539, 0.06893415749073029, 0.06733895093202591, 0.37951529026031494, 0.0, 0.0, 0.0, 0.0, 0.0, 0.0, 0.0, 0.0, 0.0, 0.0, 0.0, 0.0, 0.0, 0.0, 0.0, 0.0, 0.0, 0.0], [0.05038180947303772, 0.010253225453197956, 0.009017386473715305, 0.007853318005800247, 0.008382096886634827, 0.01603051833808422, 0.007579741068184376, 0.016568131744861603, 0.00955805741250515, 0.020098401233553886, 0.02802765741944313, 0.031728386878967285, 0.02179393172264099, 0.039423249661922455, 0.11988700926303864, 0.04783085361123085, 0.14773671329021454, 0.4078495502471924, 0.0, 0.0, 0.0, 0.0, 0.0, 0.0, 0.0, 0.0, 0.0, 0.0, 0.0, 0.0, 0.0, 0.0, 0.0, 0.0, 0.0], [0.009583760052919388, 0.0005122179281897843, 0.000610690622124821, 0.0009717847569845617, 0.002261095680296421, 0.004041241481900215, 0.00033975919359363616, 0.002301472704857588, 0.0014669753145426512, 0.004360866732895374, 0.010039533488452435, 0.0038837799802422523, 0.001906530000269413, 0.004968353547155857, 0.0035998683888465166, 0.0027956480626016855, 0.015628768131136894, 0.014497008174657822, 0.9162304997444153, 0.0, 0.0, 0.0, 0.0, 0.0, 0.0, 0.0, 0.0, 0.0, 0.0, 0.0, 0.0, 0.0, 0.0, 0.0, 0.0], [0.03377574309706688, 0.0008472921908833086, 0.0009361549164168537, 0.0006967565859667957, 0.004600137937813997, 0.003257593372836709, 0.0004218355752527714, 0.0075567034073174, 0.0010570583399385214, 0.003643791889771819, 0.00017823804228100926, 0.002045620232820511, 0.0014812092995271087, 0.002918045734986663, 0.005684823263436556, 0.06616657972335815, 0.0068207052536308765, 0.0059661236591637135, 0.02230621688067913, 0.8296393752098083, 0.0, 0.0, 0.0, 0.0, 0.0, 0.0, 0.0, 0.0, 0.0, 0.0, 0.0, 0.0, 0.0, 0.0, 0.0], [0.014338124543428421, 0.004506281577050686, 0.002293481957167387, 0.004502632189542055, 0.006348530296236277, 0.006440696772187948, 0.0030759198125451803, 0.0034293769858777523, 0.008825033903121948, 0.013563872314989567, 0.008806224912405014, 0.015333065763115883, 0.01093036774545908, 0.03256242349743843, 0.041650108993053436, 0.029358457773923874, 0.06823205947875977, 0.10101240873336792, 0.12824420630931854, 0.08141811192035675, 0.4151286780834198, 0.0, 0.0, 0.0, 0.0, 0.0, 0.0, 0.0, 0.0, 0.0, 0.0, 0.0, 0.0, 0.0, 0.0], [0.012516951188445091, 0.0037073816638439894, 0.0011323621729388833, 0.0020440148655325174, 0.002103799721226096, 0.0007217552047222853, 0.00035877132904715836, 0.0010654565412551165, 0.0033418643288314342, 0.0035347703378647566, 0.0018008280312642455, 0.0051313829608261585, 0.005956835579127073, 0.011681446805596352, 0.023353103548288345, 0.024626344442367554, 0.023082571104168892, 0.02405395545065403, 0.04505405202507973, 0.04447481036186218, 0.09848435968160629, 0.6617732048034668, 0.0, 0.0, 0.0, 0.0, 0.0, 0.0, 0.0, 0.0, 0.0, 0.0, 0.0, 0.0, 0.0], [0.023378070443868637, 0.00297009339556098, 0.0022721646819263697, 0.003121254500001669, 0.010448776185512543, 0.0027957074344158173, 0.0009500710293650627, 0.006640285719186068, 0.002509305952116847, 0.006215901114046574, 0.0018756608478724957, 0.004366474691778421, 0.005894932430237532, 0.007904250174760818, 0.011842502281069756, 0.011780322529375553, 0.01693400926887989, 0.01560672651976347, 0.036991994827985764, 0.05676273629069328, 0.0388517752289772, 0.30106884241104126, 0.42881807684898376, 0.0, 0.0, 0.0, 0.0, 0.0, 0.0, 0.0, 0.0, 0.0, 0.0, 0.0, 0.0], [0.04225081577897072, 0.009647669270634651, 0.01306967344135046, 0.003493926953524351, 0.008718243800103664, 0.0008717623422853649, 0.002113067079335451, 0.002520152600482106, 0.0028259274549782276, 0.003056255867704749, 0.005475988145917654, 0.00446759257465601, 0.005966210272163153, 0.008145667612552643, 0.02767091430723667, 0.013382635079324245, 0.018189117312431335, 0.03278028592467308, 0.02884840965270996, 0.059959542006254196, 0.09605947881937027, 0.20931921899318695, 0.1013825386762619, 0.2997848689556122, 0.0, 0.0, 0.0, 0.0, 0.0, 0.0, 0.0, 0.0, 0.0, 0.0, 0.0], [0.025818070396780968, 0.001245304592885077, 0.0012367748422548175, 0.003155827522277832, 0.002605459187179804, 0.0011178306303918362, 0.00023053247423376888, 0.0010614555794745684, 0.0012552996631711721, 0.0014470218447968364, 0.0006083037005737424, 0.00214443844743073, 0.0017222758615389466, 0.0030636799056082964, 0.002130717970430851, 0.0017395206959918141, 0.007489567156881094, 0.004201184026896954, 0.01636732928454876, 0.01718756929039955, 0.016647059470415115, 0.0678732842206955, 0.07546127587556839, 0.04369651898741722, 0.7004936933517456, 0.0, 0.0, 0.0, 0.0, 0.0, 0.0, 0.0, 0.0, 0.0, 0.0], [0.007508304435759783, 0.00012913934187963605, 0.00022904067009221762, 0.00030994004919193685, 0.0015875741373747587, 0.00015740803792141378, 0.0003654663742054254, 0.0002631951356306672, 0.000246187555603683, 0.004963845480233431, 0.0008493292843922973, 0.00020542471611406654, 0.0035996614024043083, 0.0006757525261491537, 0.0006743188132531941, 0.0028660339303314686, 0.000740197894629091, 0.0012410678900778294, 0.003433937905356288, 0.003348805708810687, 0.005896284244954586, 0.015315237455070019, 0.013584435917437077, 0.003806068329140544, 0.10587509721517563, 0.822128176689148, 0.0, 0.0, 0.0, 0.0, 0.0, 0.0, 0.0, 0.0, 0.0], [0.01514681801199913, 0.0002837269857991487, 0.000432388624176383, 0.00123921362683177, 0.0026600665878504515, 0.0003459533036220819, 0.00029542637639679015, 0.0018772060284391046, 0.00023691226670052856, 0.00013219204265624285, 0.0003354804066475481, 0.00022997890482656658, 0.00027149045490659773, 0.00042095407843589783, 0.0008192580426111817, 0.00030394704663194716, 0.0006469351355917752, 0.0003804268781095743, 0.0023925933055579662, 0.0029767972882837057, 0.0025756098330020905, 0.005941804498434067, 0.00590120442211628, 0.005208782851696014, 0.025423698127269745, 0.023241201415657997, 0.9002799987792969, 0.0, 0.0, 0.0, 0.0, 0.0, 0.0, 0.0, 0.0], [0.020882219076156616, 0.0006866268231533468, 0.0014190312940627337, 0.0016247248277068138, 0.005466738250106573, 0.001993068726733327, 0.00034445550409145653, 0.001486630062572658, 0.00038602837594226, 0.000298680504783988, 0.0003715486964210868, 0.0005332495784386992, 0.00025670803734101355, 0.0006083350745029747, 0.00037862546741962433, 0.0013748215278610587, 0.0013781334273517132, 0.0009236679179593921, 0.02337501384317875, 0.03773239254951477, 0.004063986241817474, 0.02184663899242878, 0.018512388691306114, 0.005047201178967953, 0.018440254032611847, 0.06399471312761307, 0.33002784848213196, 0.43654632568359375, 0.0, 0.0, 0.0, 0.0, 0.0, 0.0, 0.0], [0.002729786792770028, 0.00011315730080241337, 0.000257431878708303, 0.00030652928398922086, 0.0008012367179617286, 0.0008870924939401448, 0.00010111560550285503, 0.002048565773293376, 0.0001429119729436934, 0.00019898077880498022, 0.00043098139576613903, 7.435744191752747e-05, 0.00011077831004513428, 0.00022297566465567797, 0.00010400111204944551, 0.0007566187996417284, 0.0001842877536546439, 0.00031021013273857534, 0.001059028785675764, 0.0053943851962685585, 0.0013711395440623164, 0.0017238237196579576, 0.0034383467864245176, 0.0007791519747115672, 0.002710792003199458, 0.011246596463024616, 0.261861115694046, 0.042864613234996796, 0.6577699184417725, 0.0, 0.0, 0.0, 0.0, 0.0, 0.0], [0.007169223856180906, 0.0026512301992625, 0.002445025136694312, 0.003023248165845871, 0.0026861876249313354, 0.0007135467603802681, 0.0005127675831317902, 0.00038648591726087034, 0.0009532002150081098, 0.000440784526290372, 0.0008591750520281494, 0.0012491050874814391, 0.0009424774907529354, 0.0016617260407656431, 0.00044353108387440443, 0.00146484246943146, 0.00357745960354805, 0.0037673385813832283, 0.012122943997383118, 0.006853922735899687, 0.005249558482319117, 0.01970425248146057, 0.0266692116856575, 0.040960222482681274, 0.2385396957397461, 0.05725712329149246, 0.04040532931685448, 0.10933993011713028, 0.07736305892467499, 0.33058735728263855, 0.0, 0.0, 0.0, 0.0, 0.0], [0.011626668274402618, 0.0019658152014017105, 0.0009179526823572814, 0.0018197412136942148, 0.0020789767149835825, 0.0002935707743745297, 0.00010028539691120386, 0.0005799973732791841, 0.0004854119033552706, 9.764833521330729e-05, 0.00015712736058048904, 0.0004106423002667725, 0.00048777699703350663, 0.0007517865742556751, 0.000753282627556473, 0.0012242116499692202, 0.001082683214917779, 0.0014821913791820407, 0.0027742499951273203, 0.003610338317230344, 0.002137240953743458, 0.009361456148326397, 0.014277663081884384, 0.011846707202494144, 0.047293294221162796, 0.045062776654958725, 0.041560620069503784, 0.04280785843729973, 0.07079784572124481, 0.10084817558526993, 0.5813060402870178, 0.0, 0.0, 0.0, 0.0], [0.0038734276313334703, 0.00025570960133336484, 0.0006259239744395018, 0.0005843958933837712, 0.001232645590789616, 0.00039455865044146776, 0.00033266659011133015, 0.0001558190560899675, 0.00016472705465275794, 0.0007726284675300121, 0.00038669738569296896, 0.0002782438532449305, 0.00015239688218571246, 0.0002519854169804603, 6.452908564824611e-05, 0.00017264152120333165, 0.0007133563049137592, 0.000538479071110487, 0.0075395614840090275, 0.006723245605826378, 0.0013963888632133603, 0.003110351040959358, 0.005501280538737774, 0.002413584617897868, 0.038960494101047516, 0.023422306403517723, 0.009641104377806187, 0.025750892236828804, 0.12702469527721405, 0.04005922004580498, 0.5142093896865845, 0.18329660594463348, 0.0, 0.0, 0.0], [0.015151141211390495, 0.0013760692672803998, 0.0015560523606836796, 0.002171711530536413, 0.002511011902242899, 0.0017854925245046616, 0.0004700865538325161, 0.000678812968544662, 0.00038990782923065126, 0.0009900383884087205, 0.0003802659048233181, 0.00041825001244433224, 0.0004435294249560684, 0.0005140142166055739, 0.00016592210158705711, 0.0006932563846930861, 0.0009629506967030466, 0.0007656948291696608, 0.004365230444818735, 0.006436276715248823, 0.0018688250565901399, 0.008356158621609211, 0.00638475501909852, 0.005890705157071352, 0.03118700534105301, 0.04100947827100754, 0.028566041961312294, 0.0415772907435894, 0.040764570236206055, 0.06712846457958221, 0.3042674660682678, 0.21618834137916565, 0.16458527743816376, 0.0, 0.0], [0.017354121431708336, 0.0005264714127406478, 0.0006208930280990899, 0.0016926302341744304, 0.006297259591519833, 0.0010202099801972508, 7.362532778643072e-05, 0.0006762267439626157, 0.0004448304825928062, 7.778861618135124e-05, 4.973796967533417e-05, 0.0003035977715626359, 0.00017341808415949345, 0.0005162432789802551, 0.00027352754841558635, 0.0007443997310474515, 0.0006022219313308597, 0.0004544509283732623, 0.0026653381064534187, 0.0026638819836080074, 0.002551594516262412, 0.00781880784779787, 0.009490975178778172, 0.0009830407798290253, 0.007624228950589895, 0.011552343145012856, 0.09579723328351974, 0.08069919049739838, 0.09889831393957138, 0.03799619898200035, 0.058356259018182755, 0.1171891838312149, 0.1165681853890419, 0.3172435462474823, 0.0], [0.010796355083584785, 0.0030184669885784388, 0.001701085246168077, 0.0027614026330411434, 0.005546459928154945, 0.0005509490147233009, 0.00022208360314834863, 0.0002330589049961418, 0.0008555087842978537, 8.429423905909061e-05, 0.00013491032586898655, 0.00040303412242792547, 0.00021568550437223166, 0.0009122354094870389, 0.0007261986029334366, 0.00038188541657291353, 0.00074068020330742, 0.0007301234873011708, 0.0007852311246097088, 0.0013473398284986615, 0.0043137869797647, 0.007729183416813612, 0.005422806832939386, 0.006747085135430098, 0.013981964439153671, 0.004630993586033583, 0.019391803070902824, 0.028133727610111237, 0.016861943528056145, 0.07724329084157944, 0.05435173958539963, 0.1313902586698532, 0.15014062821865082, 0.08434376865625381, 0.3631700277328491]], [[1.0, 0.0, 0.0, 0.0, 0.0, 0.0, 0.0, 0.0, 0.0, 0.0, 0.0, 0.0, 0.0, 0.0, 0.0, 0.0, 0.0, 0.0, 0.0, 0.0, 0.0, 0.0, 0.0, 0.0, 0.0, 0.0, 0.0, 0.0, 0.0, 0.0, 0.0, 0.0, 0.0, 0.0, 0.0], [0.1932607889175415, 0.8067392110824585, 0.0, 0.0, 0.0, 0.0, 0.0, 0.0, 0.0, 0.0, 0.0, 0.0, 0.0, 0.0, 0.0, 0.0, 0.0, 0.0, 0.0, 0.0, 0.0, 0.0, 0.0, 0.0, 0.0, 0.0, 0.0, 0.0, 0.0, 0.0, 0.0, 0.0, 0.0, 0.0, 0.0], [0.09132398664951324, 0.0022218951489776373, 0.9064542055130005, 0.0, 0.0, 0.0, 0.0, 0.0, 0.0, 0.0, 0.0, 0.0, 0.0, 0.0, 0.0, 0.0, 0.0, 0.0, 0.0, 0.0, 0.0, 0.0, 0.0, 0.0, 0.0, 0.0, 0.0, 0.0, 0.0, 0.0, 0.0, 0.0, 0.0, 0.0, 0.0], [0.07127531617879868, 0.010394583456218243, 0.01460872869938612, 0.9037213325500488, 0.0, 0.0, 0.0, 0.0, 0.0, 0.0, 0.0, 0.0, 0.0, 0.0, 0.0, 0.0, 0.0, 0.0, 0.0, 0.0, 0.0, 0.0, 0.0, 0.0, 0.0, 0.0, 0.0, 0.0, 0.0, 0.0, 0.0, 0.0, 0.0, 0.0, 0.0], [0.007525161374360323, 8.942760905483738e-05, 7.544145046267658e-05, 3.413570311749936e-06, 0.9923065304756165, 0.0, 0.0, 0.0, 0.0, 0.0, 0.0, 0.0, 0.0, 0.0, 0.0, 0.0, 0.0, 0.0, 0.0, 0.0, 0.0, 0.0, 0.0, 0.0, 0.0, 0.0, 0.0, 0.0, 0.0, 0.0, 0.0, 0.0, 0.0, 0.0, 0.0], [0.004521043039858341, 4.280504526832374e-06, 9.230424620909616e-05, 2.3636341211386025e-05, 1.1194422768312506e-05, 0.9953475594520569, 0.0, 0.0, 0.0, 0.0, 0.0, 0.0, 0.0, 0.0, 0.0, 0.0, 0.0, 0.0, 0.0, 0.0, 0.0, 0.0, 0.0, 0.0, 0.0, 0.0, 0.0, 0.0, 0.0, 0.0, 0.0, 0.0, 0.0, 0.0, 0.0], [0.007938127033412457, 0.00010465274681337178, 4.188252205494791e-05, 8.376304322155192e-06, 0.0002111146313836798, 3.1298022804548964e-06, 0.9916927814483643, 0.0, 0.0, 0.0, 0.0, 0.0, 0.0, 0.0, 0.0, 0.0, 0.0, 0.0, 0.0, 0.0, 0.0, 0.0, 0.0, 0.0, 0.0, 0.0, 0.0, 0.0, 0.0, 0.0, 0.0, 0.0, 0.0, 0.0, 0.0], [0.002452838933095336, 1.0800485142681282e-05, 1.5410709238494746e-05, 2.2521481923831743e-07, 3.925124110537581e-05, 5.133585091243731e-06, 2.3800450435373932e-05, 0.9974525570869446, 0.0, 0.0, 0.0, 0.0, 0.0, 0.0, 0.0, 0.0, 0.0, 0.0, 0.0, 0.0, 0.0, 0.0, 0.0, 0.0, 0.0, 0.0, 0.0, 0.0, 0.0, 0.0, 0.0, 0.0, 0.0, 0.0, 0.0], [0.1994483321905136, 0.17831812798976898, 0.06548025459051132, 0.13276462256908417, 0.038584522902965546, 0.010353408753871918, 0.02143361233174801, 0.006723294034600258, 0.3468938171863556, 0.0, 0.0, 0.0, 0.0, 0.0, 0.0, 0.0, 0.0, 0.0, 0.0, 0.0, 0.0, 0.0, 0.0, 0.0, 0.0, 0.0, 0.0, 0.0, 0.0, 0.0, 0.0, 0.0, 0.0, 0.0, 0.0], [0.0014458445366472006, 8.054741442720115e-07, 3.0645940569229424e-05, 7.41290648420545e-07, 2.0274080725357635e-06, 1.1259034181421157e-05, 1.8223429378849687e-06, 8.012948092073202e-05, 1.0569652886260883e-07, 0.9984266757965088, 0.0, 0.0, 0.0, 0.0, 0.0, 0.0, 0.0, 0.0, 0.0, 0.0, 0.0, 0.0, 0.0, 0.0, 0.0, 0.0, 0.0, 0.0, 0.0, 0.0, 0.0, 0.0, 0.0, 0.0, 0.0], [0.0023380171041935682, 1.2498664546001237e-05, 2.2450101823778823e-05, 4.2364836190245114e-06, 2.952028808067553e-07, 1.894705178528966e-06, 7.769843796268106e-05, 8.969063856056891e-06, 4.6951907251013836e-08, 1.134764488597284e-06, 0.9975327253341675, 0.0, 0.0, 0.0, 0.0, 0.0, 0.0, 0.0, 0.0, 0.0, 0.0, 0.0, 0.0, 0.0, 0.0, 0.0, 0.0, 0.0, 0.0, 0.0, 0.0, 0.0, 0.0, 0.0, 0.0], [0.04751468077301979, 0.05268266424536705, 0.020408155396580696, 0.0585300512611866, 0.007166561204940081, 0.008201425895094872, 0.011846420355141163, 0.0017474404303357005, 0.02496333420276642, 0.0026972561608999968, 0.0014261914184316993, 0.7628158926963806, 0.0, 0.0, 0.0, 0.0, 0.0, 0.0, 0.0, 0.0, 0.0, 0.0, 0.0, 0.0, 0.0, 0.0, 0.0, 0.0, 0.0, 0.0, 0.0, 0.0, 0.0, 0.0, 0.0], [0.006070789415389299, 0.0001295789988944307, 5.943340511294082e-05, 5.659334874508204e-06, 0.00026153167709708214, 0.0001224180741701275, 1.0399335224064998e-05, 1.1076393093389925e-05, 4.060476328504592e-07, 0.0003600465424824506, 2.0115372535656206e-05, 1.364389419222789e-07, 0.9929484128952026, 0.0, 0.0, 0.0, 0.0, 0.0, 0.0, 0.0, 0.0, 0.0, 0.0, 0.0, 0.0, 0.0, 0.0, 0.0, 0.0, 0.0, 0.0, 0.0, 0.0, 0.0, 0.0], [0.09530560672283173, 0.1418032944202423, 0.05038183555006981, 0.10299663990736008, 0.029812078922986984, 0.006589407566934824, 0.016824401915073395, 0.00448185857385397, 0.2310646027326584, 0.019435439258813858, 0.010874399915337563, 0.0554320253431797, 0.03543872758746147, 0.19955971837043762, 0.0, 0.0, 0.0, 0.0, 0.0, 0.0, 0.0, 0.0, 0.0, 0.0, 0.0, 0.0, 0.0, 0.0, 0.0, 0.0, 0.0, 0.0, 0.0, 0.0, 0.0], [0.027447687461972237, 0.000140653079142794, 0.00019846578652504832, 3.496760473353788e-05, 5.282124220684636e-06, 0.00015024148160591722, 8.128336048685014e-05, 1.2125127796025481e-05, 6.303876580204815e-05, 6.543196650454774e-05, 2.8324748200247996e-06, 3.890715743182227e-05, 5.673604732692183e-07, 4.210467523080297e-05, 0.9717164039611816, 0.0, 0.0, 0.0, 0.0, 0.0, 0.0, 0.0, 0.0, 0.0, 0.0, 0.0, 0.0, 0.0, 0.0, 0.0, 0.0, 0.0, 0.0, 0.0, 0.0], [0.004212080966681242, 3.0696690373588353e-05, 6.369400216499344e-05, 8.254501722149143e-07, 8.262063033726008e-07, 3.868313069688156e-05, 4.2687784116424154e-06, 3.819387984549394e-06, 1.262790618739018e-07, 0.00013782658788841218, 1.7806012692744844e-05, 1.710003871835397e-08, 5.9798380789288785e-06, 6.190261814253972e-08, 2.294142177561298e-06, 0.995481014251709, 0.0, 0.0, 0.0, 0.0, 0.0, 0.0, 0.0, 0.0, 0.0, 0.0, 0.0, 0.0, 0.0, 0.0, 0.0, 0.0, 0.0, 0.0, 0.0], [0.01984679140150547, 0.03168347105383873, 0.012553278356790543, 0.03571881726384163, 0.004399014171212912, 0.004350576084107161, 0.00742737390100956, 0.0009372882195748389, 0.01266289222985506, 0.0016050541307777166, 0.0007319949800148606, 0.4563409090042114, 0.002010870957747102, 0.009759272448718548, 0.008237508125603199, 0.00025941230705939233, 0.3914755582809448, 0.0, 0.0, 0.0, 0.0, 0.0, 0.0, 0.0, 0.0, 0.0, 0.0, 0.0, 0.0, 0.0, 0.0, 0.0, 0.0, 0.0, 0.0], [0.027297131717205048, 0.0024357049260288477, 0.00027068177587352693, 7.525562250521034e-05, 1.368680750601925e-05, 5.7732277127797715e-06, 0.00043018462019972503, 1.4438156540563796e-05, 4.83513213112019e-05, 5.326112295733765e-05, 9.613310794520658e-06, 6.846687028883025e-05, 0.0003037676215171814, 2.8783888410544023e-05, 3.866398037644103e-05, 2.5926769012585282e-05, 4.680046549765393e-05, 0.9688336253166199, 0.0, 0.0, 0.0, 0.0, 0.0, 0.0, 0.0, 0.0, 0.0, 0.0, 0.0, 0.0, 0.0, 0.0, 0.0, 0.0, 0.0], [0.006310674361884594, 3.294672569609247e-05, 9.895656148728449e-06, 7.334555789384467e-07, 9.119788592215627e-05, 4.094916948815808e-05, 8.51167078508297e-06, 9.950681851478294e-05, 1.9264722084244568e-07, 8.829183570924215e-07, 1.8906031300502946e-06, 1.1808648423539125e-06, 3.116506832157029e-06, 9.474730688907584e-08, 3.301744982309174e-06, 2.585512447694782e-05, 7.711269063293003e-07, 2.6708551104093203e-06, 0.993365466594696, 0.0, 0.0, 0.0, 0.0, 0.0, 0.0, 0.0, 0.0, 0.0, 0.0, 0.0, 0.0, 0.0, 0.0, 0.0, 0.0], [0.0011340472847223282, 6.961875897104619e-06, 1.2364316717139445e-05, 4.006531071354402e-07, 5.3517836931860074e-05, 5.2400760068849195e-06, 4.459488263819367e-05, 0.0001645073207328096, 1.4344422538670187e-08, 1.0387959719082573e-06, 4.7788696974748746e-05, 5.058664598323048e-08, 9.468154757996672e-07, 7.475647656463025e-09, 6.603902420465602e-07, 3.8430966924352106e-06, 3.346412214000338e-08, 2.4119665908983734e-07, 1.6647687516524456e-05, 0.9985072016716003, 0.0, 0.0, 0.0, 0.0, 0.0, 0.0, 0.0, 0.0, 0.0, 0.0, 0.0, 0.0, 0.0, 0.0, 0.0], [0.08800849318504333, 0.18921293318271637, 0.04556254297494888, 0.08163289725780487, 0.017358066514134407, 0.0048304032534360886, 0.018958784639835358, 0.004620139487087727, 0.06910263001918793, 0.012970473617315292, 0.010343031026422977, 0.053664106875658035, 0.009830274619162083, 0.05797470360994339, 0.011936408467590809, 0.009446626529097557, 0.046623364090919495, 0.07882615178823471, 0.010427409783005714, 0.0020946734584867954, 0.17657582461833954, 0.0, 0.0, 0.0, 0.0, 0.0, 0.0, 0.0, 0.0, 0.0, 0.0, 0.0, 0.0, 0.0, 0.0], [0.015971245244145393, 0.003062025411054492, 0.00014189582725521177, 0.000788577483035624, 4.299391730455682e-05, 4.131219975533895e-05, 6.306896102614701e-05, 3.546534799170331e-06, 2.1731353626819327e-05, 1.7861051674117334e-05, 1.0214024769084062e-05, 2.6596500902087428e-05, 3.785572334891185e-05, 1.318691920459969e-05, 0.00018817713134922087, 4.963895207765745e-06, 1.8085178453475237e-05, 4.864035872742534e-05, 4.463610821403563e-06, 2.480264129189891e-06, 1.2178948054497596e-05, 0.9794787764549255, 0.0, 0.0, 0.0, 0.0, 0.0, 0.0, 0.0, 0.0, 0.0, 0.0, 0.0, 0.0, 0.0], [0.007472221739590168, 0.0003719070227816701, 7.639086834387854e-05, 1.113591315515805e-05, 3.014868161699269e-05, 1.1014429219358135e-05, 5.452878394862637e-05, 2.2444442947744392e-05, 1.1283857929811347e-05, 2.8587952328962274e-05, 5.6277503972523846e-06, 7.513606396969408e-05, 7.734287646599114e-05, 6.529705387947615e-06, 8.796907422947697e-06, 8.65150195750175e-06, 5.0727965572150424e-05, 7.040849141048966e-06, 3.18763850373216e-05, 1.4034893638381618e-06, 7.003581231401768e-06, 7.040079799480736e-05, 0.9915598034858704, 0.0, 0.0, 0.0, 0.0, 0.0, 0.0, 0.0, 0.0, 0.0, 0.0, 0.0, 0.0], [0.02204543724656105, 0.28049436211586, 0.016674788668751717, 0.00015087144856806844, 0.0006804478471167386, 2.739418050623499e-05, 0.000893833115696907, 1.24992102428223e-05, 0.00026655333931557834, 5.584157861449057e-06, 5.10908939759247e-05, 9.500436863163486e-05, 1.819479621190112e-05, 0.00018282818200532347, 0.0016493595903739333, 2.7935202524531633e-05, 6.991913687670603e-05, 7.677562825847417e-05, 2.0886134734610096e-05, 4.512560735747684e-06, 0.00014541400014422834, 0.00044704999891109765, 5.514789154403843e-05, 0.6759040951728821, 0.0, 0.0, 0.0, 0.0, 0.0, 0.0, 0.0, 0.0, 0.0, 0.0, 0.0], [0.01879945583641529, 0.0019184616394340992, 0.0010523868259042501, 7.228145113913342e-05, 0.00013796586426906288, 5.2088056690990925e-05, 6.334375211736187e-05, 9.731974387250375e-06, 8.120810525724664e-05, 5.9983867686241865e-05, 9.635964488552418e-06, 4.818712841370143e-05, 4.688356420956552e-05, 5.250580215943046e-05, 0.0004494201857596636, 0.00028932938585057855, 3.537202428560704e-05, 0.0002237790758954361, 0.00020208947535138577, 3.1120093808567617e-06, 3.522854603943415e-05, 9.855011012405157e-05, 0.0001810148824006319, 0.00012300792150199413, 0.9759548306465149, 0.0, 0.0, 0.0, 0.0, 0.0, 0.0, 0.0, 0.0, 0.0, 0.0], [0.0016589820152148604, 6.6325205807515886e-06, 3.932354593416676e-05, 5.5121558943938e-06, 7.328321225941181e-05, 5.176203785595135e-07, 8.362710650544614e-05, 1.6115494872792624e-05, 1.840805339270446e-07, 0.00020032652537338436, 1.8497496512281941e-06, 7.683064495722647e-08, 1.805108149710577e-05, 9.259787958626475e-08, 6.612197012145771e-06, 1.962791657206253e-06, 5.004865855084972e-08, 6.371136862526328e-08, 4.881653694610577e-07, 3.839161308860639e-06, 1.8601532758566464e-08, 1.6708720522728981e-06, 8.816640502118389e-07, 6.673367636267358e-08, 1.8785195265991206e-07, 0.9978796243667603, 0.0, 0.0, 0.0, 0.0, 0.0, 0.0, 0.0, 0.0, 0.0], [0.0050406609661877155, 0.0003915551060345024, 0.0005618687719106674, 0.00014523035497404635, 3.937188375857659e-05, 5.4099593398859724e-05, 0.0002847950381692499, 4.828744204132818e-05, 3.1043134640640346e-06, 6.896261038491502e-05, 0.00026814042939804494, 4.210916358715622e-06, 1.2119871826143935e-05, 2.0253930870239856e-06, 3.188772825524211e-05, 1.135650381911546e-05, 3.018797087861458e-06, 1.262285604752833e-05, 7.4655549724411685e-06, 3.0277958558144746e-06, 4.951114647155919e-07, 3.0154466003295965e-05, 1.8863742297980934e-05, 4.1512303141644225e-06, 5.0313069550611544e-06, 6.069070877856575e-06, 0.9929414987564087, 0.0, 0.0, 0.0, 0.0, 0.0, 0.0, 0.0, 0.0], [0.0012448652414605021, 0.00017617005505599082, 2.4151726393029094e-05, 1.2456691365514416e-05, 5.21131296409294e-05, 2.3546039301436394e-05, 5.67343486181926e-05, 0.00045827816938981414, 2.498381036275532e-06, 0.00011349428677931428, 4.920241917716339e-05, 1.3444524483929854e-05, 7.735948747722432e-05, 1.3437069128485746e-06, 6.060898613213794e-06, 0.00010331762314308435, 8.74548186402535e-06, 1.0811543688760139e-05, 0.00015856372192502022, 1.9056027440456091e-06, 5.41878421245201e-07, 1.2321355598032824e-06, 6.472231325460598e-05, 3.5890532217308646e-06, 8.650908966956194e-06, 2.962806320283562e-06, 1.3278947335493285e-05, 0.9973099231719971, 0.0, 0.0, 0.0, 0.0, 0.0, 0.0, 0.0], [0.0019733267836272717, 0.0009750535828061402, 7.218493556138128e-05, 9.848386980593204e-05, 4.9608483095653355e-05, 5.434036211227067e-05, 0.0003797193639911711, 6.184614903759211e-06, 1.0831107601916301e-06, 4.491193067224231e-06, 0.0004798333684448153, 9.928610325005138e-07, 1.3564492292061914e-05, 6.477159786300035e-07, 1.0186064173467457e-05, 5.581315690506017e-06, 7.113442848094564e-07, 5.998036840537679e-07, 3.2010693757911213e-06, 2.288275027240161e-06, 1.5130768815652118e-07, 7.130719041015254e-06, 1.793793671822641e-06, 2.4025634047575295e-05, 2.833101859778253e-07, 1.2269068975001574e-05, 0.00023325395886786282, 0.00031319455592893064, 0.9952758550643921, 0.0, 0.0, 0.0, 0.0, 0.0, 0.0], [0.03009926527738571, 0.09027376770973206, 0.028149737045168877, 0.15763866901397705, 0.026473544538021088, 0.0030060093849897385, 0.017219536006450653, 0.002244670642539859, 0.031200459226965904, 0.011351721361279488, 0.0013561311643570662, 0.029119137674570084, 0.0167735293507576, 0.023998094722628593, 0.009450533427298069, 0.006288196891546249, 0.023923031985759735, 0.05829627811908722, 0.009904221631586552, 0.00037797316326759756, 0.024595124647021294, 0.04042002186179161, 0.027886757627129555, 0.00982356071472168, 0.04994717612862587, 0.0010651152115315199, 0.014632506296038628, 0.011246385984122753, 0.0020601535215973854, 0.2411787509918213, 0.0, 0.0, 0.0, 0.0, 0.0], [0.0041693951934576035, 0.0006143265636637807, 0.0005938429967500269, 0.00011036180512746796, 9.005457832245156e-05, 1.370508016407257e-05, 0.0005903454730287194, 2.689223038032651e-06, 8.671459909237456e-06, 4.6116081648506224e-05, 1.0056748578790575e-05, 5.362888714444125e-06, 5.199826046009548e-05, 4.802395778824575e-06, 2.119512646459043e-05, 2.478488204360474e-05, 3.440021146161598e-06, 1.841072844399605e-05, 7.055103924358264e-05, 5.603936870102189e-07, 5.06016021972755e-06, 2.2592043023905717e-05, 6.252519960980862e-05, 1.8619257389218546e-05, 0.0001411849370924756, 2.6331010303692892e-05, 1.2610374824362225e-06, 1.0759799806692172e-06, 3.0931798278288625e-07, 5.793027412437368e-06, 0.9932645559310913, 0.0, 0.0, 0.0, 0.0], [0.010566690005362034, 0.0013905941741541028, 0.00043136373278684914, 0.00102959421928972, 0.003916406072676182, 0.0001502953382441774, 0.0019935998134315014, 0.0003044378827326, 2.9845146855222993e-05, 0.0006592932040803134, 1.2659859748964664e-05, 7.527516572736204e-05, 0.00039767773705534637, 1.727655399008654e-05, 0.00038583524292334914, 2.1061941879452206e-05, 5.340318602975458e-05, 6.335026409942657e-05, 0.0001268846244784072, 6.783207936678082e-06, 2.717061033763457e-05, 0.00013008985843043774, 3.8598667742917314e-05, 4.366658322396688e-05, 8.06409752840409e-06, 0.0007468676776625216, 8.19525303086266e-06, 9.368627797812223e-05, 6.252452749322401e-06, 4.4472533772932366e-05, 0.00020698686421383172, 0.9770136475563049, 0.0, 0.0, 0.0], [0.017131472006440163, 0.10981198400259018, 0.04528496041893959, 0.166640043258667, 0.04683487489819527, 0.01271433662623167, 0.024941803887486458, 0.0024605062790215015, 0.016514170914888382, 0.014018194749951363, 0.0028046465013176203, 0.017261283472180367, 0.05619141831994057, 0.011843172833323479, 0.02451840601861477, 0.008004877716302872, 0.0135829858481884, 0.027696548029780388, 0.007881486788392067, 0.001375961466692388, 0.009033627808094025, 0.03747997805476189, 0.014368822798132896, 0.016579650342464447, 0.031486257910728455, 0.0022351082880049944, 0.007032558787614107, 0.02033880539238453, 0.0021573666017502546, 0.01573573611676693, 0.03529253974556923, 0.01779499091207981, 0.16295146942138672, 0.0, 0.0], [0.0027362345717847347, 0.0032704509794712067, 0.00024938536807894707, 2.9521132091758773e-05, 0.002719078678637743, 1.5680829164921306e-05, 0.0011440088273957372, 3.52855640812777e-05, 1.9352068193256855e-05, 3.620959978434257e-05, 1.2202182915643789e-05, 0.00012145648361183703, 4.955604163114913e-05, 1.185148812510306e-05, 8.826605335343629e-05, 3.184513116138987e-05, 8.618930587545037e-05, 0.0001305778423557058, 9.267545101465657e-05, 1.8444490706315264e-05, 4.454886948224157e-06, 1.4211020243237726e-05, 0.00020819845667574555, 6.224931712495163e-05, 2.7290010621072724e-05, 8.527079444320407e-06, 0.001093170023523271, 0.0010258984984830022, 1.8266411643708125e-05, 9.81631274044048e-06, 7.599965101690032e-07, 4.15181375501561e-06, 8.365892426809296e-06, 0.9866164922714233, 0.0], [0.013301725499331951, 0.002024176297709346, 0.0009810629999265075, 0.00027103922911919653, 0.026242544874548912, 6.968402158236131e-05, 0.00018824647122528404, 0.0003323275304865092, 0.0002071750204777345, 0.00035583548014983535, 1.8688726413529366e-05, 0.00031016327557154, 0.0002884418936446309, 0.00014157567056827247, 0.00021018905681557953, 0.00013730113278143108, 0.0002454253553878516, 0.0005858625518158078, 0.0008409077418036759, 0.00037898417213000357, 0.00011255491699557751, 0.0009485268965363503, 0.00025817181449383497, 0.0005371628212742507, 0.00023706430511083454, 9.896147093968466e-05, 1.4541808923240751e-05, 7.514360186178237e-05, 1.0142432984139305e-05, 7.690760685363784e-05, 6.643280357820913e-05, 5.445993519970216e-05, 0.00010781998571474105, 0.002189123770222068, 0.9480816125869751]], [[1.0, 0.0, 0.0, 0.0, 0.0, 0.0, 0.0, 0.0, 0.0, 0.0, 0.0, 0.0, 0.0, 0.0, 0.0, 0.0, 0.0, 0.0, 0.0, 0.0, 0.0, 0.0, 0.0, 0.0, 0.0, 0.0, 0.0, 0.0, 0.0, 0.0, 0.0, 0.0, 0.0, 0.0, 0.0], [0.9360752105712891, 0.06392484158277512, 0.0, 0.0, 0.0, 0.0, 0.0, 0.0, 0.0, 0.0, 0.0, 0.0, 0.0, 0.0, 0.0, 0.0, 0.0, 0.0, 0.0, 0.0, 0.0, 0.0, 0.0, 0.0, 0.0, 0.0, 0.0, 0.0, 0.0, 0.0, 0.0, 0.0, 0.0, 0.0, 0.0], [0.8446658253669739, 0.06946855038404465, 0.08586558699607849, 0.0, 0.0, 0.0, 0.0, 0.0, 0.0, 0.0, 0.0, 0.0, 0.0, 0.0, 0.0, 0.0, 0.0, 0.0, 0.0, 0.0, 0.0, 0.0, 0.0, 0.0, 0.0, 0.0, 0.0, 0.0, 0.0, 0.0, 0.0, 0.0, 0.0, 0.0, 0.0], [0.6426600217819214, 0.1298869103193283, 0.17117179930210114, 0.05628134310245514, 0.0, 0.0, 0.0, 0.0, 0.0, 0.0, 0.0, 0.0, 0.0, 0.0, 0.0, 0.0, 0.0, 0.0, 0.0, 0.0, 0.0, 0.0, 0.0, 0.0, 0.0, 0.0, 0.0, 0.0, 0.0, 0.0, 0.0, 0.0, 0.0, 0.0, 0.0], [0.5074959397315979, 0.07786271721124649, 0.07268539071083069, 0.10711855441331863, 0.2348373979330063, 0.0, 0.0, 0.0, 0.0, 0.0, 0.0, 0.0, 0.0, 0.0, 0.0, 0.0, 0.0, 0.0, 0.0, 0.0, 0.0, 0.0, 0.0, 0.0, 0.0, 0.0, 0.0, 0.0, 0.0, 0.0, 0.0, 0.0, 0.0, 0.0, 0.0], [0.4970755875110626, 0.06315259635448456, 0.11559108644723892, 0.08851399272680283, 0.10196356475353241, 0.13370318710803986, 0.0, 0.0, 0.0, 0.0, 0.0, 0.0, 0.0, 0.0, 0.0, 0.0, 0.0, 0.0, 0.0, 0.0, 0.0, 0.0, 0.0, 0.0, 0.0, 0.0, 0.0, 0.0, 0.0, 0.0, 0.0, 0.0, 0.0, 0.0, 0.0], [0.3081282377243042, 0.06775974482297897, 0.13057544827461243, 0.05440935492515564, 0.04050315544009209, 0.3605913817882538, 0.038032688200473785, 0.0, 0.0, 0.0, 0.0, 0.0, 0.0, 0.0, 0.0, 0.0, 0.0, 0.0, 0.0, 0.0, 0.0, 0.0, 0.0, 0.0, 0.0, 0.0, 0.0, 0.0, 0.0, 0.0, 0.0, 0.0, 0.0, 0.0, 0.0], [0.32434970140457153, 0.06349692493677139, 0.07783645391464233, 0.07798172533512115, 0.07410477846860886, 0.13590563833713531, 0.07038858532905579, 0.17593617737293243, 0.0, 0.0, 0.0, 0.0, 0.0, 0.0, 0.0, 0.0, 0.0, 0.0, 0.0, 0.0, 0.0, 0.0, 0.0, 0.0, 0.0, 0.0, 0.0, 0.0, 0.0, 0.0, 0.0, 0.0, 0.0, 0.0, 0.0], [0.16412928700447083, 0.034692857414484024, 0.05131261795759201, 0.013317009434103966, 0.17712698876857758, 0.15951888263225555, 0.09812305122613907, 0.2969048321247101, 0.004874553065747023, 0.0, 0.0, 0.0, 0.0, 0.0, 0.0, 0.0, 0.0, 0.0, 0.0, 0.0, 0.0, 0.0, 0.0, 0.0, 0.0, 0.0, 0.0, 0.0, 0.0, 0.0, 0.0, 0.0, 0.0, 0.0, 0.0], [0.18775466084480286, 0.05488045513629913, 0.10758274048566818, 0.043910034000873566, 0.1406542956829071, 0.1169673353433609, 0.05246000364422798, 0.1536640226840973, 0.049352675676345825, 0.09277383238077164, 0.0, 0.0, 0.0, 0.0, 0.0, 0.0, 0.0, 0.0, 0.0, 0.0, 0.0, 0.0, 0.0, 0.0, 0.0, 0.0, 0.0, 0.0, 0.0, 0.0, 0.0, 0.0, 0.0, 0.0, 0.0], [0.20517101883888245, 0.04006878286600113, 0.0833921730518341, 0.04565277695655823, 0.05697008594870567, 0.1331988424062729, 0.026416389271616936, 0.09950845688581467, 0.050134606659412384, 0.214173823595047, 0.04531292989850044, 0.0, 0.0, 0.0, 0.0, 0.0, 0.0, 0.0, 0.0, 0.0, 0.0, 0.0, 0.0, 0.0, 0.0, 0.0, 0.0, 0.0, 0.0, 0.0, 0.0, 0.0, 0.0, 0.0, 0.0], [0.10754448920488358, 0.020955441519618034, 0.05246850848197937, 0.00833085272461176, 0.17997518181800842, 0.10652028769254684, 0.0721079558134079, 0.20191161334514618, 0.0033460387494415045, 0.140213280916214, 0.10356737673282623, 0.0030589571688324213, 0.0, 0.0, 0.0, 0.0, 0.0, 0.0, 0.0, 0.0, 0.0, 0.0, 0.0, 0.0, 0.0, 0.0, 0.0, 0.0, 0.0, 0.0, 0.0, 0.0, 0.0, 0.0, 0.0], [0.0942334532737732, 0.022835399955511093, 0.05558857321739197, 0.02696787752211094, 0.12799426913261414, 0.07631111145019531, 0.07361142337322235, 0.16634677350521088, 0.03019636496901512, 0.11622447520494461, 0.1307915896177292, 0.02243356592953205, 0.056465137749910355, 0.0, 0.0, 0.0, 0.0, 0.0, 0.0, 0.0, 0.0, 0.0, 0.0, 0.0, 0.0, 0.0, 0.0, 0.0, 0.0, 0.0, 0.0, 0.0, 0.0, 0.0, 0.0], [0.11027716100215912, 0.019917314872145653, 0.033872149884700775, 0.008012230508029461, 0.12686949968338013, 0.12052709609270096, 0.06604589521884918, 0.21159595251083374, 0.0029103849083185196, 0.13361385464668274, 0.07830411940813065, 0.005965673830360174, 0.07863971590995789, 0.0034490188118070364, 0.0, 0.0, 0.0, 0.0, 0.0, 0.0, 0.0, 0.0, 0.0, 0.0, 0.0, 0.0, 0.0, 0.0, 0.0, 0.0, 0.0, 0.0, 0.0, 0.0, 0.0], [0.16007715463638306, 0.054521165788173676, 0.059736281633377075, 0.020207537338137627, 0.052660439163446426, 0.10011059045791626, 0.11729249358177185, 0.14998750388622284, 0.017248358577489853, 0.05625275522470474, 0.094420425593853, 0.01204692292958498, 0.02029769867658615, 0.01824457384645939, 0.06689611822366714, 0.0, 0.0, 0.0, 0.0, 0.0, 0.0, 0.0, 0.0, 0.0, 0.0, 0.0, 0.0, 0.0, 0.0, 0.0, 0.0, 0.0, 0.0, 0.0, 0.0], [0.17850042879581451, 0.04271136224269867, 0.05876291170716286, 0.02550153248012066, 0.02821975201368332, 0.09395946562290192, 0.03569772094488144, 0.03853299468755722, 0.027574097737669945, 0.12417228519916534, 0.09900197386741638, 0.029919525608420372, 0.04168916121125221, 0.03003854677081108, 0.0802922397851944, 0.0654260441660881, 0.0, 0.0, 0.0, 0.0, 0.0, 0.0, 0.0, 0.0, 0.0, 0.0, 0.0, 0.0, 0.0, 0.0, 0.0, 0.0, 0.0, 0.0, 0.0], [0.0826260894536972, 0.01422162540256977, 0.03910340368747711, 0.0058097816072404385, 0.14161057770252228, 0.08671103417873383, 0.05503489822149277, 0.15627001225948334, 0.002328179543837905, 0.1167932078242302, 0.08067943155765533, 0.0021917943377047777, 0.09792865067720413, 0.0027368648443371058, 0.0329744927585125, 0.080378457903862, 0.0026014959439635277, 0.0, 0.0, 0.0, 0.0, 0.0, 0.0, 0.0, 0.0, 0.0, 0.0, 0.0, 0.0, 0.0, 0.0, 0.0, 0.0, 0.0, 0.0], [0.09858327358961105, 0.028320642188191414, 0.052631836384534836, 0.01785864681005478, 0.06163659691810608, 0.08070766925811768, 0.07397954165935516, 0.09560475498437881, 0.009335811249911785, 0.08467234671115875, 0.11269152164459229, 0.018467865884304047, 0.038562607020139694, 0.011051519773900509, 0.06964194029569626, 0.09237802773714066, 0.022560423240065575, 0.03131496161222458, 0.0, 0.0, 0.0, 0.0, 0.0, 0.0, 0.0, 0.0, 0.0, 0.0, 0.0, 0.0, 0.0, 0.0, 0.0, 0.0, 0.0], [0.14957915246486664, 0.013048051856458187, 0.033948514610528946, 0.015061769634485245, 0.045098841190338135, 0.08479972928762436, 0.027256976813077927, 0.17206284403800964, 0.01685032621026039, 0.10883238166570663, 0.11793851107358932, 0.008323251269757748, 0.016134321689605713, 0.017726482823491096, 0.02617340348660946, 0.05189085379242897, 0.008976077660918236, 0.010605720803141594, 0.07569281756877899, 0.0, 0.0, 0.0, 0.0, 0.0, 0.0, 0.0, 0.0, 0.0, 0.0, 0.0, 0.0, 0.0, 0.0, 0.0, 0.0], [0.23039737343788147, 0.024296818301081657, 0.02655998431146145, 0.03924616426229477, 0.042302269488573074, 0.04924340918660164, 0.007979435846209526, 0.0732208862900734, 0.03455185517668724, 0.066019207239151, 0.03830168396234512, 0.03672321140766144, 0.024140125140547752, 0.0371052548289299, 0.02855716645717621, 0.05446391552686691, 0.039015043526887894, 0.015944411978125572, 0.046100109815597534, 0.08583173155784607, 0.0, 0.0, 0.0, 0.0, 0.0, 0.0, 0.0, 0.0, 0.0, 0.0, 0.0, 0.0, 0.0, 0.0, 0.0], [0.05691670626401901, 0.0062250178307294846, 0.011754430830478668, 0.0035496761556714773, 0.0711071789264679, 0.08006572723388672, 0.022162310779094696, 0.11016803979873657, 0.001048491452820599, 0.08122199028730392, 0.02667202055454254, 0.002196079585701227, 0.030598513782024384, 0.0012014046078547835, 0.014937762171030045, 0.14736878871917725, 0.002626754343509674, 0.0333891399204731, 0.11049020290374756, 0.1850445419549942, 0.0012552259722724557, 0.0, 0.0, 0.0, 0.0, 0.0, 0.0, 0.0, 0.0, 0.0, 0.0, 0.0, 0.0, 0.0, 0.0], [0.09241704642772675, 0.026059597730636597, 0.024830620735883713, 0.014753984287381172, 0.07309967279434204, 0.041600801050662994, 0.02818293496966362, 0.10522368550300598, 0.010200558230280876, 0.026716869324445724, 0.03863625228404999, 0.008342115208506584, 0.03416536748409271, 0.011011886410415173, 0.02702193148434162, 0.10600949078798294, 0.00949846301227808, 0.016123099252581596, 0.06257017701864243, 0.19003157317638397, 0.01044891495257616, 0.04305499792098999, 0.0, 0.0, 0.0, 0.0, 0.0, 0.0, 0.0, 0.0, 0.0, 0.0, 0.0, 0.0, 0.0], [0.06173655763268471, 0.007029620930552483, 0.01948658935725689, 0.010366823524236679, 0.04601285234093666, 0.07236861437559128, 0.022752363234758377, 0.0897848904132843, 0.005041907541453838, 0.07019013911485672, 0.07947884500026703, 0.006475391797721386, 0.0383506678044796, 0.005680921487510204, 0.015840983018279076, 0.053441040217876434, 0.0075249867513775826, 0.018862148746848106, 0.09784606844186783, 0.19087885320186615, 0.006985297426581383, 0.02772781252861023, 0.046136584132909775, 0.0, 0.0, 0.0, 0.0, 0.0, 0.0, 0.0, 0.0, 0.0, 0.0, 0.0, 0.0], [0.04349847882986069, 0.0060291290283203125, 0.016271812841296196, 0.004962896462529898, 0.09232775866985321, 0.05643603950738907, 0.024273155257105827, 0.10004426538944244, 0.0013475839514285326, 0.04695267602801323, 0.043369945138692856, 0.0026120904367417097, 0.02597998082637787, 0.0015367751475423574, 0.013811731711030006, 0.12162521481513977, 0.003084056079387665, 0.014781136997044086, 0.08252870291471481, 0.2084343433380127, 0.00210580974817276, 0.03356638923287392, 0.04992127791047096, 0.0044988165609538555, 0.0, 0.0, 0.0, 0.0, 0.0, 0.0, 0.0, 0.0, 0.0, 0.0, 0.0], [0.054939333349466324, 0.005164690315723419, 0.013282542116940022, 0.006816812325268984, 0.08581957966089249, 0.04258369654417038, 0.010111792013049126, 0.10901320725679398, 0.0030670363921672106, 0.04195144400000572, 0.03668752312660217, 0.00387760391458869, 0.03639628365635872, 0.0036428263410925865, 0.01571308635175228, 0.045142825692892075, 0.004770632833242416, 0.010733409784734249, 0.1294908970594406, 0.18343374133110046, 0.005763917695730925, 0.06008806824684143, 0.06420363485813141, 0.008479909971356392, 0.018825504928827286, 0.0, 0.0, 0.0, 0.0, 0.0, 0.0, 0.0, 0.0, 0.0, 0.0], [0.11619281023740768, 0.024008190259337425, 0.01750083640217781, 0.02279529720544815, 0.050276514142751694, 0.032025475054979324, 0.020647751167416573, 0.03974740207195282, 0.02373597025871277, 0.026677897199988365, 0.018856415525078773, 0.028171375393867493, 0.03460882976651192, 0.026643719524145126, 0.022768083959817886, 0.023577338084578514, 0.031199224293231964, 0.022620437666773796, 0.09706810861825943, 0.06436188519001007, 0.03251434490084648, 0.045572053641080856, 0.04268258810043335, 0.028252869844436646, 0.025809569284319878, 0.08168505877256393, 0.0, 0.0, 0.0, 0.0, 0.0, 0.0, 0.0, 0.0, 0.0], [0.1122082993388176, 0.005275928881019354, 0.013701368123292923, 0.0064756437204778194, 0.058257464319467545, 0.0559183731675148, 0.013027251698076725, 0.10451257973909378, 0.0040136720053851604, 0.040113650262355804, 0.0378723181784153, 0.003174526384100318, 0.012129999697208405, 0.004096261225640774, 0.007334527559578419, 0.017732825130224228, 0.003475238336250186, 0.003059554612264037, 0.09483383595943451, 0.20002643764019012, 0.005673966370522976, 0.01637454330921173, 0.017230212688446045, 0.0043684388510882854, 0.009308070875704288, 0.09713461250066757, 0.052670370787382126, 0.0, 0.0, 0.0, 0.0, 0.0, 0.0, 0.0, 0.0], [0.06115274131298065, 0.004939328413456678, 0.00976282637566328, 0.005227175075560808, 0.03646273910999298, 0.03137054294347763, 0.008218888193368912, 0.11535762250423431, 0.0032728658989071846, 0.038249190896749496, 0.03337175399065018, 0.0021793795749545097, 0.007692964747548103, 0.0034548118710517883, 0.00908544473350048, 0.027900513261556625, 0.002366595668718219, 0.00394824193790555, 0.0407714918255806, 0.27574679255485535, 0.0035466686822474003, 0.012455111369490623, 0.032613128423690796, 0.003209818387404084, 0.0036030944902449846, 0.100096195936203, 0.08892867714166641, 0.03501544147729874, 0.0, 0.0, 0.0, 0.0, 0.0, 0.0, 0.0], [0.11957047134637833, 0.008050513453781605, 0.013377289287745953, 0.007089267484843731, 0.025275392457842827, 0.05149082839488983, 0.006585440598428249, 0.061659835278987885, 0.00562047865241766, 0.0556148923933506, 0.02729181945323944, 0.004286491312086582, 0.007698429748415947, 0.0059962524101138115, 0.0079420180991292, 0.02879050001502037, 0.004870968870818615, 0.004313758108764887, 0.02622806467115879, 0.15385551750659943, 0.010709957219660282, 0.009564648382365704, 0.029178369790315628, 0.005329280160367489, 0.008051513694226742, 0.07812704145908356, 0.10984006524085999, 0.029521014541387558, 0.09406982362270355, 0.0, 0.0, 0.0, 0.0, 0.0, 0.0], [0.025880753993988037, 0.003286871360614896, 0.009190615266561508, 0.0022713220678269863, 0.042062535881996155, 0.0403556153178215, 0.015107065439224243, 0.04801337793469429, 0.0008096100646071136, 0.039064209908246994, 0.026566822081804276, 0.0015204478986561298, 0.02122013457119465, 0.0009539556340314448, 0.007810370065271854, 0.033135149627923965, 0.0018792535411193967, 0.010119679383933544, 0.06751006841659546, 0.12262913584709167, 0.001583223114721477, 0.022168025374412537, 0.03078516758978367, 0.0043188054114580154, 0.018728990107774734, 0.14477519690990448, 0.06957437098026276, 0.11388752609491348, 0.07182323932647705, 0.002968481043353677, 0.0, 0.0, 0.0, 0.0, 0.0], [0.046125125139951706, 0.004929372109472752, 0.011905021034181118, 0.005939909256994724, 0.05086230859160423, 0.03915583714842796, 0.011702251620590687, 0.07777238637208939, 0.0027224912773817778, 0.029330715537071228, 0.03543660417199135, 0.00250865682028234, 0.011883247643709183, 0.002963859820738435, 0.008878661319613457, 0.01893666945397854, 0.002804586896672845, 0.004066924098879099, 0.06637169420719147, 0.16173599660396576, 0.004074740689247847, 0.017417889088392258, 0.04845813289284706, 0.005489849019795656, 0.014467373490333557, 0.0888427123427391, 0.05744140222668648, 0.048157576471567154, 0.09182098507881165, 0.004751024302095175, 0.023045988753437996, 0.0, 0.0, 0.0, 0.0], [0.028616558760404587, 0.003539712866768241, 0.012825751677155495, 0.0037311078049242496, 0.02213282510638237, 0.026339082047343254, 0.015483635477721691, 0.04692449793219566, 0.0016770174261182547, 0.05343089625239372, 0.03818727284669876, 0.0025294898077845573, 0.027682244777679443, 0.001944716670550406, 0.010427960194647312, 0.020306408405303955, 0.0030831173062324524, 0.008337556384503841, 0.061474476009607315, 0.05695469677448273, 0.00309091922827065, 0.019787291064858437, 0.037704214453697205, 0.0040319086983799934, 0.02077089250087738, 0.12126167118549347, 0.08733705431222916, 0.07036235183477402, 0.09933111071586609, 0.005798680242151022, 0.0638149231672287, 0.02107994630932808, 0.0, 0.0, 0.0], [0.022769257426261902, 0.002363812178373337, 0.006953612435609102, 0.0009745148126967251, 0.03343125432729721, 0.030963124707341194, 0.012881070375442505, 0.07639686018228531, 0.0002621036837808788, 0.030449919402599335, 0.03674255684018135, 0.0005670603713952005, 0.014569032937288284, 0.0003055333800148219, 0.00594836100935936, 0.022492578253149986, 0.0007025585509836674, 0.004866439383476973, 0.06026189774274826, 0.15585912764072418, 0.0005001768586225808, 0.019988061860203743, 0.03086845949292183, 0.003128145355731249, 0.012151175178587437, 0.11994665861129761, 0.07597391307353973, 0.09628816694021225, 0.07584252208471298, 0.0010643776040524244, 0.032713308930397034, 0.011111120693385601, 0.0006633000448346138, 0.0, 0.0], [0.06755812466144562, 0.003352792700752616, 0.00897220429033041, 0.0034025448840111494, 0.05607309192419052, 0.03040471114218235, 0.013628290966153145, 0.07952426373958588, 0.0025889372918754816, 0.03472936525940895, 0.015315967611968517, 0.002527098637074232, 0.007685460615903139, 0.0026928263250738382, 0.007112993858754635, 0.026128463447093964, 0.0027733701281249523, 0.007069496903568506, 0.050762075930833817, 0.17593899369239807, 0.0039354367181658745, 0.010542853735387325, 0.012697331607341766, 0.0028314446099102497, 0.004983486142009497, 0.05610366538167, 0.102786585688591, 0.07864400744438171, 0.06361375749111176, 0.004290643148124218, 0.012449050322175026, 0.007846904918551445, 0.0035741603933274746, 0.037459585815668106, 0.0], [0.05889430642127991, 0.004834286868572235, 0.008816245943307877, 0.004917606711387634, 0.05724446475505829, 0.04719965532422066, 0.010384351946413517, 0.043736837804317474, 0.003253212897107005, 0.027000511065125465, 0.015385999344289303, 0.005444501992315054, 0.018304409459233284, 0.0036100612487643957, 0.011856130324304104, 0.07255372405052185, 0.006018082611262798, 0.00641191191971302, 0.055861588567495346, 0.0837467610836029, 0.003973664250224829, 0.01859060488641262, 0.01944510079920292, 0.003880681935697794, 0.008932648226618767, 0.1224270835518837, 0.04098634421825409, 0.07429765909910202, 0.05774553492665291, 0.006318642292171717, 0.013084111735224724, 0.02306576631963253, 0.005796520970761776, 0.04094137251377106, 0.015039583668112755]], [[1.0, 0.0, 0.0, 0.0, 0.0, 0.0, 0.0, 0.0, 0.0, 0.0, 0.0, 0.0, 0.0, 0.0, 0.0, 0.0, 0.0, 0.0, 0.0, 0.0, 0.0, 0.0, 0.0, 0.0, 0.0, 0.0, 0.0, 0.0, 0.0, 0.0, 0.0, 0.0, 0.0, 0.0, 0.0], [0.978033721446991, 0.021966326981782913, 0.0, 0.0, 0.0, 0.0, 0.0, 0.0, 0.0, 0.0, 0.0, 0.0, 0.0, 0.0, 0.0, 0.0, 0.0, 0.0, 0.0, 0.0, 0.0, 0.0, 0.0, 0.0, 0.0, 0.0, 0.0, 0.0, 0.0, 0.0, 0.0, 0.0, 0.0, 0.0, 0.0], [0.5068986415863037, 0.42791470885276794, 0.06518668681383133, 0.0, 0.0, 0.0, 0.0, 0.0, 0.0, 0.0, 0.0, 0.0, 0.0, 0.0, 0.0, 0.0, 0.0, 0.0, 0.0, 0.0, 0.0, 0.0, 0.0, 0.0, 0.0, 0.0, 0.0, 0.0, 0.0, 0.0, 0.0, 0.0, 0.0, 0.0, 0.0], [0.3459506332874298, 0.23385089635849, 0.1913880705833435, 0.22881042957305908, 0.0, 0.0, 0.0, 0.0, 0.0, 0.0, 0.0, 0.0, 0.0, 0.0, 0.0, 0.0, 0.0, 0.0, 0.0, 0.0, 0.0, 0.0, 0.0, 0.0, 0.0, 0.0, 0.0, 0.0, 0.0, 0.0, 0.0, 0.0, 0.0, 0.0, 0.0], [0.2785969376564026, 0.17525726556777954, 0.11037099361419678, 0.2518095076084137, 0.1839653104543686, 0.0, 0.0, 0.0, 0.0, 0.0, 0.0, 0.0, 0.0, 0.0, 0.0, 0.0, 0.0, 0.0, 0.0, 0.0, 0.0, 0.0, 0.0, 0.0, 0.0, 0.0, 0.0, 0.0, 0.0, 0.0, 0.0, 0.0, 0.0, 0.0, 0.0], [0.20804189145565033, 0.08827140182256699, 0.06160813570022583, 0.25848427414894104, 0.27056989073753357, 0.11302439123392105, 0.0, 0.0, 0.0, 0.0, 0.0, 0.0, 0.0, 0.0, 0.0, 0.0, 0.0, 0.0, 0.0, 0.0, 0.0, 0.0, 0.0, 0.0, 0.0, 0.0, 0.0, 0.0, 0.0, 0.0, 0.0, 0.0, 0.0, 0.0, 0.0], [0.16325606405735016, 0.12141188234090805, 0.11990707367658615, 0.16166451573371887, 0.10774090141057968, 0.2975035607814789, 0.028515968471765518, 0.0, 0.0, 0.0, 0.0, 0.0, 0.0, 0.0, 0.0, 0.0, 0.0, 0.0, 0.0, 0.0, 0.0, 0.0, 0.0, 0.0, 0.0, 0.0, 0.0, 0.0, 0.0, 0.0, 0.0, 0.0, 0.0, 0.0, 0.0], [0.12280920892953873, 0.0397898405790329, 0.04514549300074577, 0.1357850581407547, 0.09269557148218155, 0.1180870309472084, 0.33698466420173645, 0.10870310664176941, 0.0, 0.0, 0.0, 0.0, 0.0, 0.0, 0.0, 0.0, 0.0, 0.0, 0.0, 0.0, 0.0, 0.0, 0.0, 0.0, 0.0, 0.0, 0.0, 0.0, 0.0, 0.0, 0.0, 0.0, 0.0, 0.0, 0.0], [0.07854463160037994, 0.03570382297039032, 0.02910536713898182, 0.05200905725359917, 0.10322172939777374, 0.06222512200474739, 0.0680122822523117, 0.17029151320457458, 0.4008864462375641, 0.0, 0.0, 0.0, 0.0, 0.0, 0.0, 0.0, 0.0, 0.0, 0.0, 0.0, 0.0, 0.0, 0.0, 0.0, 0.0, 0.0, 0.0, 0.0, 0.0, 0.0, 0.0, 0.0, 0.0, 0.0, 0.0], [0.08555334806442261, 0.045082107186317444, 0.020755277946591377, 0.057487886399030685, 0.05853370949625969, 0.03812532126903534, 0.031640294939279556, 0.14470812678337097, 0.3939676284790039, 0.12414629757404327, 0.0, 0.0, 0.0, 0.0, 0.0, 0.0, 0.0, 0.0, 0.0, 0.0, 0.0, 0.0, 0.0, 0.0, 0.0, 0.0, 0.0, 0.0, 0.0, 0.0, 0.0, 0.0, 0.0, 0.0, 0.0], [0.03400757908821106, 0.005801306571811438, 0.00426435936242342, 0.014554593712091446, 0.0020581278949975967, 0.010052233003079891, 0.015462469309568405, 0.014919924549758434, 0.07456044107675552, 0.8029411435127258, 0.021377798169851303, 0.0, 0.0, 0.0, 0.0, 0.0, 0.0, 0.0, 0.0, 0.0, 0.0, 0.0, 0.0, 0.0, 0.0, 0.0, 0.0, 0.0, 0.0, 0.0, 0.0, 0.0, 0.0, 0.0, 0.0], [0.03658134490251541, 0.008552635088562965, 0.00908593088388443, 0.010718592442572117, 0.03151054307818413, 0.0778605192899704, 0.028099508956074715, 0.0520339235663414, 0.09175668656826019, 0.24980762600898743, 0.22384580969810486, 0.18014687299728394, 0.0, 0.0, 0.0, 0.0, 0.0, 0.0, 0.0, 0.0, 0.0, 0.0, 0.0, 0.0, 0.0, 0.0, 0.0, 0.0, 0.0, 0.0, 0.0, 0.0, 0.0, 0.0, 0.0], [0.038995057344436646, 0.013953042216598988, 0.027150403708219528, 0.015978649258613586, 0.006068874150514603, 0.015332883223891258, 0.007358447182923555, 0.008143594488501549, 0.09236116707324982, 0.0958237275481224, 0.397089421749115, 0.2250826209783554, 0.056662119925022125, 0.0, 0.0, 0.0, 0.0, 0.0, 0.0, 0.0, 0.0, 0.0, 0.0, 0.0, 0.0, 0.0, 0.0, 0.0, 0.0, 0.0, 0.0, 0.0, 0.0, 0.0, 0.0], [0.029417606070637703, 0.006853982340544462, 0.005433531478047371, 0.008306880481541157, 0.01573825627565384, 0.00870888214558363, 0.008349088951945305, 0.02392006292939186, 0.04694690555334091, 0.048144903033971786, 0.09310001879930496, 0.15290841460227966, 0.14854159951210022, 0.403629869222641, 0.0, 0.0, 0.0, 0.0, 0.0, 0.0, 0.0, 0.0, 0.0, 0.0, 0.0, 0.0, 0.0, 0.0, 0.0, 0.0, 0.0, 0.0, 0.0, 0.0, 0.0], [0.03712824732065201, 0.007584480103105307, 0.003545146668329835, 0.008117977529764175, 0.018834181129932404, 0.00590498186647892, 0.009632621891796589, 0.01107664406299591, 0.042499493807554245, 0.01508399285376072, 0.01984347216784954, 0.11177268624305725, 0.12816867232322693, 0.33317872881889343, 0.24762867391109467, 0.0, 0.0, 0.0, 0.0, 0.0, 0.0, 0.0, 0.0, 0.0, 0.0, 0.0, 0.0, 0.0, 0.0, 0.0, 0.0, 0.0, 0.0, 0.0, 0.0], [0.024791555479168892, 0.0022572451271116734, 0.0019112328300252557, 0.0031496493611484766, 0.001774667645804584, 0.0030808630399405956, 0.019880766049027443, 0.006427101790904999, 0.015317508019506931, 0.0032266085036098957, 0.020296063274145126, 0.057727403938770294, 0.022555306553840637, 0.08885964751243591, 0.7141119241714478, 0.014632431790232658, 0.0, 0.0, 0.0, 0.0, 0.0, 0.0, 0.0, 0.0, 0.0, 0.0, 0.0, 0.0, 0.0, 0.0, 0.0, 0.0, 0.0, 0.0, 0.0], [0.019352758303284645, 0.0027357160579413176, 0.0027006487362086773, 0.0028163997922092676, 0.007300621829926968, 0.016268683597445488, 0.005134701728820801, 0.010258641093969345, 0.013791495934128761, 0.033804383128881454, 0.03394487872719765, 0.02411038428544998, 0.05347490310668945, 0.0969100296497345, 0.2761884033679962, 0.22190366685390472, 0.17930367588996887, 0.0, 0.0, 0.0, 0.0, 0.0, 0.0, 0.0, 0.0, 0.0, 0.0, 0.0, 0.0, 0.0, 0.0, 0.0, 0.0, 0.0, 0.0], [0.01677827537059784, 0.0013836664147675037, 0.001250443747267127, 0.0019532651640474796, 0.0012283121468499303, 0.003427040996029973, 0.0017710227984935045, 0.002587687922641635, 0.009956544265151024, 0.007537422236055136, 0.004963122308254242, 0.02366890385746956, 0.017456673085689545, 0.06967765837907791, 0.26127636432647705, 0.24082431197166443, 0.17677940428256989, 0.1574798971414566, 0.0, 0.0, 0.0, 0.0, 0.0, 0.0, 0.0, 0.0, 0.0, 0.0, 0.0, 0.0, 0.0, 0.0, 0.0, 0.0, 0.0], [0.05475032702088356, 0.009201948530972004, 0.0037833082024008036, 0.006891885306686163, 0.007006868254393339, 0.005267783999443054, 0.0019135891925543547, 0.006649015937000513, 0.022490767762064934, 0.007203695829957724, 0.0398598313331604, 0.026306938380002975, 0.03598395735025406, 0.1065463051199913, 0.14742791652679443, 0.029531924054026604, 0.1483418196439743, 0.23425239324569702, 0.10658969730138779, 0.0, 0.0, 0.0, 0.0, 0.0, 0.0, 0.0, 0.0, 0.0, 0.0, 0.0, 0.0, 0.0, 0.0, 0.0, 0.0], [0.08004867285490036, 0.0035627437755465508, 0.0033941480796784163, 0.011285572312772274, 0.012208583764731884, 0.0019434972200542688, 0.0039208331145346165, 0.02411661669611931, 0.023350009694695473, 0.008975878357887268, 0.005343944765627384, 0.02533605508506298, 0.01387019082903862, 0.10103657096624374, 0.03973802179098129, 0.08061380684375763, 0.12086483091115952, 0.12294679135084152, 0.14132507145404816, 0.17611819505691528, 0.0, 0.0, 0.0, 0.0, 0.0, 0.0, 0.0, 0.0, 0.0, 0.0, 0.0, 0.0, 0.0, 0.0, 0.0], [0.013053346425294876, 0.001979566179215908, 0.001618214650079608, 0.0014078505337238312, 0.0014868249418213964, 0.0013099153293296695, 0.0016642981208860874, 0.0025665173307061195, 0.00306267780251801, 0.01034056767821312, 0.007755248341709375, 0.008929424919188023, 0.008869530633091927, 0.01716511696577072, 0.07265783846378326, 0.08664464950561523, 0.062239475548267365, 0.1652844399213791, 0.07255079597234726, 0.0915554091334343, 0.367858350276947, 0.0, 0.0, 0.0, 0.0, 0.0, 0.0, 0.0, 0.0, 0.0, 0.0, 0.0, 0.0, 0.0, 0.0], [0.01231603417545557, 0.0011592386290431023, 0.0007622411358170211, 0.0019507521064952016, 0.0012718510115519166, 0.0006892280071042478, 0.000545900606084615, 0.002603003056719899, 0.003917676396667957, 0.0005409374134615064, 0.0012741887476295233, 0.006503173615783453, 0.005551603157073259, 0.017973491922020912, 0.013353358022868633, 0.03805120661854744, 0.04303402826189995, 0.03958645462989807, 0.02230061963200569, 0.03898363187909126, 0.5949543714523315, 0.1526770293712616, 0.0, 0.0, 0.0, 0.0, 0.0, 0.0, 0.0, 0.0, 0.0, 0.0, 0.0, 0.0, 0.0], [0.013724938035011292, 0.001612569554708898, 0.0003289870510343462, 0.0010084318928420544, 0.0011758026666939259, 0.000725926598533988, 0.0005918757524341345, 0.0009615571470931172, 0.0031186153646558523, 0.005969985853880644, 0.0030334617476910353, 0.003344495315104723, 0.008407563902437687, 0.013658521696925163, 0.005607022903859615, 0.005321713630110025, 0.019289929419755936, 0.029109584167599678, 0.013599622994661331, 0.031337667256593704, 0.25137266516685486, 0.5305222868919373, 0.05617685616016388, 0.0, 0.0, 0.0, 0.0, 0.0, 0.0, 0.0, 0.0, 0.0, 0.0, 0.0, 0.0], [0.0160023495554924, 0.0009560456965118647, 0.0005680466420017183, 0.0015549769159406424, 0.0015755705535411835, 0.0006219731876626611, 0.001125766895711422, 0.0014368736883625388, 0.0023100501857697964, 0.0009028321946971118, 0.001392145175486803, 0.003672588150948286, 0.0036322842352092266, 0.009217432700097561, 0.008623870089650154, 0.027025751769542694, 0.02137649804353714, 0.03330107033252716, 0.03885404020547867, 0.039058294147253036, 0.2659667432308197, 0.19372594356536865, 0.09792888909578323, 0.22916997969150543, 0.0, 0.0, 0.0, 0.0, 0.0, 0.0, 0.0, 0.0, 0.0, 0.0, 0.0], [0.009987286292016506, 0.0009651750442571938, 0.0006041581509634852, 0.0009222130756825209, 0.0008805812685750425, 0.0005974327796138823, 0.00021149231179151684, 0.0006455674883909523, 0.0012417688267305493, 0.0006859680870547891, 0.0007031487766653299, 0.0014577398542314768, 0.0018487706547603011, 0.00507720559835434, 0.0019275631057098508, 0.012413396500051022, 0.008568286895751953, 0.012073643505573273, 0.021936623379588127, 0.02919408492743969, 0.1427273452281952, 0.09834027290344238, 0.11847680062055588, 0.31631970405578613, 0.2121937870979309, 0.0, 0.0, 0.0, 0.0, 0.0, 0.0, 0.0, 0.0, 0.0, 0.0], [0.01686088740825653, 0.001970325829461217, 0.0008858360233716667, 0.0017656387062743306, 0.002392830792814493, 0.0005271152476780117, 0.00036178939626552165, 0.0006361035630106926, 0.0022411311510950327, 0.0008515833760611713, 0.00038157805101945996, 0.0022748245391994715, 0.0018798487726598978, 0.007292243652045727, 0.0021466724574565887, 0.002526309108361602, 0.010355672799050808, 0.011969290673732758, 0.006590908858925104, 0.012827458791434765, 0.1213049367070198, 0.06624636799097061, 0.14612378180027008, 0.2828071117401123, 0.24703356623649597, 0.04974621534347534, 0.0, 0.0, 0.0, 0.0, 0.0, 0.0, 0.0, 0.0, 0.0], [0.02640504203736782, 0.001423105364665389, 0.0016234481008723378, 0.0025764096062630415, 0.0026897070929408073, 0.0012257549678906798, 0.0010898784967139363, 0.0009538481244817376, 0.001922360621392727, 0.0024115298874676228, 0.002457946538925171, 0.0014354217564687133, 0.005378502421081066, 0.004732346162199974, 0.0019391182577237487, 0.007957507856190205, 0.0060868957079946995, 0.01265745423734188, 0.011602506972849369, 0.029096657410264015, 0.08598872274160385, 0.07665878534317017, 0.036240171641111374, 0.13133364915847778, 0.19490285217761993, 0.2176629900932312, 0.13154737651348114, 0.0, 0.0, 0.0, 0.0, 0.0, 0.0, 0.0, 0.0], [0.02389606647193432, 0.002067495370283723, 0.0025093823205679655, 0.001851199078373611, 0.003160962136462331, 0.0009005614556372166, 0.0002685423824004829, 0.0005213560652919114, 0.00178721291013062, 0.0019308942137286067, 0.0010158217046409845, 0.0010442680213600397, 0.001567705417983234, 0.004060101695358753, 0.0008207387290894985, 0.0033583026379346848, 0.004117126576602459, 0.0072230128571391106, 0.014547307044267654, 0.04635154828429222, 0.05601866543292999, 0.03840015083551407, 0.04161000996828079, 0.10494532436132431, 0.15788236260414124, 0.12118801474571228, 0.1909025013446808, 0.1660534292459488, 0.0, 0.0, 0.0, 0.0, 0.0, 0.0, 0.0], [0.040757644921541214, 0.0039583551697432995, 0.005698081571608782, 0.003957981243729591, 0.0014047760050743818, 0.0003276936477050185, 0.0006401909049600363, 0.0012045815819874406, 0.0022385530173778534, 0.0007448502583429217, 0.003836565650999546, 0.0016206788131967187, 0.0010148315923288465, 0.004261193796992302, 0.0009652950684539974, 0.00039543042657896876, 0.005401060916483402, 0.007263376843184233, 0.005766796413809061, 0.029991747811436653, 0.041736505925655365, 0.0175276231020689, 0.025155071169137955, 0.07565269619226456, 0.24542677402496338, 0.06668490916490555, 0.2648320198059082, 0.05502421408891678, 0.08651059865951538, 0.0, 0.0, 0.0, 0.0, 0.0, 0.0], [0.01178477518260479, 0.0013947566039860249, 0.0009515650453977287, 0.0008953213109634817, 0.0010372694814577699, 0.0004972646129317582, 0.00025283845025114715, 0.00043175744940526783, 0.0005345697863958776, 0.0002822920214384794, 0.0004274727252777666, 0.000547956966329366, 0.0008038744563236833, 0.0011037496151402593, 0.0010882844217121601, 0.002635375829413533, 0.00200331537052989, 0.0029394414741545916, 0.005114205647259951, 0.009162303991615772, 0.020236434414982796, 0.01439725048840046, 0.01438659243285656, 0.052873026579618454, 0.04425809532403946, 0.0717472955584526, 0.08077158033847809, 0.11779722571372986, 0.1448611468076706, 0.3947829604148865, 0.0, 0.0, 0.0, 0.0, 0.0], [0.012992840260267258, 0.0016676138620823622, 0.0010021066991612315, 0.0011761236237362027, 0.0007638351526111364, 0.0004005826194770634, 0.0001284925383515656, 0.00010518696944927797, 0.0005606425693258643, 0.00014079385437071323, 0.00012207581312395632, 0.0003985983203165233, 0.00022988348791841418, 0.0011077843373641372, 0.00036310203722678125, 0.0008891798788681626, 0.0014402426313608885, 0.0014520155964419246, 0.0026305634528398514, 0.0031673754565417767, 0.017224639654159546, 0.010722314938902855, 0.005022991914302111, 0.04577847942709923, 0.04751971736550331, 0.0270671546459198, 0.052168525755405426, 0.05500786006450653, 0.11481007188558578, 0.44568800926208496, 0.14825111627578735, 0.0, 0.0, 0.0, 0.0], [0.011720005422830582, 0.0009638675837777555, 0.0016792812384665012, 0.0009598799515515566, 0.0011835336918011308, 0.0003587339597288519, 0.0001312521635554731, 0.00020985900482628495, 0.0003518584999255836, 0.00011673830886138603, 0.0003326713340356946, 0.0002089979825541377, 0.00016304090968333185, 0.0005591614753939211, 0.00017877858772408217, 0.0005847535212524235, 0.0006520430324599147, 0.0008100865525193512, 0.0008232014370150864, 0.0065451376140117645, 0.007790680509060621, 0.00662250118330121, 0.005052969325333834, 0.014489849098026752, 0.024942103773355484, 0.019010335206985474, 0.028525497764348984, 0.03678770735859871, 0.14266949892044067, 0.23489893972873688, 0.30085456371307373, 0.1498224139213562, 0.0, 0.0, 0.0], [0.011463247239589691, 0.0009014803799800575, 0.0005477436352521181, 0.0005869866581633687, 0.0005616610287688673, 0.00023434736067429185, 0.0001394464197801426, 0.00019926734967157245, 0.0003140301560051739, 0.0001251461508218199, 0.0002147946652257815, 0.0002481336996424943, 0.00022906131925992668, 0.0005020772805437446, 0.0004519003559835255, 0.0006676724879071116, 0.0007638582028448582, 0.0009467130876146257, 0.0010094349272549152, 0.003719559172168374, 0.0074448902159929276, 0.0045005506835877895, 0.0018344322452321649, 0.012973591685295105, 0.01552247628569603, 0.021838301792740822, 0.016228925436735153, 0.0246974378824234, 0.038053203374147415, 0.16302353143692017, 0.11826065182685852, 0.22884736955165863, 0.32294806838035583, 0.0, 0.0], [0.009539688006043434, 0.0014243241166695952, 0.0009944560006260872, 0.0009655558387748897, 0.0007854425930418074, 0.0003016053233295679, 0.00011159547284478322, 0.0008093683863990009, 0.00040054702549241483, 8.517027890775353e-05, 0.0006307552685029805, 0.00020861485973000526, 0.00025255573564209044, 0.0005451838951557875, 0.00024275541363749653, 0.0005828294670209289, 0.0005503924912773073, 0.001054853666573763, 0.0010979118524119258, 0.004033524077385664, 0.005151554010808468, 0.007251241244375706, 0.00398818077519536, 0.012260369956493378, 0.013561579398810863, 0.03828657791018486, 0.06675270199775696, 0.013111544772982597, 0.10093268752098083, 0.13179121911525726, 0.05432308837771416, 0.15251493453979492, 0.3083246052265167, 0.06713256239891052, 0.0], [0.009234580211341381, 0.0018696945626288652, 0.0015434966189786792, 0.0012878919951617718, 0.0009349422180093825, 0.0002825604460667819, 0.00044942842214368284, 0.0005594996619038284, 0.000327768677379936, 7.203823770396411e-05, 0.00010657909297151491, 0.00026362432981841266, 0.00036547318450175226, 0.0003748318995349109, 0.00031175310141406953, 0.0008969135233201087, 0.0006347462767735124, 0.0008650023373775184, 0.0008020035456866026, 0.0006307888543233275, 0.0032187800388783216, 0.003845826257020235, 0.003000437282025814, 0.007814165204763412, 0.010107208974659443, 0.01672155223786831, 0.007672077510505915, 0.010031217709183693, 0.005356379318982363, 0.07757052034139633, 0.03774449601769447, 0.13809102773666382, 0.1956760287284851, 0.030743543058633804, 0.4305931031703949]], [[1.0, 0.0, 0.0, 0.0, 0.0, 0.0, 0.0, 0.0, 0.0, 0.0, 0.0, 0.0, 0.0, 0.0, 0.0, 0.0, 0.0, 0.0, 0.0, 0.0, 0.0, 0.0, 0.0, 0.0, 0.0, 0.0, 0.0, 0.0, 0.0, 0.0, 0.0, 0.0, 0.0, 0.0, 0.0], [0.8970723748207092, 0.10292758047580719, 0.0, 0.0, 0.0, 0.0, 0.0, 0.0, 0.0, 0.0, 0.0, 0.0, 0.0, 0.0, 0.0, 0.0, 0.0, 0.0, 0.0, 0.0, 0.0, 0.0, 0.0, 0.0, 0.0, 0.0, 0.0, 0.0, 0.0, 0.0, 0.0, 0.0, 0.0, 0.0, 0.0], [0.7731761336326599, 0.17108601331710815, 0.05573778972029686, 0.0, 0.0, 0.0, 0.0, 0.0, 0.0, 0.0, 0.0, 0.0, 0.0, 0.0, 0.0, 0.0, 0.0, 0.0, 0.0, 0.0, 0.0, 0.0, 0.0, 0.0, 0.0, 0.0, 0.0, 0.0, 0.0, 0.0, 0.0, 0.0, 0.0, 0.0, 0.0], [0.21909824013710022, 0.0959283784031868, 0.15399764478206635, 0.5309757590293884, 0.0, 0.0, 0.0, 0.0, 0.0, 0.0, 0.0, 0.0, 0.0, 0.0, 0.0, 0.0, 0.0, 0.0, 0.0, 0.0, 0.0, 0.0, 0.0, 0.0, 0.0, 0.0, 0.0, 0.0, 0.0, 0.0, 0.0, 0.0, 0.0, 0.0, 0.0], [0.4932920038700104, 0.12421067804098129, 0.08378956466913223, 0.21044497191905975, 0.08826272189617157, 0.0, 0.0, 0.0, 0.0, 0.0, 0.0, 0.0, 0.0, 0.0, 0.0, 0.0, 0.0, 0.0, 0.0, 0.0, 0.0, 0.0, 0.0, 0.0, 0.0, 0.0, 0.0, 0.0, 0.0, 0.0, 0.0, 0.0, 0.0, 0.0, 0.0], [0.4792534410953522, 0.11483926326036453, 0.05825287848711014, 0.12140924483537674, 0.19296890497207642, 0.033276256173849106, 0.0, 0.0, 0.0, 0.0, 0.0, 0.0, 0.0, 0.0, 0.0, 0.0, 0.0, 0.0, 0.0, 0.0, 0.0, 0.0, 0.0, 0.0, 0.0, 0.0, 0.0, 0.0, 0.0, 0.0, 0.0, 0.0, 0.0, 0.0, 0.0], [0.337607204914093, 0.13038291037082672, 0.12365783005952835, 0.1684831976890564, 0.039485588669776917, 0.15522712469100952, 0.04515615478157997, 0.0, 0.0, 0.0, 0.0, 0.0, 0.0, 0.0, 0.0, 0.0, 0.0, 0.0, 0.0, 0.0, 0.0, 0.0, 0.0, 0.0, 0.0, 0.0, 0.0, 0.0, 0.0, 0.0, 0.0, 0.0, 0.0, 0.0, 0.0], [0.3124316334724426, 0.10335507988929749, 0.07322125881910324, 0.13077449798583984, 0.08650767803192139, 0.2037171870470047, 0.04714138060808182, 0.042851291596889496, 0.0, 0.0, 0.0, 0.0, 0.0, 0.0, 0.0, 0.0, 0.0, 0.0, 0.0, 0.0, 0.0, 0.0, 0.0, 0.0, 0.0, 0.0, 0.0, 0.0, 0.0, 0.0, 0.0, 0.0, 0.0, 0.0, 0.0], [0.10719949007034302, 0.032564759254455566, 0.04615402966737747, 0.125227689743042, 0.011105227284133434, 0.034330010414123535, 0.007858370430767536, 0.01136656291782856, 0.6241939663887024, 0.0, 0.0, 0.0, 0.0, 0.0, 0.0, 0.0, 0.0, 0.0, 0.0, 0.0, 0.0, 0.0, 0.0, 0.0, 0.0, 0.0, 0.0, 0.0, 0.0, 0.0, 0.0, 0.0, 0.0, 0.0, 0.0], [0.3028891682624817, 0.0780496597290039, 0.05937649682164192, 0.09426914900541306, 0.1737714558839798, 0.03861623629927635, 0.04802527278661728, 0.03951253369450569, 0.13237625360488892, 0.033113785088062286, 0.0, 0.0, 0.0, 0.0, 0.0, 0.0, 0.0, 0.0, 0.0, 0.0, 0.0, 0.0, 0.0, 0.0, 0.0, 0.0, 0.0, 0.0, 0.0, 0.0, 0.0, 0.0, 0.0, 0.0, 0.0], [0.1302768588066101, 0.04213486239314079, 0.0725821703672409, 0.1092287078499794, 0.03630433976650238, 0.1911255419254303, 0.03369796648621559, 0.05715859681367874, 0.1118721216917038, 0.16414134204387665, 0.051477447152137756, 0.0, 0.0, 0.0, 0.0, 0.0, 0.0, 0.0, 0.0, 0.0, 0.0, 0.0, 0.0, 0.0, 0.0, 0.0, 0.0, 0.0, 0.0, 0.0, 0.0, 0.0, 0.0, 0.0, 0.0], [0.0946442037820816, 0.02925342693924904, 0.038119472563266754, 0.1498957723379135, 0.020670855417847633, 0.07631715387105942, 0.008947468362748623, 0.0200450848788023, 0.3057856559753418, 0.0475209578871727, 0.010440821759402752, 0.1983591616153717, 0.0, 0.0, 0.0, 0.0, 0.0, 0.0, 0.0, 0.0, 0.0, 0.0, 0.0, 0.0, 0.0, 0.0, 0.0, 0.0, 0.0, 0.0, 0.0, 0.0, 0.0, 0.0, 0.0], [0.14440803229808807, 0.06329527497291565, 0.07617766410112381, 0.07194554805755615, 0.03394105285406113, 0.08442066609859467, 0.03594021126627922, 0.07685534656047821, 0.11588281393051147, 0.05951952189207077, 0.061834968626499176, 0.14841710031032562, 0.027361780405044556, 0.0, 0.0, 0.0, 0.0, 0.0, 0.0, 0.0, 0.0, 0.0, 0.0, 0.0, 0.0, 0.0, 0.0, 0.0, 0.0, 0.0, 0.0, 0.0, 0.0, 0.0, 0.0], [0.04147874936461449, 0.011494400911033154, 0.017643557861447334, 0.045997254550457, 0.004085009917616844, 0.013701103627681732, 0.0028708965983241796, 0.004510775674134493, 0.2416485995054245, 0.009729510173201561, 0.0026167321484535933, 0.26417702436447144, 0.008053767494857311, 0.33199262619018555, 0.0, 0.0, 0.0, 0.0, 0.0, 0.0, 0.0, 0.0, 0.0, 0.0, 0.0, 0.0, 0.0, 0.0, 0.0, 0.0, 0.0, 0.0, 0.0, 0.0, 0.0], [0.1515585482120514, 0.0377250537276268, 0.027330687269568443, 0.06052475795149803, 0.03014325723052025, 0.028034871444106102, 0.013341400772333145, 0.022503027692437172, 0.11653435230255127, 0.05189967527985573, 0.010558651760220528, 0.10229872167110443, 0.01516727078706026, 0.14137369394302368, 0.19100597500801086, 0.0, 0.0, 0.0, 0.0, 0.0, 0.0, 0.0, 0.0, 0.0, 0.0, 0.0, 0.0, 0.0, 0.0, 0.0, 0.0, 0.0, 0.0, 0.0, 0.0], [0.2839046120643616, 0.0650240033864975, 0.03238338977098465, 0.029591113328933716, 0.042432013899087906, 0.028469756245613098, 0.04153312370181084, 0.08465301245450974, 0.043854981660842896, 0.027530401945114136, 0.09218157827854156, 0.03751113638281822, 0.04891904443502426, 0.04984968155622482, 0.07913839817047119, 0.013023792766034603, 0.0, 0.0, 0.0, 0.0, 0.0, 0.0, 0.0, 0.0, 0.0, 0.0, 0.0, 0.0, 0.0, 0.0, 0.0, 0.0, 0.0, 0.0, 0.0], [0.048857614398002625, 0.014007359743118286, 0.019542641937732697, 0.07337553799152374, 0.010089137591421604, 0.03972569480538368, 0.004310049116611481, 0.010590334422886372, 0.15303607285022736, 0.026499027386307716, 0.005417247768491507, 0.09647626429796219, 0.012806719169020653, 0.20478640496730804, 0.14743395149707794, 0.009689169935882092, 0.12335675954818726, 0.0, 0.0, 0.0, 0.0, 0.0, 0.0, 0.0, 0.0, 0.0, 0.0, 0.0, 0.0, 0.0, 0.0, 0.0, 0.0, 0.0, 0.0], [0.05943123623728752, 0.025951169431209564, 0.035473886877298355, 0.03907971456646919, 0.01804930716753006, 0.02308722212910652, 0.010503747500479221, 0.03006953001022339, 0.09918282181024551, 0.03614409640431404, 0.01841001957654953, 0.11741489171981812, 0.01716756820678711, 0.1276998668909073, 0.08459027856588364, 0.03790269047021866, 0.14577245712280273, 0.07406952232122421, 0.0, 0.0, 0.0, 0.0, 0.0, 0.0, 0.0, 0.0, 0.0, 0.0, 0.0, 0.0, 0.0, 0.0, 0.0, 0.0, 0.0], [0.27248889207839966, 0.045022740960121155, 0.046122487634420395, 0.04205196350812912, 0.038135625422000885, 0.05454425513744354, 0.025706559419631958, 0.01925414614379406, 0.04536452144384384, 0.05106881260871887, 0.021479351446032524, 0.05142940208315849, 0.03568310663104057, 0.05110247805714607, 0.042210228741168976, 0.03813282027840614, 0.05789826065301895, 0.02354007214307785, 0.038764264434576035, 0.0, 0.0, 0.0, 0.0, 0.0, 0.0, 0.0, 0.0, 0.0, 0.0, 0.0, 0.0, 0.0, 0.0, 0.0, 0.0], [0.23981259763240814, 0.037238821387290955, 0.046413250267505646, 0.018074767664074898, 0.028609443455934525, 0.031563617289066315, 0.02326365001499653, 0.05314116179943085, 0.03672981262207031, 0.04436156898736954, 0.014089997857809067, 0.040796518325805664, 0.013384034857153893, 0.04018270969390869, 0.025124957785010338, 0.02228316105902195, 0.04457438737154007, 0.026357239112257957, 0.0185021311044693, 0.19549620151519775, 0.0, 0.0, 0.0, 0.0, 0.0, 0.0, 0.0, 0.0, 0.0, 0.0, 0.0, 0.0, 0.0, 0.0, 0.0], [0.03447255864739418, 0.007049784529954195, 0.008516239002346992, 0.01982327178120613, 0.0020061933901160955, 0.008738486096262932, 0.0013805292546749115, 0.0025849819649010897, 0.12963874638080597, 0.004980514757335186, 0.0014542951248586178, 0.0979350283741951, 0.004242652095854282, 0.17474907636642456, 0.02057536505162716, 0.0029217249248176813, 0.12519221007823944, 0.01766674779355526, 0.00817245151847601, 0.006463988684117794, 0.3214351534843445, 0.0, 0.0, 0.0, 0.0, 0.0, 0.0, 0.0, 0.0, 0.0, 0.0, 0.0, 0.0, 0.0, 0.0], [0.07532123476266861, 0.01738511398434639, 0.026499614119529724, 0.038201116025447845, 0.013464309275150299, 0.017004922032356262, 0.005682712886482477, 0.008161385543644428, 0.08791027218103409, 0.015651989728212357, 0.004622368607670069, 0.06870011240243912, 0.017068369314074516, 0.11098404973745346, 0.08843357115983963, 0.015540488995611668, 0.08290651440620422, 0.03445710241794586, 0.0349029004573822, 0.022669069468975067, 0.16727595031261444, 0.047156888991594315, 0.0, 0.0, 0.0, 0.0, 0.0, 0.0, 0.0, 0.0, 0.0, 0.0, 0.0, 0.0, 0.0], [0.11039698868989944, 0.017618590965867043, 0.01207323931157589, 0.07903026789426804, 0.047071799635887146, 0.028393464162945747, 0.01085328496992588, 0.03898293152451515, 0.0425417423248291, 0.05313577130436897, 0.010616560466587543, 0.040667418390512466, 0.016578689217567444, 0.05044251307845116, 0.041483089327812195, 0.011694176122546196, 0.048943892121315, 0.04587526619434357, 0.06803464144468307, 0.03145821765065193, 0.0737365111708641, 0.09332364797592163, 0.027047287672758102, 0.0, 0.0, 0.0, 0.0, 0.0, 0.0, 0.0, 0.0, 0.0, 0.0, 0.0, 0.0], [0.050105903297662735, 0.011403629556298256, 0.018980011343955994, 0.04829108342528343, 0.0054781632497906685, 0.027938099578022957, 0.003475342644378543, 0.009667647071182728, 0.08883960545063019, 0.021459760144352913, 0.009184237569570541, 0.06738948822021484, 0.006293780170381069, 0.11730510741472244, 0.055593881756067276, 0.023259542882442474, 0.08538829535245895, 0.03017234429717064, 0.01855376735329628, 0.04972721263766289, 0.13869956135749817, 0.03593094274401665, 0.029570596292614937, 0.04729194566607475, 0.0, 0.0, 0.0, 0.0, 0.0, 0.0, 0.0, 0.0, 0.0, 0.0, 0.0], [0.033650629222393036, 0.039734307676553726, 0.01394327636808157, 0.02215501479804516, 0.0073740920051932335, 0.012534328736364841, 0.003937926609069109, 0.00558803416788578, 0.052764151245355606, 0.011353475041687489, 0.002976150717586279, 0.06121997535228729, 0.007114537991583347, 0.066092848777771, 0.0184572022408247, 0.004707178566604853, 0.07780607789754868, 0.015934061259031296, 0.01626972295343876, 0.027332933619618416, 0.08945079147815704, 0.02828320674598217, 0.013428360223770142, 0.24125005304813385, 0.12664172053337097, 0.0, 0.0, 0.0, 0.0, 0.0, 0.0, 0.0, 0.0, 0.0, 0.0], [0.10163001716136932, 0.048173412680625916, 0.022741546854376793, 0.017647171393036842, 0.016357647255063057, 0.014718164689838886, 0.02023889683187008, 0.030098266899585724, 0.03836439549922943, 0.025297462940216064, 0.039593446999788284, 0.04179811850190163, 0.01849495992064476, 0.04345665127038956, 0.023876940831542015, 0.013411917723715305, 0.04804755374789238, 0.02199525758624077, 0.030744796618819237, 0.051684729754924774, 0.05786482244729996, 0.04216013103723526, 0.050390083342790604, 0.08024894446134567, 0.07608183473348618, 0.024882804602384567, 0.0, 0.0, 0.0, 0.0, 0.0, 0.0, 0.0, 0.0, 0.0], [0.06603530049324036, 0.020660098642110825, 0.021681712940335274, 0.034087613224983215, 0.015279389917850494, 0.018442001193761826, 0.010789584368467331, 0.055958352982997894, 0.03565486893057823, 0.021738847717642784, 0.025664931163191795, 0.039465535432100296, 0.01909186691045761, 0.04260500520467758, 0.045140340924263, 0.012913570739328861, 0.04735581576824188, 0.025561846792697906, 0.0352441743016243, 0.09746360033750534, 0.05611315369606018, 0.03593849763274193, 0.032567013055086136, 0.043019868433475494, 0.04697674885392189, 0.0324612557888031, 0.062089040875434875, 0.0, 0.0, 0.0, 0.0, 0.0, 0.0, 0.0, 0.0], [0.10541105270385742, 0.0169731006026268, 0.020341038703918457, 0.03266653046011925, 0.021851183846592903, 0.031789910048246384, 0.005571209359914064, 0.024194544181227684, 0.016740452498197556, 0.016082540154457092, 0.013484912924468517, 0.022790376096963882, 0.020844900980591774, 0.019816406071186066, 0.0074119893833994865, 0.013035054318606853, 0.026982471346855164, 0.010132255963981152, 0.017667721956968307, 0.2972624599933624, 0.023457158356904984, 0.03235583007335663, 0.03224536404013634, 0.01998010464012623, 0.050171975046396255, 0.04827887937426567, 0.03308824077248573, 0.019372403621673584, 0.0, 0.0, 0.0, 0.0, 0.0, 0.0, 0.0], [0.11478208005428314, 0.028451869264245033, 0.030158115550875664, 0.029890701174736023, 0.015577712096273899, 0.04523627832531929, 0.008156666532158852, 0.0467776358127594, 0.020574571564793587, 0.018089178949594498, 0.016638444736599922, 0.024351511150598526, 0.01428101398050785, 0.022870570421218872, 0.024558424949645996, 0.021522248163819313, 0.02774013578891754, 0.012263164855539799, 0.016789685934782028, 0.030601778998970985, 0.033104460686445236, 0.04230622947216034, 0.050134263932704926, 0.03989562392234802, 0.025471458211541176, 0.03835652023553848, 0.14836572110652924, 0.04062199220061302, 0.01243198849260807, 0.0, 0.0, 0.0, 0.0, 0.0, 0.0], [0.01040296908468008, 0.0039883083663880825, 0.0075365579687058926, 0.023714052513241768, 0.0015747003490105271, 0.004556490108370781, 0.0011461435351520777, 0.0020206551998853683, 0.08388333022594452, 0.006093545816838741, 0.0012243639212101698, 0.08011969923973083, 0.0032829279080033302, 0.11485137790441513, 0.020138554275035858, 0.003874019253998995, 0.10355662554502487, 0.01623992808163166, 0.006219513714313507, 0.01115878764539957, 0.1289723664522171, 0.01691610738635063, 0.00881306640803814, 0.028795931488275528, 0.06059353053569794, 0.005618592258542776, 0.016893552616238594, 0.008791659027338028, 0.01702238991856575, 0.202000230550766, 0.0, 0.0, 0.0, 0.0, 0.0], [0.05472034215927124, 0.015954433009028435, 0.012098271399736404, 0.02283375710248947, 0.018985189497470856, 0.028783857822418213, 0.008076777681708336, 0.008372061885893345, 0.03956404700875282, 0.012315305881202221, 0.00958833284676075, 0.02357124723494053, 0.010643096640706062, 0.04663839936256409, 0.014515895396471024, 0.012394599616527557, 0.02759735845029354, 0.02169141359627247, 0.020180556923151016, 0.018239209428429604, 0.05496654286980629, 0.0371178574860096, 0.024245040491223335, 0.03499601036310196, 0.14947693049907684, 0.02901947684586048, 0.04327644780278206, 0.015866441652178764, 0.045115403831005096, 0.11428385227918625, 0.02487177774310112, 0.0, 0.0, 0.0, 0.0], [0.02826634608209133, 0.008342581801116467, 0.009693177416920662, 0.0240032821893692, 0.012406985275447369, 0.009731597267091274, 0.007254770491272211, 0.011378860101103783, 0.0452534556388855, 0.014661082066595554, 0.004759795963764191, 0.03279304876923561, 0.009599760174751282, 0.05662670359015465, 0.023795729503035545, 0.004614103119820356, 0.039821457117795944, 0.021238984540104866, 0.025286568328738213, 0.10159793496131897, 0.092783123254776, 0.026123862713575363, 0.015091421082615852, 0.0345856212079525, 0.06182195618748665, 0.013407002203166485, 0.016889788210392, 0.030893534421920776, 0.02819485031068325, 0.1103137731552124, 0.04056955873966217, 0.03819926083087921, 0.0, 0.0, 0.0], [0.005920086055994034, 0.002644824329763651, 0.005754890851676464, 0.021997150033712387, 0.0013081278884783387, 0.00572653254494071, 0.0008704035426490009, 0.0018940421286970377, 0.052954934537410736, 0.004725005943328142, 0.000999943120405078, 0.04342703893780708, 0.0021749818697571754, 0.07363717257976532, 0.017015771940350533, 0.003086990909650922, 0.05779092386364937, 0.010734477080404758, 0.003425820032134652, 0.010332698002457619, 0.08509068191051483, 0.012429174035787582, 0.006230233237147331, 0.022221002727746964, 0.0641111508011818, 0.0050534820184111595, 0.018152384087443352, 0.0075941504910588264, 0.006786443293094635, 0.1671644151210785, 0.013871805742383003, 0.01475562434643507, 0.25011759996414185, 0.0, 0.0], [0.05958714336156845, 0.014287118799984455, 0.009688673540949821, 0.028474606573581696, 0.028604792430996895, 0.026259342208504677, 0.008819639682769775, 0.022136053070425987, 0.01791021041572094, 0.02639753557741642, 0.01724356785416603, 0.025983799248933792, 0.006316176149994135, 0.020043158903717995, 0.015440626069903374, 0.02594022825360298, 0.030103040859103203, 0.01836533285677433, 0.023130424320697784, 0.02621453069150448, 0.03115726262331009, 0.028986213728785515, 0.028961291536688805, 0.016435232013463974, 0.03480091691017151, 0.03794367238879204, 0.07380686700344086, 0.03077244944870472, 0.02851729281246662, 0.07387092709541321, 0.024587733671069145, 0.03523411601781845, 0.08090806752443314, 0.02307198941707611, 0.0], [0.052589934319257736, 0.0082823745906353, 0.004686594009399414, 0.01155609916895628, 0.0021243600640445948, 0.007376655004918575, 0.002569908509030938, 0.005167303141206503, 0.06430478394031525, 0.00868866965174675, 0.004349809605628252, 0.05405198037624359, 0.00356732658110559, 0.08101716637611389, 0.02145703323185444, 0.0041440692730247974, 0.06621567159891129, 0.018716935068368912, 0.009488234296441078, 0.006038547959178686, 0.10274302959442139, 0.01456520240753889, 0.009106308221817017, 0.02165764756500721, 0.035248033702373505, 0.0048526255413889885, 0.008422154933214188, 0.01958950236439705, 0.011885889805853367, 0.14464659988880157, 0.01660756766796112, 0.022834794595837593, 0.08476634323596954, 0.01512683555483818, 0.05155403912067413]], [[1.0, 0.0, 0.0, 0.0, 0.0, 0.0, 0.0, 0.0, 0.0, 0.0, 0.0, 0.0, 0.0, 0.0, 0.0, 0.0, 0.0, 0.0, 0.0, 0.0, 0.0, 0.0, 0.0, 0.0, 0.0, 0.0, 0.0, 0.0, 0.0, 0.0, 0.0, 0.0, 0.0, 0.0, 0.0], [0.8803902268409729, 0.11960973590612411, 0.0, 0.0, 0.0, 0.0, 0.0, 0.0, 0.0, 0.0, 0.0, 0.0, 0.0, 0.0, 0.0, 0.0, 0.0, 0.0, 0.0, 0.0, 0.0, 0.0, 0.0, 0.0, 0.0, 0.0, 0.0, 0.0, 0.0, 0.0, 0.0, 0.0, 0.0, 0.0, 0.0], [0.8001626133918762, 0.14422571659088135, 0.05561169981956482, 0.0, 0.0, 0.0, 0.0, 0.0, 0.0, 0.0, 0.0, 0.0, 0.0, 0.0, 0.0, 0.0, 0.0, 0.0, 0.0, 0.0, 0.0, 0.0, 0.0, 0.0, 0.0, 0.0, 0.0, 0.0, 0.0, 0.0, 0.0, 0.0, 0.0, 0.0, 0.0], [0.6471942663192749, 0.1470177173614502, 0.07931007444858551, 0.12647795677185059, 0.0, 0.0, 0.0, 0.0, 0.0, 0.0, 0.0, 0.0, 0.0, 0.0, 0.0, 0.0, 0.0, 0.0, 0.0, 0.0, 0.0, 0.0, 0.0, 0.0, 0.0, 0.0, 0.0, 0.0, 0.0, 0.0, 0.0, 0.0, 0.0, 0.0, 0.0], [0.6291002631187439, 0.13269929587841034, 0.08307390660047531, 0.10306607931852341, 0.05206041783094406, 0.0, 0.0, 0.0, 0.0, 0.0, 0.0, 0.0, 0.0, 0.0, 0.0, 0.0, 0.0, 0.0, 0.0, 0.0, 0.0, 0.0, 0.0, 0.0, 0.0, 0.0, 0.0, 0.0, 0.0, 0.0, 0.0, 0.0, 0.0, 0.0, 0.0], [0.5631015300750732, 0.12375930696725845, 0.1115972250699997, 0.10842728614807129, 0.08343339711427689, 0.00968118291348219, 0.0, 0.0, 0.0, 0.0, 0.0, 0.0, 0.0, 0.0, 0.0, 0.0, 0.0, 0.0, 0.0, 0.0, 0.0, 0.0, 0.0, 0.0, 0.0, 0.0, 0.0, 0.0, 0.0, 0.0, 0.0, 0.0, 0.0, 0.0, 0.0], [0.4973389506340027, 0.11400076001882553, 0.07851861417293549, 0.10408838093280792, 0.08229987323284149, 0.08720177412033081, 0.03655163198709488, 0.0, 0.0, 0.0, 0.0, 0.0, 0.0, 0.0, 0.0, 0.0, 0.0, 0.0, 0.0, 0.0, 0.0, 0.0, 0.0, 0.0, 0.0, 0.0, 0.0, 0.0, 0.0, 0.0, 0.0, 0.0, 0.0, 0.0, 0.0], [0.4618664085865021, 0.10720596462488174, 0.07680262625217438, 0.09525879472494125, 0.11179571598768234, 0.04683656617999077, 0.06328977644443512, 0.03694407269358635, 0.0, 0.0, 0.0, 0.0, 0.0, 0.0, 0.0, 0.0, 0.0, 0.0, 0.0, 0.0, 0.0, 0.0, 0.0, 0.0, 0.0, 0.0, 0.0, 0.0, 0.0, 0.0, 0.0, 0.0, 0.0, 0.0, 0.0], [0.40880170464515686, 0.11223533004522324, 0.06194949895143509, 0.08138212561607361, 0.06888708472251892, 0.047599416226148605, 0.05779566615819931, 0.06300584971904755, 0.09834324568510056, 0.0, 0.0, 0.0, 0.0, 0.0, 0.0, 0.0, 0.0, 0.0, 0.0, 0.0, 0.0, 0.0, 0.0, 0.0, 0.0, 0.0, 0.0, 0.0, 0.0, 0.0, 0.0, 0.0, 0.0, 0.0, 0.0], [0.33778560161590576, 0.0776895210146904, 0.061640266329050064, 0.08030419796705246, 0.09243476390838623, 0.12569798529148102, 0.04310274496674538, 0.08006501942873001, 0.08753136545419693, 0.013748619705438614, 0.0, 0.0, 0.0, 0.0, 0.0, 0.0, 0.0, 0.0, 0.0, 0.0, 0.0, 0.0, 0.0, 0.0, 0.0, 0.0, 0.0, 0.0, 0.0, 0.0, 0.0, 0.0, 0.0, 0.0, 0.0], [0.4084457457065582, 0.07972611486911774, 0.05943281948566437, 0.07098964601755142, 0.06258385628461838, 0.07298712432384491, 0.05290917307138443, 0.06663107872009277, 0.08486583828926086, 0.030785242095589638, 0.010643377900123596, 0.0, 0.0, 0.0, 0.0, 0.0, 0.0, 0.0, 0.0, 0.0, 0.0, 0.0, 0.0, 0.0, 0.0, 0.0, 0.0, 0.0, 0.0, 0.0, 0.0, 0.0, 0.0, 0.0, 0.0], [0.3284088671207428, 0.08126053214073181, 0.05222119018435478, 0.0667019784450531, 0.062212180346250534, 0.046883296221494675, 0.04748224467039108, 0.04943712800741196, 0.0864437073469162, 0.05108512565493584, 0.04660410061478615, 0.08125968277454376, 0.0, 0.0, 0.0, 0.0, 0.0, 0.0, 0.0, 0.0, 0.0, 0.0, 0.0, 0.0, 0.0, 0.0, 0.0, 0.0, 0.0, 0.0, 0.0, 0.0, 0.0, 0.0, 0.0], [0.28456375002861023, 0.0733422338962555, 0.05956627056002617, 0.0599568635225296, 0.06261259317398071, 0.04492253065109253, 0.05354888737201691, 0.05539514869451523, 0.0760505199432373, 0.05439154431223869, 0.055210135877132416, 0.0848141610622406, 0.03562534227967262, 0.0, 0.0, 0.0, 0.0, 0.0, 0.0, 0.0, 0.0, 0.0, 0.0, 0.0, 0.0, 0.0, 0.0, 0.0, 0.0, 0.0, 0.0, 0.0, 0.0, 0.0, 0.0], [0.2986925542354584, 0.08053485304117203, 0.04630002751946449, 0.05841614305973053, 0.052452508360147476, 0.03589675575494766, 0.04313002899289131, 0.04816407710313797, 0.07179583609104156, 0.035882286727428436, 0.034986358135938644, 0.0663861334323883, 0.047498852014541626, 0.079863540828228, 0.0, 0.0, 0.0, 0.0, 0.0, 0.0, 0.0, 0.0, 0.0, 0.0, 0.0, 0.0, 0.0, 0.0, 0.0, 0.0, 0.0, 0.0, 0.0, 0.0, 0.0], [0.2618488073348999, 0.06895223259925842, 0.046620965003967285, 0.05860459804534912, 0.046928770840168, 0.055680129677057266, 0.049152057617902756, 0.04117774963378906, 0.07490754127502441, 0.031984273344278336, 0.032572243362665176, 0.07257074117660522, 0.03739876300096512, 0.08542975783348083, 0.03617139533162117, 0.0, 0.0, 0.0, 0.0, 0.0, 0.0, 0.0, 0.0, 0.0, 0.0, 0.0, 0.0, 0.0, 0.0, 0.0, 0.0, 0.0, 0.0, 0.0, 0.0], [0.2941747009754181, 0.05360919237136841, 0.038608770817518234, 0.04952673614025116, 0.04060916230082512, 0.041493307799100876, 0.029716240242123604, 0.04536978900432587, 0.06024932116270065, 0.04159969463944435, 0.06637389212846756, 0.05982467532157898, 0.040502872318029404, 0.06734267622232437, 0.060957398265600204, 0.010041472502052784, 0.0, 0.0, 0.0, 0.0, 0.0, 0.0, 0.0, 0.0, 0.0, 0.0, 0.0, 0.0, 0.0, 0.0, 0.0, 0.0, 0.0, 0.0, 0.0], [0.24078042805194855, 0.05731499567627907, 0.038129813969135284, 0.04762377217411995, 0.04672613739967346, 0.035154763609170914, 0.03462181240320206, 0.037472423166036606, 0.062347814440727234, 0.039545491337776184, 0.0357443131506443, 0.058745015412569046, 0.03407841920852661, 0.07071568071842194, 0.05439119040966034, 0.03945144638419151, 0.06715650856494904, 0.0, 0.0, 0.0, 0.0, 0.0, 0.0, 0.0, 0.0, 0.0, 0.0, 0.0, 0.0, 0.0, 0.0, 0.0, 0.0, 0.0, 0.0], [0.19008122384548187, 0.055469147861003876, 0.038249872624874115, 0.04468470811843872, 0.043491899967193604, 0.03729136660695076, 0.03500029817223549, 0.034133367240428925, 0.05614841729402542, 0.029018202796578407, 0.026478609070181847, 0.06265051662921906, 0.03502199053764343, 0.06568857282400131, 0.05714200437068939, 0.047816287726163864, 0.07356442511081696, 0.06806913763284683, 0.0, 0.0, 0.0, 0.0, 0.0, 0.0, 0.0, 0.0, 0.0, 0.0, 0.0, 0.0, 0.0, 0.0, 0.0, 0.0, 0.0], [0.23406492173671722, 0.04765680432319641, 0.03626639395952225, 0.04350152239203453, 0.0448232926428318, 0.030926164239645004, 0.02414553053677082, 0.03047102689743042, 0.051002662628889084, 0.03852144256234169, 0.04128359258174896, 0.052890993654727936, 0.02789277769625187, 0.057388804852962494, 0.06067000702023506, 0.04387100040912628, 0.059330180287361145, 0.05117017403244972, 0.024122687056660652, 0.0, 0.0, 0.0, 0.0, 0.0, 0.0, 0.0, 0.0, 0.0, 0.0, 0.0, 0.0, 0.0, 0.0, 0.0, 0.0], [0.31211692094802856, 0.04305700957775116, 0.030739225447177887, 0.0399012491106987, 0.04073917493224144, 0.0339735709130764, 0.013991209678351879, 0.03250165283679962, 0.04214293137192726, 0.031367406249046326, 0.05722322687506676, 0.04209977015852928, 0.032853297889232635, 0.046627212315797806, 0.04874775558710098, 0.021730562672019005, 0.0472237654030323, 0.02985754981637001, 0.04530389979481697, 0.007802654057741165, 0.0, 0.0, 0.0, 0.0, 0.0, 0.0, 0.0, 0.0, 0.0, 0.0, 0.0, 0.0, 0.0, 0.0, 0.0], [0.19583061337471008, 0.05227473005652428, 0.03251209482550621, 0.03705889731645584, 0.04335431754589081, 0.027641307562589645, 0.027452068403363228, 0.0330815389752388, 0.04532438889145851, 0.025406772270798683, 0.024781644344329834, 0.03888051584362984, 0.03024728037416935, 0.05089510977268219, 0.041287802159786224, 0.03749208524823189, 0.04425320774316788, 0.044287197291851044, 0.045193932950496674, 0.05072397738695145, 0.07202058285474777, 0.0, 0.0, 0.0, 0.0, 0.0, 0.0, 0.0, 0.0, 0.0, 0.0, 0.0, 0.0, 0.0, 0.0], [0.16079987585544586, 0.04841070994734764, 0.0330209843814373, 0.03441707417368889, 0.03531980514526367, 0.02389702945947647, 0.026063472032546997, 0.028639711439609528, 0.04453873634338379, 0.02494950033724308, 0.029716160148382187, 0.040129996836185455, 0.02485905960202217, 0.051343951374292374, 0.05373547598719597, 0.04527626559138298, 0.04680595546960831, 0.034605976194143295, 0.04245499521493912, 0.05485449731349945, 0.06976340711116791, 0.046397361904382706, 0.0, 0.0, 0.0, 0.0, 0.0, 0.0, 0.0, 0.0, 0.0, 0.0, 0.0, 0.0, 0.0], [0.18932512402534485, 0.039103612303733826, 0.024852026253938675, 0.03345050662755966, 0.0386015884578228, 0.024109309539198875, 0.020502107217907906, 0.024301735684275627, 0.03976469114422798, 0.03418169915676117, 0.034847863018512726, 0.036197829991579056, 0.02366892248392105, 0.0450248159468174, 0.03498945012688637, 0.02682548575103283, 0.04153791442513466, 0.03736661374568939, 0.04202278330922127, 0.05591042712330818, 0.06404420733451843, 0.05618631839752197, 0.0331849530339241, 0.0, 0.0, 0.0, 0.0, 0.0, 0.0, 0.0, 0.0, 0.0, 0.0, 0.0, 0.0], [0.16596601903438568, 0.033881086856126785, 0.020657535642385483, 0.03212730586528778, 0.037472572177648544, 0.026519490405917168, 0.01988290436565876, 0.02560962736606598, 0.04091743379831314, 0.022610342130064964, 0.019720889627933502, 0.033765360713005066, 0.023503802716732025, 0.04644522815942764, 0.03541431948542595, 0.027368387207388878, 0.03876943141222, 0.03146074339747429, 0.046399276703596115, 0.04867472127079964, 0.06382156908512115, 0.06529754400253296, 0.04629906639456749, 0.04741540923714638, 0.0, 0.0, 0.0, 0.0, 0.0, 0.0, 0.0, 0.0, 0.0, 0.0, 0.0], [0.15514104068279266, 0.03631480410695076, 0.02223689667880535, 0.028097428381443024, 0.040156662464141846, 0.02405598945915699, 0.01740090176463127, 0.021498534828424454, 0.03675064444541931, 0.017986753955483437, 0.019703924655914307, 0.028327777981758118, 0.022604595869779587, 0.04168049246072769, 0.030497966334223747, 0.025585580617189407, 0.03248757869005203, 0.02701493352651596, 0.041122838854789734, 0.04738447442650795, 0.06382343173027039, 0.056550122797489166, 0.04119996353983879, 0.06263256818056107, 0.059744060039520264, 0.0, 0.0, 0.0, 0.0, 0.0, 0.0, 0.0, 0.0, 0.0, 0.0], [0.12975941598415375, 0.02733970433473587, 0.029957523569464684, 0.022702842950820923, 0.03781534731388092, 0.03144638240337372, 0.01713676191866398, 0.04656488075852394, 0.030618302524089813, 0.018781669437885284, 0.025273190811276436, 0.028721993789076805, 0.01909092254936695, 0.03481002151966095, 0.026170235127210617, 0.026817703619599342, 0.03296036645770073, 0.024960240349173546, 0.0547475591301918, 0.05780106037855148, 0.05617626756429672, 0.033059827983379364, 0.057674165815114975, 0.0466742068529129, 0.06228702887892723, 0.020652370527386665, 0.0, 0.0, 0.0, 0.0, 0.0, 0.0, 0.0, 0.0, 0.0], [0.18126998841762543, 0.02792493999004364, 0.028055932372808456, 0.029457412660121918, 0.028532754629850388, 0.020307788625359535, 0.019550159573554993, 0.03153107315301895, 0.029232831671833992, 0.02111055701971054, 0.014580843038856983, 0.022505326196551323, 0.01625674031674862, 0.03150885924696922, 0.024519696831703186, 0.03659050911664963, 0.02503448724746704, 0.020030656829476357, 0.047266095876693726, 0.12142349779605865, 0.04189629852771759, 0.036460909992456436, 0.037346888333559036, 0.03705747425556183, 0.035210929811000824, 0.024784501641988754, 0.010552858002483845, 0.0, 0.0, 0.0, 0.0, 0.0, 0.0, 0.0, 0.0], [0.1419323831796646, 0.02687341719865799, 0.023394428193569183, 0.024198902770876884, 0.03441087529063225, 0.031768206506967545, 0.014282820746302605, 0.02788497321307659, 0.027823271229863167, 0.02026796154677868, 0.020075347274541855, 0.026035433635115623, 0.015271038748323917, 0.031183581799268723, 0.021344458684325218, 0.030780833214521408, 0.02968647889792919, 0.024966172873973846, 0.032906223088502884, 0.08126566559076309, 0.047380223870277405, 0.039504989981651306, 0.03810602426528931, 0.03920023515820503, 0.04723043367266655, 0.032237786799669266, 0.04768499359488487, 0.02230280451476574, 0.0, 0.0, 0.0, 0.0, 0.0, 0.0, 0.0], [0.19361060857772827, 0.028910469263792038, 0.01741074211895466, 0.024991950020194054, 0.020412294194102287, 0.036923520267009735, 0.01856403797864914, 0.02249109372496605, 0.02646988071501255, 0.019851727411150932, 0.016706909984350204, 0.020129598677158356, 0.017302917316555977, 0.02887752093374729, 0.019370293244719505, 0.021512871608138084, 0.02260466292500496, 0.019465496763586998, 0.03218543529510498, 0.09415604919195175, 0.03964085131883621, 0.04692874476313591, 0.032965485006570816, 0.034327466040849686, 0.03549891710281372, 0.041524264961481094, 0.03800845891237259, 0.024193789809942245, 0.004963916260749102, 0.0, 0.0, 0.0, 0.0, 0.0, 0.0], [0.13062261044979095, 0.029238130897283554, 0.020562484860420227, 0.024924933910369873, 0.02643338032066822, 0.02088005654513836, 0.016895093023777008, 0.020366191864013672, 0.030794672667980194, 0.01681152917444706, 0.014352638274431229, 0.026399686932563782, 0.017968138679862022, 0.03419143706560135, 0.025793639943003654, 0.020880041643977165, 0.029983334243297577, 0.0225768331438303, 0.03198399022221565, 0.0387752391397953, 0.047299303114414215, 0.03951812908053398, 0.03569551557302475, 0.04647781699895859, 0.04560372605919838, 0.02769399620592594, 0.028376294299960136, 0.029506981372833252, 0.03388817235827446, 0.06550601124763489, 0.0, 0.0, 0.0, 0.0, 0.0], [0.10399007052183151, 0.021966123953461647, 0.01645117998123169, 0.02278798259794712, 0.0243571475148201, 0.01997542567551136, 0.01367859821766615, 0.02052459493279457, 0.02641664445400238, 0.015824995934963226, 0.018124761059880257, 0.0229380764067173, 0.015249820426106453, 0.029951782897114754, 0.01956864818930626, 0.017790040001273155, 0.026331385597586632, 0.020062368363142014, 0.030405640602111816, 0.058378029614686966, 0.04746951162815094, 0.035600073635578156, 0.03361854329705238, 0.039051610976457596, 0.0462346188724041, 0.034158360213041306, 0.05063633993268013, 0.0330495610833168, 0.04132762551307678, 0.0600748136639595, 0.03400559723377228, 0.0, 0.0, 0.0, 0.0], [0.10689456015825272, 0.02342522144317627, 0.01831112429499626, 0.02227621339261532, 0.01998625509440899, 0.018345670774579048, 0.01589350588619709, 0.019802745431661606, 0.02582935057580471, 0.0160794947296381, 0.01665685325860977, 0.0258182305842638, 0.01289281900972128, 0.029111450538039207, 0.02073921263217926, 0.017621492967009544, 0.02965443581342697, 0.024281155318021774, 0.02804587408900261, 0.05205391347408295, 0.04263106733560562, 0.03251812607049942, 0.03738027811050415, 0.038434382528066635, 0.039821211248636246, 0.026290135458111763, 0.035206425935029984, 0.031386300921440125, 0.032823432236909866, 0.06194702535867691, 0.03762543201446533, 0.0402165986597538, 0.0, 0.0, 0.0], [0.12229017168283463, 0.02516898326575756, 0.016714081168174744, 0.02203325368463993, 0.02300073392689228, 0.015408733859658241, 0.014958011917769909, 0.01867675967514515, 0.02619115822017193, 0.012370306998491287, 0.010715771466493607, 0.021631916984915733, 0.013984626159071922, 0.028899218887090683, 0.023200998082756996, 0.018216591328382492, 0.024281244724988937, 0.01823531463742256, 0.02165396139025688, 0.03633742034435272, 0.0385565347969532, 0.03691946715116501, 0.033792249858379364, 0.04258826747536659, 0.03839156776666641, 0.023295771330595016, 0.030805276706814766, 0.02449331060051918, 0.030105795711278915, 0.05652609467506409, 0.03756684064865112, 0.04159918427467346, 0.05139037221670151, 0.0, 0.0], [0.1387171894311905, 0.021967260167002678, 0.016682986170053482, 0.021551374346017838, 0.02604922465980053, 0.015379130840301514, 0.012522309087216854, 0.020025210455060005, 0.021879838779568672, 0.014553074724972248, 0.015628237277269363, 0.01828859932720661, 0.01242173183709383, 0.02363342046737671, 0.01722068153321743, 0.02009166032075882, 0.020151857286691666, 0.01853017322719097, 0.024212481454014778, 0.07234080880880356, 0.034239381551742554, 0.030147049576044083, 0.03145882114768028, 0.030202947556972504, 0.030948743224143982, 0.02483321540057659, 0.030743302777409554, 0.022636564448475838, 0.044566936790943146, 0.041731398552656174, 0.028924643993377686, 0.029865318909287453, 0.04288143292069435, 0.024973047897219658, 0.0], [0.12327982485294342, 0.02670745737850666, 0.014834712259471416, 0.018021507188677788, 0.017765002325177193, 0.013351655565202236, 0.014073800295591354, 0.0187230184674263, 0.023980088531970978, 0.02125631831586361, 0.017004815861582756, 0.020616678521037102, 0.01290551945567131, 0.02609744668006897, 0.021554283797740936, 0.0158457662910223, 0.022780921310186386, 0.02359537035226822, 0.019861729815602303, 0.02192237786948681, 0.03597116097807884, 0.03369681537151337, 0.021171649917960167, 0.03536054119467735, 0.03450924530625343, 0.021897653117775917, 0.035124290734529495, 0.024112902581691742, 0.03299051523208618, 0.04677634686231613, 0.030424436554312706, 0.03270316869020462, 0.03790723904967308, 0.04262490198016167, 0.040550775825977325]], [[1.0, 0.0, 0.0, 0.0, 0.0, 0.0, 0.0, 0.0, 0.0, 0.0, 0.0, 0.0, 0.0, 0.0, 0.0, 0.0, 0.0, 0.0, 0.0, 0.0, 0.0, 0.0, 0.0, 0.0, 0.0, 0.0, 0.0, 0.0, 0.0, 0.0, 0.0, 0.0, 0.0, 0.0, 0.0], [0.6533873081207275, 0.3466126620769501, 0.0, 0.0, 0.0, 0.0, 0.0, 0.0, 0.0, 0.0, 0.0, 0.0, 0.0, 0.0, 0.0, 0.0, 0.0, 0.0, 0.0, 0.0, 0.0, 0.0, 0.0, 0.0, 0.0, 0.0, 0.0, 0.0, 0.0, 0.0, 0.0, 0.0, 0.0, 0.0, 0.0], [0.4451117515563965, 0.3337683081626892, 0.2211199849843979, 0.0, 0.0, 0.0, 0.0, 0.0, 0.0, 0.0, 0.0, 0.0, 0.0, 0.0, 0.0, 0.0, 0.0, 0.0, 0.0, 0.0, 0.0, 0.0, 0.0, 0.0, 0.0, 0.0, 0.0, 0.0, 0.0, 0.0, 0.0, 0.0, 0.0, 0.0, 0.0], [0.5459806323051453, 0.15291082859039307, 0.0764545351266861, 0.22465398907661438, 0.0, 0.0, 0.0, 0.0, 0.0, 0.0, 0.0, 0.0, 0.0, 0.0, 0.0, 0.0, 0.0, 0.0, 0.0, 0.0, 0.0, 0.0, 0.0, 0.0, 0.0, 0.0, 0.0, 0.0, 0.0, 0.0, 0.0, 0.0, 0.0, 0.0, 0.0], [0.42720285058021545, 0.1412525326013565, 0.061439722776412964, 0.11979997903108597, 0.2503049373626709, 0.0, 0.0, 0.0, 0.0, 0.0, 0.0, 0.0, 0.0, 0.0, 0.0, 0.0, 0.0, 0.0, 0.0, 0.0, 0.0, 0.0, 0.0, 0.0, 0.0, 0.0, 0.0, 0.0, 0.0, 0.0, 0.0, 0.0, 0.0, 0.0, 0.0], [0.409792959690094, 0.11732903867959976, 0.06548824161291122, 0.12367463111877441, 0.042223699390888214, 0.24149134755134583, 0.0, 0.0, 0.0, 0.0, 0.0, 0.0, 0.0, 0.0, 0.0, 0.0, 0.0, 0.0, 0.0, 0.0, 0.0, 0.0, 0.0, 0.0, 0.0, 0.0, 0.0, 0.0, 0.0, 0.0, 0.0, 0.0, 0.0, 0.0, 0.0], [0.36435142159461975, 0.15547123551368713, 0.08527881652116776, 0.0883261039853096, 0.04993733391165733, 0.03409622982144356, 0.22253888845443726, 0.0, 0.0, 0.0, 0.0, 0.0, 0.0, 0.0, 0.0, 0.0, 0.0, 0.0, 0.0, 0.0, 0.0, 0.0, 0.0, 0.0, 0.0, 0.0, 0.0, 0.0, 0.0, 0.0, 0.0, 0.0, 0.0, 0.0, 0.0], [0.35626861453056335, 0.09063336998224258, 0.050068121403455734, 0.10755760222673416, 0.06895479559898376, 0.04669611528515816, 0.04097529873251915, 0.2388460785150528, 0.0, 0.0, 0.0, 0.0, 0.0, 0.0, 0.0, 0.0, 0.0, 0.0, 0.0, 0.0, 0.0, 0.0, 0.0, 0.0, 0.0, 0.0, 0.0, 0.0, 0.0, 0.0, 0.0, 0.0, 0.0, 0.0, 0.0], [0.3461388945579529, 0.14562256634235382, 0.09470637887716293, 0.1049964427947998, 0.06400173902511597, 0.040472399443387985, 0.03757922351360321, 0.04448215663433075, 0.12200020253658295, 0.0, 0.0, 0.0, 0.0, 0.0, 0.0, 0.0, 0.0, 0.0, 0.0, 0.0, 0.0, 0.0, 0.0, 0.0, 0.0, 0.0, 0.0, 0.0, 0.0, 0.0, 0.0, 0.0, 0.0, 0.0, 0.0], [0.20510227978229523, 0.04824312403798103, 0.05157081037759781, 0.09953969717025757, 0.06673119962215424, 0.04558688402175903, 0.036483921110630035, 0.08169859647750854, 0.08583587408065796, 0.27920758724212646, 0.0, 0.0, 0.0, 0.0, 0.0, 0.0, 0.0, 0.0, 0.0, 0.0, 0.0, 0.0, 0.0, 0.0, 0.0, 0.0, 0.0, 0.0, 0.0, 0.0, 0.0, 0.0, 0.0, 0.0, 0.0], [0.2301696389913559, 0.07576314359903336, 0.0624302476644516, 0.0619683712720871, 0.05024823546409607, 0.037962593138217926, 0.05770515650510788, 0.05617322400212288, 0.06585753709077835, 0.04166556894779205, 0.2600562274456024, 0.0, 0.0, 0.0, 0.0, 0.0, 0.0, 0.0, 0.0, 0.0, 0.0, 0.0, 0.0, 0.0, 0.0, 0.0, 0.0, 0.0, 0.0, 0.0, 0.0, 0.0, 0.0, 0.0, 0.0], [0.26688238978385925, 0.09969266504049301, 0.06880498677492142, 0.10110105574131012, 0.03625766932964325, 0.048760298639535904, 0.0317954495549202, 0.034267451614141464, 0.09192276000976562, 0.04406015947461128, 0.024279994890093803, 0.15217505395412445, 0.0, 0.0, 0.0, 0.0, 0.0, 0.0, 0.0, 0.0, 0.0, 0.0, 0.0, 0.0, 0.0, 0.0, 0.0, 0.0, 0.0, 0.0, 0.0, 0.0, 0.0, 0.0, 0.0], [0.24808599054813385, 0.059437546879053116, 0.03645309433341026, 0.09643886983394623, 0.046652521938085556, 0.043580614030361176, 0.02640967071056366, 0.038718488067388535, 0.06937100738286972, 0.035532139241695404, 0.023584239184856415, 0.058249179273843765, 0.21748663485050201, 0.0, 0.0, 0.0, 0.0, 0.0, 0.0, 0.0, 0.0, 0.0, 0.0, 0.0, 0.0, 0.0, 0.0, 0.0, 0.0, 0.0, 0.0, 0.0, 0.0, 0.0, 0.0], [0.22227588295936584, 0.08784300833940506, 0.06428328156471252, 0.07245951890945435, 0.05153006687760353, 0.03354166820645332, 0.03151152655482292, 0.04395979642868042, 0.10531801730394363, 0.03629285469651222, 0.03349635750055313, 0.07923725247383118, 0.03496609255671501, 0.10328467190265656, 0.0, 0.0, 0.0, 0.0, 0.0, 0.0, 0.0, 0.0, 0.0, 0.0, 0.0, 0.0, 0.0, 0.0, 0.0, 0.0, 0.0, 0.0, 0.0, 0.0, 0.0], [0.2625542879104614, 0.0745101198554039, 0.04962191730737686, 0.0651395171880722, 0.02218240313231945, 0.03923413157463074, 0.02143389731645584, 0.02829248458147049, 0.06496230512857437, 0.02216961607336998, 0.018070967867970467, 0.05796550214290619, 0.018187984824180603, 0.061765071004629135, 0.19390982389450073, 0.0, 0.0, 0.0, 0.0, 0.0, 0.0, 0.0, 0.0, 0.0, 0.0, 0.0, 0.0, 0.0, 0.0, 0.0, 0.0, 0.0, 0.0, 0.0, 0.0], [0.21454612910747528, 0.05207952484488487, 0.04338601231575012, 0.051086775958538055, 0.02305705100297928, 0.03987297788262367, 0.02145753987133503, 0.043103136122226715, 0.05712401121854782, 0.04732409492135048, 0.020076358690857887, 0.048638489097356796, 0.031737666577100754, 0.05389070883393288, 0.03922812640666962, 0.21339143812656403, 0.0, 0.0, 0.0, 0.0, 0.0, 0.0, 0.0, 0.0, 0.0, 0.0, 0.0, 0.0, 0.0, 0.0, 0.0, 0.0, 0.0, 0.0, 0.0], [0.16934645175933838, 0.057584747672080994, 0.04318230226635933, 0.06501621007919312, 0.025769706815481186, 0.03584062680602074, 0.0234039556235075, 0.028633087873458862, 0.06884392350912094, 0.03735613450407982, 0.02107933908700943, 0.12265516817569733, 0.025184888392686844, 0.07096561044454575, 0.049235545098781586, 0.028457891196012497, 0.12744446098804474, 0.0, 0.0, 0.0, 0.0, 0.0, 0.0, 0.0, 0.0, 0.0, 0.0, 0.0, 0.0, 0.0, 0.0, 0.0, 0.0, 0.0, 0.0], [0.1294490396976471, 0.0435151681303978, 0.028707340359687805, 0.04557257145643234, 0.02128218673169613, 0.019885340705513954, 0.028857698664069176, 0.03478112816810608, 0.0553259402513504, 0.030885064974427223, 0.021087555214762688, 0.06504064053297043, 0.040431585162878036, 0.05797601118683815, 0.04136984050273895, 0.028544047847390175, 0.06784923374652863, 0.23943962156772614, 0.0, 0.0, 0.0, 0.0, 0.0, 0.0, 0.0, 0.0, 0.0, 0.0, 0.0, 0.0, 0.0, 0.0, 0.0, 0.0, 0.0], [0.14163605868816376, 0.035789649933576584, 0.028365233913064003, 0.04538756236433983, 0.04637840390205383, 0.039788708090782166, 0.014343789778649807, 0.04959795996546745, 0.04732620716094971, 0.030782431364059448, 0.018412180244922638, 0.048710357397794724, 0.023401623591780663, 0.047455620020627975, 0.03751210868358612, 0.023782702162861824, 0.04894064739346504, 0.033790647983551025, 0.23859815299510956, 0.0, 0.0, 0.0, 0.0, 0.0, 0.0, 0.0, 0.0, 0.0, 0.0, 0.0, 0.0, 0.0, 0.0, 0.0, 0.0], [0.133503258228302, 0.03222056105732918, 0.02058890089392662, 0.037802185863256454, 0.04108011722564697, 0.03671092912554741, 0.025954408571124077, 0.041366368532180786, 0.043265704065561295, 0.030096475034952164, 0.026812905445694923, 0.04010694846510887, 0.024385888129472733, 0.04430919140577316, 0.0337374322116375, 0.020710911601781845, 0.04079743102192879, 0.032650142908096313, 0.035062432289123535, 0.2588377892971039, 0.0, 0.0, 0.0, 0.0, 0.0, 0.0, 0.0, 0.0, 0.0, 0.0, 0.0, 0.0, 0.0, 0.0, 0.0], [0.11974351853132248, 0.039148833602666855, 0.028956562280654907, 0.033427074551582336, 0.03769592195749283, 0.020543888211250305, 0.01755896955728531, 0.0326584167778492, 0.06372418254613876, 0.03310192748904228, 0.029867950826883316, 0.05386917293071747, 0.022512972354888916, 0.07236675173044205, 0.041434261947870255, 0.03790142387151718, 0.06002621352672577, 0.04586018994450569, 0.050910964608192444, 0.03195587918162346, 0.1267349123954773, 0.0, 0.0, 0.0, 0.0, 0.0, 0.0, 0.0, 0.0, 0.0, 0.0, 0.0, 0.0, 0.0, 0.0], [0.11878623068332672, 0.03957202658057213, 0.02322298474609852, 0.05364082753658295, 0.03261676803231239, 0.01737094111740589, 0.011663904413580894, 0.01627381518483162, 0.05014301463961601, 0.013260256499052048, 0.01048690639436245, 0.03813207522034645, 0.04193665087223053, 0.053362227976322174, 0.030980002135038376, 0.019617708399891853, 0.0402415432035923, 0.03244159743189812, 0.02054012566804886, 0.026845509186387062, 0.05771112069487572, 0.25115376710891724, 0.0, 0.0, 0.0, 0.0, 0.0, 0.0, 0.0, 0.0, 0.0, 0.0, 0.0, 0.0, 0.0], [0.10596506297588348, 0.03639822453260422, 0.02373066358268261, 0.02770346961915493, 0.02952032908797264, 0.016958508640527725, 0.009277226403355598, 0.019281182438135147, 0.043534498661756516, 0.02543572708964348, 0.015441068448126316, 0.041617218405008316, 0.01847231015563011, 0.046173423528671265, 0.026975221931934357, 0.01687728613615036, 0.0436592623591423, 0.020190216600894928, 0.01864577829837799, 0.016359707340598106, 0.057034846395254135, 0.06433960795402527, 0.27640917897224426, 0.0, 0.0, 0.0, 0.0, 0.0, 0.0, 0.0, 0.0, 0.0, 0.0, 0.0, 0.0], [0.0866938978433609, 0.14005142450332642, 0.054043401032686234, 0.026910439133644104, 0.026933513581752777, 0.016936618834733963, 0.017527230083942413, 0.011132615618407726, 0.03316717594861984, 0.009116585366427898, 0.014021686278283596, 0.028125261887907982, 0.01210759673267603, 0.03627433627843857, 0.03099164552986622, 0.015099073760211468, 0.030221445485949516, 0.02081548050045967, 0.018955033272504807, 0.02118259109556675, 0.04364987835288048, 0.043773483484983444, 0.0250406377017498, 0.23722894489765167, 0.0, 0.0, 0.0, 0.0, 0.0, 0.0, 0.0, 0.0, 0.0, 0.0, 0.0], [0.10505463182926178, 0.024722840636968613, 0.0234385933727026, 0.02425645850598812, 0.021477703005075455, 0.014111108146607876, 0.012018011882901192, 0.01570729911327362, 0.04219581559300423, 0.01680336520075798, 0.011159360408782959, 0.0312718041241169, 0.020320674404501915, 0.04702334851026535, 0.039886780083179474, 0.02585335448384285, 0.03450958430767059, 0.024522587656974792, 0.017594212666153908, 0.021597156301140785, 0.06303169578313828, 0.050369858741760254, 0.02654913440346718, 0.04091528430581093, 0.24560928344726562, 0.0, 0.0, 0.0, 0.0, 0.0, 0.0, 0.0, 0.0, 0.0, 0.0], [0.07146887481212616, 0.015683099627494812, 0.01919957809150219, 0.027655117213726044, 0.02588874101638794, 0.011495739221572876, 0.013834535144269466, 0.025006240233778954, 0.03285752609372139, 0.04069041460752487, 0.019407067447900772, 0.03628276288509369, 0.02667135000228882, 0.03698844462633133, 0.025391358882188797, 0.012203283607959747, 0.04081624746322632, 0.022441420704126358, 0.018680060282349586, 0.03714069724082947, 0.05291352421045303, 0.03374900668859482, 0.036007072776556015, 0.027396058663725853, 0.04157789796590805, 0.24855391681194305, 0.0, 0.0, 0.0, 0.0, 0.0, 0.0, 0.0, 0.0, 0.0], [0.09520065784454346, 0.023399103432893753, 0.01624995470046997, 0.03728702291846275, 0.02706947550177574, 0.02442619577050209, 0.016916707158088684, 0.02051924355328083, 0.03561447560787201, 0.017246799543499947, 0.01696518436074257, 0.030670613050460815, 0.01476178877055645, 0.037838954478502274, 0.025590216740965843, 0.013281547464430332, 0.03275725245475769, 0.016981476917862892, 0.012912827543914318, 0.04096675664186478, 0.044523756951093674, 0.03288855031132698, 0.02186199091374874, 0.028905067592859268, 0.025222210213541985, 0.015681957826018333, 0.2742602825164795, 0.0, 0.0, 0.0, 0.0, 0.0, 0.0, 0.0, 0.0], [0.0710621029138565, 0.022234492003917694, 0.015442511066794395, 0.02880682982504368, 0.02491171658039093, 0.014096667990088463, 0.010925299488008022, 0.02235644869506359, 0.028251033276319504, 0.02592524141073227, 0.012314553372561932, 0.036213599145412445, 0.017662756145000458, 0.03140704706311226, 0.01859503611922264, 0.01817137748003006, 0.04006665199995041, 0.02272828295826912, 0.025000520050525665, 0.04014963656663895, 0.04249803349375725, 0.026281602680683136, 0.023634884506464005, 0.03034823387861252, 0.028446579352021217, 0.04931707680225372, 0.04533267393708229, 0.22781902551651, 0.0, 0.0, 0.0, 0.0, 0.0, 0.0, 0.0], [0.11998692154884338, 0.03201313316822052, 0.020363762974739075, 0.03192231431603432, 0.020111482590436935, 0.017741892486810684, 0.014963151887059212, 0.014099686406552792, 0.03236027806997299, 0.012826557271182537, 0.019204234704375267, 0.024741891771554947, 0.014775932766497135, 0.03365083411335945, 0.03285078704357147, 0.015633026137948036, 0.026330962777137756, 0.009946915321052074, 0.010015260428190231, 0.02325468324124813, 0.038984283804893494, 0.03491940349340439, 0.011989142745733261, 0.030530860647559166, 0.02381373755633831, 0.018979016691446304, 0.06846078485250473, 0.019141536206007004, 0.22638753056526184, 0.0, 0.0, 0.0, 0.0, 0.0, 0.0], [0.0711139589548111, 0.02304501086473465, 0.017407841980457306, 0.02557775005698204, 0.018817279487848282, 0.014406663365662098, 0.011364500038325787, 0.019742917269468307, 0.03780378773808479, 0.01749837026000023, 0.012214543297886848, 0.03471178561449051, 0.016245102509856224, 0.044948261231184006, 0.031461041420698166, 0.017976250499486923, 0.040775004774332047, 0.026231994852423668, 0.029104549437761307, 0.03286316245794296, 0.06312331557273865, 0.03996740281581879, 0.03193744271993637, 0.05005759745836258, 0.0500398688018322, 0.02629847638309002, 0.040675755590200424, 0.034253500401973724, 0.033614419400691986, 0.08672250062227249, 0.0, 0.0, 0.0, 0.0, 0.0], [0.06342686712741852, 0.01892857812345028, 0.015915200114250183, 0.022974476218223572, 0.01581357792019844, 0.011996140703558922, 0.006959731224924326, 0.01044058334082365, 0.027604445815086365, 0.014203772880136967, 0.011755016632378101, 0.02697419933974743, 0.015696220099925995, 0.03244096040725708, 0.02146400511264801, 0.016300208866596222, 0.031591035425662994, 0.018295615911483765, 0.024074897170066833, 0.01829962432384491, 0.049058616161346436, 0.03294464945793152, 0.031695038080215454, 0.04070064797997475, 0.05526787042617798, 0.03228399157524109, 0.018337203189730644, 0.02062191814184189, 0.02061566710472107, 0.06142154708504677, 0.211897611618042, 0.0, 0.0, 0.0, 0.0], [0.059031207114458084, 0.011650344356894493, 0.011906319297850132, 0.020305123180150986, 0.015824556350708008, 0.01134263351559639, 0.012165091000497341, 0.020514553412795067, 0.024635134264826775, 0.01787753775715828, 0.008976953104138374, 0.02709752507507801, 0.010151366703212261, 0.0295000821352005, 0.022961726412177086, 0.011527122929692268, 0.032491881400346756, 0.02021906152367592, 0.02027125284075737, 0.027604959905147552, 0.04230692982673645, 0.02292037010192871, 0.027398385107517242, 0.024839360266923904, 0.028419990092515945, 0.04172161594033241, 0.0314212292432785, 0.03520328924059868, 0.030631234869360924, 0.06006472557783127, 0.04537739232182503, 0.1936410516500473, 0.0, 0.0, 0.0], [0.0859057679772377, 0.014704103581607342, 0.010510576888918877, 0.02869984693825245, 0.01665448024868965, 0.012795386835932732, 0.009235278703272343, 0.014819209463894367, 0.028232716023921967, 0.011867674998939037, 0.009268179535865784, 0.023044344037771225, 0.017553254961967468, 0.03295402601361275, 0.025013742968440056, 0.012247499078512192, 0.026799563318490982, 0.013326539658010006, 0.016479840502142906, 0.034728214144706726, 0.03980802744626999, 0.05067339912056923, 0.030861156061291695, 0.02755182981491089, 0.03616425022482872, 0.017406117171049118, 0.04716058447957039, 0.025891834869980812, 0.02839728444814682, 0.06047137454152107, 0.03584861382842064, 0.03886667266488075, 0.11605862528085709, 0.0, 0.0], [0.056707724928855896, 0.015243278816342354, 0.00989258661866188, 0.017495423555374146, 0.035292454063892365, 0.015370236709713936, 0.010747742839157581, 0.017091594636440277, 0.021245013922452927, 0.013064499944448471, 0.0063941157422959805, 0.021768171340227127, 0.011015348136425018, 0.023290837183594704, 0.02097102254629135, 0.012346646748483181, 0.024119647219777107, 0.013815031386911869, 0.01682048849761486, 0.0345151387155056, 0.03097480535507202, 0.03217756003141403, 0.03227025642991066, 0.02327035740017891, 0.02725943736732006, 0.01785033568739891, 0.05776430666446686, 0.024271566420793533, 0.025243032723665237, 0.037745822221040726, 0.015895824879407883, 0.026596594601869583, 0.04215160012245178, 0.20932146906852722, 0.0], [0.047369759529829025, 0.013491555117070675, 0.008601200766861439, 0.011534382589161396, 0.03260952979326248, 0.008750016801059246, 0.01049541961401701, 0.01597345434129238, 0.024224920198321342, 0.013959752395749092, 0.011584173887968063, 0.020906994119286537, 0.012310192920267582, 0.028499379754066467, 0.014403233304619789, 0.011428195051848888, 0.02442452870309353, 0.02128404937684536, 0.027576282620429993, 0.02576221339404583, 0.04914957657456398, 0.021549474447965622, 0.02072589471936226, 0.030232446268200874, 0.04683731868863106, 0.021722476929426193, 0.02025720290839672, 0.019149545580148697, 0.010533902794122696, 0.05002591758966446, 0.03040558472275734, 0.022812239825725555, 0.02946249395608902, 0.03996318206191063, 0.20198358595371246]], [[1.0, 0.0, 0.0, 0.0, 0.0, 0.0, 0.0, 0.0, 0.0, 0.0, 0.0, 0.0, 0.0, 0.0, 0.0, 0.0, 0.0, 0.0, 0.0, 0.0, 0.0, 0.0, 0.0, 0.0, 0.0, 0.0, 0.0, 0.0, 0.0, 0.0, 0.0, 0.0, 0.0, 0.0, 0.0], [0.8253123164176941, 0.17468763887882233, 0.0, 0.0, 0.0, 0.0, 0.0, 0.0, 0.0, 0.0, 0.0, 0.0, 0.0, 0.0, 0.0, 0.0, 0.0, 0.0, 0.0, 0.0, 0.0, 0.0, 0.0, 0.0, 0.0, 0.0, 0.0, 0.0, 0.0, 0.0, 0.0, 0.0, 0.0, 0.0, 0.0], [0.7580504417419434, 0.1302967071533203, 0.1116529032588005, 0.0, 0.0, 0.0, 0.0, 0.0, 0.0, 0.0, 0.0, 0.0, 0.0, 0.0, 0.0, 0.0, 0.0, 0.0, 0.0, 0.0, 0.0, 0.0, 0.0, 0.0, 0.0, 0.0, 0.0, 0.0, 0.0, 0.0, 0.0, 0.0, 0.0, 0.0, 0.0], [0.7232240438461304, 0.08274423331022263, 0.07870828360319138, 0.11532341688871384, 0.0, 0.0, 0.0, 0.0, 0.0, 0.0, 0.0, 0.0, 0.0, 0.0, 0.0, 0.0, 0.0, 0.0, 0.0, 0.0, 0.0, 0.0, 0.0, 0.0, 0.0, 0.0, 0.0, 0.0, 0.0, 0.0, 0.0, 0.0, 0.0, 0.0, 0.0], [0.5594542622566223, 0.08694438636302948, 0.09115549176931381, 0.09393442422151566, 0.16851145029067993, 0.0, 0.0, 0.0, 0.0, 0.0, 0.0, 0.0, 0.0, 0.0, 0.0, 0.0, 0.0, 0.0, 0.0, 0.0, 0.0, 0.0, 0.0, 0.0, 0.0, 0.0, 0.0, 0.0, 0.0, 0.0, 0.0, 0.0, 0.0, 0.0, 0.0], [0.5031399130821228, 0.08192645013332367, 0.05872312933206558, 0.10480896383523941, 0.15214203298091888, 0.09925953298807144, 0.0, 0.0, 0.0, 0.0, 0.0, 0.0, 0.0, 0.0, 0.0, 0.0, 0.0, 0.0, 0.0, 0.0, 0.0, 0.0, 0.0, 0.0, 0.0, 0.0, 0.0, 0.0, 0.0, 0.0, 0.0, 0.0, 0.0, 0.0, 0.0], [0.5279610753059387, 0.058259762823581696, 0.0683659240603447, 0.11652126908302307, 0.11039450764656067, 0.06918040663003922, 0.04931700602173805, 0.0, 0.0, 0.0, 0.0, 0.0, 0.0, 0.0, 0.0, 0.0, 0.0, 0.0, 0.0, 0.0, 0.0, 0.0, 0.0, 0.0, 0.0, 0.0, 0.0, 0.0, 0.0, 0.0, 0.0, 0.0, 0.0, 0.0, 0.0], [0.3001008927822113, 0.08826004713773727, 0.05834931507706642, 0.10984236001968384, 0.1686263084411621, 0.1289689689874649, 0.023227589204907417, 0.12262451648712158, 0.0, 0.0, 0.0, 0.0, 0.0, 0.0, 0.0, 0.0, 0.0, 0.0, 0.0, 0.0, 0.0, 0.0, 0.0, 0.0, 0.0, 0.0, 0.0, 0.0, 0.0, 0.0, 0.0, 0.0, 0.0, 0.0, 0.0], [0.3934405446052551, 0.04758616164326668, 0.05194966495037079, 0.074715755879879, 0.11950989067554474, 0.05938037112355232, 0.02336858958005905, 0.10266395658254623, 0.12738512456417084, 0.0, 0.0, 0.0, 0.0, 0.0, 0.0, 0.0, 0.0, 0.0, 0.0, 0.0, 0.0, 0.0, 0.0, 0.0, 0.0, 0.0, 0.0, 0.0, 0.0, 0.0, 0.0, 0.0, 0.0, 0.0, 0.0], [0.3446025252342224, 0.05032899230718613, 0.059913307428359985, 0.0448312908411026, 0.15738153457641602, 0.06782456487417221, 0.03229008615016937, 0.07052529603242874, 0.0895390585064888, 0.08276326209306717, 0.0, 0.0, 0.0, 0.0, 0.0, 0.0, 0.0, 0.0, 0.0, 0.0, 0.0, 0.0, 0.0, 0.0, 0.0, 0.0, 0.0, 0.0, 0.0, 0.0, 0.0, 0.0, 0.0, 0.0, 0.0], [0.3350849151611328, 0.0462699756026268, 0.047857679426670074, 0.10917423665523529, 0.04435235634446144, 0.04490726441144943, 0.028443850576877594, 0.0792061910033226, 0.10731332004070282, 0.06832481920719147, 0.08906543999910355, 0.0, 0.0, 0.0, 0.0, 0.0, 0.0, 0.0, 0.0, 0.0, 0.0, 0.0, 0.0, 0.0, 0.0, 0.0, 0.0, 0.0, 0.0, 0.0, 0.0, 0.0, 0.0, 0.0, 0.0], [0.3115723431110382, 0.039277590811252594, 0.03521274775266647, 0.07550989836454391, 0.08078571408987045, 0.04503687098622322, 0.028806490823626518, 0.1021866649389267, 0.08797681331634521, 0.05585261061787605, 0.08571925014257431, 0.05206303671002388, 0.0, 0.0, 0.0, 0.0, 0.0, 0.0, 0.0, 0.0, 0.0, 0.0, 0.0, 0.0, 0.0, 0.0, 0.0, 0.0, 0.0, 0.0, 0.0, 0.0, 0.0, 0.0, 0.0], [0.36146974563598633, 0.06311224400997162, 0.026989908888936043, 0.0709579661488533, 0.03985173627734184, 0.029446514323353767, 0.022796370089054108, 0.07072696834802628, 0.11304396390914917, 0.03335515782237053, 0.03714415431022644, 0.04763941094279289, 0.08346590399742126, 0.0, 0.0, 0.0, 0.0, 0.0, 0.0, 0.0, 0.0, 0.0, 0.0, 0.0, 0.0, 0.0, 0.0, 0.0, 0.0, 0.0, 0.0, 0.0, 0.0, 0.0, 0.0], [0.26885923743247986, 0.032650742679834366, 0.039381902664899826, 0.050811439752578735, 0.08684229850769043, 0.0431019626557827, 0.01792234368622303, 0.06655360758304596, 0.07785414159297943, 0.04528903588652611, 0.06586869060993195, 0.046066079288721085, 0.07721759378910065, 0.08158092945814133, 0.0, 0.0, 0.0, 0.0, 0.0, 0.0, 0.0, 0.0, 0.0, 0.0, 0.0, 0.0, 0.0, 0.0, 0.0, 0.0, 0.0, 0.0, 0.0, 0.0, 0.0], [0.20790542662143707, 0.030814696103334427, 0.029462968930602074, 0.0506741926074028, 0.0874348133802414, 0.047705844044685364, 0.027333173900842667, 0.09152109175920486, 0.052141401916742325, 0.04708244279026985, 0.08081995695829391, 0.05453275889158249, 0.12074831128120422, 0.05516170337796211, 0.016661204397678375, 0.0, 0.0, 0.0, 0.0, 0.0, 0.0, 0.0, 0.0, 0.0, 0.0, 0.0, 0.0, 0.0, 0.0, 0.0, 0.0, 0.0, 0.0, 0.0, 0.0], [0.19932880997657776, 0.04206705093383789, 0.057157713919878006, 0.07193322479724884, 0.050658807158470154, 0.03152456507086754, 0.0271367896348238, 0.04140901938080788, 0.09322270005941391, 0.05202207714319229, 0.025422805920243263, 0.05927914008498192, 0.06613772362470627, 0.09582273662090302, 0.031632136553525925, 0.055244624614715576, 0.0, 0.0, 0.0, 0.0, 0.0, 0.0, 0.0, 0.0, 0.0, 0.0, 0.0, 0.0, 0.0, 0.0, 0.0, 0.0, 0.0, 0.0, 0.0], [0.2371981143951416, 0.030675791203975677, 0.02920849807560444, 0.058212365955114365, 0.060829877853393555, 0.03495606780052185, 0.02444051019847393, 0.07084918767213821, 0.05983860045671463, 0.03970346227288246, 0.059325866401195526, 0.03675239533185959, 0.07694020122289658, 0.06171642988920212, 0.014049725607037544, 0.0674562156200409, 0.037846677005290985, 0.0, 0.0, 0.0, 0.0, 0.0, 0.0, 0.0, 0.0, 0.0, 0.0, 0.0, 0.0, 0.0, 0.0, 0.0, 0.0, 0.0, 0.0], [0.24995343387126923, 0.026629485189914703, 0.03931758925318718, 0.04463212937116623, 0.07087577134370804, 0.03409421816468239, 0.021265026181936264, 0.05726418271660805, 0.05179665982723236, 0.035039838403463364, 0.04392271116375923, 0.03922877833247185, 0.06155905872583389, 0.051224272698163986, 0.015611975453794003, 0.08278109133243561, 0.03891744092106819, 0.035886358469724655, 0.0, 0.0, 0.0, 0.0, 0.0, 0.0, 0.0, 0.0, 0.0, 0.0, 0.0, 0.0, 0.0, 0.0, 0.0, 0.0, 0.0], [0.22269809246063232, 0.02651810273528099, 0.03978956118226051, 0.027603985741734505, 0.08196061104536057, 0.03582962602376938, 0.01537894643843174, 0.06874658912420273, 0.05343087017536163, 0.05469818413257599, 0.05721566453576088, 0.03161529079079628, 0.037170689553022385, 0.052282970398664474, 0.011851184070110321, 0.07206094264984131, 0.03087828867137432, 0.0244111530482769, 0.055859170854091644, 0.0, 0.0, 0.0, 0.0, 0.0, 0.0, 0.0, 0.0, 0.0, 0.0, 0.0, 0.0, 0.0, 0.0, 0.0, 0.0], [0.07419289648532867, 0.050926968455314636, 0.028230968862771988, 0.0342000350356102, 0.03361424431204796, 0.051822151988744736, 0.009658360853791237, 0.04940614849328995, 0.09883325546979904, 0.05356480926275253, 0.02458185888826847, 0.0587918721139431, 0.013026786968111992, 0.10889024287462234, 0.01567712239921093, 0.04766630753874779, 0.06507278978824615, 0.0388617143034935, 0.0398426279425621, 0.10313882678747177, 0.0, 0.0, 0.0, 0.0, 0.0, 0.0, 0.0, 0.0, 0.0, 0.0, 0.0, 0.0, 0.0, 0.0, 0.0], [0.2261490672826767, 0.025769852101802826, 0.033361684530973434, 0.04034486413002014, 0.061168424785137177, 0.03166025131940842, 0.023036962375044823, 0.04815821722149849, 0.04964132234454155, 0.025703301653265953, 0.05132420361042023, 0.029225794598460197, 0.046272359788417816, 0.046795472502708435, 0.010471495799720287, 0.043467383831739426, 0.027977753430604935, 0.033561088144779205, 0.03209923580288887, 0.05562403053045273, 0.05818724259734154, 0.0, 0.0, 0.0, 0.0, 0.0, 0.0, 0.0, 0.0, 0.0, 0.0, 0.0, 0.0, 0.0, 0.0], [0.19443000853061676, 0.020005784928798676, 0.02566997893154621, 0.027610041201114655, 0.07351988554000854, 0.025118578225374222, 0.01642843708395958, 0.054433673620224, 0.04450273886322975, 0.022272855043411255, 0.029331261292099953, 0.03064262494444847, 0.06286590546369553, 0.04339161515235901, 0.010215997695922852, 0.09763483703136444, 0.029601439833641052, 0.028080465272068977, 0.03757164999842644, 0.050374001264572144, 0.060897376388311386, 0.015400807373225689, 0.0, 0.0, 0.0, 0.0, 0.0, 0.0, 0.0, 0.0, 0.0, 0.0, 0.0, 0.0, 0.0], [0.1976660192012787, 0.04115750268101692, 0.03360120207071304, 0.023870166391134262, 0.06633442640304565, 0.028016967698931694, 0.019582925364375114, 0.05178564786911011, 0.031591497361660004, 0.02653614617884159, 0.04164313152432442, 0.025757966563105583, 0.0432840958237648, 0.029939450323581696, 0.012750317342579365, 0.05606915056705475, 0.024677352979779243, 0.02150590345263481, 0.04559291899204254, 0.07480881363153458, 0.0443340465426445, 0.0219973586499691, 0.03749698027968407, 0.0, 0.0, 0.0, 0.0, 0.0, 0.0, 0.0, 0.0, 0.0, 0.0, 0.0, 0.0], [0.18043585121631622, 0.02334981970489025, 0.023929741233587265, 0.044541649520397186, 0.04070594906806946, 0.03654097765684128, 0.016616569831967354, 0.05323559418320656, 0.050283946096897125, 0.02584688551723957, 0.04605165496468544, 0.024920562282204628, 0.039760883897542953, 0.04893425852060318, 0.012390016578137875, 0.061916567385196686, 0.023965362459421158, 0.028754493221640587, 0.02509540319442749, 0.06865916401147842, 0.0735766664147377, 0.018046900629997253, 0.022800715640187263, 0.00964035838842392, 0.0, 0.0, 0.0, 0.0, 0.0, 0.0, 0.0, 0.0, 0.0, 0.0, 0.0], [0.24246376752853394, 0.024696441367268562, 0.03868824243545532, 0.03357229009270668, 0.05476618930697441, 0.03380465880036354, 0.020721610635519028, 0.03275461122393608, 0.04349982365965843, 0.01856265775859356, 0.036468468606472015, 0.031002499163150787, 0.03862545266747475, 0.03993181511759758, 0.010727166198194027, 0.03831764683127403, 0.02928030863404274, 0.02467813529074192, 0.027889298275113106, 0.045021574944257736, 0.04307597130537033, 0.016905825585126877, 0.023586271330714226, 0.0072986166924238205, 0.04366061091423035, 0.0, 0.0, 0.0, 0.0, 0.0, 0.0, 0.0, 0.0, 0.0, 0.0], [0.11111292243003845, 0.029458751901984215, 0.02455948479473591, 0.03090250864624977, 0.033864811062812805, 0.03363063186407089, 0.012831437401473522, 0.030669275671243668, 0.06390535086393356, 0.023481519892811775, 0.025704611092805862, 0.037669792771339417, 0.01616784930229187, 0.06660731881856918, 0.01723175309598446, 0.030658653005957603, 0.03924047201871872, 0.02429523877799511, 0.026388810947537422, 0.05864027142524719, 0.10666133463382721, 0.017623888328671455, 0.02424541674554348, 0.01827959157526493, 0.03675021603703499, 0.059418026357889175, 0.0, 0.0, 0.0, 0.0, 0.0, 0.0, 0.0, 0.0, 0.0], [0.17855222523212433, 0.04373869299888611, 0.027772290632128716, 0.03288251534104347, 0.08083146810531616, 0.03614851459860802, 0.019438153132796288, 0.03604714944958687, 0.031540654599666595, 0.02228384278714657, 0.02674206718802452, 0.02027297019958496, 0.0492948517203331, 0.028057053685188293, 0.010035551153123379, 0.028219006955623627, 0.018526632338762283, 0.025377953425049782, 0.03921227157115936, 0.05273986980319023, 0.024735091254115105, 0.028674770146608353, 0.029405958950519562, 0.013893158175051212, 0.017606474459171295, 0.05648735165596008, 0.021483488380908966, 0.0, 0.0, 0.0, 0.0, 0.0, 0.0, 0.0, 0.0], [0.1554652601480484, 0.04916937276721001, 0.024515951052308083, 0.02570052072405815, 0.05483126640319824, 0.04209272190928459, 0.01164503488689661, 0.06493968516588211, 0.031219756230711937, 0.026562795042991638, 0.02832684852182865, 0.01828906126320362, 0.03490856662392616, 0.02966100536286831, 0.008558599278330803, 0.046650465577840805, 0.017669815570116043, 0.023724373430013657, 0.019038736820220947, 0.07715766131877899, 0.02730737067759037, 0.019747739657759666, 0.02436409518122673, 0.014429943636059761, 0.01892835646867752, 0.0585055947303772, 0.024364076554775238, 0.022225424647331238, 0.0, 0.0, 0.0, 0.0, 0.0, 0.0, 0.0], [0.19332930445671082, 0.026298338547348976, 0.030392467975616455, 0.02961188368499279, 0.0452016182243824, 0.033079035580158234, 0.02184075117111206, 0.026594150811433792, 0.04538284242153168, 0.03843946009874344, 0.02691536955535412, 0.024535102769732475, 0.015795711427927017, 0.04036763310432434, 0.010634266771376133, 0.026345470920205116, 0.02240980602800846, 0.01994604989886284, 0.04401849955320358, 0.06709347665309906, 0.03345472738146782, 0.016084935516119003, 0.025615837424993515, 0.011409507133066654, 0.013623224571347237, 0.04055491462349892, 0.016662990674376488, 0.03589887171983719, 0.018463686108589172, 0.0, 0.0, 0.0, 0.0, 0.0, 0.0], [0.15965206921100616, 0.01864234358072281, 0.026677710935473442, 0.0280478335916996, 0.04907772317528725, 0.026045646518468857, 0.017807701602578163, 0.036794207990169525, 0.04596946761012077, 0.019110901281237602, 0.037963178008794785, 0.02762063778936863, 0.028341013938188553, 0.04296435788273811, 0.008847588673233986, 0.03253016248345375, 0.025659991428256035, 0.02448510006070137, 0.02996622398495674, 0.04054068401455879, 0.042335040867328644, 0.01769455336034298, 0.021217675879597664, 0.006380939390510321, 0.031033910810947418, 0.03557971492409706, 0.0250661913305521, 0.02660745196044445, 0.024308402091264725, 0.04303152859210968, 0.0, 0.0, 0.0, 0.0, 0.0], [0.19661718606948853, 0.019791383296251297, 0.033033356070518494, 0.0256870798766613, 0.04220607504248619, 0.031375814229249954, 0.01624363474547863, 0.030698398128151894, 0.03629428520798683, 0.02683934010565281, 0.02671218290925026, 0.02304631657898426, 0.021950090304017067, 0.03344837203621864, 0.010305729694664478, 0.02274363674223423, 0.021480804309248924, 0.021094748750329018, 0.031490396708250046, 0.03692728653550148, 0.03723209723830223, 0.015421983785927296, 0.019252309575676918, 0.007320479955524206, 0.024766936898231506, 0.0443916842341423, 0.01985074207186699, 0.02613365650177002, 0.01812443695962429, 0.04270908981561661, 0.03681054711341858, 0.0, 0.0, 0.0, 0.0], [0.1631322205066681, 0.02293247915804386, 0.02958369441330433, 0.028615489602088928, 0.03778465464711189, 0.0265186820179224, 0.0262290108948946, 0.031034130603075027, 0.034832071512937546, 0.018975619226694107, 0.033202920109033585, 0.026435954496264458, 0.032307349145412445, 0.0313292033970356, 0.011727879755198956, 0.0271691232919693, 0.024106508120894432, 0.022620316594839096, 0.025755558162927628, 0.038014139980077744, 0.03207401931285858, 0.017354240640997887, 0.017987200990319252, 0.009293683804571629, 0.042471349239349365, 0.031215855851769447, 0.019006583839654922, 0.021523471921682358, 0.0175411868840456, 0.04014516994357109, 0.018160764127969742, 0.040919505059719086, 0.0, 0.0, 0.0], [0.15803863108158112, 0.016828807070851326, 0.020642386749386787, 0.045382529497146606, 0.0466417595744133, 0.027835212647914886, 0.02020648866891861, 0.04211511090397835, 0.03703450784087181, 0.017744602635502815, 0.03035331703722477, 0.024713637307286263, 0.03428484871983528, 0.03341371566057205, 0.009082170203328133, 0.03521375358104706, 0.0222801361232996, 0.020850013941526413, 0.027390191331505775, 0.032314613461494446, 0.037649210542440414, 0.014920782297849655, 0.016553649678826332, 0.006309075281023979, 0.023218730464577675, 0.027949869632720947, 0.02383224479854107, 0.015323551371693611, 0.017670461907982826, 0.02681528404355049, 0.02218884602189064, 0.028694557026028633, 0.03650737553834915, 0.0, 0.0], [0.17019422352313995, 0.032125893980264664, 0.029870077967643738, 0.01961558684706688, 0.054893821477890015, 0.03622059151530266, 0.01715219020843506, 0.032326582819223404, 0.031500715762376785, 0.029624566435813904, 0.02909427136182785, 0.016624270007014275, 0.029989782720804214, 0.027614137157797813, 0.010949764400720596, 0.034366536885499954, 0.014830106869339943, 0.015176062472164631, 0.030502917245030403, 0.04159746319055557, 0.02064122073352337, 0.017041221261024475, 0.026175420731306076, 0.010538814589381218, 0.0074417926371097565, 0.03439135476946831, 0.02607710100710392, 0.029615631327033043, 0.013693009503185749, 0.018074294552206993, 0.03374847024679184, 0.029002608731389046, 0.013117270544171333, 0.016172273084521294, 0.0], [0.11417397856712341, 0.01670067198574543, 0.02357623167335987, 0.03235282748937607, 0.055113647133111954, 0.029616637155413628, 0.01717636175453663, 0.05952784791588783, 0.03843427821993828, 0.020421087741851807, 0.03235998377203941, 0.019217459484934807, 0.01913512498140335, 0.03519752249121666, 0.010996297933161259, 0.044014424085617065, 0.016835961490869522, 0.016212502494454384, 0.02384052984416485, 0.04231658950448036, 0.03716838359832764, 0.009007317014038563, 0.015979519113898277, 0.005828780587762594, 0.020826423540711403, 0.028255831450223923, 0.031605929136276245, 0.024252016097307205, 0.02328527346253395, 0.019917484372854233, 0.024559758603572845, 0.021957380697131157, 0.013193154707551003, 0.020208800211548805, 0.036734022200107574]]]}\n",
              "    )\n",
              "    </script>"
            ],
            "text/plain": [
              "<circuitsvis.utils.render.RenderedHTML at 0x17df0c100>"
            ]
          },
          "metadata": {},
          "output_type": "display_data"
        }
      ],
      "source": [
        "import circuitsvis as cv\n",
        "from IPython.display import display\n",
        "\n",
        "html = cv.attention.attention_patterns(\n",
        "    tokens=reference_gpt2.to_str_tokens(reference_text),\n",
        "    attention=cache[\"pattern\", 0][0]\n",
        ")\n",
        "display(html)"
      ]
    },
    {
      "cell_type": "markdown",
      "metadata": {
        "id": "vcT1uWPGfHN2"
      },
      "source": [
        "You can also use the `attention_heads` function, which has similar syntax but presents the information in a different (sometimes more helpful) way.\n"
      ]
    },
    {
      "cell_type": "markdown",
      "metadata": {
        "id": "yMqCi5OYfHN2"
      },
      "source": [
        "<details>\n",
        "<summary>Help - my <code>attention_heads</code> plots are behaving weirdly.</summary>\n",
        "\n",
        "This seems to be a bug in `circuitsvis` - on VSCode, the attention head plots continually shrink in size.\n",
        "\n",
        "Until this is fixed, one way to get around it is to open the plots in your browser. You can do this inline with the `webbrowser` library:\n",
        "\n",
        "```python\n",
        "attn_heads = cv.attention.attention_heads(\n",
        "    tokens=reference_gpt2.to_str_tokens(reference_text),\n",
        "    attention=cache[\"pattern\", 0][0]\n",
        ")\n",
        "\n",
        "path = \"attn_heads.html\"\n",
        "\n",
        "with open(path, \"w\") as f:\n",
        "    f.write(str(attn_heads))\n",
        "\n",
        "webbrowser.open(path)\n",
        "```\n",
        "\n",
        "To check exactly where this is getting saved, you can print your current working directory with `os.getcwd()`.\n",
        "</details>\n"
      ]
    },
    {
      "cell_type": "markdown",
      "metadata": {
        "id": "972Ltv3vtDOH"
      },
      "source": [
        "---\n",
        "\n",
        "Note - don't worry if you don't get 100% accuracy here; the tests are pretty stringent. Even things like having your `einsum` input arguments in a different order might result in the output being very slightly different. You should be getting at least 99% accuracy though, so if the value is lower then this it probably means you've made a mistake somewhere.\n",
        "\n",
        "Also, this implementation will probably be the most challenging exercise on this page, so don't worry if it takes you some time! You should look at parts of the solution if you're stuck.\n"
      ]
    },
    {
      "cell_type": "markdown",
      "metadata": {
        "id": "CeWonT0afHN2"
      },
      "source": [
        "A couple of notes / hints:\n",
        "\n",
        "* Don't forget the attention score scaling (this should come before the masking).\n",
        "* You can use `torch.where`, or the `torch.masked_fill` function when masking the attention scores.\n",
        "* The `\"IGNORE\"` buffer is a very large negative number. This is the value you should mask your attention scores with (i.e. set them to this number wherever you want the probabilities to be zero). We indicate the existence of a `self.IGNORE` attribute to VSCode's typechecker via the line `IGNORE: Float[Tensor, \"\"]` in the second line of the code below.\n",
        "\n",
        "<details>\n",
        "<summary>Question - why do you think we mask the attention scores by setting them to a large negative number, rather than the attention probabilities by setting them to zero?</summary>\n",
        "\n",
        "If we masked the attention probabilities, then the probabilities would no longer sum to 1.\n",
        "\n",
        "We want to mask the scores and *then* take softmax, so that the probabilities are still valid probabilities (i.e. they sum to 1), and the values in the masked positions have no influence on the model's output.\n",
        "</details>\n"
      ]
    },
    {
      "cell_type": "code",
      "execution_count": 49,
      "metadata": {
        "id": "wNOKYkvom4R_"
      },
      "outputs": [
        {
          "name": "stdout",
          "output_type": "stream",
          "text": [
            "Input shape: torch.Size([2, 4, 768])\n",
            "Output shape: torch.Size([2, 4, 768]) \n",
            "\n",
            "Input shape: torch.Size([1, 35, 768])\n",
            "Output shape: torch.Size([1, 35, 768])\n",
            "Reference output shape: torch.Size([1, 35, 768]) \n",
            "\n",
            "100.00% of the values are correct\n",
            "\n"
          ]
        }
      ],
      "source": [
        "class Attention(nn.Module):\n",
        "    IGNORE: Float[Tensor, \"\"]\n",
        "\n",
        "    def __init__(self, cfg: Config):\n",
        "        super().__init__()\n",
        "        self.cfg = cfg\n",
        "        self.W_Q = nn.Parameter(t.empty((cfg.n_heads, cfg.d_model, cfg.d_head)))\n",
        "        self.W_K = nn.Parameter(t.empty((cfg.n_heads, cfg.d_model, cfg.d_head)))\n",
        "        self.W_V = nn.Parameter(t.empty((cfg.n_heads, cfg.d_model, cfg.d_head)))\n",
        "        self.W_O = nn.Parameter(t.empty((cfg.n_heads, cfg.d_head, cfg.d_model)))\n",
        "        self.b_Q = nn.Parameter(t.zeros((cfg.n_heads, cfg.d_head)))\n",
        "        self.b_K = nn.Parameter(t.zeros((cfg.n_heads, cfg.d_head)))\n",
        "        self.b_V = nn.Parameter(t.zeros((cfg.n_heads, cfg.d_head)))\n",
        "        self.b_O = nn.Parameter(t.zeros((cfg.d_model)))\n",
        "        nn.init.normal_(self.W_Q, std=self.cfg.init_range)\n",
        "        nn.init.normal_(self.W_K, std=self.cfg.init_range)\n",
        "        nn.init.normal_(self.W_V, std=self.cfg.init_range)\n",
        "        nn.init.normal_(self.W_O, std=self.cfg.init_range)\n",
        "        self.register_buffer(\"IGNORE\", t.tensor(-1e5, dtype=t.float32, device=device))\n",
        "\n",
        "    def forward(\n",
        "        self, normalized_resid_pre: Float[Tensor, \"batch posn d_model\"]\n",
        "    ) -> Float[Tensor, \"batch posn d_model\"]:\n",
        "        q = einops.einsum(normalized_resid_pre, self.W_Q, 'batch posn d_model, n_heads d_model d_head -> batch posn n_heads d_head') + self.b_Q\n",
        "        k = einops.einsum(normalized_resid_pre, self.W_K, 'batch posn d_model, n_heads d_model d_head -> batch posn n_heads d_head') + self.b_K\n",
        "        v = einops.einsum(normalized_resid_pre, self.W_V, 'batch posn d_model, n_heads d_model d_head -> batch posn n_heads d_head') + self.b_V\n",
        "        raw_attn = einops.einsum(q, k, 'batch posn_q n_heads d_head, batch posn_k n_heads d_head -> batch n_heads posn_q posn_k')\n",
        "        raw_attn = self.apply_causal_mask(raw_attn)\n",
        "        masked_attn = (raw_attn / (self.cfg.d_head)**0.5)\n",
        "        attn_scores = masked_attn.softmax(-1)\n",
        "        z = einops.einsum(attn_scores, v, 'batch n_heads posn_q posn_k, batch posn_k n_heads d_head -> batch posn_q n_heads d_head')\n",
        "        return einops.einsum(self.W_O, z, 'n_heads d_head d_model, batch posn_q n_heads d_head -> batch posn_q d_model') + self.b_O\n",
        "        \n",
        "\n",
        "    def apply_causal_mask(\n",
        "        self, attn_scores: Float[Tensor, \"batch n_heads query_pos key_pos\"]\n",
        "    ) -> Float[Tensor, \"batch n_heads query_pos key_pos\"]:\n",
        "        '''\n",
        "        Applies a causal mask to attention scores, and returns masked scores.\n",
        "        '''\n",
        "        ones = t.ones(attn_scores.shape[2], attn_scores.shape[3], device=device)\n",
        "        upper_tri = t.triu(ones, diagonal=1).bool()\n",
        "        attn_scores.masked_fill_(upper_tri, self.IGNORE)\n",
        "        return attn_scores\n",
        "\n",
        "rand_float_test(Attention, [2, 4, 768])\n",
        "load_gpt2_test(Attention, reference_gpt2.blocks[0].attn, cache[\"normalized\", 0, \"ln1\"])"
      ]
    },
    {
      "cell_type": "markdown",
      "metadata": {
        "id": "Cn0_PpeKt3UT"
      },
      "source": [
        "<details>\n",
        "<summary>Hint (pseudocode for both functions)</summary>\n",
        "\n",
        "```python\n",
        "def forward(\n",
        "    self, normalized_resid_pre: Float[Tensor, \"batch posn d_model\"]\n",
        ") -> Float[Tensor, \"batch posn d_model\"]:\n",
        "\n",
        "    # Calculate query, key and value vectors\n",
        "\n",
        "    # Calculate attention scores, then scale and mask, and apply softmax to get probabilities\n",
        "\n",
        "    # Take weighted sum of value vectors, according to attention probabilities\n",
        "\n",
        "    # Calculate output (by applying matrix W_O and summing over heads, then adding bias b_O)\n",
        "\n",
        "\n",
        "def apply_causal_mask(\n",
        "        self, attn_scores: Float[Tensor, \"batch n_heads query_pos key_pos\"]\n",
        "    ) -> Float[Tensor, \"batch n_heads query_pos key_pos\"]:\n",
        "\n",
        "    # Define a mask that is True for all positions we want to set probabilities to zero for\n",
        "\n",
        "    # Apply the mask to attention scores, then return the masked scores\n",
        "```\n",
        "</details>\n",
        "\n"
      ]
    },
    {
      "cell_type": "markdown",
      "metadata": {
        "id": "5phgYX4Um4SA"
      },
      "source": [
        "## MLP\n",
        "\n",
        "```c\n",
        "Difficulty: 🔴🔴⚪⚪⚪\n",
        "Importance: 🔵🔵🔵🔵⚪\n",
        "\n",
        "You should spend up to 10-15 minutes on this exercise.\n",
        "```\n",
        "\n",
        "Next, you should implement the MLP layer, which consists of:\n",
        "\n",
        "* A linear layer, with weight `W_in`, bias `b_in`\n",
        "* A nonlinear function (we usually use GELU; the function `gelu_new` has been imported for this purpose)\n",
        "* A linear layer, with weight `W_out`, bias `b_out`\n"
      ]
    },
    {
      "cell_type": "code",
      "execution_count": null,
      "metadata": {
        "id": "5ByI-Sj2m4SA"
      },
      "outputs": [],
      "source": [
        "class MLP(nn.Module):\n",
        "    def __init__(self, cfg: Config):\n",
        "        super().__init__()\n",
        "        self.cfg = cfg\n",
        "        self.W_in = nn.Parameter(t.empty((cfg.d_model, cfg.d_mlp)))\n",
        "        self.W_out = nn.Parameter(t.empty((cfg.d_mlp, cfg.d_model)))\n",
        "        self.b_in = nn.Parameter(t.zeros((cfg.d_mlp)))\n",
        "        self.b_out = nn.Parameter(t.zeros((cfg.d_model)))\n",
        "        nn.init.normal_(self.W_in, std=self.cfg.init_range)\n",
        "        nn.init.normal_(self.W_out, std=self.cfg.init_range)\n",
        "\n",
        "    def forward(\n",
        "        self, normalized_resid_mid: Float[Tensor, \"batch posn d_model\"]\n",
        "    ) -> Float[Tensor, \"batch posn d_model\"]:\n",
        "        pass\n",
        "\n",
        "rand_float_test(MLP, [2, 4, 768])\n",
        "load_gpt2_test(MLP, reference_gpt2.blocks[0].mlp, cache[\"normalized\", 0, \"ln2\"])"
      ]
    },
    {
      "cell_type": "markdown",
      "metadata": {
        "id": "wZWuD4I4m4SA"
      },
      "source": [
        "## Transformer Block\n",
        "\n",
        "```c\n",
        "Difficulty: 🔴🔴⚪⚪⚪\n",
        "Importance: 🔵🔵🔵⚪⚪\n",
        "\n",
        "You should spend up to ~10 minutes on this exercise.\n",
        "```\n",
        "\n",
        "Now, we can put together the attention, MLP and layernorms into a single transformer block. Remember to implement the residual connections correctly!\n"
      ]
    },
    {
      "cell_type": "code",
      "execution_count": null,
      "metadata": {
        "id": "ffiFxAJzm4SA"
      },
      "outputs": [],
      "source": [
        "class TransformerBlock(nn.Module):\n",
        "    def __init__(self, cfg: Config):\n",
        "        super().__init__()\n",
        "        self.cfg = cfg\n",
        "        self.ln1 = LayerNorm(cfg)\n",
        "        self.attn = Attention(cfg)\n",
        "        self.ln2 = LayerNorm(cfg)\n",
        "        self.mlp = MLP(cfg)\n",
        "\n",
        "    def forward(\n",
        "        self, resid_pre: Float[Tensor, \"batch position d_model\"]\n",
        "    ) -> Float[Tensor, \"batch position d_model\"]:\n",
        "        pass\n",
        "\n",
        "rand_float_test(TransformerBlock, [2, 4, 768])\n",
        "load_gpt2_test(TransformerBlock, reference_gpt2.blocks[0], cache[\"resid_pre\", 0])"
      ]
    },
    {
      "cell_type": "markdown",
      "metadata": {
        "id": "07tkfme7HUfk"
      },
      "source": [
        "<details>\n",
        "<summary>Help - I'm getting 100% accuracy on all modules before this point, but only about 90% accuracy on this one.</summary>\n",
        "\n",
        "This might be because your layernorm implementation divides by `std + eps` rather than `(var + eps).sqrt()`. The latter matches the implementation used by GPT-2 (and this error only shows up in these tests).\n",
        "\n",
        "</details>"
      ]
    },
    {
      "cell_type": "markdown",
      "metadata": {
        "id": "mgzAM-VQm4SA"
      },
      "source": [
        "## Unembedding\n",
        "\n",
        "```c\n",
        "Difficulty: 🔴🔴⚪⚪⚪\n",
        "Importance: 🔵🔵🔵⚪⚪\n",
        "\n",
        "You should spend up to ~10 minutes on this exercise.\n",
        "```\n",
        "\n",
        "The unembedding is just a linear layer (with weight `W_U` and bias `b_U`).\n"
      ]
    },
    {
      "cell_type": "code",
      "execution_count": null,
      "metadata": {
        "id": "XEMB7p_Vm4SA"
      },
      "outputs": [],
      "source": [
        "class Unembed(nn.Module):\n",
        "    def __init__(self, cfg):\n",
        "        super().__init__()\n",
        "        self.cfg = cfg\n",
        "        self.W_U = nn.Parameter(t.empty((cfg.d_model, cfg.d_vocab)))\n",
        "        nn.init.normal_(self.W_U, std=self.cfg.init_range)\n",
        "        self.b_U = nn.Parameter(t.zeros((cfg.d_vocab), requires_grad=False))\n",
        "\n",
        "    def forward(\n",
        "        self, normalized_resid_final: Float[Tensor, \"batch position d_model\"]\n",
        "    ) -> Float[Tensor, \"batch position d_vocab\"]:\n",
        "        pass\n",
        "\n",
        "rand_float_test(Unembed, [2, 4, 768])\n",
        "load_gpt2_test(Unembed, reference_gpt2.unembed, cache[\"ln_final.hook_normalized\"])"
      ]
    },
    {
      "cell_type": "markdown",
      "metadata": {
        "id": "_eRyuDxLm4SB"
      },
      "source": [
        "## Full Transformer\n",
        "\n",
        "```c\n",
        "Difficulty: 🔴🔴⚪⚪⚪\n",
        "Importance: 🔵🔵🔵⚪⚪\n",
        "\n",
        "You should spend up to ~10 minutes on this exercise.\n",
        "```\n"
      ]
    },
    {
      "cell_type": "code",
      "execution_count": null,
      "metadata": {
        "id": "KCCrXlzYm4SB"
      },
      "outputs": [],
      "source": [
        "class DemoTransformer(nn.Module):\n",
        "    def __init__(self, cfg: Config):\n",
        "        super().__init__()\n",
        "        self.cfg = cfg\n",
        "        self.embed = Embed(cfg)\n",
        "        self.pos_embed = PosEmbed(cfg)\n",
        "        self.blocks = nn.ModuleList([TransformerBlock(cfg) for _ in range(cfg.n_layers)])\n",
        "        self.ln_final = LayerNorm(cfg)\n",
        "        self.unembed = Unembed(cfg)\n",
        "\n",
        "    def forward(self, tokens: Int[Tensor, \"batch position\"]) -> Float[Tensor, \"batch position d_vocab\"]:\n",
        "        pass\n",
        "\n",
        "rand_int_test(DemoTransformer, [2, 4])\n",
        "load_gpt2_test(DemoTransformer, reference_gpt2, tokens)"
      ]
    },
    {
      "cell_type": "markdown",
      "metadata": {
        "id": "yNwh7R1em4SB"
      },
      "source": [
        "**Try it out!**\n"
      ]
    },
    {
      "cell_type": "code",
      "execution_count": null,
      "metadata": {
        "id": "deE6uPlxm4SB"
      },
      "outputs": [],
      "source": [
        "demo_gpt2 = DemoTransformer(Config(debug=False)).to(device)\n",
        "demo_gpt2.load_state_dict(reference_gpt2.state_dict(), strict=False)\n",
        "\n",
        "demo_logits = demo_gpt2(tokens)"
      ]
    },
    {
      "cell_type": "markdown",
      "metadata": {
        "id": "gAhstai4m4SB"
      },
      "source": [
        "Let's take a test string, and calculate the loss!\n",
        "\n",
        "We're using the formula for **cross-entropy loss**. The cross entropy loss between a modelled distribution $Q$ and target distribution $P$ is:\n",
        "\n",
        "$$\n",
        "-\\sum_x P(x) \\log Q(x)\n",
        "$$\n",
        "\n",
        "In the case where $P$ is just the empirical distribution from target classes (i.e. $P(x^*) = 1$ for the correct class $x^*$) then this becomes:\n",
        "\n",
        "$$\n",
        "-\\log Q(x^*)\n",
        "$$\n",
        "\n",
        "in other words, the negative log prob of the true classification.\n"
      ]
    },
    {
      "cell_type": "code",
      "execution_count": null,
      "metadata": {
        "id": "UtO9ZsL6m4SB"
      },
      "outputs": [],
      "source": [
        "def get_log_probs(\n",
        "    logits: Float[Tensor, \"batch posn d_vocab\"],\n",
        "    tokens: Int[Tensor, \"batch posn\"]\n",
        ") -> Float[Tensor, \"batch posn-1\"]:\n",
        "\n",
        "    log_probs = logits.log_softmax(dim=-1)\n",
        "    # Get logprobs the first seq_len-1 predictions (so we can compare them with the actual next tokens)\n",
        "    log_probs_for_tokens = log_probs[:, :-1].gather(dim=-1, index=tokens[:, 1:].unsqueeze(-1)).squeeze(-1)\n",
        "\n",
        "    return log_probs_for_tokens\n",
        "\n",
        "\n",
        "pred_log_probs = get_log_probs(demo_logits, tokens)\n",
        "print(f\"Avg cross entropy loss: {-pred_log_probs.mean():.4f}\")\n",
        "print(f\"Avg cross entropy loss for uniform distribution: {math.log(demo_gpt2.cfg.d_vocab):4f}\")\n",
        "print(f\"Avg probability assigned to correct token: {pred_log_probs.exp().mean():4f}\")"
      ]
    },
    {
      "cell_type": "markdown",
      "metadata": {
        "id": "cOChhr71m4SC"
      },
      "source": [
        "We can also greedily generate text, by taking the most likely next token and continually appending it to our prompt before feeding it back into the model:\n"
      ]
    },
    {
      "cell_type": "code",
      "execution_count": null,
      "metadata": {
        "id": "IPEmKN1Bm4SC"
      },
      "outputs": [],
      "source": [
        "test_string = '''The Total Perspective Vortex derives its picture of the whole Universe on the principle of'''\n",
        "for i in tqdm(range(100)):\n",
        "    test_tokens = reference_gpt2.to_tokens(test_string).to(device)\n",
        "    demo_logits = demo_gpt2(test_tokens)\n",
        "    test_string += reference_gpt2.tokenizer.decode(demo_logits[-1, -1].argmax())\n",
        "\n",
        "print(test_string)"
      ]
    },
    {
      "cell_type": "markdown",
      "metadata": {
        "id": "tGrShZtp0O0E"
      },
      "source": [
        "In later sections, we'll learn to generate text in slightly more interesting ways than just argmaxing the output.\n"
      ]
    },
    {
      "cell_type": "markdown",
      "metadata": {
        "id": "QfeyG6NZm4SC"
      },
      "source": [
        "# 3️⃣ Training a Transformer\n"
      ]
    },
    {
      "cell_type": "markdown",
      "metadata": {
        "id": "RGFuGCKtnNy3"
      },
      "source": [
        "> ##### Learning objectives\n",
        ">\n",
        "> * Understand how to train a transformer from scratch\n",
        "> * Write a basic transformer training loop\n",
        "> * Interpret the transformer's falling cross entropy loss with reference to features of the training data (e.g. bigram frequencies)\n"
      ]
    },
    {
      "cell_type": "markdown",
      "metadata": {
        "id": "K6oZKflnnXgj"
      },
      "source": [
        "Now that we've built our transformer, and verified that it performs as expected when we load in weights, let's try training it from scratch!\n",
        "\n",
        "This is a lightweight demonstration of how you can actually train your own GPT-2 with this code! Here we train a tiny model on a tiny dataset, but it's fundamentally the same code for training a larger/more real model (though you'll need beefier GPUs and data parallelism to do it remotely efficiently, and fancier parallelism for much bigger ones).\n",
        "\n",
        "For our purposes, we'll train 2L 4 heads per layer model, with context length 256, for 10*200 steps of batch size 16, just to show what it looks like (and so the notebook doesn't melt your colab / machine!)."
      ]
    },
    {
      "cell_type": "markdown",
      "metadata": {
        "id": "-VB5ELjInZzj"
      },
      "source": [
        "## Create Model"
      ]
    },
    {
      "cell_type": "code",
      "execution_count": null,
      "metadata": {
        "id": "4TMr-rMQnayL"
      },
      "outputs": [],
      "source": [
        "model_cfg = Config(\n",
        "    debug=False,\n",
        "    d_model=256,\n",
        "    n_heads=4,\n",
        "    d_head=64,\n",
        "    d_mlp=1024,\n",
        "    n_layers=2,\n",
        "    n_ctx=256,\n",
        "    d_vocab=reference_gpt2.cfg.d_vocab\n",
        ")\n",
        "model = DemoTransformer(model_cfg)"
      ]
    },
    {
      "cell_type": "markdown",
      "metadata": {
        "id": "ggSGeTT_nb5Z"
      },
      "source": [
        "## Training Args\n",
        "\n",
        "\n",
        "Note, for this optimization we'll be using **weight decay**."
      ]
    },
    {
      "cell_type": "code",
      "execution_count": null,
      "metadata": {
        "id": "95hodhD_ndRy"
      },
      "outputs": [],
      "source": [
        "@dataclass\n",
        "class TransformerTrainingArgs():\n",
        "    batch_size = 16\n",
        "    epochs = 10\n",
        "    max_steps_per_epoch = 200\n",
        "\tlr = 1e-3\n",
        "\tweight_decay = 1e-2\n",
        "\twandb_project: Optional[str] = \"day1-demotransformer\"\n",
        "\twandb_name: Optional[str] = None\n",
        "\n",
        "\n",
        "args = TransformerTrainingArgs()"
      ]
    },
    {
      "cell_type": "markdown",
      "metadata": {
        "id": "lR8gVegcnfW2"
      },
      "source": [
        "## Create Data\n",
        "\n",
        "We load in a tiny dataset made by Neel Nanda, with the first 10K entries in the Pile (inspired by Stas' version for OpenWebText!)"
      ]
    },
    {
      "cell_type": "code",
      "execution_count": null,
      "metadata": {
        "id": "9udsnznsnik8"
      },
      "outputs": [],
      "source": [
        "dataset = datasets.load_dataset(\"NeelNanda/pile-10k\", split=\"train\").remove_columns(\"meta\")\n",
        "print(dataset)\n",
        "print(dataset[0]['text'][:100])"
      ]
    },
    {
      "cell_type": "markdown",
      "metadata": {
        "id": "chj2r8J-njhC"
      },
      "source": [
        "`tokenize_and_concatenate` is a useful function which takes our dataset of strings, and returns a dataset of token IDs ready to feed into the model. We then create a dataloader from this tokenized dataset. The useful method `train_test_split` can give us a training and testing set.\n"
      ]
    },
    {
      "cell_type": "code",
      "execution_count": null,
      "metadata": {
        "id": "mgogWcLUnk0U"
      },
      "outputs": [],
      "source": [
        "tokenized_dataset = tokenize_and_concatenate(dataset, reference_gpt2.tokenizer, streaming=False, max_length=model.cfg.n_ctx, column_name=\"text\", add_bos_token=True, num_proc=4)\n",
        "\n",
        "dataset_dict = tokenized_dataset.train_test_split(test_size=1000)\n",
        "train_loader = DataLoader(dataset_dict[\"train\"], batch_size=args.batch_size, shuffle=True, num_workers=4, pin_memory=True)\n",
        "test_loader = DataLoader(dataset_dict[\"test\"], batch_size=args.batch_size, shuffle=False, num_workers=4, pin_memory=True)"
      ]
    },
    {
      "cell_type": "markdown",
      "metadata": {
        "id": "Fcx4oMaInlpi"
      },
      "source": [
        "When we iterate through these dataloaders, we will find dictionaries with the single key `'tokens'`, which maps to a tensor of token IDs with shape `(batch, seq_len)`."
      ]
    },
    {
      "cell_type": "code",
      "execution_count": null,
      "metadata": {
        "id": "Y_Y7vD8BnqK-"
      },
      "outputs": [],
      "source": [
        "first_batch = train_loader.dataset[:args.batch_size]\n",
        "\n",
        "print(first_batch.keys())\n",
        "print(first_batch['tokens'].shape)"
      ]
    },
    {
      "cell_type": "markdown",
      "metadata": {
        "id": "hyjlKG-AnrZc"
      },
      "source": [
        "## Training Loop\n",
        "\n",
        "If you did the material on [training loops](https://arena-ch0-fundamentals.streamlit.app/[0.3]_ResNets#training-loop) during the first week, this should all be familiar to you. If not, you can skim that section for an overview of the key concepts. The start of the **Training loop** section is most important, and the subsections on [Modularisation](https://arena-ch0-fundamentals.streamlit.app/[0.3]_ResNets#modularisation) and [dataclasses](https://arena-ch0-fundamentals.streamlit.app/[0.3]_ResNets#aside-dataclasses) are also very useful. Lastly, we'll also be using Weights and Biases to train our model - you can read about how to use it [here](https://arena-ch0-fundamentals.streamlit.app/[0.4]_Optimization#what-is-weights-and-biases). Here are (roughly) all the things you should know for the following exercises:\n",
        "                \n",
        "* The key parts of a gradient update step are:\n",
        "    * Calculating the (cross-entropy) loss between a model's output and the true labels,\n",
        "    * `loss.backward()` - calculate gradients of the loss with respect to the model parameters,\n",
        "    * `optimizer.step()` - update the model parameters using the gradients,\n",
        "    * `optimizer.zero_grad()` - zero the gradients so they don't accumulate.\n",
        "* We can nicely package up training loops into a class, which includes methods for training and validation steps among other things. This helps with writing code that can be reused in different contexts.\n",
        "* We can use dataclasses to store all the arguments relevant to training in one place, and then pass them to our trainer class. Autocompletion is one nice bonus of this!\n",
        "    * Be careful of scope here, you want to make sure you're referring to `self.args` within the trainer class, rather than the global `args`.\n",
        "* You can use Weights and Biases to track experiments and log relevant variables. The three essential functions are:\n",
        "    * `wandb.init()` - initialize a new run, takes arguments `project`, `name` and `config` (among others).\n",
        "    * `wandb.log()` - log a dictionary of variables, e.g. `{\"loss\": loss}`. Also takes a `step` argument.\n",
        "    * `wandb.finish()` - called at the end of training (no arguments)."
      ]
    },
    {
      "cell_type": "markdown",
      "metadata": {
        "id": "tvM-W_TGnuoN"
      },
      "source": [
        "### Exercise - write training loop\n",
        "\n",
        "```c\n",
        "Difficulty: 🔴🔴🔴⚪⚪\n",
        "Importance: 🔵🔵🔵🔵⚪\n",
        "\n",
        "You should spend up to 10-20 minutes on this exercise.\n",
        "```"
      ]
    },
    {
      "cell_type": "markdown",
      "metadata": {
        "id": "2qbuJ4winvyY"
      },
      "source": [
        "You should fill in the methods below. Some guidance:\n",
        "\n",
        "* Remember we were able to calculate cross entropy loss using the `get_log_probs` function in the previous section.\n",
        "* You should use the optimizer `t.optim.AdamW` (Adam with weight decay), and with hyperparameters `lr` and `weight_decay` taken from your `TransformerTrainingArgs` dataclass instance.\n",
        "* The easiest way to compute accuracy is to have the `validation_step` method return a 1D boolean tensor indicating the positions where the model's prediction was correct. Then you can concatenate all these tensors together and take the mean to get the overall accuracy for the epoch.\n",
        "* We've given you the argument `max_steps_per_epoch`, a hacky way of making sure the training phase in each epoch doesn't go on for too long. You can terminate each training phase after this many steps.\n",
        "* Remember to move tokens to your device, via `tokens.to(device)` (this should be a global variable, defined at the top of your notebook).\n",
        "* You can refer back to the training loops from the [previous chapter of the course](https://arena-ch0-fundamentals.streamlit.app/[0.3]_ResNets#training-loop) if you'd like.\n"
      ]
    },
    {
      "cell_type": "code",
      "execution_count": null,
      "metadata": {
        "id": "zVBEDTGMnxSk"
      },
      "outputs": [],
      "source": [
        "class TransformerTrainer:\n",
        "\tdef __init__(self, args: TransformerTrainingArgs, model: DemoTransformer):\n",
        "\t\tsuper().__init__()\n",
        "\t\tself.model = model\n",
        "\t\tself.args = args\n",
        "\t\tself.optimizer = t.optim.AdamW(self.model.parameters(), lr=args.lr, weight_decay=args.weight_decay)\n",
        "\t\tself.step = 0\n",
        "\n",
        "\n",
        "\tdef training_step(self, batch: Dict[str, Int[Tensor, \"batch seq\"]]) -> Float[Tensor, \"\"]:\n",
        "\t\t'''\n",
        "\t\tCalculates the loss on the tokens in the batch, performs a gradient update step, and logs the loss.\n",
        "\n",
        "\t\tRemember that `batch` is a dictionary with the single key 'tokens'.\n",
        "\t\t'''\n",
        "        # YOUR CODE HERE\n",
        "\t\tpass\n",
        "\n",
        "\n",
        "\tdef validation_step(self, batch: Dict[str, Int[Tensor, \"batch seq\"]]):\n",
        "\t\t'''\n",
        "\t\tCalculates & returns the accuracy on the tokens in the batch (i.e. how often the model's prediction\n",
        "\t\tis correct). Logging should happen in the `train` function (after we've computed the accuracy for\n",
        "\t\tthe whole validation set).\n",
        "\t\t'''\n",
        "        # YOUR CODE HERE\n",
        "\t\tpass\n",
        "\n",
        "\n",
        "\tdef train(self):\n",
        "\t\t'''\n",
        "\t\tTrains the model, for `self.args.epochs` epochs. Also handles wandb initialisation, and early stopping\n",
        "\t\tfor each epoch at `self.args.max_steps_per_epoch` steps.\n",
        "\t\t'''\n",
        "        # YOUR CODE HERE\n",
        "\t\tpass\n",
        "\n",
        "\n",
        "\tdef train_loader(self) -> DataLoader:\n",
        "\t\t'''Returns train loader (as in code above).'''\n",
        "\t\treturn DataLoader(dataset_dict[\"train\"], batch_size=self.args.batch_size, shuffle=True, num_workers=4, pin_memory=True)\n",
        "\n",
        "\n",
        "\tdef test_loader(self) -> DataLoader:\n",
        "\t\t'''Returns test loader (as in code above).'''\n",
        "\t\treturn DataLoader(dataset_dict[\"test\"], batch_size=self.args.batch_size, shuffle=False, num_workers=4, pin_memory=True)"
      ]
    },
    {
      "cell_type": "markdown",
      "metadata": {
        "id": "yvyAODwP3D8K"
      },
      "source": [
        "Note - this section of the course used to use PyTorch Lightning, but this has now been taken out. You can see the old version of the training code which used PyTorch Lightning in the dropdown below.\n",
        "\n",
        "<details>\n",
        "<summary>PyTorch Lighting training loop</summary>\n",
        "\n",
        "```python\n",
        "class LitTransformer(pl.LightningModule):\n",
        "\tdef __init__(self, args: TransformerTrainingArgs, model: DemoTransformer, data_loader: DataLoader):\n",
        "\t\tsuper().__init__()\n",
        "\t\tself.model = model\n",
        "\t\tself.cfg = model.cfg\n",
        "\t\tself.args = args\n",
        "\t\tself.data_loader = data_loader\n",
        "\n",
        "\tdef forward(self, tokens: Int[Tensor, \"batch position\"]) -> Float[Tensor, \"batch position d_vocab\"]:\n",
        "\t\tlogits = self.model(tokens)\n",
        "\t\treturn logits\n",
        "\n",
        "\tdef training_step(self, batch: Dict[str, Tensor], batch_idx: int) -> Float[Tensor, \"\"]:\n",
        "\t\t'''\n",
        "\t\tHere you compute and return the training loss and some additional metrics for e.g.\n",
        "\t\tthe progress bar or logger.\n",
        "\t\t'''\n",
        "\t\ttokens = batch[\"tokens\"].to(device)\n",
        "\t\tlogits = self.model(tokens)\n",
        "\t\tloss = -get_log_probs(logits, tokens).mean()\n",
        "\t\tself.log(\"train_loss\", loss)\n",
        "\t\treturn loss\n",
        "\n",
        "\tdef configure_optimizers(self):\n",
        "\t\t'''\n",
        "\t\tChoose what optimizers and learning-rate schedulers to use in your optimization.\n",
        "\t\t'''\n",
        "\t\toptimizer = t.optim.AdamW(self.model.parameters(), lr=self.args.lr, weight_decay=self.args.weight_decay)\n",
        "\t\treturn optimizer\n",
        "\n",
        "\tdef train_dataloader(self):\n",
        "\t\treturn self.data_loader\n",
        "\n",
        "\n",
        "litmodel = LitTransformer(args, model, data_loader)\n",
        "logger = WandbLogger(save_dir=args.log_dir, project=args.log_name, name=args.run_name)\n",
        "\n",
        "trainer = pl.Trainer(\n",
        "    max_epochs=args.max_epochs,\n",
        "    logger=logger,\n",
        "    log_every_n_steps=args.log_every_n_steps\n",
        ")\n",
        "trainer.fit(model=litmodel, train_dataloaders=litmodel.data_loader)\n",
        "wandb.finish()\n",
        "```\n",
        "\n",
        "</details>"
      ]
    },
    {
      "cell_type": "code",
      "execution_count": null,
      "metadata": {
        "id": "nWJyh1lon0IH"
      },
      "outputs": [],
      "source": [
        "model = DemoTransformer(model_cfg).to(device)\n",
        "args = TransformerTrainingArgs()\n",
        "trainer = TransformerTrainer(args, model)\n",
        "trainer.train()"
      ]
    },
    {
      "cell_type": "markdown",
      "metadata": {
        "id": "bypGwSMYn2Bl"
      },
      "source": [
        "When you run the code for the first time, you'll have to login to Weights and Biases, and paste an API key into VSCode. After this is done, your Weights and Biases training run will start. It'll give you a lot of output text, one line of which will look like:\n",
        "\n",
        "```\n",
        "View run at https://wandb.ai/<USERNAME>/<PROJECT-NAME>/runs/<RUN-NAME>\n",
        "```\n",
        "\n",
        "which you can click on to visit the run page.\n",
        "\n",
        "> Note - to see the plots more clearly in Weights and Biases, you can click on the **edit panel** of your plot (the small pencil symbol at the top-right), then move the **smoothing** slider to the right."
      ]
    },
    {
      "cell_type": "markdown",
      "metadata": {
        "id": "VLJL82W0oWzF"
      },
      "source": [
        "### A note on this loss curve (optional)\n",
        "\n",
        "\n",
        "What's up with the shape of our loss curve? It seems like we start at around 10-11, drops down very fast, but then levels out. It turns out, this is all to do with the kinds of algorithms the model learns during training.\n",
        "\n",
        "When it starts out, your model will be outputting random noise, which might look a lot like \"predict each token with approximately uniform probability\", i.e. $Q(x) = 1/d_\\text{vocab}$ for all $x$. This gives us a cross entropy loss of $\\log (d_\\text{vocab})$.\n",
        "\n"
      ]
    },
    {
      "cell_type": "code",
      "execution_count": null,
      "metadata": {
        "id": "n0_NVezboOHw"
      },
      "outputs": [],
      "source": [
        "d_vocab = model.cfg.d_vocab\n",
        "\n",
        "print(f\"d_vocab = {d_vocab}\")\n",
        "print(f\"Cross entropy loss on uniform distribution = {math.log(d_vocab)}\")"
      ]
    },
    {
      "cell_type": "markdown",
      "metadata": {
        "id": "oLbVtVOYoQp5"
      },
      "source": [
        "The next thing we might expect the model to learn is the frequencies of words in the english language. After all, small common tokens like `\" and\"` or `\" the\"` might appear much more frequently than others. This would give us an average cross entropy loss of:\n",
        "\n",
        "$$\n",
        "- \\sum_x p_x \\log p_x\n",
        "$$\n",
        "\n",
        "where $p_x$ is the actual frequency of the word in our training data.\n",
        "\n",
        "We can evaluate this quantity as follows:"
      ]
    },
    {
      "cell_type": "code",
      "execution_count": null,
      "metadata": {
        "id": "PYLIco76oSeX"
      },
      "outputs": [],
      "source": [
        "toks = tokenized_dataset[:][\"tokens\"].flatten()\n",
        "\n",
        "d_vocab = model.cfg.d_vocab\n",
        "freqs = t.bincount(toks, minlength=d_vocab)\n",
        "probs = freqs.float() / freqs.sum()\n",
        "\n",
        "distn = t.distributions.categorical.Categorical(probs=probs)\n",
        "entropy = distn.entropy()\n",
        "\n",
        "print(f\"Entropy of training data = {entropy}\")"
      ]
    },
    {
      "cell_type": "markdown",
      "metadata": {
        "id": "cQwiLxr6oUUq"
      },
      "source": [
        "After unigram frequencies, the next thing our model usually learns is **bigram frequencies** (i.e. the frequency of pairs of adjacent tokens in the training data). For instance, `\"I\"` and `\" am\"` are common tokens, but their bigram frequency is much higher than it would be if they occurred independently. Bigram frequencies actually take you pretty far, since they also help with:\n",
        "\n",
        "* Some simple grammatical rules (e.g. a full stop being followed by a capitalized word)\n",
        "* Weird quirks of tokenization (e.g. `\" manip\"` being followed by `\"ulative\"`)\n",
        "* Common names (e.g. `\"Barack\"` being followed by `\" Obama\"`)\n",
        "\n",
        "\n",
        "After approximating bigram frequencies, we need to start using smarter techniques, like trigrams (which can only be implemented using attention heads), **induction heads** (which we'll learn a lot more about in the next set of exercises!), and fact memorization or more basic grammar and syntax rules. Marginal improvement starts getting a lot harder around here, leading to a flattening of our loss curve."
      ]
    },
    {
      "cell_type": "markdown",
      "metadata": {
        "id": "pA0KyYuAvs8g"
      },
      "source": [
        "### Exercise (optional) - log completions\n",
        "\n",
        "*Note - you might want to come back to this exercise after you understand how sampling works.*\n",
        "\n",
        "Choose a handle of prompts, and log the model's completions on those sentences. We recommend you do this with a lower frequency than loss is logged (e.g. once every 10-100 batches).\n",
        "\n",
        "The `wandb` syntax for logging text is pretty simple. Firstly, you can just print output as stdout and this is also logged to Weights & Biases (you can find it under the \"Logs\" section of your run). Alternatively, you can log data in the form of a table, and have it appear next to your other charts:\n",
        "\n",
        "```python\n",
        "wandb.log({\"completions_table\": wandb.Table(\n",
        "    data = data,\n",
        "    columns = [\"epoch\", \"step\", \"text\"]\n",
        ")})\n",
        "```\n",
        "\n",
        "where `data` is a list of length-3 lists, with each list containing (epoch, step, text). If you choose this option, we recommend logging the table less frequently than you're sampling from the model, to make sure you're not sending too much data (because unfortunately wandb doesn't have methods to incrementally update the table during logging).\n",
        "\n",
        "If you want to try this before going through the sampling exercises (which are quite long!), you can use the code below to sample output from the model. Note that the `TransformerSampler` object is already in inference mode, so you don't need to worry about this."
      ]
    },
    {
      "cell_type": "code",
      "execution_count": null,
      "metadata": {
        "id": "-GVOVlqHvuh4"
      },
      "outputs": [],
      "source": [
        "def sampling_fn(model: DemoTransformer, prompt: str) -> str:\n",
        "    sampler = solutions.TransformerSampler(model, reference_gpt2.tokenizer)\n",
        "    output = sampler.sample(prompt, temperature=0.7, top_p=0.95, max_tokens_generated=16)\n",
        "    return output\n",
        "\n",
        "model = DemoTransformer(model_cfg).to(device)\n",
        "\n",
        "# Should be entirely random, because it uses a newly initialized model\n",
        "print(sampling_fn(model, prompt=\"John and Mary went to the\"))"
      ]
    },
    {
      "cell_type": "code",
      "execution_count": null,
      "metadata": {
        "id": "3WeGuzYkvu2s"
      },
      "outputs": [],
      "source": [
        "# YOUR CODE HERE - rewrite train function, using text logging"
      ]
    },
    {
      "cell_type": "markdown",
      "metadata": {
        "id": "YtqvYaxmwTi7"
      },
      "source": [
        "You shouldn't expect to see perfect logical coherence from your model, but you should at least see that it respects basic word frequencies, and follows basic rules of grammar some of the time. Hopefully this gives some perspective on how difficult training a transformer can be!"
      ]
    },
    {
      "cell_type": "markdown",
      "metadata": {
        "id": "hrSd3-YnfHN9"
      },
      "source": [
        "# 4️⃣ Sampling from a Transformer\n"
      ]
    },
    {
      "cell_type": "markdown",
      "metadata": {
        "id": "LdezwBEFfHN9"
      },
      "source": [
        "> ##### Learning objectives\n",
        ">\n",
        "> * Learn how to sample from a transformer\n",
        ">     * This includes basic methods like greedy search or top-k, and more advanced methods like beam search\n",
        "> * Learn how to cache the output of a transformer, so that it can be used to generate text more efficiently\n",
        ">     * Optionally, rewrite your sampling functions to make use of your caching methods\n"
      ]
    },
    {
      "cell_type": "markdown",
      "metadata": {
        "id": "c7C6E0bFfHN9"
      },
      "source": [
        "One obvious method to sample tokens from a distribution would be to always take the token assigned the highest probability. But this can lead to some boring and repetitive outcomes, and at worst it can lock our transformer's output into a loop.\n",
        "\n",
        "First, you should read HuggingFace's blog post [How to generate text: using different decoding methods for language generation with Transformers](https://huggingface.co/blog/how-to-generate).\n",
        "\n",
        "Once you've done that, you can work through the `TransformerSampler` class below, and implement the different sampling methods. Each method will come with its own tests, and demo code for you to run.\n"
      ]
    },
    {
      "cell_type": "code",
      "execution_count": null,
      "metadata": {
        "id": "aviyrTWefHN9"
      },
      "outputs": [],
      "source": [
        "model_cfg = Config()\n",
        "model = DemoTransformer(model_cfg).to(device)\n",
        "model.load_state_dict(reference_gpt2.state_dict(), strict=False)\n",
        "\n",
        "tokenizer = reference_gpt2.tokenizer"
      ]
    },
    {
      "cell_type": "code",
      "execution_count": null,
      "metadata": {
        "id": "4p1szCj1fHN9"
      },
      "outputs": [],
      "source": [
        "class TransformerSampler:\n",
        "\n",
        "    def __init__(self, model: DemoTransformer, tokenizer: GPT2TokenizerFast):\n",
        "        self.model = model\n",
        "        self.cfg = model.cfg\n",
        "        self.tokenizer = tokenizer\n",
        "\n",
        "    @t.inference_mode()\n",
        "    def sample(self, prompt: str, max_tokens_generated=100, verbose=False, **kwargs):\n",
        "        '''\n",
        "        Returns a string of autoregressively generated text, starting from the prompt.\n",
        "\n",
        "        Sampling terminates at max_tokens_generated, or when the model generates an\n",
        "        end-of-sequence token.\n",
        "\n",
        "        kwargs are passed to sample_next_token, to give detailed instructions on how\n",
        "        new tokens are chosen.\n",
        "        '''\n",
        "        pass\n",
        "\n",
        "\n",
        "    @t.inference_mode()\n",
        "    def beam_search(\n",
        "        self,\n",
        "        prompt: str,\n",
        "        num_return_sequences: int,\n",
        "        num_beams: int,\n",
        "        max_new_tokens: int,\n",
        "        no_repeat_ngram_size: int = 0,\n",
        "        verbose=False\n",
        "    ) -> List[Tuple[float, t.Tensor]]:\n",
        "        '''\n",
        "        Returns a string of autoregressively generated text, starting from the prompt.\n",
        "\n",
        "        Sampling terminates at max_tokens_generated, or when the model generates an\n",
        "        end-of-sequence token.\n",
        "\n",
        "        kwargs are passed to sample_next_token, to give detailed instructions on how\n",
        "        new tokens are chosen.\n",
        "        '''\n",
        "        pass\n",
        "\n",
        "\n",
        "    @staticmethod\n",
        "    def sample_next_token(\n",
        "        input_ids: Int[Tensor, \"seq_len\"],\n",
        "        logits: Float[Tensor, \"seq_len d_vocab\"],\n",
        "        temperature=1.0,\n",
        "        top_k=0,\n",
        "        top_p=0.0,\n",
        "        frequency_penalty=0.0,\n",
        "        seed=None\n",
        "    ):\n",
        "        assert input_ids.ndim == 1, \"input_ids should be a 1D sequence of token ids\"\n",
        "        assert temperature >= 0, \"Temperature should be non-negative\"\n",
        "        assert 0 <= top_p <= 1.0, \"Top-p must be a probability\"\n",
        "        assert 0 <= top_k, \"Top-k must be non-negative\"\n",
        "        assert not (top_p != 0 and top_k != 0), \"At most one of top-p and top-k supported\"\n",
        "\n",
        "        # Set random seeds for reproducibility\n",
        "        if seed is not None:\n",
        "            t.manual_seed(seed)\n",
        "            np.random.seed(seed)\n",
        "\n",
        "        # Apply all the specialized sampling methods\n",
        "        if temperature == 0:\n",
        "            return TransformerSampler.greedy_search(logits)\n",
        "        elif temperature != 1.0:\n",
        "            logits = TransformerSampler.apply_temperature(logits, temperature)\n",
        "        if frequency_penalty != 0.0:\n",
        "            logits = TransformerSampler.apply_frequency_penalty(input_ids, logits, frequency_penalty)\n",
        "        if top_k > 0:\n",
        "            return TransformerSampler.sample_top_k(logits, top_k)\n",
        "        if top_p > 0.0:\n",
        "            return TransformerSampler.sample_top_p(logits, top_p)\n",
        "        return TransformerSampler.sample_basic(logits)\n",
        "\n",
        "\n",
        "    @staticmethod\n",
        "    def greedy_search(logits: Float[Tensor, \"d_vocab\"]) -> int:\n",
        "        '''\n",
        "        Returns the most likely token (as an int).\n",
        "        '''\n",
        "        out = logits.argmax().item()\n",
        "        return out\n",
        "\n",
        "\n",
        "    @staticmethod\n",
        "    def apply_temperature(logits: Float[Tensor, \"d_vocab\"], temperature: float) -> Float[Tensor, \"d_vocab\"]:\n",
        "        '''\n",
        "        Applies temperature scaling to the logits.\n",
        "        '''\n",
        "        pass\n",
        "\n",
        "\n",
        "    @staticmethod\n",
        "    def apply_frequency_penalty(input_ids: Int[Tensor, \"seq_len\"], logits: Float[Tensor, \"d_vocab\"], freq_penalty: float) -> Float[Tensor, \"d_vocab\"]:\n",
        "        '''\n",
        "        Applies a frequency penalty to the logits.\n",
        "        '''\n",
        "        pass\n",
        "\n",
        "\n",
        "    @staticmethod\n",
        "    def sample_basic(logits: Float[Tensor, \"d_vocab\"]) -> int:\n",
        "        '''\n",
        "        Samples from the distribution defined by the logits.\n",
        "        '''\n",
        "        pass\n",
        "\n",
        "\n",
        "    @staticmethod\n",
        "    def sample_top_k(logits: Float[Tensor, \"d_vocab\"], k: int) -> int:\n",
        "        '''\n",
        "        Samples from the top k most likely tokens.\n",
        "        '''\n",
        "        pass\n",
        "\n",
        "\n",
        "    @staticmethod\n",
        "    def sample_top_p(logits: Float[Tensor, \"d_vocab\"], top_p: float, min_tokens_to_keep: int = 1) -> int:\n",
        "        '''\n",
        "        Samples from the most likely tokens which make up at least p cumulative probability.\n",
        "        '''\n",
        "        pass"
      ]
    },
    {
      "cell_type": "markdown",
      "metadata": {
        "id": "lwA5ge9KfHN9"
      },
      "source": [
        "## Main Sampling Function\n",
        "\n",
        "The first thing you should do is implement the `sample` method.\n",
        "\n",
        "### Exercise - implement `sample`\n",
        "\n",
        "```c\n",
        "Difficulty: 🔴🔴🔴⚪⚪\n",
        "Importance: 🔵🔵🔵⚪⚪\n",
        "\n",
        "You should spend up to 20-25 minutes on this exercise.\n",
        "```\n",
        "\n",
        "This function takes in a prompt (in the form of a string), encodes it as a sequence of token ids using `self.tokenizer.encode`, and then continually generates new tokens by repeating the following steps:\n",
        "\n",
        "1. Passing the tokenized prompt through the model to get logits,\n",
        "2. Taking the logit vector corresponding to the last token in the prompt (i.e. the prediction for the *next* token),\n",
        "3. Sampling from this distribution to get a new token, using `self.sample_next_token(input_ids, logits, **kwargs)` (here, `kwargs` contains all the sampling-specific arguments, e.g. temperature, top-k, etc.),\n",
        "4. Appending this new token to the input tokens, and repeating the process until we meet one of two termination critera:\n",
        "    * We generate `max_tokens_generated` new tokens, or\n",
        "    * We generate the end-of-sequence token (which we can access via `self.tokenizer.eos_token_id`).\n",
        "\n",
        "Finally, we use `self.tokenizer.decode` to convert the generated token ids back into a string, and return this string.\n",
        "\n",
        "We also have a `verbose` argument - when this is true you can print your output while it's being sampled.\n",
        "\n",
        "Below is some code which tests your sampling function by performing greedy sampling (which means always choosing the most likely next token at each step).\n",
        "\n",
        "<details>\n",
        "<summary>Why does <code>temperature=0.0</code> correspond to greedy sampling?</summary>\n",
        "\n",
        "To apply a temperature to our sampling (as we'll see later) means to scale all logits by `(1 / temperature)`. The basic intuition here is:\n",
        "\n",
        "* A higher temperature means a smaller scale factor, so the logits all approach zero, i.e. uniform distribution, and the sampling process is a lot more random (producing more diverse and varied outputs)\n",
        "* A lower temperature means a larger scale factor, so the logits all approach infinity, i.e. a dirac delta function, and the sampling process is a lot more deterministic (producing less varied output)\n",
        "\n",
        "As temperature gets close to zero, the difference between the largest logit and second largest logit becomes very large, so the distribution tends to \"probability of 1 on the highest-likelihood token\", i.e. greedy sampling. You can derive this formally if you prefer.\n",
        "</details>\n",
        "\n",
        "A few hints:\n",
        "\n",
        "* Don't forget about tensor shapes! Your model's input should always have a batch dimension, i.e. it should be shape `(1, seq_len)`.\n",
        "* The `sample_next_token` method will return an integer, so make sure you wrap this in a tensor before concatenating it to the end of your input IDs.\n",
        "* Also remember to have your tensors be on the same device (we have a global `device` variable).\n",
        "* Remember to put your model in evaluation mode, using `model.eval()`.\n",
        "\n",
        "To be clear - the idea is for you to implement the `sample` method of the `TransformerSampler` class; you can do this by either editing the class definition directly or (if you want to avoid scrolling) define the `sample` function outside the class and then assign it via `TransformerSampler.sample = sample`."
      ]
    },
    {
      "cell_type": "code",
      "execution_count": null,
      "metadata": {
        "id": "loDmpBfmfHN9"
      },
      "outputs": [],
      "source": [
        "sampler = TransformerSampler(model, tokenizer)\n",
        "\n",
        "prompt = \"Jingle bells, jingle bells, jingle all the way\"\n",
        "print(f\"Greedy decoding with prompt: {prompt!r}\\n\")\n",
        "\n",
        "output = sampler.sample(prompt, max_tokens_generated=8, temperature=0.0)\n",
        "print(f\"Your model said: {output!r}\\n\")\n",
        "\n",
        "expected = \"Jingle bells, jingle bells, jingle all the way up to the top of the mountain.\"\n",
        "assert output == expected\n",
        "\n",
        "print(\"Tests passed!\")"
      ]
    },
    {
      "cell_type": "markdown",
      "metadata": {
        "id": "aIx0p0MlfHN-"
      },
      "source": [
        "## Sampling with Categorical\n",
        "\n",
        "Now, we'll move into implementing specific sampling methods.\n",
        "\n",
        "PyTorch provides a [`distributions` package](https://pytorch.org/docs/stable/distributions.html#distribution) with a number of convenient methods for sampling from various distributions.\n",
        "\n",
        "For now, we just need [`t.distributions.categorical.Categorical`](https://pytorch.org/docs/stable/distributions.html#categorical). Use this to implement `sample_basic`, which just samples from the provided logits (which may have already been modified by the temperature and frequency penalties).\n",
        "\n",
        "Note that this will be slow since we aren't batching the samples, but don't worry about speed for now.\n"
      ]
    },
    {
      "cell_type": "markdown",
      "metadata": {
        "id": "DLjEUGqZfHN-"
      },
      "source": [
        "### Exercise - Basic Sampling\n",
        "\n",
        "```c\n",
        "Difficulty: 🔴🔴⚪⚪⚪\n",
        "Importance: 🔵🔵⚪⚪⚪\n",
        "\n",
        "You should spend up to 5-10 minutes on this exercise.\n",
        "```\n",
        "\n",
        "Implement basic sampling in the `TransformerSampler` class above, then run the code below to verify your solution works.\n"
      ]
    },
    {
      "cell_type": "code",
      "execution_count": null,
      "metadata": {
        "id": "cSA2Sr0FfHN-"
      },
      "outputs": [],
      "source": [
        "prompt = \"John and Mary went to the\"\n",
        "input_ids = tokenizer.encode(prompt, return_tensors=\"pt\").to(device)\n",
        "logits = model(input_ids)[0, -1]\n",
        "\n",
        "expected_top_5 = {\n",
        "    \" church\": 0.0648,\n",
        "    \" house\": 0.0367,\n",
        "    \" temple\": 0.0145,\n",
        "    \" same\": 0.0104,\n",
        "    \" Church\": 0.0097\n",
        "}\n",
        "frequency_of_top_5 = defaultdict(int)\n",
        "\n",
        "N = 10_000\n",
        "for _ in tqdm(range(N)):\n",
        "    token = TransformerSampler.sample_next_token(input_ids.squeeze(), logits)\n",
        "    frequency_of_top_5[tokenizer.decode(token)] += 1\n",
        "\n",
        "for word in expected_top_5:\n",
        "    expected_freq = expected_top_5[word]\n",
        "    observed_freq = frequency_of_top_5[word] / N\n",
        "    print(f\"Word: {word!r:<9}. Expected freq {expected_freq:.4f}, observed freq {observed_freq:.4f}\")\n",
        "    assert abs(observed_freq - expected_freq) < 0.01, \"Try increasing N if this fails by a small amount.\"\n",
        "\n",
        "print(\"Tests passed!\")"
      ]
    },
    {
      "cell_type": "markdown",
      "metadata": {
        "id": "lXLHfTYzfHN-"
      },
      "source": [
        "### Exercise - Temperature\n",
        "\n",
        "```c\n",
        "Difficulty: 🔴⚪⚪⚪⚪\n",
        "Importance: 🔵🔵⚪⚪⚪\n",
        "\n",
        "You should spend up to 5-10 minutes on this exercise.\n",
        "```\n",
        "\n",
        "Temperature sounds fancy, but it's literally just dividing the logits by the temperature. You should implement this in your `TransformerSampler` class now.\n"
      ]
    },
    {
      "cell_type": "code",
      "execution_count": null,
      "metadata": {
        "id": "wph7hgyMfHN-"
      },
      "outputs": [],
      "source": [
        "logits = t.tensor([1, 2]).log()\n",
        "\n",
        "cold_logits = TransformerSampler.apply_temperature(logits, temperature=0.001)\n",
        "print('A low temperature \"sharpens\" or \"peaks\" the distribution: ', cold_logits)\n",
        "t.testing.assert_close(cold_logits, 1000.0 * logits)\n",
        "\n",
        "hot_logits = TransformerSampler.apply_temperature(logits, temperature=1000.0)\n",
        "print(\"A high temperature flattens the distribution: \", hot_logits)\n",
        "t.testing.assert_close(hot_logits, 0.001 * logits)\n",
        "\n",
        "print(\"Tests passed!\")"
      ]
    },
    {
      "cell_type": "markdown",
      "metadata": {
        "id": "aSf7Ipi1fHN-"
      },
      "source": [
        "<details>\n",
        "<summary>Question - what is the limit of applying 'sample_basic' after adjusting with temperature, when temperature goes to zero? How about when temperature goes to infinity?</summary>\n",
        "\n",
        "The limit when temperature goes to zero is greedy search (because dividing by a small number makes the logits very big, in other words the difference between the maximum logit one and all the others will grow).\n",
        "\n",
        "The limit when temperature goes to infinity is uniform random sampling over all words (because all logits will be pushed towards zero).\")\n",
        "</details>\n"
      ]
    },
    {
      "cell_type": "markdown",
      "metadata": {
        "id": "t8H7_bF-fHN_"
      },
      "source": [
        "### Exercise - Frequency Penalty\n",
        "\n",
        "```c\n",
        "Difficulty: 🔴🔴⚪⚪⚪\n",
        "Importance: 🔵⚪⚪⚪⚪\n",
        "\n",
        "You should spend up to 10-15 minutes on this exercise.\n",
        "```\n",
        "\n",
        "The frequency penalty is simple as well: count the number of occurrences of each token, then subtract `freq_penalty` for each occurrence. Hint: use `t.bincount` (documentation [here](https://pytorch.org/docs/stable/generated/torch.bincount.html)) to do this in a vectorized way.\n",
        "\n",
        "You should implement the `apply_frequency_penalty` method in your `TransformerSampler` class now, then run the cell below to check your solution.\n"
      ]
    },
    {
      "cell_type": "markdown",
      "metadata": {
        "id": "6i5tF4StfHN_"
      },
      "source": [
        "<details>\n",
        "<summary>Help - I'm getting a <code>RuntimeError</code>; my tensor sizes don't match.</summary>\n",
        "\n",
        "Look at the documentation page for `t.bincount`. You might need to use the `minlength` argument - why?\n",
        "</details>\n"
      ]
    },
    {
      "cell_type": "code",
      "execution_count": null,
      "metadata": {
        "id": "y9A7LdixfHN_"
      },
      "outputs": [],
      "source": [
        "bieber_prompt = \"And I was like Baby, baby, baby, oh Like, Baby, baby, baby, no Like, Baby, baby, baby, oh I thought you'd always be mine, mine\"\n",
        "input_ids = tokenizer.encode(bieber_prompt, return_tensors=\"pt\")\n",
        "logits = t.ones(tokenizer.vocab_size)\n",
        "penalized_logits = TransformerSampler.apply_frequency_penalty(input_ids.squeeze(), logits, 2.0)\n",
        "\n",
        "assert penalized_logits[5156].item() == -11, \"Expected 6 occurrences of ' baby' with leading space, 1-2*6=-11\"\n",
        "assert penalized_logits[14801].item() == -5, \"Expected 3 occurrences of ' Baby' with leading space, 1-2*3=-5\"\n",
        "\n",
        "print(\"Tests passed!\")"
      ]
    },
    {
      "cell_type": "markdown",
      "metadata": {
        "id": "PuNpoR3CfHN_"
      },
      "source": [
        "### Sampling - Manual Testing\n",
        "\n",
        "Run the below cell to get a sense for the `temperature` and `freq_penalty` arguments. Play with your own prompt and try other values.\n",
        "\n",
        "Note: your model can generate newlines or non-printing characters, so calling `print` on generated text sometimes looks awkward on screen. You can call `repr` on the string before printing to have the string escaped nicely.\n"
      ]
    },
    {
      "cell_type": "code",
      "execution_count": null,
      "metadata": {
        "id": "owibsBUjfHN_"
      },
      "outputs": [],
      "source": [
        "sampler = TransformerSampler(model, tokenizer)\n",
        "\n",
        "N_RUNS = 1\n",
        "your_prompt = \"Jingle bells, jingle bells, jingle all the way\"\n",
        "cases = [\n",
        "    (\"High freq penalty\", dict(frequency_penalty=100.0)),\n",
        "    (\"Negative freq penalty\", dict(frequency_penalty=-3.0)),\n",
        "    (\"Too hot!\", dict(temperature=2.0)),\n",
        "    (\"Pleasantly cool\", dict(temperature=0.7)),\n",
        "    (\"Pleasantly warm\", dict(temperature=0.9)),\n",
        "    (\"Too cold!\", dict(temperature=0.01)),\n",
        "]\n",
        "\n",
        "table = Table(\"Name\", \"Kwargs\", \"Output\", title=\"Sampling - Manual Testing\")\n",
        "\n",
        "for (name, kwargs) in cases:\n",
        "    for i in range(N_RUNS):\n",
        "        output = sampler.sample(your_prompt, max_tokens_generated=24, **kwargs)\n",
        "        table.add_row(name, repr(kwargs), repr(output) + \"\\n\")\n",
        "\n",
        "rprint(table)"
      ]
    },
    {
      "cell_type": "markdown",
      "metadata": {
        "id": "v9fFSMW7fHN_"
      },
      "source": [
        "## Top-K Sampling\n",
        "\n",
        "Conceptually, the steps in top-k sampling are:\n",
        "- Find the `top_k` largest probabilities (you can use [`torch.topk`](https://pytorch.org/docs/stable/generated/torch.topk.html))\n",
        "- Set all other probabilities to zero\n",
        "- Normalize and sample\n"
      ]
    },
    {
      "cell_type": "markdown",
      "metadata": {
        "id": "R0hBDuz4fHN_"
      },
      "source": [
        "### Exercise - implement `sample_top_k`\n",
        "\n",
        "```c\n",
        "Difficulty: 🔴🔴⚪⚪⚪\n",
        "Importance: 🔵⚪⚪⚪⚪\n",
        "\n",
        "You should spend up to 5-10 minutes on this exercise.\n",
        "```\n",
        "\n",
        "Implement the method `sample_top_k` now. Your implementation should stay in log-space throughout (don't exponentiate to obtain probabilities). This means you don't actually need to worry about normalizing, because `Categorical` accepts unnormalised logits.\n"
      ]
    },
    {
      "cell_type": "code",
      "execution_count": null,
      "metadata": {
        "id": "HocllGE0fHN_"
      },
      "outputs": [],
      "source": [
        "prompt = \"John and Mary went to the\"\n",
        "input_ids = tokenizer.encode(prompt, return_tensors=\"pt\").to(device)\n",
        "logits = model(input_ids)[0, -1]\n",
        "\n",
        "expected_top_5 = {\n",
        "    \" church\": 0.0648,\n",
        "    \" house\": 0.0367,\n",
        "    \" temple\": 0.0145,\n",
        "    \" same\": 0.0104,\n",
        "    \" Church\": 0.0097\n",
        "}\n",
        "topk_5_sum = sum(expected_top_5.values())\n",
        "\n",
        "observed_freqs = defaultdict(int)\n",
        "\n",
        "N = 10000\n",
        "for _ in tqdm(range(N)):\n",
        "    token = TransformerSampler.sample_next_token(input_ids.squeeze(), logits, top_k=5)\n",
        "    observed_freqs[tokenizer.decode(token)] += 1\n",
        "\n",
        "for word in expected_top_5:\n",
        "    expected_freq = expected_top_5[word] / topk_5_sum\n",
        "    observed_freq = observed_freqs[word] / N\n",
        "    print(f\"Word: {word!r:<9}. Expected freq = {expected_freq:.4f}, observed freq = {observed_freq:.4f}\")\n",
        "    assert abs(observed_freq - expected_freq) < 0.015, \"Try increasing N if this fails by a small amount.\""
      ]
    },
    {
      "cell_type": "markdown",
      "metadata": {
        "id": "3HElusTNfHOA"
      },
      "source": [
        "### Top-K Sampling - Example\n",
        "\n",
        "The [GPT-2 paper](https://d4mucfpksywv.cloudfront.net/better-language-models/language_models_are_unsupervised_multitask_learners.pdf) famously included an example prompt about unicorns. Now it's your turn to see just how cherry picked this example was.\n",
        "\n",
        "The paper claims they used `top_k=40` and best of 10 samples.\n"
      ]
    },
    {
      "cell_type": "code",
      "execution_count": null,
      "metadata": {
        "id": "24dChHZ1fHOA"
      },
      "outputs": [],
      "source": [
        "sampler = TransformerSampler(model, tokenizer)\n",
        "\n",
        "your_prompt = \"In a shocking finding, scientist discovered a herd of unicorns living in a remote, previously unexplored valley, in the Andes Mountains. Even more surprising to the researchers was the fact that the unicorns spoke perfect English.\"\n",
        "output = sampler.sample(your_prompt, temperature=0.7, top_k=40, max_tokens_generated=64)\n",
        "rprint(f\"Your model said:\\n\\n[bold dark_orange]{output}\")"
      ]
    },
    {
      "cell_type": "markdown",
      "metadata": {
        "id": "WpaCZmw3yW9X"
      },
      "source": [
        "This is pretty incredible! For some perspective on how much of a paradigm shift even basic models like this represented, we recommend reading [this section from Simulators](https://www.lesswrong.com/posts/vJFdjigzmcXMhNTsx/simulators#The_limit_of_sequence_modeling)."
      ]
    },
    {
      "cell_type": "markdown",
      "metadata": {
        "id": "kEmLBEn9fHOA"
      },
      "source": [
        "## Top-p aka Nucleus Sampling\n",
        "\n",
        "The basic idea is that we choose the most likely words, up until the total probability of words we've chosen crosses some threshold. Then we sample from those chosen words based on their logits.\n",
        "\n",
        "The steps are:\n",
        "\n",
        "- Sort the probabilities from largest to smallest\n",
        "- Find the cutoff point where the cumulative probability first equals or exceeds `top_p`. We do the cutoff inclusively, keeping the first probability above the threshold.\n",
        "- If the number of kept probabilities is less than `min_tokens_to_keep`, keep that many tokens instead.\n",
        "- Set all other probabilities to zero\n",
        "- Normalize and sample\n",
        "\n",
        "Optionally, refer to the paper [The Curious Case of Neural Text Degeneration](https://arxiv.org/pdf/1904.09751.pdf) for some comparison of different methods.\n"
      ]
    },
    {
      "cell_type": "markdown",
      "metadata": {
        "id": "fAJaTvcefHOA"
      },
      "source": [
        "### Exercise - implement `sample_top_p`\n",
        "\n",
        "```c\n",
        "Difficulty: 🔴🔴🔴⚪⚪\n",
        "Importance: 🔵⚪⚪⚪⚪\n",
        "\n",
        "You should spend up to 15-20 minutes on this exercise.\n",
        "```\n",
        "\n",
        "<details>\n",
        "<summary>Example of top-p sampling (if you're confused)</summary>\n",
        "\n",
        "If our probabilities were `(0.4, 0.3, 0.2, 0.1)` and our cutoff was `top_p=0.8`, then we'd sample from the first three elements (because their total probability is `0.9` which is over the threshold, but the first two only have a total prob of `0.7` which is under the threshold). Once we've chosen to sample from those three, we would renormalise them by dividing by their sum (so the probabilities we use when sampling are `(4/9, 3/9, 2/9)`.\n",
        "</details>\n",
        "\n",
        "<details>\n",
        "<summary>Help - I'm stuck on how to implement this function.</summary>\n",
        "\n",
        "First, sort the logits using the `sort(descending=True)` method (this returns values and indices). Then you can get `cumulative_probs` by applying softmax to these logits and taking the cumsum. Then, you can decide how many probabilities to keep by using the `t.searchsorted` function.\n",
        "    \n",
        "Once you've decided which probabilities to keep, it's easiest to sample from them using the original logits (you should have preserved the indices when you called `logits.sort`). This way, you don't need to worry about renormalising like you would if you were using probabilities.\n",
        "</details>\n"
      ]
    },
    {
      "cell_type": "code",
      "execution_count": null,
      "metadata": {
        "id": "ndUIZuRJfHOA"
      },
      "outputs": [],
      "source": [
        "prompt = \"John and Mary went to the\"\n",
        "input_ids = tokenizer.encode(prompt, return_tensors=\"pt\").to(device)\n",
        "logits = model(input_ids)[0, -1]\n",
        "\n",
        "expected_top_10pct = {\n",
        "    \" church\": 0.0648,\n",
        "    \" house\": 0.0367, # These are the two most likely tokens, and add up to >10%\n",
        "}\n",
        "top_10pct_sum = sum(expected_top_10pct.values())\n",
        "\n",
        "observed_freqs = defaultdict(int)\n",
        "\n",
        "N = 10000\n",
        "for _ in tqdm(range(N)):\n",
        "    token = TransformerSampler.sample_next_token(input_ids.squeeze(), logits, top_p=0.1)\n",
        "    observed_freqs[tokenizer.decode(token)] += 1\n",
        "\n",
        "for word in expected_top_10pct:\n",
        "    expected_freq = expected_top_10pct[word] / top_10pct_sum\n",
        "    observed_freq = observed_freqs[word] / N\n",
        "    print(f\"Word: {word!r:<9}. Expected freq {expected_freq:.4f}, observed freq {observed_freq:.4f}\")\n",
        "    assert abs(observed_freq - expected_freq) < 0.01, \"Try increasing N if this fails by a small amount.\""
      ]
    },
    {
      "cell_type": "markdown",
      "metadata": {
        "id": "qhrTvZp6fHOA"
      },
      "source": [
        "### Top-p Sampling - Example\n"
      ]
    },
    {
      "cell_type": "code",
      "execution_count": null,
      "metadata": {
        "id": "vCBMUxzufHOE"
      },
      "outputs": [],
      "source": [
        "sampler = TransformerSampler(model, tokenizer)\n",
        "\n",
        "your_prompt = \"Eliezer Shlomo Yudkowsky (born September 11, 1979) is an American decision and artificial intelligence (AI) theorist and writer, best known for\"\n",
        "output = sampler.sample(your_prompt, temperature=0.7, top_p=0.95, max_tokens_generated=64)\n",
        "rprint(f\"Your model said:\\n\\n[bold dark_orange]{output}\")"
      ]
    },
    {
      "cell_type": "markdown",
      "metadata": {
        "id": "a6PVv6PHfHOE"
      },
      "source": [
        "## Beam search\n",
        "\n",
        "Finally, we'll implement a more advanced way of searching over output: **beam search**. You should read the [HuggingFace page](https://huggingface.co/blog/how-to-generate#beam-search) on beam search before moving on.\n",
        "\n",
        "In beam search, we maintain a list of size `num_beams` completions which are the most likely completions so far as measured by the product of their probabilities. Since this product can become very small, we use the sum of log probabilities instead. Note - log probabilities are *not* the same as your model's output. We get log probabilities by first taking softmax of our output and then taking log. You can do this with the [`log_softmax`](https://pytorch.org/docs/stable/generated/torch.nn.functional.log_softmax.html) function / tensor method.\n"
      ]
    },
    {
      "cell_type": "markdown",
      "metadata": {
        "id": "jsRXQwecfHOE"
      },
      "source": [
        "<details>\n",
        "<summary>Log probabilities are equal to the logit output after being translated by some amount X (where X is a function of the original logit output). Can you prove this?</summary>\n",
        "\n",
        "Suppose our vector of logits is $x$, and we take softmax to get a vector of probabilities $p$, then log again to get a vector of log probabilities $l$. Then the $i$-th element of this vector of logprobs is:\n",
        "\n",
        "$$\n",
        "\\begin{align}\n",
        "l_i &= \\log p_i \\\\\n",
        "&= \\log \\frac{\\exp(x_i)}{\\sum_j \\exp(x_j)} \\\\\n",
        "&= x_i - \\log \\sum_j \\exp(x_j) \\\\\n",
        "&= x_i - C\n",
        "\\end{align}\n",
        "$$\n",
        "\n",
        "where $C = \\log \\sum_j \\exp(x_j)$ is the same for all elements. So we can see that $l_i$ is equal to the logit output $x_i$ after being translated by $C$.\n",
        "\n",
        "It's important not to mix up logits and logprobs!\n",
        "</details>\n",
        "\n",
        "<details>\n",
        "<summary>Why do you think we use log softmax rather than logit output?</summary>\n",
        "\n",
        "Logit output is translation invariant. If we had two different beams and we were generating the next tokens in those beams, there would be no reasonable way to compare the two beams to each other, because we could shift the logit vector for one beam by a constant amount without changing the distribution.\n",
        "\n",
        "</details>\n"
      ]
    },
    {
      "cell_type": "markdown",
      "metadata": {
        "id": "-dQFaVpFfHOE"
      },
      "source": [
        "At each iteration, we run the batch of completions through the model and take the log-softmax to obtain `d_vocab` log-probs for each completion, or `num_beams * d_vocab` possible next completions in total.\n",
        "\n",
        "If we kept all of these, then we would have `num_beams * d_vocab * d_vocab` completions after the next iteration which is way too many, so instead we sort them by their score and loop through from best (highest) log probability to worst (lowest).\n",
        "\n",
        "The illustration below might help (based on real results from this method). Here, we have the following hyperparameters:\n",
        "\n",
        "```python\n",
        "num_beams = 3\n",
        "max_new_tokens = 3\n",
        "num_return_sequences = 2\n",
        "```\n"
      ]
    },
    {
      "cell_type": "markdown",
      "metadata": {
        "id": "JhmYgrg4fHOE"
      },
      "source": [
        "<img src=\"https://raw.githubusercontent.com/callummcdougall/computational-thread-art/master/example_images/misc/beam-search.png\" width=\"1000\">\n"
      ]
    },
    {
      "cell_type": "markdown",
      "metadata": {
        "id": "ZnZQieUBfHOF"
      },
      "source": [
        "Note how after each \"generate\" stage, we have `num_beams ** 2` possible completions, which we then filter down to `num_beams`. Can you see why we need to generate this many (and what might happen if we generated fewer)?\n"
      ]
    },
    {
      "cell_type": "markdown",
      "metadata": {
        "id": "Jn-kjeh8fHOF"
      },
      "source": [
        "How do we deal with sequences that terminate early (i.e. by generating an EOS token)? Answer - we append them to the list of completions which we'll return at the end, and remove them from the generation tree. Our algorithm terminates when either all our sequences have length `max_new_tokens` larger than the initial prompt length, or we've generated `num_returns_sequences` terminating sequences.\n"
      ]
    },
    {
      "cell_type": "markdown",
      "metadata": {
        "id": "ZFiBucEHfHOF"
      },
      "source": [
        "### Exercise - implement `beam_search`\n",
        "\n",
        "```c\n",
        "Difficulty: 🔴🔴🔴🔴⚪\n",
        "Importance: 🔵⚪⚪⚪⚪\n",
        "\n",
        "You should spend up to 30-40 minutes on this exercise.\n",
        "```\n",
        "\n",
        "You should now complete the `beam_search` method in your `TransformerSampler` class.\n",
        "\n",
        "We've provided one possible template for you to use: the class `Beams`, with important methods `generate` and `filter` for you to fit in (which correspond to the two stages in the diagram above). There are also a few of helper functions in this class:\n",
        "\n",
        "* `new_beams`, which creates a new `Beams` object from an old one.\n",
        "* `__getitem__`, which allows you to index into a `Beams` object to get a specific batch of beams.\n",
        "* `logprobs_and_completions`, which turns a `Beams` object into a list of (logprob sum, string completion) tuples (useful for getting your final output).\n",
        "* `print`, which prints out the current state of the beams (useful for debugging, if you run `beam_search` with `verbose=True`).\n",
        "\n",
        "You can then fill in the `beam_search` function, using this class and its methods.\n",
        "\n",
        "We've provided unit tests for the `generate` and `filter` functions, so you can verify that these are correct before moving on to the full `beam_search` function.\n",
        "\n",
        "**Note that using the `Beams` class is not strictly necessary, you could fill in the `beam_search` function directly if you prefer.** The `Beams` class is just meant to provide one example way you might implement this function. Often, modular code like this is easier to write and debug, and easier to extend to cover new use cases (e.g. when we use caching in the bonus exercises).\n",
        "\n",
        "#### Why all the n-gram repetition?\n",
        "\n",
        "You should observe that, while the output of beam search is sometimes more fluent than some of the other sampling methods you implement, it also has an unfortunate tendency to repeat sentences or sequences. This makes sense - if the model produces a sentence with a relatively high logit sum, then it will want to produce the same sentence again even if it doesn't make a lot of sense in context.\n",
        "\n",
        "A common solution is to ban repetition of n-grams. We've provided the argument `no_repeat_ngram_size` in the `generate` method for this purpose. Using this argument should prevent the model from repeating any n-grams of that size. Good values of this parameter to try are 2 or 3.\n",
        "\n",
        "However, first you should focus on getting a working version of beam search *without* using this argument.\n",
        "\n",
        "<details>\n",
        "<summary>Hint (for <code>no_repeat_ngram_size</code>)</summary>\n",
        "\n",
        "It might be helpful to implement the following method first. You can use this rather than `torch.topk` in your `generate` method.\n",
        "\n",
        "```python\n",
        "def get_topk_non_repeating(\n",
        "    self,\n",
        "    logprobs: Float[Tensor, \"batch d_vocab\"],\n",
        "    no_repeat_ngram_size: int,\n",
        "    k: int,\n",
        ") -> Tuple[Float[Tensor, \"k\"], Int[Tensor, \"k\"]]:\n",
        "    '''\n",
        "    logprobs:\n",
        "        tensor of the log-probs for the next token\n",
        "    no_repeat_ngram_size:\n",
        "        size of ngram to avoid repeating\n",
        "    k:\n",
        "        number of top logits to return, for each beam in our collection\n",
        "\n",
        "    Returns:\n",
        "        equivalent to the output of `logprobs.topk(dim=-1)`, but makes sure\n",
        "        that no returned tokens would produce an ngram of size  `no_repeat_ngram_size`\n",
        "        which has already appeared in `self.tokens`.\n",
        "    '''\n",
        "    pass\n",
        "```\n",
        "</details>\n"
      ]
    },
    {
      "cell_type": "code",
      "execution_count": null,
      "metadata": {
        "id": "-RhHI8AyfHOF"
      },
      "outputs": [],
      "source": [
        "@dataclass\n",
        "class Beams:\n",
        "    '''Class to store beams during beam search.'''\n",
        "    model: DemoTransformer\n",
        "    tokenizer: GPT2TokenizerFast\n",
        "    logprob_sums: Float[Tensor, \"batch\"]\n",
        "    tokens: Int[Tensor, \"batch seq\"]\n",
        "\n",
        "    def new_beams(self, logprob_sums, tokens) -> \"Beams\":\n",
        "        '''Creates a new Beams object with the same model and tokenizer.'''\n",
        "        return Beams(self.model, self.tokenizer, logprob_sums, tokens)\n",
        "\n",
        "    def __getitem__(self, idx) -> \"Beams\":\n",
        "        '''Allows you to take a slice of the beams object along the batch dimension.'''\n",
        "        return self.new_beams(self.logprob_sums[idx], self.tokens[idx])\n",
        "\n",
        "    @property\n",
        "    def logprobs_and_completions(self) -> List[Tuple[float, str]]:\n",
        "        '''Returns self as a list of logprob sums and completions (useful for getting final output).'''\n",
        "        return [\n",
        "            (logprob_sum.item(), self.tokenizer.decode(tokens))\n",
        "            for (logprob_sum, tokens) in zip(self.logprob_sums, self.tokens)\n",
        "        ]\n",
        "\n",
        "\n",
        "    def generate(self, toks_per_beam: int, no_repeat_ngram_size: Optional[int] = None) -> \"Beams\":\n",
        "        '''\n",
        "        Starting from the current set of beams (which has length `num_beams`), returns a new\n",
        "        set of `num_beams * toks_per_beam`, containing the best `toks_per_beam` continuations for each\n",
        "        of the original beams.\n",
        "\n",
        "        Optional argument `no_repeat_ngram_size` means your model won't generate any sequences with\n",
        "        a repeating n-gram of this length.\n",
        "        '''\n",
        "        pass\n",
        "\n",
        "    def filter(self, num_beams: int) -> Tuple[\"Beams\", \"Beams\"]:\n",
        "        '''\n",
        "        Returns:\n",
        "            best_beams: Beams\n",
        "                filtered version of self, containing all best `num_beams` which are also not terminated.\n",
        "\n",
        "            early_terminations: Beams\n",
        "                filtered version of self, containing all best `num_beams` which are also terminated.\n",
        "                i.e. the sum of lengths of these two should equal `num_beams`.\n",
        "        '''\n",
        "        pass\n",
        "\n",
        "    def print(self, title=\"Best completions\", max_print_chars=80) -> None:\n",
        "        '''\n",
        "        Prints out a set of sequences with their corresponding logitsums.\n",
        "        '''\n",
        "        if len(self.tokens) == 0:\n",
        "            return\n",
        "        table = Table(\"logitsum\", \"completion\", title=title)\n",
        "        for logprob_sum, tokens in zip(self.logprob_sums, self.tokens):\n",
        "            text = self.tokenizer.decode(tokens)\n",
        "            if len(repr(text)) > max_print_chars:\n",
        "                text = text[:int(0.3 * max_print_chars)] + \" ... \" + text[-int(0.7 * max_print_chars):]\n",
        "            table.add_row(f\"{logprob_sum:>8.3f}\", repr(text))\n",
        "        rprint(table)\n",
        "\n",
        "\n",
        "    def get_topk_non_repeating(\n",
        "        self,\n",
        "        logprobs: Float[Tensor, \"batch d_vocab\"],\n",
        "        no_repeat_ngram_size: Optional[int],\n",
        "        k: int,\n",
        "    ) -> Tuple[Float[Tensor, \"k\"], Int[Tensor, \"k\"]]:\n",
        "        '''\n",
        "        logprobs:\n",
        "            tensor of the log-probs for the next token\n",
        "        no_repeat_ngram_size:\n",
        "            size of ngram to avoid repeating\n",
        "        k:\n",
        "            number of top logits to return, for each beam in our collection\n",
        "\n",
        "        Returns:\n",
        "            equivalent to the output of `logprobs.topk(dim=-1)`, but makes sure\n",
        "            that no returned tokens would produce an ngram of size  `no_repeat_ngram_size`\n",
        "            which has already appeared in `self.tokens`.\n",
        "        '''\n",
        "        batch, seq_len = self.tokens.shape\n",
        "        neg_inf = t.tensor(-1.0e4).to(device)\n",
        "\n",
        "        # If completion isn't long enough for a repetition, or we have no restructions, just return topk\n",
        "        if (no_repeat_ngram_size is not None) and (seq_len > no_repeat_ngram_size-1):\n",
        "            # Otherwise, we need to check for ngram repetitions\n",
        "            # First, get the most recent `no_repeat_ngram_size-1` tokens\n",
        "            last_ngram_prefix = self.tokens[:, seq_len - (no_repeat_ngram_size-1):]\n",
        "            # Next, find all the tokens we're not allowed to generate (by going iterating through past ngrams and seeing if those ngram prefixes match the last one)\n",
        "            for i in range(seq_len - (no_repeat_ngram_size-1)):\n",
        "                ngrams = self.tokens[:, i:i+no_repeat_ngram_size] # (batch, ngram)\n",
        "                ngrams_are_repeated = (ngrams[:, :-1] == last_ngram_prefix).all(-1) # (batch,)\n",
        "                ngram_end_tokens = ngrams[:, [-1]] # (batch, 1)\n",
        "                # Fill logprobs with neginf wherever the ngrams are repeated\n",
        "                logprobs[range(batch), ngram_end_tokens] = t.where(\n",
        "                    ngrams_are_repeated,\n",
        "                    neg_inf,\n",
        "                    logprobs[range(batch), ngram_end_tokens],\n",
        "            )\n",
        "\n",
        "        # Finally, get our actual tokens\n",
        "        return logprobs.topk(k=k, dim=-1)\n",
        "\n",
        "\n",
        "@t.inference_mode()\n",
        "def beam_search(\n",
        "    self: TransformerSampler,\n",
        "    prompt: str,\n",
        "    num_return_sequences: int,\n",
        "    num_beams: int,\n",
        "    max_new_tokens: int,\n",
        "    no_repeat_ngram_size: Optional[int] = None,\n",
        "    verbose=False\n",
        ") -> List[Tuple[float, Tensor]]:\n",
        "    '''\n",
        "    Implements a beam search, by repeatedly performing the `generate` and `filter` steps (starting\n",
        "    from the initial prompt) until either of the two stopping criteria are met:\n",
        "\n",
        "        (1) we've generated `max_new_tokens` tokens, or\n",
        "        (2) we've generated `num_returns_sequences` terminating sequences.\n",
        "\n",
        "    To modularize this function, most of the actual complexity is in the Beams class,\n",
        "    in the `generate` and `filter` methods.\n",
        "    '''\n",
        "\n",
        "    assert num_return_sequences <= num_beams\n",
        "    self.model.eval()\n",
        "\n",
        "        pass"
      ]
    },
    {
      "cell_type": "markdown",
      "metadata": {
        "id": "EYDnDhhAfHOF"
      },
      "source": [
        "Example usage of the `Beams` class, and the `print` method (not the logitsums aren't necessarily accurate, this example is just an illustration):\n"
      ]
    },
    {
      "cell_type": "code",
      "execution_count": null,
      "metadata": {
        "id": "_dIOf4f9fHOF"
      },
      "outputs": [],
      "source": [
        "beams = Beams(\n",
        "    model,\n",
        "    tokenizer,\n",
        "    logprob_sums = t.tensor([-10.0, -15.0, -20.0]).to(device),\n",
        "    tokens = t.tensor([\n",
        "        [5661, 318, 262, 2368],\n",
        "        [5661, 318, 262, 1218],\n",
        "        [5661, 318, 262, 717],\n",
        "    ]).to(device)\n",
        ")\n",
        "\n",
        "beams.print()"
      ]
    },
    {
      "cell_type": "markdown",
      "metadata": {
        "id": "O7ndBImyfHOF"
      },
      "source": [
        "And here are some unit tests for your `generate` and `filter` methods:\n"
      ]
    },
    {
      "cell_type": "code",
      "execution_count": null,
      "metadata": {
        "id": "BxrABZUzfHOF"
      },
      "outputs": [],
      "source": [
        "print(\"Testing generate, without no_repeat_ngram_size argument:\")\n",
        "new_beams = beams.generate(toks_per_beam=2)\n",
        "new_beams.print()\n",
        "assert new_beams.logprobs_and_completions[0][1] == \"this is the third time\""
      ]
    },
    {
      "cell_type": "code",
      "execution_count": null,
      "metadata": {
        "id": "QD1Q7u74fHOG"
      },
      "outputs": [],
      "source": [
        "print(\"Testing generate, with no_repeat_ngram_size argument:\")\n",
        "\n",
        "bigram_beams = Beams(\n",
        "    model,\n",
        "    tokenizer,\n",
        "    logprob_sums = t.tensor([-0.0]).to(device),\n",
        "    tokens = t.tensor([[530, 734, 530, 734]]).to(device)\n",
        "    # tokens are \" one two one two\"\n",
        ")\n",
        "\n",
        "# With no_repeat_ngram_size=1, should not generate the token \" one\" or \" two\"\n",
        "new_bigram_beams = bigram_beams.generate(toks_per_beam=3, no_repeat_ngram_size=1)\n",
        "new_bigram_beams.print()\n",
        "assert all([not (completion[1].endswith(\" one\") or completion[1].endswith(\" two\")) for completion in new_bigram_beams.logprobs_and_completions])\n",
        "\n",
        "# With no_repeat_ngram_size=2, it can generate \" two\" (which it should), but not \" one\"\n",
        "new_bigram_beams = bigram_beams.generate(toks_per_beam=3, no_repeat_ngram_size=2)\n",
        "new_bigram_beams.print()\n",
        "assert all([not completion[1].endswith(\" one\") for completion in new_bigram_beams.logprobs_and_completions])\n",
        "assert any([not completion[1].endswith(\" two\") for completion in new_bigram_beams.logprobs_and_completions])\n",
        "\n",
        "print(\"All tests for `generate` passed!\")"
      ]
    },
    {
      "cell_type": "code",
      "execution_count": null,
      "metadata": {
        "id": "U0NG1ZaqfHOG"
      },
      "outputs": [],
      "source": [
        "logprob_sums = t.tensor([-1.0, -2.0]).to(device)\n",
        "tokens = t.tensor([\n",
        "    [19485, 13],\n",
        "    [19485, tokenizer.eos_token_id]\n",
        "]).to(device)\n",
        "\n",
        "beams_with_eos = Beams(model, tokenizer, logprob_sums, tokens)\n",
        "best_beams, early_terminations = beams_with_eos.filter(2)\n",
        "\n",
        "t.testing.assert_close(best_beams.logprob_sums, logprob_sums[[0]])\n",
        "t.testing.assert_close(best_beams.tokens, tokens[[0]])\n",
        "\n",
        "assert early_terminations.logprobs_and_completions == [(-2.0, \"Stop\" + tokenizer.eos_token)]\n",
        "\n",
        "print(\"All tests for `filter` passed!\")"
      ]
    },
    {
      "cell_type": "markdown",
      "metadata": {
        "id": "Shua7jeTfHOG"
      },
      "source": [
        "<details>\n",
        "<summary>Solutions (for <code>generate</code> and <code>filter</code>)</summary>\n",
        "\n",
        "```python\n",
        "def generate(self, toks_per_beam: int, no_repeat_ngram_size: Optional[int] = None) -> \"Beams\":\n",
        "    '''\n",
        "    Starting from the current set of beams (which has length `num_beams`), returns a new\n",
        "    set of `num_beams * toks_per_beam`, containing the best `toks_per_beam` continuations for each\n",
        "    of the original beams.\n",
        "\n",
        "    Optional argument `no_repeat_ngram_size` means your model won't generate any sequences with\n",
        "    a repeating n-gram of this length (don't worry about implementing this until later).\n",
        "    '''\n",
        "    # SOLUTION\n",
        "\n",
        "    # Get the output logprobs for the next token (for every sequence in current beams)\n",
        "    logprobs: Tensor = self.model(self.tokens)[:, -1, :].log_softmax(-1)\n",
        "\n",
        "    # Get the top `toks_per_beam` tokens for each sequence\n",
        "    topk_logprobs, topk_tokenIDs = logprobs.topk(k=toks_per_beam)\n",
        "\n",
        "    # Get all of the new possible beams, via einops operations\n",
        "    #   Here, we're effectively flattening out the batch dimension and k dimension, to give us tensors\n",
        "    #   with every possible combination of (original sequence, new token) pairs.)\n",
        "    new_logprob_sums = sum([\n",
        "        einops.repeat(self.logprob_sums, \"batch -> batch k\", k=toks_per_beam),\n",
        "        einops.rearrange(topk_logprobs, \"batch k -> (batch k)\")\n",
        "    ])\n",
        "    new_tokens = t.concat([\n",
        "        einops.repeat(self.tokens, \"batch seq -> (batch k) seq\", k=toks_per_beam),\n",
        "        einops.rearrange(topk_tokenIDs, \"batch k -> (batch k) 1\")\n",
        "    ], dim=-1)\n",
        "    return self.new_beams(new_logprob_sums, new_tokens)\n",
        "\n",
        "\n",
        "def filter(self, num_beams: int) -> Tuple[\"Beams\", \"Beams\"]:\n",
        "    '''\n",
        "    Returns:\n",
        "        best_beams: Beams\n",
        "            filtered version of self, containing all best `num_beams` which are also not terminated.\n",
        "\n",
        "        early_terminations: Beams\n",
        "            filtered version of self, containing all best `num_beams` which are also terminated.\n",
        "            i.e. the sum of lengths of these two should equal `num_beams`.\n",
        "    '''\n",
        "    # SOLUTION\n",
        "\n",
        "    # Get the indices of top `num_beams` beams\n",
        "    top_beam_indices = self.logprob_sums.topk(k=num_beams, dim=0).indices.tolist()\n",
        "    # Get the indices of terminated sequences\n",
        "    new_tokens = self.tokens[:, -1]\n",
        "    terminated_indices = t.nonzero(new_tokens == self.tokenizer.eos_token_id)\n",
        "\n",
        "    # Get the indices of the `num_beams` best sequences (some terminated, some not terminated)\n",
        "    best_continuing = [i for i in top_beam_indices if i not in terminated_indices]\n",
        "    best_terminated = [i for i in top_beam_indices if i in terminated_indices]\n",
        "\n",
        "    # Return the beam objects from these indices\n",
        "    best_beams_continuing = self.new_beams(self.logprob_sums[best_continuing], self.tokens[best_continuing])\n",
        "    best_beams_terminated = self.new_beams(self.logprob_sums[best_terminated], self.tokens[best_terminated])\n",
        "    return best_beams_continuing, best_beams_terminated\n",
        "```\n",
        "\n",
        "</details>\n"
      ]
    },
    {
      "cell_type": "markdown",
      "metadata": {
        "id": "jrXHl0GsfHOG"
      },
      "source": [
        "Once you've passed both these unit tests, you can try implementing the full beam search function. It should create a `Beams` object from the initial prompt, and then repeatedly call `generate` and `filter` until the stopping criteria are met.\n"
      ]
    },
    {
      "cell_type": "code",
      "execution_count": null,
      "metadata": {
        "id": "2Uno10GRfHOG"
      },
      "outputs": [],
      "source": [
        "TransformerSampler.beam_search = beam_search\n",
        "\n",
        "sampler = TransformerSampler(model, tokenizer)\n",
        "\n",
        "prompt = \"The ships hung in the sky in much the same way that\"\n",
        "orig_len = len(tokenizer.encode(prompt))\n",
        "\n",
        "final_logitsums_and_completions = sampler.beam_search(\n",
        "    prompt=prompt,\n",
        "    num_return_sequences=3,\n",
        "    num_beams=40,\n",
        "    max_new_tokens=60,\n",
        "    no_repeat_ngram_size=2,\n",
        "    verbose=False\n",
        ")\n",
        "\n",
        "# Print all the best output\n",
        "for logprob_sum, text in final_logitsums_and_completions:\n",
        "    avg_logprob_as_prob = t.tensor(logprob_sum / (len(tokenizer.encode(text)) - orig_len)).exp().item()\n",
        "    print(\"=\" * 25 + f\" Avg logprob (as probability) = {avg_logprob_as_prob:.3f} \" + \"=\" * 25)\n",
        "    rprint(\"Best output:\\n\\n[bold dark_orange]\" + text)"
      ]
    },
    {
      "cell_type": "markdown",
      "metadata": {
        "id": "THgjSPShfHOG"
      },
      "source": [
        "<details>\n",
        "<summary>Solution (full)</summary>\n",
        "\n",
        "A solution for the class method `get_topk_non_repeating`:\n",
        "\n",
        "```python\n",
        "def get_topk_non_repeating(\n",
        "    self,\n",
        "    logprobs: Float[Tensor, \"batch d_vocab\"],\n",
        "    no_repeat_ngram_size: Optional[int],\n",
        "    k: int,\n",
        ") -> Tuple[Float[Tensor, \"k\"], Int[Tensor, \"k\"]]:\n",
        "    '''\n",
        "    logprobs:\n",
        "        tensor of the log-probs for the next token\n",
        "    no_repeat_ngram_size:\n",
        "        size of ngram to avoid repeating\n",
        "    k:\n",
        "        number of top logits to return, for each beam in our collection\n",
        "\n",
        "    Returns:\n",
        "        equivalent to the output of `logprobs.topk(dim=-1)`, but makes sure\n",
        "        that no returned tokens would produce an ngram of size  `no_repeat_ngram_size`\n",
        "        which has already appeared in `self.tokens`.\n",
        "    '''\n",
        "    batch, seq_len = self.tokens.shape\n",
        "    neg_inf = t.tensor(-1.0e4).to(device)\n",
        "\n",
        "    # If completion isn't long enough for a repetition, or we have no restructions, just return topk\n",
        "    if (no_repeat_ngram_size is not None) and (seq_len > no_repeat_ngram_size-1):\n",
        "        # Otherwise, we need to check for ngram repetitions\n",
        "        # First, get the most recent `no_repeat_ngram_size-1` tokens\n",
        "        last_ngram_prefix = self.tokens[:, seq_len - (no_repeat_ngram_size-1):]\n",
        "        # Next, find all the tokens we're not allowed to generate (by going iterating through past ngrams and seeing if those ngram prefixes match the last one)\n",
        "        for i in range(seq_len - (no_repeat_ngram_size-1)):\n",
        "            ngrams = self.tokens[:, i:i+no_repeat_ngram_size] # (batch, ngram)\n",
        "            ngrams_are_repeated = (ngrams[:, :-1] == last_ngram_prefix).all(-1) # (batch,)\n",
        "            ngram_end_tokens = ngrams[:, [-1]] # (batch, 1)\n",
        "            # Fill logprobs with neginf wherever the ngrams are repeated\n",
        "            logprobs[range(batch), ngram_end_tokens] = t.where(\n",
        "                ngrams_are_repeated,\n",
        "                neg_inf,\n",
        "                logprobs[range(batch), ngram_end_tokens],\n",
        "        )\n",
        "\n",
        "    # Finally, get our actual tokens\n",
        "    return logprobs.topk(k=k, dim=-1)\n",
        "```\n",
        "\n",
        "and for the main function:\n",
        "\n",
        "```python\n",
        "@t.inference_mode()\n",
        "def beam_search(\n",
        "    self: TransformerSampler,\n",
        "    prompt: str,\n",
        "    num_return_sequences: int,\n",
        "    num_beams: int,\n",
        "    max_new_tokens: int,\n",
        "    no_repeat_ngram_size: Optional[int] = None,\n",
        "    verbose=False\n",
        ") -> List[Tuple[float, Tensor]]:\n",
        "    '''\n",
        "    Implements a beam search, by repeatedly performing the `generate` and `filter` steps (starting\n",
        "    from the initial prompt) until either of the two stopping criteria are met:\n",
        "\n",
        "        (1) we've generated `max_new_tokens` tokens, or\n",
        "        (2) we've generated `num_returns_sequences` terminating sequences.\n",
        "\n",
        "    To modularize this function, most of the actual complexity is in the Beams class,\n",
        "    in the `generate` and `filter` methods.\n",
        "    '''\n",
        "\n",
        "    assert num_return_sequences <= num_beams\n",
        "    self.model.eval()\n",
        "\n",
        "    # SOLUTION\n",
        "    tokens = self.tokenizer.encode(prompt, return_tensors=\"pt\").to(device)\n",
        "\n",
        "    # List for final beams to return (and early terminations)\n",
        "    final_logprobs_and_completions: List[Tuple[float, str]] = []\n",
        "    # Keep track of all best beams after each step\n",
        "    best_beams = Beams(self.model, self.tokenizer, t.tensor([0.0]).to(device), tokens)\n",
        "\n",
        "    for n in tqdm(range(max_new_tokens)):\n",
        "\n",
        "        # Generation step\n",
        "        best_beams = best_beams.generate(toks_per_beam=num_beams, no_repeat_ngram_size=no_repeat_ngram_size)\n",
        "\n",
        "        # Filtering step\n",
        "        best_beams, best_beams_terminated = best_beams.filter(num_beams=num_beams)\n",
        "        final_logprobs_and_completions.extend(best_beams_terminated.logprobs_and_completions)\n",
        "\n",
        "        # Print output\n",
        "        if verbose:\n",
        "            best_beams.print()\n",
        "\n",
        "        # Check stopping condition\n",
        "        if len(final_logprobs_and_completions) >= num_return_sequences:\n",
        "            return final_logprobs_and_completions[:num_return_sequences]\n",
        "\n",
        "    final_logprobs_and_completions.extend(best_beams.logprobs_and_completions)\n",
        "    final_logprobs_and_completions = final_logprobs_and_completions[:num_return_sequences]\n",
        "    return final_logprobs_and_completions\n",
        "```\n",
        "\n",
        "</details>\n"
      ]
    },
    {
      "cell_type": "markdown",
      "metadata": {
        "id": "J8FpquaGfHOH"
      },
      "source": [
        "## Caching\n"
      ]
    },
    {
      "cell_type": "markdown",
      "metadata": {
        "id": "_myyOt5hfHOH"
      },
      "source": [
        "*This section is also designed to be challenging, and take quite some time. There are many different ways to solve it, and you're expected to try and find your own way (you should think about this for a while before looking at the suggestions in the dropdowns). Additionally, you might not find it as interesting as some of the other sections. In this case, and if you have a lot of extra time, you might want to start on the \"building BERT\" exercises from this chapter.*\n"
      ]
    },
    {
      "cell_type": "markdown",
      "metadata": {
        "id": "vu83LC_4fHOH"
      },
      "source": [
        "### How can caching help us?\n",
        "\n",
        "The text generation we've done so far is needlessly re-computing certain values, which is very noticeable when you try to generate longer sequences.\n",
        "\n",
        "Suppose you're generating text, and you've already run GPT on the sentence \"My life motto:\". Now you want to run the model on the sentence \"My life motto: Always\". Which computations from the first sentence can you reuse?\n",
        "\n",
        "<details>\n",
        "<summary>Answer</summary>\n",
        "\n",
        "At each attention layer, the only things the attention layer needs from the previous sequence positions are the key and value vectors. This is explained in the following diagram:\n",
        "\n",
        "<img src=\"https://raw.githubusercontent.com/callummcdougall/computational-thread-art/master/example_images/misc/tl-cache.png\" width=\"600\">\n",
        "\n",
        "</details>\n"
      ]
    },
    {
      "cell_type": "markdown",
      "metadata": {
        "id": "f7xGpbbZfHOH"
      },
      "source": [
        "### Exercise - implement caching\n",
        "\n",
        "```c\n",
        "Difficulty: 🔴🔴🔴🔴🔴\n",
        "Importance: 🔵⚪⚪⚪⚪\n",
        "\n",
        "You are expected to spend well over an hour on this exercise, if you choose to do it.\n",
        "```\n",
        "\n",
        "Modify your GPT-2 to optionally use a cache. When you run your GPT on `\"My life motto:\"`, it should store the necessary values in the cache. Then in the next forward pass with just `\" Always\"` as input, it should load the cached values instead of recomputing them (and update the cache). This only needs to work with a single input sequence (batch size of 1), and you can assume that after the first forward pass, the input will be just one token.\n",
        "\n",
        "The design of the cache is completely up to you - discuss possible designs with your partner before writing code. It should be possible to have only one GPT2 instance and many different cache instances at one time. Imagine that you want to use one instance to serve multiple users submitting requests for text generation like in [AI Dungeon](https://aidungeon.io/).\n",
        "\n",
        "You'll also need to rewrite parts of your `DemoTransformer` code, in order to get this to work. The tests have been built to accommodate modules which return their output as the first element in a tuple (i.e. `(output, cache)`) rather than just returning the output, so you should use the tests to verify that your modules still work as expected.\n",
        "\n",
        "Some example considerations:\n",
        "\n",
        "* Which GPT-2 classes need to interact with the cache?\n",
        "    * Will you need to change the positional embedding, and if so then how?\n",
        "* Should the cache be mutable and be updated in place, or does updating actually just create a separate instance?\n",
        "    * *(Hint here - think about how you might use the cache during beam search.)*\n",
        "* Is it possible for other programmers to incorrectly use your cache? Is there a way to prevent this failure mode or at least detect this and complain loudly?\n"
      ]
    },
    {
      "cell_type": "markdown",
      "metadata": {
        "id": "vq-Sx8apfHOH"
      },
      "source": [
        "<details>\n",
        "<summary>Cache implentation (example)</summary>\n",
        "\n",
        "This KeyValueCache object is structured as just a fancy tensor (it inherits all the methods from Tensor). The main difference is that it has a few extra helper methods, e.g. constructing an empty cache from a Config object.\n",
        "\n",
        "There are other ways you could do this, e.g. having your `KeyValueCache` class contain list of `KeyValueCacheEntry` objects (where each of these corresponds to a different layer).\n",
        "\n",
        "```python\n",
        "# Define a type for a single layer's cache entry (useful for type checking in later functions)\n",
        "KeyValueCacheTensor = Float[Tensor, \"2 batch seq_len n_heads d_head\"]\n",
        "\n",
        "class KeyValueCache(Tensor):\n",
        "    '''\n",
        "    This class holds tensors of key and value vectors, to be used for caching.\n",
        "\n",
        "    If we define it using cfg and batch then it's initialized as empty, but\n",
        "    we can also define it from kv_cache_entries.\n",
        "    '''\n",
        "    @classmethod\n",
        "    def new_empty(cls, cfg: Config, batch: int = 1) -> \"KeyValueCache\":\n",
        "        '''\n",
        "        Doing a forward pass on a cache created in this way indicates \"we don't\n",
        "        yet have a cache, but we want this forward pass to return a cache\".\n",
        "        Whereas using cache=None in a forward pass indicates we don't want to\n",
        "        return a cache.\n",
        "        '''\n",
        "        shape = (cfg.n_layers, 2, batch, 0, cfg.n_heads, cfg.d_head)\n",
        "        return cls(*shape).to(device)\n",
        "\n",
        "    # Define a handful of properties, so they can be referenced directly rather than\n",
        "    # indexing (which is more likely to lead to mistakes)\n",
        "\n",
        "    @property\n",
        "    def k(self) -> Tensor:\n",
        "        return self[:, 0]\n",
        "\n",
        "    @property\n",
        "    def v(self) -> Tensor:\n",
        "        return self[:, 1]\n",
        "\n",
        "    @property\n",
        "    def batch(self) -> int:\n",
        "        return self.shape[2]\n",
        "    \n",
        "    @property\n",
        "    def seq_len(self) -> int:\n",
        "        return self.shape[3]\n",
        "\n",
        "\n",
        "# Example implementation:\n",
        "cfg = model.cfg\n",
        "batch = 6\n",
        "kv_cache = KeyValueCache.new_empty(cfg, batch)\n",
        "\n",
        "print(f\"Shape of all kv-cache = {tuple(kv_cache.shape)}\")\n",
        "print(f\"Shape of just k-cache = {tuple(kv_cache.k.shape)}\")\n",
        "for kv_cache_entry in kv_cache:\n",
        "    print(f\"Shape of cache entry for one layer = {tuple(kv_cache_entry.shape)}\")\n",
        "    break\n",
        "print(f\"Batch size = {kv_cache.batch}\")\n",
        "print(f\"Current sequence length = {kv_cache.seq_len}\")\n",
        "```\n",
        "\n",
        "</details>\n",
        "\n",
        "<details>\n",
        "<summary>New <code>DemoTransformer</code> components (and testing)</summary>\n",
        "\n",
        "```python\n",
        "# Define new model parts where necessary, and create a new model & test it\n",
        "# Note that sometimes our modules return a tuple of (tensor output, cache) rather than just output. The\n",
        "# tests have been built to accommodate this.\n",
        "\n",
        "\n",
        "class PosEmbed(nn.Module):\n",
        "    def __init__(self, cfg: Config):\n",
        "        super().__init__()\n",
        "        self.cfg = cfg\n",
        "        self.W_pos = nn.Parameter(t.empty((cfg.n_ctx, cfg.d_model)))\n",
        "        nn.init.normal_(self.W_pos, std=self.cfg.init_range)\n",
        "\n",
        "    def forward(\n",
        "        self,\n",
        "        tokens: Int[Tensor, \"batch position\"],\n",
        "        past_kv_pos_offset: int = 0\n",
        "    ) -> Float[Tensor, \"batch position d_model\"]:\n",
        "        \n",
        "        # SOLUTION\n",
        "        batch, seq_len = tokens.shape\n",
        "        return einops.repeat(\n",
        "            self.W_pos[past_kv_pos_offset: seq_len+past_kv_pos_offset],\n",
        "            \"seq d_model -> batch seq d_model\",\n",
        "            batch=batch\n",
        "        )\n",
        "\n",
        "\n",
        "class Attention(nn.Module):\n",
        "    IGNORE: Float[Tensor, \"\"]\n",
        "\n",
        "    def __init__(self, cfg: Config):\n",
        "        super().__init__()\n",
        "        self.cfg = cfg\n",
        "        self.W_Q = nn.Parameter(t.empty((cfg.n_heads, cfg.d_model, cfg.d_head)))\n",
        "        self.W_K = nn.Parameter(t.empty((cfg.n_heads, cfg.d_model, cfg.d_head)))\n",
        "        self.W_V = nn.Parameter(t.empty((cfg.n_heads, cfg.d_model, cfg.d_head)))\n",
        "        self.W_O = nn.Parameter(t.empty((cfg.n_heads, cfg.d_head, cfg.d_model)))\n",
        "        self.b_Q = nn.Parameter(t.zeros((cfg.n_heads, cfg.d_head)))\n",
        "        self.b_K = nn.Parameter(t.zeros((cfg.n_heads, cfg.d_head)))\n",
        "        self.b_V = nn.Parameter(t.zeros((cfg.n_heads, cfg.d_head)))\n",
        "        self.b_O = nn.Parameter(t.zeros((cfg.d_model)))\n",
        "        nn.init.normal_(self.W_Q, std=self.cfg.init_range)\n",
        "        nn.init.normal_(self.W_K, std=self.cfg.init_range)\n",
        "        nn.init.normal_(self.W_V, std=self.cfg.init_range)\n",
        "        nn.init.normal_(self.W_O, std=self.cfg.init_range)\n",
        "        self.register_buffer(\"IGNORE\", t.tensor(-1e5, dtype=t.float32, device=device))\n",
        "\n",
        "    def forward(\n",
        "        self,\n",
        "        normalized_resid_pre: Float[Tensor, \"batch posn d_model\"],\n",
        "        kv_cache_entry: Optional[KeyValueCacheTensor] = None,\n",
        "    ) -> Tuple[\n",
        "        Float[Tensor, \"batch posn d_model\"],\n",
        "        Optional[KeyValueCacheTensor]\n",
        "    ]:\n",
        "        '''\n",
        "        Returns the result of applying attention layer to normlized_resid_pre, as well as\n",
        "        the new cached key and value vectors (which we get from concatenating the old cached\n",
        "        ones with the new key and value vectors).\n",
        "        '''\n",
        "        \n",
        "        # SOLUTION\n",
        "\n",
        "        # Calculate the new query, key and value vectors\n",
        "        q = einops.einsum(\n",
        "            normalized_resid_pre, self.W_Q,\n",
        "            \"batch posn d_model, nheads d_model d_head -> batch posn nheads d_head\"\n",
        "        ) + self.b_Q\n",
        "        k = einops.einsum(\n",
        "            normalized_resid_pre, self.W_K,\n",
        "            \"batch posn d_model, nheads d_model d_head -> batch posn nheads d_head\"\n",
        "        ) + self.b_K\n",
        "        v = einops.einsum(\n",
        "            normalized_resid_pre, self.W_V,\n",
        "            \"batch posn d_model, nheads d_model d_head -> batch posn nheads d_head\"\n",
        "        ) + self.b_V\n",
        "\n",
        "        # If cache_entry is not None, this means we use the previous key and value vectors\n",
        "        # Also we'll need to get a new cache entry which will be used later to construct a new cache\n",
        "        if kv_cache_entry is not None:\n",
        "            k = t.concat([kv_cache_entry[0], k], dim=1)\n",
        "            v = t.concat([kv_cache_entry[1], v], dim=1)\n",
        "            kv_cache_entry = t.stack([k, v])\n",
        "\n",
        "        # Calculate attention scores, then scale and mask, and apply softmax to get probabilities\n",
        "        attn_scores = einops.einsum(\n",
        "            q, k,\n",
        "            \"batch posn_Q nheads d_head, batch posn_K nheads d_head -> batch nheads posn_Q posn_K\"\n",
        "        )\n",
        "        attn_scores_masked = self.apply_causal_mask(attn_scores / self.cfg.d_head ** 0.5)\n",
        "        attn_pattern = attn_scores_masked.softmax(-1)\n",
        "\n",
        "        # Take weighted sum of value vectors, according to attention probabilities\n",
        "        z = einops.einsum(\n",
        "            v, attn_pattern,\n",
        "            \"batch posn_K nheads d_head, batch nheads posn_Q posn_K -> batch posn_Q nheads d_head\"\n",
        "        )\n",
        "\n",
        "        # Calculate output (by applying matrix W_O and summing over heads, then adding bias b_O)\n",
        "        out = einops.einsum(\n",
        "            z, self.W_O,\n",
        "            \"batch posn_Q nheads d_head, nheads d_head d_model -> batch posn_Q d_model\"\n",
        "        ) + self.b_O\n",
        "\n",
        "        return out, kv_cache_entry\n",
        "\n",
        "    def apply_causal_mask(\n",
        "        self, attn_scores: Float[Tensor, \"batch n_heads query_pos key_pos\"]\n",
        "    ) -> Float[Tensor, \"batch n_heads query_pos key_pos\"]:\n",
        "        '''\n",
        "        Here, attn_scores have shape (batch, n_heads, query_pos, key_pos), where query_pos represents the\n",
        "        new (non-cached) positions, and key_pos represent all the positions (cached and non-cached).\n",
        "\n",
        "        So when we create our mask, the query indices and key indices will both go up to the same value\n",
        "        (the full sequence length), but the query indices will start at >0.\n",
        "        '''\n",
        "        new_seq_len, full_seq_len = attn_scores.shape[-2:]\n",
        "        assert new_seq_len <= full_seq_len\n",
        "        q_posn = einops.repeat(attn_scores.new_tensor(range(full_seq_len-new_seq_len, full_seq_len)), \"q -> q k\", k=full_seq_len)\n",
        "        k_posn = einops.repeat(attn_scores.new_tensor(range(full_seq_len)), \"k -> q k\", q=new_seq_len)\n",
        "        mask = q_posn < k_posn\n",
        "        attn_scores = attn_scores.masked_fill(mask, self.IGNORE)\n",
        "        return attn_scores\n",
        "\n",
        "\n",
        "class TransformerBlock(nn.Module):\n",
        "    def __init__(self, cfg: Config):\n",
        "        super().__init__()\n",
        "        self.cfg = cfg\n",
        "        self.ln1 = LayerNorm(cfg)\n",
        "        self.attn = Attention(cfg)\n",
        "        self.ln2 = LayerNorm(cfg)\n",
        "        self.mlp = MLP(cfg)\n",
        "\n",
        "    def forward(\n",
        "        self,\n",
        "        resid_pre: Float[Tensor, \"batch position d_model\"],\n",
        "        kv_cache_entry: Optional[KeyValueCacheTensor] = None,\n",
        "    ) -> Float[Tensor, \"batch position d_model\"]:\n",
        "\n",
        "        # SOLUTION\n",
        "        attn_out, kv_cache_entry = self.attn(self.ln1(resid_pre), kv_cache_entry)\n",
        "        resid_mid = attn_out + resid_pre\n",
        "        resid_post = self.mlp(self.ln2(resid_mid)) + resid_mid\n",
        "        return resid_post, kv_cache_entry\n",
        "\n",
        "\n",
        "\n",
        "class DemoTransformer(nn.Module):\n",
        "    def __init__(self, cfg: Config):\n",
        "        super().__init__()\n",
        "        self.cfg = cfg\n",
        "        self.embed = Embed(cfg)\n",
        "        self.pos_embed = PosEmbed(cfg)\n",
        "        self.blocks = nn.ModuleList([TransformerBlock(cfg) for _ in range(cfg.n_layers)])\n",
        "        self.ln_final = LayerNorm(cfg)\n",
        "        self.unembed = Unembed(cfg)\n",
        "\n",
        "    def forward(\n",
        "        self,\n",
        "        tokens: Int[Tensor, \"batch seq_pos\"],\n",
        "        kv_cache: Optional[KeyValueCache] = None\n",
        "    ) -> Float[Tensor, \"batch position d_vocab\"]:\n",
        "        \n",
        "        using_kv_cache = kv_cache is not None\n",
        "\n",
        "        if using_kv_cache:\n",
        "            # If using kv_cache, then we only need to pass forward the newest tokens\n",
        "            # Remember to add positional offset!\n",
        "            n_cached_tokens = kv_cache.seq_len\n",
        "            tokens = tokens[:, n_cached_tokens:]\n",
        "            residual = self.embed(tokens) + self.pos_embed(tokens, n_cached_tokens)\n",
        "        else:\n",
        "            # If not using cache, turn it into a list of None's (so we can iterate through it)\n",
        "            kv_cache = [None for _ in range(self.cfg.n_layers)]\n",
        "            residual = self.embed(tokens) + self.pos_embed(tokens)\n",
        "        \n",
        "        # Apply all layers, and create a (new) kv_cache from the key & value vectors\n",
        "        new_kv_cache_entries: List[KeyValueCacheTensor] = []\n",
        "        for block, kv_cache_entry in zip(self.blocks, kv_cache):\n",
        "            residual, kv_cache_entry = block(residual, kv_cache_entry)\n",
        "            if using_kv_cache: new_kv_cache_entries.append(kv_cache_entry)\n",
        "        \n",
        "        logits = self.unembed(self.ln_final(residual))\n",
        "        \n",
        "        if using_kv_cache:\n",
        "            return logits, KeyValueCache(t.stack(new_kv_cache_entries))\n",
        "        else:\n",
        "            return logits, None\n",
        "\n",
        "\n",
        "tokens = reference_gpt2.to_tokens(reference_text).to(device)\n",
        "logits, cache = reference_gpt2.run_with_cache(tokens)\n",
        "\n",
        "rand_int_test(PosEmbed, [2, 4])\n",
        "load_gpt2_test(PosEmbed, reference_gpt2.pos_embed, tokens)\n",
        "rand_float_test(Attention, [2, 4, 768])\n",
        "load_gpt2_test(Attention, reference_gpt2.blocks[0].attn, cache[\"normalized\", 0, \"ln1\"])\n",
        "rand_float_test(TransformerBlock, [2, 4, 768])\n",
        "load_gpt2_test(TransformerBlock, reference_gpt2.blocks[0], cache[\"resid_pre\", 0])\n",
        "rand_int_test(DemoTransformer, [2, 4])\n",
        "load_gpt2_test(DemoTransformer, reference_gpt2, tokens)\n",
        "```\n",
        "\n",
        "</details>\n",
        "\n",
        "<details>\n",
        "<summary>New sampling function</summary>\n",
        "\n",
        "```python\n",
        "@t.inference_mode()\n",
        "def sample_with_cache(\n",
        "    self: TransformerSampler,\n",
        "    prompt: str,\n",
        "    max_tokens_generated=100,\n",
        "    kv_cache: Optional[KeyValueCache] = None,\n",
        "    verbose=False,\n",
        "    seed: Optional[int] = None,\n",
        "    **kwargs\n",
        ") -> str:\n",
        "    \n",
        "    # SOLUTION\n",
        "    self.model.eval()\n",
        "    input_ids = self.tokenizer.encode(prompt, return_tensors=\"pt\").to(device)[0]\n",
        "    if seed is not None:\n",
        "        np.random.seed(seed)\n",
        "        t.manual_seed(seed)\n",
        "\n",
        "    for i in tqdm(range(max_tokens_generated)):\n",
        "        # Get new logits (make sure we don't pass in more tokens than the model's context length)\n",
        "        logits, kv_cache = self.model(input_ids[None, -self.cfg.n_ctx:], kv_cache)\n",
        "        # We only take logits for the last token, because this is what we're sampling\n",
        "        logits = logits[0, -1]\n",
        "        # Get next token (as a tensor of size (1, 1) so we can concat it to input_ids)\n",
        "        next_token = t.tensor([TransformerSampler.sample_next_token(input_ids, logits, **kwargs)], device=device)\n",
        "        # Create new input ids string, with shape (1, old_seq_len + 1)\n",
        "        input_ids = t.cat([input_ids, next_token], dim=-1)\n",
        "        # Print out results, if required\n",
        "        if verbose:\n",
        "            print(self.tokenizer.decode(input_ids), end=\"\\r\")\n",
        "        # If our new token was the end-of-text token, stop\n",
        "        if next_token == getattr(self.tokenizer, \"eos_token_id\", None):\n",
        "            break\n",
        "    \n",
        "    return self.tokenizer.decode(input_ids)\n",
        "\n",
        "\n",
        "TransformerSampler.sample = sample_with_cache\n",
        "```\n",
        "</details>\n",
        "\n",
        "<details>\n",
        "<summary>Code to verify that the same output is being produced by cache and no-cache versions (and to compare speeds)</summary>\n",
        "\n",
        "```python\n",
        "device = t.device(\"cuda\") # can also try \"cpu\"\n",
        "\n",
        "model = DemoTransformer(Config()).to(device)\n",
        "model.load_state_dict(reference_gpt2.state_dict(), strict=False);\n",
        "\n",
        "initial_text = \"Eliezer Shlomo Yudkowsky (born September 11, 1979) is an American decision and artificial intelligence (AI) theorist and writer, best known for\"\n",
        "# input_ids = tokenizer.encode(initial_text, return_tensors=\"pt\").squeeze()\n",
        "\n",
        "sampler = TransformerSampler(model, tokenizer)\n",
        "\n",
        "# Run the noncached version\n",
        "t0 = time.time()\n",
        "text = sampler.sample(\n",
        "    initial_text,\n",
        "    temperature=0.7,\n",
        "    top_p=0.95,\n",
        "    seed=0,\n",
        ")\n",
        "print(f\"Time taken (without cache): {time.time() - t0:.2f} seconds\")\n",
        "rprint(f\"Model output:\\n\\n[bold dark_orange]{text}[/]\")\n",
        "\n",
        "# Run the cached version\n",
        "t0 = time.time()\n",
        "text_with_cache = sampler.sample(\n",
        "    initial_text,\n",
        "    temperature=0.7,\n",
        "    top_p=0.95,\n",
        "    seed=0,\n",
        "    kv_cache=KeyValueCache.new_empty(sampler.cfg)\n",
        ")\n",
        "print(f\"Time taken (with cache): {time.time() - t0:.2f} seconds\")\n",
        "rprint(f\"Model output:\\n\\n[bold dark_orange]{text_with_cache}[/]\")\n",
        "\n",
        "# # Check they are the same\n",
        "assert text == text_with_cache, \"Your outputs are different, meaning you've probably made a mistake in your cache implementation (or failed to use random seeds).\"\n",
        "print(\"Tests passed!\")\n",
        "```\n",
        "\n",
        "</details>\n"
      ]
    },
    {
      "cell_type": "markdown",
      "metadata": {
        "id": "FhYU3O6sfHOH"
      },
      "source": [
        "You may find that your cache implementation provides a modest speedup, but probably not close to the `seq_len`-factor speedup you'd expect from the fact that you only compute one additional token at each step rather than all of them. Why is this? The answer is that, much like everything to do with computational and memory costs in deep learning, it's not so simple. There are a host of different factors which might be bottlenecking our model's forward pass speed. If you try this on the CPU, you should get a much more noticeable speedup.\n",
        "\n",
        "For a bit more on these topics, see [here](https://kipp.ly/blog/transformer-inference-arithmetic/#kv-cache).\n"
      ]
    },
    {
      "cell_type": "markdown",
      "metadata": {
        "id": "0S_uxUzRfHOH"
      },
      "source": [
        "## Bonus - cached beam search\n",
        "\n",
        "Can you modify your beam search function to use caching?\n",
        "\n",
        "Depending on how you implemented your cache earlier, you might find that a different form of caching is better suited to beam search.\n",
        "\n",
        "Again, we've provided an example implementation in a dropdown below, which is based on the cache implementation above and the previous solution for `beam_search`.\n",
        "\n",
        "<details>\n",
        "<summary>Cached beam search function</summary>\n",
        "\n",
        "As we touched on earlier, thanks to our modular code, not a lot needs to be changed when adding cache support.\n",
        "\n",
        "```python\n",
        "@dataclass\n",
        "class Beams:\n",
        "    '''Class to store beams during beam search.'''\n",
        "    model: DemoTransformer\n",
        "    tokenizer: GPT2TokenizerFast\n",
        "    logprob_sums: Float[Tensor, \"batch\"]\n",
        "    tokens: Int[Tensor, \"batch seq\"]\n",
        "    kv_cache: Optional[KeyValueCache] = None\n",
        "\n",
        "    def new_beams(self, logprob_sums, tokens, kv_cache) -> \"Beams\":\n",
        "        '''Creates a new Beams object with the same model and tokenizer.'''\n",
        "        return Beams(self.model, self.tokenizer, logprob_sums, tokens, kv_cache)\n",
        "\n",
        "    def __getitem__(self, idx) -> \"Beams\":\n",
        "        '''Helpful function allowing you to take a slice of the beams object along the batch dimension.'''\n",
        "        return self.new_beams(\n",
        "            self.logprob_sums[idx],\n",
        "            self.tokens[idx],\n",
        "            self.kv_cache[:, :, idx] if self.kv_cache is not None else None\n",
        "        )\n",
        "\n",
        "    @property\n",
        "    def logprobs_and_completions(self) -> List[Tuple[float, str]]:\n",
        "        '''Returns self as a list of logprob sums and completions (useful for getting final output).'''\n",
        "        return [\n",
        "            (logprob_sum.item(), self.tokenizer.decode(tokens))\n",
        "            for (logprob_sum, tokens) in zip(self.logprob_sums, self.tokens)\n",
        "        ]\n",
        "    \n",
        "\n",
        "    def generate(self, new_beams: int, no_repeat_ngram_size: Optional[int] = None) -> \"Beams\":\n",
        "        '''\n",
        "        Starting from the current set of beams (which has length `num_beams`), returns a new\n",
        "        set of `num_beams * new_beams`, containing the best `new_beams` continuations for each\n",
        "        of the original beams.\n",
        "\n",
        "        Optional argument `no_repeat_ngram_size` means your model won't generate any sequences with\n",
        "        a repeating n-gram of this length (don't worry about implementing this until later).\n",
        "        '''\n",
        "        # SOLUTION\n",
        "\n",
        "        # Get the output logprobs for the next token (for every sequence in current beams)\n",
        "        logprobs, kv_cache = self.model(self.tokens, self.kv_cache)\n",
        "        logprobs = logprobs[:, -1, :].log_softmax(-1)\n",
        "\n",
        "        # Get the top `new_beams` tokens for each sequence\n",
        "        topk_logprobs, topk_tokenIDs = self.get_topk_non_repeating(logprobs, no_repeat_ngram_size, k=new_beams)\n",
        "\n",
        "        # Get all of the new possible beams, via einops operations\n",
        "        #   Here, we're effectively flattening out the batch dimension and k dimension, to give us tensors\n",
        "        #   with every possible combination of (original sequence, new token) pairs.)\n",
        "        new_logprob_sums = sum([\n",
        "            einops.repeat(self.logprob_sums, \"batch -> (batch k)\", k=new_beams),\n",
        "            einops.rearrange(topk_logprobs, \"batch k -> (batch k)\")\n",
        "        ])\n",
        "        new_tokens = t.concat([\n",
        "            einops.repeat(self.tokens, \"batch seq -> (batch k) seq\", k=new_beams),\n",
        "            einops.rearrange(topk_tokenIDs, \"batch k -> (batch k) 1\")\n",
        "        ], dim=-1)\n",
        "        new_kv_cache = None if (self.kv_cache is None) else einops.repeat(\n",
        "            kv_cache, \"layer k_and_v batch ... -> layer k_and_v (batch k) ...\", k=new_beams\n",
        "        )\n",
        "        return self.new_beams(new_logprob_sums, new_tokens, new_kv_cache)\n",
        "\n",
        "\n",
        "    def filter(self, num_beams: int) -> Tuple[\"Beams\", \"Beams\"]:\n",
        "        '''\n",
        "        Returns:\n",
        "            best_beams: Beams\n",
        "                filtered version of self, containing all best `num_beams` which are also not terminated.\n",
        "\n",
        "            early_terminations: Beams\n",
        "                filtered version of self, containing all best `num_beams` which are also terminated.\n",
        "                i.e. the sum of lengths of these two should equal `num_beams`.\n",
        "        '''\n",
        "        # SOLUTION\n",
        "\n",
        "        # Get the indices of top `num_beams` beams\n",
        "        top_beam_indices = self.logprob_sums.topk(k=num_beams, dim=0).indices.tolist()\n",
        "        # Get the indices of terminated sequences\n",
        "        new_tokens = self.tokens[:, -1]\n",
        "        terminated_indices = t.nonzero(new_tokens == self.tokenizer.eos_token_id)\n",
        "\n",
        "        # Get the indices of the `num_beams` best sequences (some terminated, some not terminated)\n",
        "        best_continuing = [i for i in top_beam_indices if i not in terminated_indices]\n",
        "        best_terminated = [i for i in top_beam_indices if i in terminated_indices]\n",
        "\n",
        "        # Return the beam objects from these indices\n",
        "        return self[best_continuing], self[best_terminated]\n",
        "\n",
        "            \n",
        "    def get_topk_non_repeating(\n",
        "        self,\n",
        "        logprobs: Float[Tensor, \"batch d_vocab\"],\n",
        "        no_repeat_ngram_size: Optional[int],\n",
        "        k: int,\n",
        "    ) -> Tuple[Float[Tensor, \"k\"], Int[Tensor, \"k\"]]:\n",
        "        '''\n",
        "        logprobs:\n",
        "            tensor of the log-probs for the next token\n",
        "        no_repeat_ngram_size:\n",
        "            size of ngram to avoid repeating\n",
        "        k:\n",
        "            number of top logits to return, for each beam in our collection\n",
        "\n",
        "        Returns:\n",
        "            equivalent to the output of `logprobs.topk(dim=-1)`, but makes sure\n",
        "            that no returned tokens would produce an ngram of size  `no_repeat_ngram_size`\n",
        "            which has already appeared in `self.tokens`.\n",
        "        '''\n",
        "        batch, seq_len = self.tokens.shape\n",
        "        neg_inf = t.tensor(-1.0e4).to(device)\n",
        "\n",
        "        # If completion isn't long enough for a repetition, or we have no restructions, just return topk\n",
        "        if (no_repeat_ngram_size is not None) and (seq_len > no_repeat_ngram_size-1):\n",
        "            # Otherwise, we need to check for ngram repetitions\n",
        "            # First, get the most recent `no_repeat_ngram_size-1` tokens\n",
        "            last_ngram_prefix = self.tokens[:, seq_len - (no_repeat_ngram_size-1):]\n",
        "            # Next, find all the tokens we're not allowed to generate (by going iterating through past ngrams and seeing if those ngram prefixes match the last one)\n",
        "            for i in range(seq_len - (no_repeat_ngram_size-1)):\n",
        "                ngrams = self.tokens[:, i:i+no_repeat_ngram_size] # (batch, ngram)\n",
        "                ngrams_are_repeated = (ngrams[:, :-1] == last_ngram_prefix).all(-1) # (batch,)\n",
        "                ngram_end_tokens = ngrams[:, [-1]] # (batch, 1)\n",
        "                # Fill logprobs with neginf wherever the ngrams are repeated\n",
        "                logprobs[range(batch), ngram_end_tokens] = t.where(\n",
        "                    ngrams_are_repeated,\n",
        "                    neg_inf,\n",
        "                    logprobs[range(batch), ngram_end_tokens],\n",
        "            )\n",
        "\n",
        "        # Finally, get our actual tokens\n",
        "        return logprobs.topk(k=k, dim=-1)\n",
        "\n",
        "    def print(self, title=\"Best completions\", max_print_chars=80) -> None:\n",
        "        '''\n",
        "        Prints out a set of sequences with their corresponding logitsums.\n",
        "        '''\n",
        "        if len(self.tokens) == 0:\n",
        "            return\n",
        "        table = Table(\"logitsum\", \"completion\", title=title)\n",
        "        for logprob_sum, tokens in zip(self.logprob_sums, self.tokens):\n",
        "            text = self.tokenizer.decode(tokens)\n",
        "            if len(repr(text)) > max_print_chars:\n",
        "                text = text[:int(0.3 * max_print_chars)] + \" ... \" + text[-int(0.7 * max_print_chars):]\n",
        "            table.add_row(f\"{logprob_sum:>8.3f}\", repr(text))\n",
        "        rprint(table)\n",
        "\n",
        "\n",
        "@t.inference_mode()\n",
        "def beam_search(\n",
        "    self: TransformerSampler,\n",
        "    prompt: str,\n",
        "    num_return_sequences: int,\n",
        "    num_beams: int,\n",
        "    max_new_tokens: int,\n",
        "    no_repeat_ngram_size: Optional[int] = None,\n",
        "    kv_cache: Optional[KeyValueCache] = None,\n",
        "    verbose=False\n",
        ") -> List[Tuple[float, Tensor]]:\n",
        "    '''\n",
        "    Implements a beam search, by repeatedly performing the `generate` and `filter` steps (starting\n",
        "    from the initial prompt) until either of the two stopping criteria are met:\n",
        "\n",
        "        (1) we've generated `max_new_tokens` tokens, or\n",
        "        (2) we've generated `num_returns_sequences` terminating sequences.\n",
        "\n",
        "    To modularize this function, most of the actual complexity is in the Beams class,\n",
        "    in the `generate` and `filter` methods.\n",
        "    '''\n",
        "\n",
        "    assert num_return_sequences <= num_beams\n",
        "    self.model.eval()\n",
        "\n",
        "    # SOLUTION\n",
        "    tokens = self.tokenizer.encode(prompt, return_tensors=\"pt\").to(device)\n",
        "\n",
        "    # List for final beams to return (and early terminations)\n",
        "    final_logprobs_and_completions: List[Tuple[float, str]] = []\n",
        "    # Keep track of all best beams after each step\n",
        "    best_beams = Beams(self.model, self.tokenizer, t.tensor([0.0]).to(device), tokens, kv_cache)\n",
        "\n",
        "    for n in tqdm(range(max_new_tokens)):\n",
        "\n",
        "        # Generation step\n",
        "        best_beams = best_beams.generate(num_beams, no_repeat_ngram_size)\n",
        "\n",
        "        # Filtering step\n",
        "        best_beams, best_beams_terminated = best_beams.filter(num_beams)\n",
        "        final_logprobs_and_completions.extend(best_beams_terminated.logprobs_and_completions)\n",
        "\n",
        "        # Print output\n",
        "        if verbose:\n",
        "            best_beams.print()\n",
        "\n",
        "        # Check stopping condition\n",
        "        if len(final_logprobs_and_completions) >= num_return_sequences:\n",
        "            return final_logprobs_and_completions[:num_return_sequences]\n",
        "\n",
        "    final_logprobs_and_completions.extend(best_beams.logprobs_and_completions)\n",
        "    final_logprobs_and_completions = final_logprobs_and_completions[:num_return_sequences]\n",
        "    return final_logprobs_and_completions\n",
        "\n",
        "\n",
        "TransformerSampler.beam_search = beam_search\n",
        "```\n",
        "\n",
        "</details>\n",
        "\n",
        "<details>\n",
        "<summary>Code to verify that the same output is being produced by cache and no-cache versions (and to compare speeds)</summary>\n",
        "\n",
        "```python\n",
        "prompt = \"For you, the day Bison graced your village was the most important day of your life. But for me, it was\"\n",
        "orig_len = len(tokenizer.encode(prompt))\n",
        "\n",
        "beam_search_kwargs = dict(\n",
        "    prompt=prompt,\n",
        "    num_return_sequences=3,\n",
        "    num_beams=20,\n",
        "    max_new_tokens=60,\n",
        "    no_repeat_ngram_size=2,\n",
        "    verbose=False\n",
        ")\n",
        "\n",
        "sampler = TransformerSampler(model, tokenizer)\n",
        "\n",
        "# Run the noncached version\n",
        "t0 = time.time()\n",
        "final_logitsums_and_completions = sampler.beam_search(**beam_search_kwargs)\n",
        "logprob_sum, text = final_logitsums_and_completions[0]\n",
        "avg_logprob_as_prob = t.tensor(logprob_sum / (len(tokenizer.encode(text)) - orig_len)).exp().item()\n",
        "print(f\"Time (without cache): {time.time() - t0:.2f} seconds\")\n",
        "print(f\"Avg logprob (expressed as a probability) = {avg_logprob_as_prob:.3f}\")\n",
        "rprint(f\"Output:\\n\\n[bold dark_orange]{text}[/]\\n\\n\")\n",
        "\n",
        "# Run the cached version\n",
        "t0 = time.time()\n",
        "beam_search_kwargs[\"kv_cache\"] = KeyValueCache.new_empty(model.cfg)\n",
        "final_logitsums_and_completions = sampler.beam_search(**beam_search_kwargs)\n",
        "logprob_sum, text_with_cache = final_logitsums_and_completions[0]\n",
        "avg_logprob_as_prob = t.tensor(logprob_sum / (len(tokenizer.encode(text)) - orig_len)).exp().item()\n",
        "print(f\"Time (with cache): {time.time() - t0:.2f} seconds\")\n",
        "print(f\"Avg logprob (as probability) = {avg_logprob_as_prob:.3f}\", end=\"\")\n",
        "rprint(f\"Output:\\n\\n[bold dark_orange]{text_with_cache}[/]\\n\\n\")\n",
        "\n",
        "# Check they are the same\n",
        "assert text == text_with_cache, \"Your outputs are different, meaning you've probably made a mistake in your cache implementation.\"\n",
        "print(\"Tests passed!\")\n",
        "```\n",
        "\n",
        "</details>\n"
      ]
    }
  ],
  "metadata": {
    "accelerator": "GPU",
    "colab": {
      "collapsed_sections": [
        "Ny4PdCRf3YPu",
        "w1x_mWI6m4Rz",
        "BaSOTaLdm4R6",
        "QfeyG6NZm4SC",
        "hrSd3-YnfHN9"
      ],
      "gpuClass": "premium",
      "provenance": []
    },
    "gpuClass": "premium",
    "kernelspec": {
      "display_name": "arena",
      "language": "python",
      "name": "python3"
    },
    "language_info": {
      "codemirror_mode": {
        "name": "ipython",
        "version": 3
      },
      "file_extension": ".py",
      "mimetype": "text/x-python",
      "name": "python",
      "nbconvert_exporter": "python",
      "pygments_lexer": "ipython3",
      "version": "3.10.6"
    },
    "orig_nbformat": 4,
    "vscode": {
      "interpreter": {
        "hash": "0575d7a87c0e74eddddcbc1a627da1d71db6b89a3121c036174dfb29a1bf0df3"
      }
    }
  },
  "nbformat": 4,
  "nbformat_minor": 0
}
