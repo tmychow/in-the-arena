{
  "cells": [
    {
      "cell_type": "markdown",
      "metadata": {
        "id": "EXC4a3MyLSBU"
      },
      "source": [
        "# [0.1] - Ray Tracing"
      ]
    },
    {
      "cell_type": "markdown",
      "metadata": {
        "id": "aBL8Mx_fLT3S"
      },
      "source": [
        "Colab: [exercises](https://colab.research.google.com/drive/1L-N_B9SyE8v2jiAsLjOMyjfogyvTtXaU) | [solutions](https://colab.research.google.com/drive/1vBjSYNahPqzGfxEaKx4ZEEGKswRRcUvo)\n",
        "\n",
        "ARENA 3.0 [Streamlit page](https://arena3-chapter0-fundamentals.streamlit.app/[0.1]_Ray_Tracing)\n",
        "\n",
        "Please send any problems / bugs on the `#errata` channel in the [Slack group](https://join.slack.com/t/arena-la82367/shared_invite/zt-1uvoagohe-JUv9xB7Vr143pdx1UBPrzQ), and ask any questions on the dedicated channels for this chapter of material.\n",
        "\n"
      ]
    },
    {
      "cell_type": "markdown",
      "metadata": {
        "id": "vhNgL4Qhw1bP"
      },
      "source": [
        "<img src=\"https://raw.githubusercontent.com/callummcdougall/Fundamentals/main/images/raytracing.png\" width=\"350\">\n"
      ]
    },
    {
      "cell_type": "markdown",
      "metadata": {
        "id": "niHe80GT0Sg3"
      },
      "source": [
        "# Introduction & Setup"
      ]
    },
    {
      "cell_type": "markdown",
      "metadata": {
        "id": "XR6mqKFZCWy1"
      },
      "source": [
        "\n",
        "Today we'll be practicing batched matrix operations in PyTorch by writing a basic graphics renderer. We'll start with an extremely simplified case and work up to rendering your very own 3D Pikachu!\n",
        "\n",
        "We'll also be touching on some general topics which will be important going forwards in this course, such as:\n",
        "\n",
        "* Using GPT systems to assist your learning and coding\n",
        "* Typechecking, and good coding practices\n",
        "* Debugging, with VSCode's built-in run & debug features\n"
      ]
    },
    {
      "cell_type": "markdown",
      "metadata": {
        "id": "t9J5Ug2dCWy1"
      },
      "source": [
        "## Getting started\n",
        "\n",
        "As a reminder, the [GitHub repo](https://github.com/callummcdougall/ARENA_3.0) which hosts the exercises pages (and the exercises) looks something like this:\n",
        "\n",
        "```\n",
        ".\n",
        "├── chapter0_fundamentals\n",
        "│   ├── exercises\n",
        "│   │   ├── part0_prereqs\n",
        "│   │   ├── part1_ray_tracing\n",
        "│   │   │   ├── solutions.py\n",
        "│   │   │   ├── tests.py\n",
        "│   │   ├── part2_cnns\n",
        "│   │   ⋮    ⋮\n",
        "│   └── instructions\n",
        "│       └── Home.py\n",
        "├── chapter1_transformers\n",
        "├── chapter2_rl\n",
        "└── requirements.txt\n",
        "```\n",
        "\n",
        "When you run the setup code below, you'll clone the repository into your Colab's local storage, which is how the imports will work. However, you should be working only from this Colab notebook - filling in functions where you are asked to. Each exercise is denoted with a little box that rates difficulty & importance of the exercise. Most exercises will also have test functions which can be run, to check your solution works (often these test functions will compare your function's output to the output of the function in `solutions.py`).\n",
        "\n",
        "Lastly, each exercise will have solutions below it in a dropdown, in case you get stuck."
      ]
    },
    {
      "cell_type": "markdown",
      "metadata": {
        "id": "s5XKU6yr3SRi"
      },
      "source": [
        "## Setup\n",
        "\n",
        "Run these cells below (don't worry about reading through them).\n"
      ]
    },
    {
      "cell_type": "code",
      "execution_count": null,
      "metadata": {
        "id": "ETi8_F_BCWy2"
      },
      "outputs": [],
      "source": [
        "try:\n",
        "    import google.colab\n",
        "    IN_COLAB = True\n",
        "except:\n",
        "    IN_COLAB = False\n",
        "\n",
        "if IN_COLAB:\n",
        "    # Install packages\n",
        "    %pip install einops\n",
        "    %pip install jaxtyping\n",
        "    %pip install typeguard\n",
        "\n",
        "    # Code to make sure output widgets display\n",
        "    from google.colab import output\n",
        "    output.enable_custom_widget_manager()\n",
        "\n",
        "    # Code to download the necessary files (e.g. solutions, test funcs)\n",
        "    import os, sys\n",
        "    if not os.path.exists(\"chapter0_fundamentals\"):\n",
        "        !wget https://github.com/callummcdougall/ARENA_3.0/archive/refs/heads/main.zip\n",
        "        !unzip /content/main.zip 'ARENA_3.0-main/chapter0_fundamentals/exercises/*'\n",
        "        os.remove(\"/content/main.zip\")\n",
        "        os.rename(\"ARENA_3.0-main/chapter0_fundamentals\", \"chapter0_fundamentals\")\n",
        "        os.rmdir(\"ARENA_3.0-main\")\n",
        "        sys.path.insert(0, \"chapter0_fundamentals/exercises\")\n",
        "\n",
        "    # Clear output\n",
        "    from IPython.display import clear_output\n",
        "    clear_output()\n",
        "    print(\"Imports & installations complete!\")\n",
        "\n",
        "else:\n",
        "    from IPython import get_ipython\n",
        "    ipython = get_ipython()\n",
        "    ipython.run_line_magic(\"load_ext\", \"autoreload\")\n",
        "    ipython.run_line_magic(\"autoreload\", \"2\")"
      ]
    },
    {
      "cell_type": "code",
      "execution_count": null,
      "metadata": {
        "id": "W7StFfPWCWy3"
      },
      "outputs": [],
      "source": [
        "import os\n",
        "import sys\n",
        "import torch as t\n",
        "from torch import Tensor\n",
        "import einops\n",
        "from ipywidgets import interact\n",
        "import plotly.express as px\n",
        "from ipywidgets import interact\n",
        "from pathlib import Path\n",
        "from IPython.display import display\n",
        "from jaxtyping import Float, Int, Bool, Shaped, jaxtyped\n",
        "\n",
        "# Get file paths to this set of exercises\n",
        "exercises_dir = Path(\"chapter0_fundamentals/exercises\")\n",
        "section_dir = exercises_dir / \"part1_ray_tracing\"\n",
        "\n",
        "from plotly_utils import imshow\n",
        "from part1_ray_tracing.utils import render_lines_with_plotly, setup_widget_fig_ray, setup_widget_fig_triangle\n",
        "import part1_ray_tracing.tests as tests\n",
        "\n",
        "MAIN = __name__ == \"__main__\""
      ]
    },
    {
      "cell_type": "markdown",
      "metadata": {
        "id": "jFbQc3AZCWy3"
      },
      "source": [
        "<details>\n",
        "<summary>Help - I get a NumPy-related error</summary>\n",
        "\n",
        "This is an annoying colab-related issue which I haven't been able to find a satisfying fix for. If you restart runtime (but don't delete runtime), and run just the imports cell above again (but not the `%pip install` cell), the problem should go away.\n",
        "</details>\n",
        "\n",
        "\n",
        "<details>\n",
        "<summary>Note on <code>pathlib</code></summary>\n",
        "\n",
        "We'll be using the `pathlib` library to define file paths. This is a more modern way of working with file paths than the `os` library, and is more cross-platform. You can read more about it [here](https://realpython.com/python-pathlib/).\n",
        "\n",
        "A major advantage of using `pathlib` rather than just relative path names is that it is more robust to which file / directory you happen to be running your code in. There's nothing more frustrating than failing to import or load a file, even though you can see it right there in your directory! Most of our code to load files will look something like this:\n",
        "\n",
        "```python\n",
        "with open(section_dir / \"pikachu.pt\", \"rb\") as f:\n",
        "    triangles = t.load(f)\n",
        "```\n",
        "\n",
        "since `section_dir` is the name of the `part1_ray_tracing` directory, and forward slashes are used to define files or directories within that directory.\n",
        "</details>\n"
      ]
    },
    {
      "cell_type": "code",
      "execution_count": null,
      "metadata": {
        "id": "T1iqJFCT2u8j"
      },
      "outputs": [],
      "source": [
        "def first_func(num_pixels, y_limit) -> t.Tensor:\n",
        "    rays = t.zeros((num_pixels, 2, 3), dtype=t.float32)\n",
        "    t.linspace(-y_limit, y_limit, num_pixels, out=rays[:, 1, 1])\n",
        "    rays[:, 1, 0] = 1\n",
        "    return rays\n",
        "\n",
        "segments = t.tensor([\n",
        "    [[1.0, -12.0, 0.0], [1, -6.0, 0.0]],\n",
        "    [[0.5, 0.1, 0.0], [0.5, 1.15, 0.0]],\n",
        "    [[2, 12.0, 0.0], [2, 21.0, 0.0]]\n",
        "])\n",
        "\n",
        "rays1d = first_func(9, 10.0)"
      ]
    },
    {
      "cell_type": "markdown",
      "metadata": {
        "id": "ecQF_djAMZzk"
      },
      "source": [
        "# Exercises"
      ]
    },
    {
      "cell_type": "markdown",
      "metadata": {
        "id": "oaXrqIWf3mM1"
      },
      "source": [
        "## 1D Image Rendering\n",
        "\n",
        "In our initial setup, the **camera** will be a single point at the origin, and the **screen** will be the plane at x=1.\n",
        "\n",
        "**Objects** in the world consist of triangles, where triangles are represented as 3 points in 3D space (so 9 floating point values per triangle). You can build any shape out of sufficiently many triangles and your Pikachu will be made from 412 triangles.\n",
        "\n",
        "The camera will emit one or more **rays**, where a ray is represented by an **origin** point and a **direction** point. Conceptually, the ray is emitted from the origin and continues in the given direction until it intersects an object.\n",
        "\n",
        "We have no concept of lighting or color yet, so for now we'll say that a pixel on our screen should show a bright color if a ray from the origin through it intersects an object, otherwise our screen should be dark.\n"
      ]
    },
    {
      "cell_type": "markdown",
      "metadata": {
        "id": "MXPxX71x3x-A"
      },
      "source": [
        "<img src=\"https://raw.githubusercontent.com/callummcdougall/computational-thread-art/master/example_images/misc/ray_tracing.png\" width=\"400\">\n"
      ]
    },
    {
      "cell_type": "markdown",
      "metadata": {
        "id": "PQThrIXN3zGW"
      },
      "source": [
        "To start, we'll let the z dimension in our `(x, y, z)` space be zero and work in the remaining two dimensions.\n"
      ]
    },
    {
      "cell_type": "markdown",
      "metadata": {
        "id": "ci1CMntaCWy4"
      },
      "source": [
        "#### Exercise - implement `make_rays_1d`\n",
        "\n",
        "```yaml\n",
        "Difficulty: 🔴🔴⚪⚪⚪\n",
        "Importance: 🔵🔵🔵⚪⚪\n",
        "\n",
        "You should spend up to 10-15 minutes on this exercise.\n",
        "```\n"
      ]
    },
    {
      "cell_type": "markdown",
      "metadata": {
        "id": "EwUeN4_5CWy4"
      },
      "source": [
        "Implement the following `make_rays_1d` function so it generates some rays coming out of the origin, which we'll take to be `(0, 0, 0)`.\n",
        "\n",
        "Calling `render_lines_with_plotly` on your rays will display them in a 3D plot.\n"
      ]
    },
    {
      "cell_type": "code",
      "execution_count": null,
      "metadata": {
        "id": "mIXtvTYw36xX"
      },
      "outputs": [],
      "source": [
        "def make_rays_1d(num_pixels: int, y_limit: float) -> t.Tensor:\n",
        "    '''\n",
        "    num_pixels: The number of pixels in the y dimension. Since there is one ray per pixel, this is also the number of rays.\n",
        "    y_limit: At x=1, the rays should extend from -y_limit to +y_limit, inclusive of both endpoints.\n",
        "\n",
        "    Returns: shape (num_pixels, num_points=2, num_dim=3) where the num_points dimension contains (origin, direction) and the num_dim dimension contains xyz.\n",
        "\n",
        "    Example of make_rays_1d(9, 1.0): [\n",
        "        [[0, 0, 0], [1, -1.0, 0]],\n",
        "        [[0, 0, 0], [1, -0.75, 0]],\n",
        "        [[0, 0, 0], [1, -0.5, 0]],\n",
        "        ...\n",
        "        [[0, 0, 0], [1, 0.75, 0]],\n",
        "        [[0, 0, 0], [1, 1, 0]],\n",
        "    ]\n",
        "    '''\n",
        "    pass\n",
        "\n",
        "rays1d = make_rays_1d(9, 10.0)\n",
        "fig = render_lines_with_plotly(rays1d)"
      ]
    },
    {
      "cell_type": "markdown",
      "metadata": {
        "id": "0TAMiLtk4ON8"
      },
      "source": [
        "### Tip - the `out` keyword argument\n",
        "\n",
        "Many PyTorch functions take an optional keyword argument `out`. If provided, instead of allocating a new tensor and returning that, the output is written directly to the `out` tensor.\n",
        "\n",
        "If you used `torch.arange` or `torch.linspace` above, try using the `out` argument. Note that a basic indexing expression like `rays[:, 1, 1]` returns a view that shares storage with `rays`, so writing to the view will modify `rays`. You'll learn more about views later today.\n",
        "\n",
        "## Ray-Object Intersection\n",
        "\n",
        "Suppose we have a line segment defined by points $L_1$ and $L_2$. Then for a given ray, we can test if the ray intersects the line segment like so:\n",
        "\n",
        "- Supposing both the ray and line segment were infinitely long, solve for their intersection point.\n",
        "- If the point exists, check whether that point is inside the line segment and the ray.\n",
        "\n",
        "Our camera ray is defined by the origin $O$ and direction $D$ and our object line is defined by points $L_1$ and $L_2$.\n",
        "\n",
        "We can write the equations for all points on the camera ray as $R(u)=O +u D$ for $u \\in [0, \\infty)$ and on the object line as $O(v)=L_1+v(L_2 - L_1)$ for $v \\in [0, 1]$.\n",
        "\n",
        "The following interactive widget lets you play with this parameterization of the problem. Run the cells one after another:\n"
      ]
    },
    {
      "cell_type": "code",
      "execution_count": null,
      "metadata": {
        "id": "A9b2y5mw8A7i"
      },
      "outputs": [],
      "source": [
        "fig = setup_widget_fig_ray()\n",
        "display(fig)\n",
        "\n",
        "@interact\n",
        "def response(seed=(0, 10, 1), v=(-2.0, 2.0, 0.01)):\n",
        "    t.manual_seed(seed)\n",
        "    L_1, L_2 = t.rand(2, 2)\n",
        "    P = lambda v: L_1 + v * (L_2 - L_1)\n",
        "    x, y = zip(P(-2), P(2))\n",
        "    with fig.batch_update():\n",
        "        fig.data[0].update({\"x\": x, \"y\": y})\n",
        "        fig.data[1].update({\"x\": [L_1[0], L_2[0]], \"y\": [L_1[1], L_2[1]]})\n",
        "        fig.data[2].update({\"x\": [P(v)[0]], \"y\": [P(v)[1]]})"
      ]
    },
    {
      "cell_type": "markdown",
      "metadata": {
        "id": "Wxgo9OsD7QBJ"
      },
      "source": [
        "Setting the line equations from above equal gives the solution:\n",
        "\n",
        "$$\n",
        "\\begin{aligned}O + u D &= L_1 + v(L_2 - L_1) \\\\ u D - v(L_2 - L_1) &= L_1 - O  \\\\ \\begin{pmatrix} D_x & (L_1 - L_2)_x \\\\ D_y & (L_1 - L_2)_y \\\\ \\end{pmatrix} \\begin{pmatrix} u \\\\ v \\\\ \\end{pmatrix} &=  \\begin{pmatrix} (L_1 - O)_x \\\\ (L_1 - O)_y \\\\ \\end{pmatrix} \\end{aligned}\n",
        "$$\n",
        "\n",
        "Once we've found values of $u$ and $v$ which satisfy this equation, if any (the lines could be parallel) we just need to check that $u \\geq 0$ and $v \\in [0, 1]$.\n"
      ]
    },
    {
      "cell_type": "markdown",
      "metadata": {
        "id": "AveuRVvb4RE5"
      },
      "source": [
        "### Exercise - which segments intersect with the rays?\n",
        "\n",
        "```yaml\n",
        "Difficulty: 🔴🔴🔴⚪⚪\n",
        "Importance: 🔵⚪⚪⚪⚪\n",
        "\n",
        "You should spend up to 10-15 minutes on this exercise.\n",
        "```\n",
        "\n",
        "For each of the following segments, which camera rays from earlier intersect? You can do this by inspection or using `render_lines_with_plotly`.\n"
      ]
    },
    {
      "cell_type": "code",
      "execution_count": null,
      "metadata": {
        "id": "QgocJd2r38Gu"
      },
      "outputs": [],
      "source": [
        "segments = t.tensor([\n",
        "    [[1.0, -12.0, 0.0], [1, -6.0, 0.0]],\n",
        "    [[0.5, 0.1, 0.0], [0.5, 1.15, 0.0]],\n",
        "    [[2, 12.0, 0.0], [2, 21.0, 0.0]]\n",
        "])"
      ]
    },
    {
      "cell_type": "markdown",
      "metadata": {
        "id": "YP_Su7ih4aPv"
      },
      "source": [
        "### Exercise - implement `intersect_ray_1d`\n",
        "\n",
        "```yaml\n",
        "Difficulty: 🔴🔴🔴⚪⚪\n",
        "Importance: 🔵🔵🔵🔵⚪\n",
        "\n",
        "You should spend up to 20-25 minutes on this exercise.\n",
        "\n",
        "It involves some of today's core concepts: tensor manipulation, linear operations, etc.\n",
        "```\n",
        "\n",
        "Using [`torch.lingalg.solve`](https://pytorch.org/docs/stable/generated/torch.linalg.solve.html) and [`torch.stack`](https://pytorch.org/docs/stable/generated/torch.stack.html), implement the `intersect_ray_1d` function to solve the above matrix equation.\n",
        "\n",
        "<details>\n",
        "<summary>Aside - difference between stack and concatenate</summary>\n",
        "\n",
        "`torch.stack` will combine tensors along a new dimension.\n",
        "\n",
        "```python\n",
        ">>> t.stack([t.ones(2, 2), t.zeros(2, 2)], dim=0)\n",
        "tensor([[[1., 1.],\n",
        "         [1., 1.]],\n",
        "\n",
        "        [[0., 0.],\n",
        "         [0., 0.]]])\n",
        "```\n",
        "\n",
        "`torch.concat` (alias `torch.cat`) will combine tensors along an existing dimension.\n",
        "\n",
        "```python\n",
        ">>> t.cat([t.ones(2, 2), t.zeros(2, 2)], dim=0)\n",
        "tensor([[1., 1.],\n",
        "        [1., 1.],\n",
        "        [0., 0.],\n",
        "        [0., 0.]])\n",
        "```\n",
        "\n",
        "Here, you should use `torch.stack` to construct e.g. the matrix on the left hand side, because you want to combine the vectors $D$ and $L_1 - L_2$ to make a matrix.\n",
        "</details>\n",
        "\n",
        "Is it possible for the solve method to fail? Give a sample input where this would happen.\n",
        "\n",
        "<details>\n",
        "<summary>Answer - Failing Solve</summary>\n",
        "\n",
        "If the ray and segment are exactly parallel, then the solve will fail because there is no solution to the system of equations. For this function, handle this by catching the exception and returning False.\n",
        "</details>\n"
      ]
    },
    {
      "cell_type": "code",
      "execution_count": null,
      "metadata": {
        "id": "u78lcQ324kBb"
      },
      "outputs": [],
      "source": [
        "def intersect_ray_1d(ray: t.Tensor, segment: t.Tensor) -> bool:\n",
        "    '''\n",
        "    ray: shape (n_points=2, n_dim=3)  # O, D points\n",
        "    segment: shape (n_points=2, n_dim=3)  # L_1, L_2 points\n",
        "\n",
        "    Return True if the ray intersects the segment.\n",
        "    '''\n",
        "    pass\n",
        "\n",
        "tests.test_intersect_ray_1d(intersect_ray_1d)\n",
        "tests.test_intersect_ray_1d_special_case(intersect_ray_1d)"
      ]
    },
    {
      "cell_type": "markdown",
      "metadata": {
        "id": "WesxzlWO4nxN"
      },
      "source": [
        "<details>\n",
        "<summary>Help! My code is failing with a 'must be batches of square matrices' exception.</summary>\n",
        "\n",
        "Our formula only uses the x and y coordinates - remember to discard the z coordinate for now.\n",
        "\n",
        "It's good practice to write asserts on the shape of things so that your asserts will fail with a helpful error message. In this case, you could assert that the `mat` argument is of shape (2, 2) and the `vec` argument is of shape (2,). Also, see the aside below on typechecking.\n",
        "</details>\n"
      ]
    },
    {
      "cell_type": "markdown",
      "metadata": {
        "id": "FLk88ucC4xAh"
      },
      "source": [
        "### Aside - typechecking\n"
      ]
    },
    {
      "cell_type": "markdown",
      "metadata": {
        "id": "1zzdKT4lCWy6"
      },
      "source": [
        "\n",
        "\n",
        "> *Note - this section was written with VSCode in mind. The formatting for this kind of typechecking doesn't seem to work very well in Colab, and strict typechecking of the kind described below also won't work (which is why it's been removed). If you're interested in using these features, we'd recommend trying to set yourself up on VSCode.*\n"
      ]
    },
    {
      "cell_type": "markdown",
      "metadata": {
        "id": "NyhzCt4gCWy6"
      },
      "source": [
        "Typechecking is a useful habit to get into. It's not strictly necessary, but it can be a great help when you're debugging.\n",
        "\n",
        "One good way to typecheck in PyTorch is with the `jaxtyping` library. In this library, we can use objects like `Float`, `Int`, `Bool`, etc object to specify the shape and data type of a tensor (or `Shaped` if we don't care about the data type).\n",
        "\n",
        "In its simplest form, this just behaves like a fancier version of a docstring or comment (signalling to you, as well as any readers, what the size of objects should be). But you can also use the `typeguard` library to strictly enforce the type signatures of your inputs and outputs. For instance, consider the following typechecked function:\n"
      ]
    },
    {
      "cell_type": "markdown",
      "metadata": {
        "id": "pMG5k_elCWy6"
      },
      "source": [
        "```python\n",
        "from jaxtyping import Float, Int, Bool, Shaped, jaxtyped\n",
        "import typeguard\n",
        "from torch import Tensor\n",
        "\n",
        "@jaxtyped\n",
        "@typeguard.typechecked\n",
        "def my_concat(x: Float[Tensor, \"a1 b\"], y: Float[Tensor, \"a2 b\"]) -> Float[Tensor, \"a1+a2 b\"]:\n",
        "    return t.concat([x, y], dim=0)\n",
        "\n",
        "x = t.ones(3, 2)\n",
        "y = t.randn(4, 2)\n",
        "z = my_concat(x, y)\n",
        "```\n"
      ]
    },
    {
      "cell_type": "markdown",
      "metadata": {
        "id": "Emd9UEvOCWy6"
      },
      "source": [
        "This cell will run without error, because the tensor `t.concat([x, y], dim=0)` has shape `(3+4, 2) = (7, 2)`, which agrees with the symbolic representation of `(a1 b), (a2 b) -> (a1+a2, b)` in the type signature. But this code will fail if the type signatures are violated in any way, for instance:\n",
        "\n",
        "* `x` or `y` are not 2D tensors\n",
        "* The last dimension of `x` and `y` doesn't match\n",
        "* The output doesn't have shape `(x.shape[0] + y.shape[0], x.shape[1])`\n",
        "* `x`, `y` or the output are of type int rather than type float\n",
        "\n",
        "You can test these out for yourself, by changing the cell above and then re-running it.\n",
        "\n",
        "Jaxtyping has many other useful features, for example:\n",
        "\n",
        "* Generic tensors can be represented with `Float[Tensor, \"...\"]`\n",
        "* Tensors with a single scalar value can be represented with `Float[Tensor, \"\"]`\n",
        "* Fixed dimensions can be represented with numbers, e.g. `Float[Tensor, \"a b 4\"]`\n",
        "* Dimensions can be named *and* fixed, e.g. `x: Float[Tensor, \"b=3\"], y: Float[Tensor, \"b\"]` will raise an error if `x` and `y` don't *both* have shape `(3,)`\n",
        "* You can even use these objects for inline assert statements, e.g. `assert isinstance(x, Float[Tensor, \"3 b\"])` asserts that `x` is a 2D tensor of type float, with first dimension `3`.\n",
        "\n",
        "You can find more features of jaxtyping [here](https://docs.kidger.site/jaxtyping/).\n",
        "\n",
        "Overall, type-checking is a really useful tool to have at your disposal, because it can help you quickly catch bugs in your code (and it helps your code be explicit and readable, both to possible collaborators / pair programming partners, and to your future self!).\n",
        "\n",
        "We won't enforce strict typechecking in general, but you should feel free to use it when you're writing or using functions. (It's usually more useful when you're in the development stage, rather than once you're already confident that a function works correctly and will always receive the correct inputs.)\n"
      ]
    },
    {
      "cell_type": "markdown",
      "metadata": {
        "id": "JF43e2wnCWy6"
      },
      "source": [
        "Exercise - can you rewrite the function `intersect_ray_1d` to use typechecking?\n",
        "\n",
        "<details>\n",
        "<summary>Answer</summary>\n",
        "\n",
        "Your typechecked function might look like:\n",
        "\n",
        "```python\n",
        "@jaxtyped\n",
        "@typeguard.typechecked\n",
        "def intersect_ray_1d(ray: Float[Tensor, \"points=2 dim=3\"], segment: Float[Tensor, \"points=2 dim=3\"]) -> bool:\n",
        "    '''\n",
        "    ray: O, D points\n",
        "    segment: L_1, L_2 points\n",
        "\n",
        "    Return True if the ray intersects the segment.\n",
        "    '''\n",
        "```\n",
        "\n",
        "This is if your solution just returned a boolean. If you left your boolean as a single-element PyTorch tensor, then a return type of `Bool[Tensor, \"\"]` would be appropriate.\n",
        "</details>\n"
      ]
    },
    {
      "cell_type": "markdown",
      "metadata": {
        "id": "DJ42k9np4ysj"
      },
      "source": [
        "## Batched Ray-Segment Intersection\n",
        "\n",
        "Next, implement a batched version that takes multiple rays, multiple line segments, and returns a boolean for each ray indicating whether **any** segment intersects with that ray.\n",
        "\n",
        "Note - in the batched version, we don't want the solver to throw an exception just because some of the equations don't have a solution - these should just return False.\n"
      ]
    },
    {
      "cell_type": "markdown",
      "metadata": {
        "id": "2S42sUag41dI"
      },
      "source": [
        "### Tip - Ellipsis\n",
        "\n",
        "You can use an ellipsis `...` in an indexing expression to avoid repeated `:` and to write indexing expressions that work on varying numbers of input dimensions.\n",
        "\n",
        "For example, `x[..., 0]` is equivalent to `x[:, :, 0]` if `x` is 3D, and equivalent to `x[:, :, :, 0]` if `x` is 4D.\n",
        "\n",
        "### Tip - Elementwise Logical Operations on Tensors\n",
        "\n",
        "For regular booleans, the keywords `and`, `or`, and `not` are used to do logical operations and the operators `&`, `|`, and `~` do and, or and not on each bit of the input numbers. For example `0b10001 | 0b11000` is `0b11001` or 25 in base 10.\n",
        "\n",
        "Tragically, Python doesn't allow classes to overload keywords, so if `x` and `y` are of type `torch.Tensor`, then `x and y` does **not** do the natural thing that you probably expect, which is compute `x[i] and y[i]` elementwise. It actually tries to coerce `x` to a regular boolean, which throws an exception.\n",
        "\n",
        "As a workaround, PyTorch (and NumPy) have chosen to overload the bitwise operators but have them actually mean logical operations, since you usually don't care to do bitwise operations on tensors. So the correct expression would be `x & y` to compute `x[i] and y[i]` elementwise.\n",
        "\n",
        "Another gotcha when it comes to logical operations - **operator precedence**. For instance, `v >= 0 & v <= 1` is actually evaluated as `(v >= (0 & v)) <= 1` (because `&` has high precedence). When in doubt, use parentheses to force the correct parsing: `(v >= 0) & (v <= 1)`.\n",
        "\n",
        "### Tip - `einops`\n",
        "\n",
        "Einops is a useful library which we'll dive deeper with tomorrow. For now, the only important function you'll need to know is `einops.repeat`. This takes as arguments a tensor and a string, and returns a new tensor which has been repeated along the specified dimensions. For example, the following code shows how we can repeat a 2D tensor along the last dimension:\n",
        "\n",
        "```python\n",
        "x = t.randn(2, 3)\n",
        "x_repeated = einops.repeat(x, 'a b -> a b c', c=4)\n",
        "\n",
        "assert x_repeated.shape == (2, 3, 4)\n",
        "for c in range(4):\n",
        "    t.testing.assert_close(x, x_repeated[:, :, c])\n",
        "```\n",
        "\n",
        "*(The function `t.testing.assert_close` checks that two tensors are the same shape, and all elements are the same value, within some very small numerical error.)*\n",
        "\n",
        "### Tip - Logical Reductions\n",
        "\n",
        "In plain Python, if you have a list of lists and want to know if any element in a row is `True`, you could use a list comprehension like `[any(row) for row in rows]`. The efficient way to do this in PyTorch is with `torch.any()` or equivalently the `.any()` method of a tensor, which accept the dimension to reduce over. Similarly, `torch.all()` or `.all()` method. Both of these methods accept a `dim` argument, which is the dimension to reduce over.\n",
        "\n",
        "<details>\n",
        "<summary>Aside - tensor methods</summary>\n",
        "\n",
        "Most functions like `torch.any(tensor, ...)` (which take a tensor as first argument) have an equivalent tensor method `tensor.any(...)`. We'll see many more examples of functions like this as we go through the course.\n",
        "</details>\n",
        "\n",
        "### Tip - Broadcasting\n",
        "\n",
        "Broadcasting is what happens when you perform an operation on two tensors, and one is a smaller size, but is copied along the dimensions of the larger one in order to apply to it. Below is an example (where `B` is copied along the first dimension of `A`):\n",
        "\n",
        "```python\n",
        "A = t.randn(2, 3)\n",
        "B = t.randn(3)\n",
        "AplusB = A + B\n",
        "\n",
        "assert AplusB.shape == (2, 3)\n",
        "for i in range(2):\n",
        "    t.testing.assert_close(AplusB[i], A[i] + B)\n",
        "```\n",
        "\n",
        "Broadcasting sematics are a bit messy, and we'll go into it in more detail later in the course. If you want to get a full picture of it then click on the dropdown below, but for now here's the important thing to know - *dimensions get appended to the **start** of the smaller tensor `B`, and it is copied along those dimensions until its shape matches the larger tensor `A`*.\n",
        "\n",
        "<details>\n",
        "<summary>Aside - details of broadcasting</summary>\n",
        "\n",
        "If you try to broadcast tensors `A` and `B`, then the following happens:\n",
        "\n",
        "* The tensor with fewer dimensions is padded with dimensions of size one on the left.\n",
        "* Once the tensors have the same number of dimensions, they are checked for compatibility.\n",
        "    * Two dimensions are compatible if they are equal, or if one of them is one (in the latter case, we repeat the size-1 tensor along that dimension until it's the same size as the larger one).\n",
        "    * If they are not compatible, then broadcasting is not allowed.\n",
        "\n",
        "For instance, in the example above, first `B` is left-padded to shape `(1, 3)`, then it is copied along the first dimension to shape `(2, 3)`, when it can be added to `A`.\n",
        "\n",
        "On the other hand, if `B` had shape `(2,)` then broadcasting would fail, because dimensions can't be added to the right of a tensor.\n",
        "</details>\n"
      ]
    },
    {
      "cell_type": "markdown",
      "metadata": {
        "id": "11HpHsjq45BE"
      },
      "source": [
        "### Summary of all these tips\n",
        "\n",
        "> * Use `...` to avoid repeated `:` in indexing expressions.\n",
        "> * Use `&`, `|`, and `~` for elementwise logical operations on tensors.\n",
        "> * Use parentheses to force the correct operator precedence.\n",
        "> * Use `torch.any()` or `.any()` to do logical reductions (you can do this over a single dimension, with the `dim` argument).\n",
        "> * If you're trying to broadcast tensors `A` and `B` (where `B` has fewer dimensions), this will work if the shape of `B` matches the ***last*** dimensions of `A` (in this case, `B` will get copied along the earlier dimensions of `A`).\n"
      ]
    },
    {
      "cell_type": "markdown",
      "metadata": {
        "id": "ZD5JSZI249TK"
      },
      "source": [
        "### Exercise - implement `intersect_rays_1d`\n",
        "\n",
        "```yaml\n",
        "Difficulty: 🔴🔴🔴🔴⚪\n",
        "Importance: 🔵🔵🔵🔵⚪\n",
        "\n",
        "You should spend up to 25-30 minutes on this exercise.\n",
        "\n",
        "It will be one of the most difficult today; certainly it has the biggest step in difficulty.\n",
        "```\n",
        "\n",
        "With all these tips in mind, now you should implement `intersect_rays_1d`, the batched version of `intersect_ray_1d` (which returns True for each ray, if it intersects *any* segment).\n"
      ]
    },
    {
      "cell_type": "code",
      "execution_count": null,
      "metadata": {
        "id": "x63U8agw4ma5"
      },
      "outputs": [],
      "source": [
        "def intersect_rays_1d(rays: Float[Tensor, \"nrays 2 3\"], segments: Float[Tensor, \"nsegments 2 3\"]) -> Bool[Tensor, \"nrays\"]:\n",
        "    '''\n",
        "    For each ray, return True if it intersects any segment.\n",
        "    '''\n",
        "    pass\n",
        "\n",
        "tests.test_intersect_rays_1d(intersect_rays_1d)\n",
        "tests.test_intersect_rays_1d_special_case(intersect_rays_1d)"
      ]
    },
    {
      "cell_type": "markdown",
      "metadata": {
        "id": "GB0VIrdi5BCB"
      },
      "source": [
        "<details>\n",
        "<summary>Help - I'm not sure how to implment this function without a for loop.</summary>\n",
        "\n",
        "Initially, `rays.shape == (NR, 2, 3)` and `segments.shape == (NS, 2, 3)`. Try performing `einops.repeat` on them, so both their shapes are `(NR, NS, 2, 3)`. Then you can formulate and solve the batched system of matrix equations.\n",
        "</details>\n",
        "\n",
        "<details>\n",
        "<summary>Help - I'm not sure how to deal with the cases of zero determinant.</summary>\n",
        "\n",
        "You can use `t.linalg.det` to compute the determinant of a matrix, or batch of matrices *(gotcha: the determinant won't be exactly zero, but you can check that it's very close to zero, e.g. `det.abs() < 1e-6`)*. This will give you a boolean mask for which matrices are singular.\n",
        "\n",
        "You can set all singular matrices to the identity (this avoids errors), and then at the very end you can use your boolean mask again to set the intersection to `False` for the singular matrices.\n",
        "</details>\n",
        "\n",
        "<details>\n",
        "<summary>Help - I'm still stuck on the zero determinant cases.</summary>\n",
        "\n",
        "After formulating the matrix equation, you should have a batch of matrices of shape `(NR, NS, 2, 2)`, i.e. `mat[i, j, :, :]` is a matrix which looks like:\n",
        "\n",
        "$$\n",
        "\\begin{pmatrix} D_x & (L_1 - L_2)_x \\\\ D_y & (L_1 - L_2)_y \\\\ \\end{pmatrix}\n",
        "$$\n",
        "\n",
        "Calling `t.linalg.det(mat)` will return an array of shape `(NR, NS)` containing the determinants of each matrix. You can use this to construct a mask for the singular matrices *(gotcha: the determinant won't be exactly zero, but you can check that it's very close to zero, e.g. `det.abs() < 1e-6`)*.\n",
        "\n",
        "Indexing `mat` by this mask will return an array of shape `(x, 2, 2)`, where the zeroth axis indexes the singular matrices. As we discussed in the broadcasting section earlier, this means we can use broadcasting to set all these singular matrices to the identity:\n",
        "\n",
        "```python\n",
        "mat[is_singular] = t.eye(2)\n",
        "```\n",
        "</details>"
      ]
    },
    {
      "cell_type": "markdown",
      "metadata": {
        "id": "yBwXRjaZCWy9"
      },
      "source": [
        "## Using GPT to understand code\n"
      ]
    },
    {
      "cell_type": "markdown",
      "metadata": {
        "id": "lzEIR03xCWy9"
      },
      "source": [
        "Next week we'll start learning about transformers and how to build them, but it's not too early to start using them to accelerate your own learning!\n",
        "\n",
        "We'll be discussing more advanced ways to use GPT 3 and 4 as coding partners / research assistants in the coming weeks, but for now we'll look at a simple example: **using GPT to understand code**. You're recommended to read the recent [LessWrong post](https://www.lesswrong.com/posts/ptY6X3BdW4kgqpZFo/using-gpt-4-to-understand-code) by Siddharth Hiregowdara in which he explains his process. This works best on GPT-4, but I've found GPT-3.5 works equally well for reasonably straightforward problems (see the section below).\n",
        "\n",
        "Firstly, you should get an account to use GPT with if you haven't already. Next, try asking GPT-3.5 / 4 for an explanation of the function above. You can do this e.g. via the following prompt:\n",
        "\n",
        "```\n",
        "Explain this Python function, line by line. You should break up your explanation by inserting sections of the code.\n",
        "\n",
        "def intersect_rays_1d(rays: Float[Tensor, \"nrays 2 3\"], segments: Float[Tensor, \"nsegments 2 3\"]) -> Bool[Tensor, \"nrays\"]:\n",
        "    NR = rays.size(0)\n",
        "    NS = segments.size(0)\n",
        "    rays = rays[..., :2]\n",
        "    ...\n",
        "```\n",
        "\n",
        "I've found removing comments is often more helpful, because then GPT will answer in its own words rather than just repeating the comments (and the comments can sometimes confuse it).\n",
        "\n",
        "Once you've got a response, here are a few more things you might want to consider asking:\n",
        "\n",
        "* Can you suggest ways to improve the code?\n",
        "    * GPT-4 recommended using a longer docstring and more descriptive variable names, among other things.\n",
        "* Can you explain why the line `mat[is_singular] = t.eye(2)` works?\n",
        "    * GPT-4 gave me a correct and very detailed explanation involving broadcasting and tensor shapes.\n",
        "\n",
        "Is using GPT in this way cheating? It can be, if your first instinct is to jump to GPT rather than trying to understand the code yourself. But it's important here to bring up the distinction of [playing in easy mode](https://www.lesswrong.com/posts/nJPtHHq6L7MAMBvRK/play-in-easy-mode) vs [playing in hard mode](https://www.lesswrong.com/posts/7hLWZf6kFkduecH2g/play-in-hard-mode). There are situations where it's valuable for you to think about a problem for a while before moving forward because that deliberation will directly lead to you becoming a better researcher or engineer (e.g. when you're thinking of a hypothesis for how a circuit works while doing mechanistic interpretability on a transformer, or you're pondering which datastructure best fits your use case while implementing some RL algorithm). But there are also situations (like this one) where you'll get more value from speedrunning towards an understanding of certain code or concepts, and apply your understanding in subsequent exercises. It's important to find a balance!\n",
        "\n",
        "#### When to use GPT-3.5 and GPT-4\n",
        "\n",
        "GPT-3.5 and 4 both have advantages and disadvantages in different situations. GPT-3.5 has a large advantage in speed over GPT-4, and works equally well on simple problems or functions. If it's anything that Copilot is capable of writing, then you're likely better off using it instead of GPT-4.\n",
        "\n",
        "On the other hand, GPT-4 has an advantage at generating coherent code (although we don't expect you to be using it for code generation much at this stage in the program), and is generally better at responding to complex tasks with less prompt engineering.\n",
        "\n",
        "#### Additional notes on using GPT (from Joseph Bloom)\n",
        "\n",
        "* ChatGPT is overly friendly. If you give it bad code it won't tell you it's shit so you need to encourage it to give feedback and/or show you examples of great code. Especially for beginner coders using it, it's important to realise how *under* critical it is.\n",
        "* GPT is great at writing tests (asking it to write a test for a function is often better than asking it if a function is correct), refactoring code (identifying repeated tasks and extracting them) and naming variables well. These are specific things worth doing a few times to see how useful they can be.\n",
        "* GPT-4 does well with whole modules/scripts so don't hesitate to add those. When you start managing repos on GitHub, use tracked files so that when you copy-paste edited code back, all the changes are highlighted for you as if you'd made them. (VSCode highlights changes with small blue bars next to the line numbers in your python files.)\n",
        "\n",
        "Here are some things you can play around with:\n",
        "\n",
        "* Ask GPT it to write tests for the function. You can give more specific instructions (e.g. asking it to use / not to use the `unittests` library, or to print more informative error messages).\n",
        "* Ask GPT how to refactor the function above. (When I did this, it suggested splitting the function up into subfunctions which performed the discrete tasks of \"compute intersection points\")\n"
      ]
    },
    {
      "cell_type": "markdown",
      "metadata": {
        "id": "rGtZ8hQv5R4q"
      },
      "source": [
        "## 2D Rays\n",
        "\n",
        "Now we're going to make use of the z dimension and have rays emitted from the origin in both y and z dimensions.\n"
      ]
    },
    {
      "cell_type": "markdown",
      "metadata": {
        "id": "NX4At5HX5aQC"
      },
      "source": [
        "### Exercise - implement `make_rays_2d`\n",
        "\n",
        "```yaml\n",
        "Difficulty: 🔴🔴🔴⚪⚪\n",
        "Importance: 🔵🔵⚪⚪⚪\n",
        "\n",
        "You should spend up to 10-15 minutes on this exercise.\n",
        "```\n",
        "\n",
        "Implement `make_rays_2d` analogously to `make_rays_1d`. The result should look like a pyramid with the tip at the origin.\n"
      ]
    },
    {
      "cell_type": "code",
      "execution_count": null,
      "metadata": {
        "id": "pi2tdfpn5XhQ"
      },
      "outputs": [],
      "source": [
        "def make_rays_2d(num_pixels_y: int, num_pixels_z: int, y_limit: float, z_limit: float) -> Float[t.Tensor, \"nrays 2 3\"]:\n",
        "    '''\n",
        "    num_pixels_y: The number of pixels in the y dimension\n",
        "    num_pixels_z: The number of pixels in the z dimension\n",
        "\n",
        "    y_limit: At x=1, the rays should extend from -y_limit to +y_limit, inclusive of both.\n",
        "    z_limit: At x=1, the rays should extend from -z_limit to +z_limit, inclusive of both.\n",
        "\n",
        "    Returns: shape (num_rays=num_pixels_y * num_pixels_z, num_points=2, num_dims=3).\n",
        "    '''\n",
        "    pass\n",
        "\n",
        "rays_2d = make_rays_2d(10, 10, 0.3, 0.3)\n",
        "render_lines_with_plotly(rays_2d)"
      ]
    },
    {
      "cell_type": "markdown",
      "metadata": {
        "id": "3H9pKA7z5VB8"
      },
      "source": [
        "<details>\n",
        "<summary>Help - I'm not sure how to implement this function.</summary>\n",
        "\n",
        "Don't write it as a function right away. The most efficient way is to write and test each line individually in the REPL to verify it does what you expect before proceeding.\n",
        "\n",
        "You can either build up the output tensor using `torch.stack`, or you can initialize the output tensor to its final size and then assign to slices like `rays[:, 1, 1] = ...`. It's good practice to be able to do it both ways.\n",
        "\n",
        "Each y coordinate needs a ray with each corresponding z coordinate - in other words this is an outer product. The most elegant way to do this is with two calls to `einops.repeat`. You can also accomplish this with `unsqueeze`, `expand`, and `reshape` combined.\n",
        "</details>"
      ]
    },
    {
      "cell_type": "markdown",
      "metadata": {
        "id": "qEnX8SPX5l8J"
      },
      "source": [
        "## Triangle Coordinates\n",
        "\n",
        "The area inside a triangle can be defined by three (non-collinear) points $A$, $B$ and $C$, and can be written algebraically as a **convex combination** of those three points:\n",
        "\n",
        "$$\n",
        "\\begin{align*}\n",
        "P(w, u, v) &= wA + uB + vC \\quad\\quad \\\\\n",
        "    \\\\\n",
        "s.t. \\quad 0 &\\leq w,u,v \\\\\n",
        "1 &= w + u + v\n",
        "\\end{align*}\n",
        "$$\n",
        "\n",
        "Or equivalently:\n",
        "\n",
        "$$\n",
        "\\begin{align*}\n",
        "\\quad\\quad\\quad\\quad P(u, v) &= (1 - u - v)A + uB + vC \\\\\n",
        "&= A + u(B - A) + v(C - A) \\\\\n",
        "\\\\\n",
        "s.t. \\quad 0 &\\leq u,v \\\\\n",
        "u + v &\\leq 1\n",
        "\\end{align*}\n",
        "$$\n",
        "\n",
        "These $u, v$ are called \"barycentric coordinates\".\n",
        "\n",
        "If we remove the bounds on $u$ and $v$, we get an equation for the plane containing the triangle. Play with the widget to understand the behavior of $u, v$.\n"
      ]
    },
    {
      "cell_type": "code",
      "execution_count": null,
      "metadata": {
        "id": "Mr7qmCqb5mk0"
      },
      "outputs": [],
      "source": [
        "one_triangle = t.tensor([[0, 0, 0], [3, 0.5, 0], [2, 3, 0]])\n",
        "A, B, C = one_triangle\n",
        "x, y, z = one_triangle.T\n",
        "\n",
        "fig = setup_widget_fig_triangle(x, y, z)\n",
        "\n",
        "@interact(u=(-0.5, 1.5, 0.01), v=(-0.5, 1.5, 0.01))\n",
        "def response(u=0.0, v=0.0):\n",
        "    P = A + u * (B - A) + v * (C - A)\n",
        "    fig.data[2].update({\"x\": [P[0]], \"y\": [P[1]]})\n",
        "\n",
        "display(fig)"
      ]
    },
    {
      "cell_type": "markdown",
      "metadata": {
        "id": "7TAa9_oA5q1X"
      },
      "source": [
        "### Triangle-Ray Intersection\n",
        "\n",
        "Given a ray with origin $O$ and direction $D$, our intersection algorithm will consist of two steps:\n",
        "\n",
        "- Finding the intersection between the line and the plane containing the triangle, by solving the equation $P(u, v) = P(s)$;\n",
        "- Checking if $u$ and $v$ are within the bounds of the triangle.\n",
        "\n",
        "Expanding the equation $P(u, v) = P(s)$, we have:\n",
        "\n",
        "$$\n",
        "\\begin{align*}\n",
        "A + u(B - A) + v(C - A) &= O + sD \\\\\n",
        "\\Rightarrow\n",
        "\\begin{pmatrix}\n",
        "    -D & (B - A) & (C - A) \\\\\n",
        "\\end{pmatrix}\n",
        "\\begin{pmatrix}\n",
        "    s \\\\\n",
        "    u \\\\\n",
        "    v  \n",
        "\\end{pmatrix}\n",
        "&= \\begin{pmatrix} O - A \\end{pmatrix} \\\\\n",
        "\\Rightarrow \\begin{pmatrix}\n",
        "    -D_x & (B - A)_x & (C - A)_x \\\\\n",
        "    -D_y & (B - A)_y & (C - A)_y \\\\\n",
        "    -D_z & (B - A)_z & (C - A)_z \\\\\n",
        "\\end{pmatrix}\n",
        "\\begin{pmatrix}\n",
        "    s \\\\\n",
        "    u \\\\\n",
        "    v  \n",
        "\\end{pmatrix} &= \\begin{pmatrix}\n",
        "    (O - A)_x \\\\\n",
        "    (O - A)_y \\\\\n",
        "    (O - A)_z \\\\\n",
        "\\end{pmatrix}\n",
        "\\end{align*}\n",
        "$$\n",
        "\n",
        "$$\n",
        "$$\n",
        "\n",
        "We can therefore find the coordinates `s`, `u`, `v` of the intersection point by solving the linear system above.\n"
      ]
    },
    {
      "cell_type": "markdown",
      "metadata": {
        "id": "T60GH0jg5s-1"
      },
      "source": [
        "### Exercise - implement `triangle_ray_intersects`\n",
        "\n",
        "```yaml\n",
        "Difficulty: 🔴🔴🔴⚪⚪\n",
        "Importance: 🔵🔵🔵⚪⚪\n",
        "\n",
        "You should spend up to 15-20 minutes on this exercise.\n",
        "```\n",
        "\n",
        "Using `torch.linalg.solve` and `torch.stack`, implement `triangle_ray_intersects(A, B, C, O, D)`.\n",
        "\n",
        "A few tips:\n",
        "\n",
        "* If you have a 0-dimensional tensor with shape `()` containing a single value, use the `item()` method to convert it to a plain Python value.\n",
        "* If you have a tensor of shape `tensor.shape = (3, ...)`, then you can unpack it along the first dimension into three separate tensors the same way that you'd unpack a normal python list: `s, u, v = tensor`.\n",
        "    * Note - if the dimension you want to unpack isn't at the start, a nice alternative is `s, u, v = tensor.unbind(dim)`, which does the same thing but along the dimension given by `dim` rather than the first dimension.\n",
        "* If your function isn't working, try making a simple ray and triangle with nice round numbers where you can work out manually if it should intersect or not, then debug from there.\n"
      ]
    },
    {
      "cell_type": "code",
      "execution_count": null,
      "metadata": {
        "id": "UJM0sTPE5vBV"
      },
      "outputs": [],
      "source": [
        "Point = Float[Tensor, \"points=3\"]\n",
        "\n",
        "def triangle_ray_intersects(A: Point, B: Point, C: Point, O: Point, D: Point) -> bool:\n",
        "    '''\n",
        "    A: shape (3,), one vertex of the triangle\n",
        "    B: shape (3,), second vertex of the triangle\n",
        "    C: shape (3,), third vertex of the triangle\n",
        "    O: shape (3,), origin point\n",
        "    D: shape (3,), direction point\n",
        "\n",
        "    Return True if the ray and the triangle intersect.\n",
        "    '''\n",
        "    pass\n",
        "\n",
        "tests.test_triangle_ray_intersects(triangle_ray_intersects)"
      ]
    },
    {
      "cell_type": "markdown",
      "metadata": {
        "id": "J5CDa-qX52Mk"
      },
      "source": [
        "## Single-Triangle Rendering\n",
        "\n",
        "Implement `raytrace_triangle` using only one call to `torch.linalg.solve`.\n",
        "\n",
        "Reshape the output and visualize with `plt.imshow`. It's normal for the edges to look pixelated and jagged - using a small number of pixels is a good way to debug quickly.\n",
        "\n",
        "If you think it's working, increase the number of pixels and verify that it looks less pixelated at higher resolution.\n"
      ]
    },
    {
      "cell_type": "markdown",
      "metadata": {
        "id": "6_0o5Vng53-E"
      },
      "source": [
        "### Views and Copies\n",
        "\n",
        "It's critical to know when you are making a copy of a `Tensor`, versus making a view of it that shares the data with the original tensor. It's preferable to use a view whenever possible to avoid copying memory unnecessarily. On the other hand, modifying a view modifies the original tensor which can be unintended and surprising. Consult [the documentation](https://pytorch.org/docs/stable/tensor_view.html) if you're unsure if a function returns a view. A short reference of common functions:\n",
        "\n",
        "- `torch.expand`: always returns a view\n",
        "- `torch.view`: always returns a view\n",
        "- `torch.detach`: always returns a view\n",
        "- `torch.repeat`: always copies\n",
        "- `torch.clone`: always copies\n",
        "- `torch.flip`: always copies (different than numpy.flip which returns a view)\n",
        "- `torch.tensor`: always copies, but PyTorch recommends using `.clone().detach()` instead.\n",
        "- `torch.Tensor.contiguous`: returns self if possible, otherwise a copy\n",
        "- `torch.transpose`: returns a view if possible, otherwise (sparse tensor) a copy\n",
        "- `torch.reshape`: returns a view if possible, otherwise a copy\n",
        "- `torch.flatten`: returns a view if possible, otherwise a copy (different than numpy.flatten which returns a copy)\n",
        "- `einops.repeat`: returns a view if possible, otherwise a copy\n",
        "- `einops.rearrange`: returns a view if possible, otherwise a copy\n",
        "- Basic indexing returns a view, while advanced indexing returns a copy.\n"
      ]
    },
    {
      "cell_type": "markdown",
      "metadata": {
        "id": "XDm8vbGA55UP"
      },
      "source": [
        "### Storage Objects\n",
        "\n",
        "Calling `storage()` on a `Tensor` returns a Python object wrapping the underlying C++ array. This array is 1D regardless of the dimensionality of the `Tensor`. This allows you to look inside the `Tensor` abstraction and see how the actual data is laid out in RAM.\n",
        "\n",
        "Note that a new Python wrapper object is generated each time you call `storage()`, and both `x.storage() == x.storage()` and `x.storage() is x.storage()` evaluates to False.\n",
        "\n",
        "If you want to check if two `Tensor`s share an underlying C++ array, you can compare their `storage().data_ptr()` fields. This can be useful for debugging.\n"
      ]
    },
    {
      "cell_type": "markdown",
      "metadata": {
        "id": "TpsV-Jh756S7"
      },
      "source": [
        "### `Tensor._base`\n",
        "\n",
        "If `x` is a view, you can access the original `Tensor` with `x._base`. This is an undocumented internal feature that's useful to know. Consider the following code:\n",
        "\n",
        "```python\n",
        "x = t.zeros(1024*1024*1024)\n",
        "y = x[0]\n",
        "del x\n",
        "```\n",
        "\n",
        "Here, `y` was created through basic indexing, so `y` is a view and `y._base` refers to `x`. This means `del x` won't actually deallocate the 4GB of memory, and that memory will remain in use which can be quite surprising. `y = x[0].clone()` would be an alternative here that does allow reclaiming the memory.\n"
      ]
    },
    {
      "cell_type": "markdown",
      "metadata": {
        "id": "nJr4dMtl57qb"
      },
      "source": [
        "### Exercise - implement `raytrace_triangle`\n",
        "\n",
        "```yaml\n",
        "Difficulty: 🔴🔴🔴🔴⚪\n",
        "Importance: 🔵🔵🔵🔵⚪\n",
        "\n",
        "You should spend up to 15-20 minutes on this exercise.\n",
        "\n",
        "This is about as hard as `intersect_rays_1d`, although hopefully you should find it more familiar.\n",
        "```\n",
        "\n",
        "Below, you should implement `raytrace_triangle`, a funtion which checks whether each ray in `ray` intersects a single given triangle.\n"
      ]
    },
    {
      "cell_type": "code",
      "execution_count": null,
      "metadata": {
        "id": "jrEuOXdd58cQ"
      },
      "outputs": [],
      "source": [
        "def raytrace_triangle(\n",
        "    rays: Float[Tensor, \"nrays rayPoints=2 dims=3\"],\n",
        "    triangle: Float[Tensor, \"trianglePoints=3 dims=3\"]\n",
        ") -> Bool[Tensor, \"nrays\"]:\n",
        "    '''\n",
        "    For each ray, return True if the triangle intersects that ray.\n",
        "    '''\n",
        "    pass\n",
        "\n",
        "A = t.tensor([1, 0.0, -0.5])\n",
        "B = t.tensor([1, -0.5, 0.0])\n",
        "C = t.tensor([1, 0.5, 0.5])\n",
        "num_pixels_y = num_pixels_z = 15\n",
        "y_limit = z_limit = 0.5\n",
        "\n",
        "# Plot triangle & rays\n",
        "test_triangle = t.stack([A, B, C], dim=0)\n",
        "rays2d = make_rays_2d(num_pixels_y, num_pixels_z, y_limit, z_limit)\n",
        "triangle_lines = t.stack([A, B, C, A, B, C], dim=0).reshape(-1, 2, 3)\n",
        "render_lines_with_plotly(rays2d, triangle_lines)\n",
        "\n",
        "# Calculate and display intersections\n",
        "intersects = raytrace_triangle(rays2d, test_triangle)\n",
        "img = intersects.reshape(num_pixels_y, num_pixels_z).int()\n",
        "imshow(img, origin=\"lower\", width=600, title=\"Triangle (as intersected by rays)\")"
      ]
    },
    {
      "cell_type": "markdown",
      "metadata": {
        "id": "WxGbZSC7CWzA"
      },
      "source": [
        "## Debugging\n"
      ]
    },
    {
      "cell_type": "markdown",
      "metadata": {
        "id": "mTQuM0FxCWzA"
      },
      "source": [
        "Debugging code is an extremely important thing to learn. Just like using GPT to assist your coding, it's something that can significantly speedrun your development, and stop you getting hung up on all the frustrating things!\n",
        "\n",
        "To give you practice debugging using VSCode's built-in debugger\\*, we've provided an example function below. This is an implementation of `raytrace_triangle` which has a few mistakes in it. Your task is to use the debugger to find the mistake and fix it. (Note - you're encouraged to actually use the debugger, rather than comparing it to the solution above!)\n"
      ]
    },
    {
      "cell_type": "code",
      "execution_count": null,
      "metadata": {
        "id": "cexhisYEb7Az"
      },
      "outputs": [],
      "source": [
        "# Incorrect function:\n",
        "\n",
        "def raytrace_triangle_with_bug(\n",
        "    rays: Float[Tensor, \"nrays rayPoints=2 dims=3\"],\n",
        "    triangle: Float[Tensor, \"trianglePoints=3 dims=3\"]\n",
        ") -> Bool[Tensor, \"nrays\"]:\n",
        "    '''\n",
        "    For each ray, return True if the triangle intersects that ray.\n",
        "    '''\n",
        "    NR = rays.size[0]\n",
        "\n",
        "    A, B, C = einops.repeat(triangle, \"pts dims -> pts NR dims\", NR=NR)\n",
        "\n",
        "    O, D = rays.unbind(-1)\n",
        "\n",
        "    mat = t.stack([- D, B - A, C - A])\n",
        "\n",
        "    dets = t.linalg.det(mat)\n",
        "    is_singular = dets.abs() < 1e-8\n",
        "    mat[is_singular] = t.eye(3)\n",
        "\n",
        "    vec = O - A\n",
        "\n",
        "    sol = t.linalg.solve(mat, vec)\n",
        "    s, u, v = sol.unbind(dim=-1)\n",
        "\n",
        "    return ((u >= 0) & (v >= 0) & (u + v <= 1) & ~is_singular)\n",
        "\n",
        "\n",
        "intersects = raytrace_triangle_with_bug(rays2d, test_triangle)\n",
        "img = intersects.reshape(num_pixels_y, num_pixels_z).int()\n",
        "imshow(img, origin=\"lower\", width=600, title=\"Triangle (as intersected by rays)\")"
      ]
    },
    {
      "cell_type": "markdown",
      "metadata": {
        "id": "ZvpUmBXWCWzB"
      },
      "source": [
        "\n",
        "You can debug a cell by clicking on the **Debug cell** option at the bottom of your cell. Your cell should contain the code that is actually run to cause an error (rather than needing to contain the function which is the source of the error). Before you run your debugger, you can set breakpoints by clicking on the left-hand side of the line number (a red dot will appear). You can then step through your code, using the toolbar of buttons which will appear when you run the debugger (see [here](https://pawelgrzybek.com/continue-step-over-step-into-and-step-out-actions-in-visual-studio-code-debugger-explained/) for an explanation of what each of the buttons does). When you reach a breakpoint, you can use the following tools:\n",
        "\n",
        "* Inspect local and global variables, in the **VARIABLES** window that appears on the left sidebar.\n",
        "* Add variables expressions to watch, in the **WATCH** window that appears on the left sidebar.\n",
        "    * You can just type in any expression here, e.g. the type of a variable or the length of a list, and this will update as you step through the function.\n",
        "* Evaluate expressions on a one-time basis, by typing them into the **DEBUG CONSOLE** (which appears at the bottom of the screen)\n",
        "\n",
        "Note, when you run the debugger, it will stop *before* the breakpoint line is evaluated. So if you've run a cell and got an error on a specific line, then *that* is the line you want to set a breakpoint on.\n",
        "\n",
        "*This all works basically the same if you're in a notebook in VSCode, except for a few changes e.g. the debug button is on the dropdown at the top-left of the cell (if it doesn't appear for you then you'll need to go into user settings and add the line `\"notebook.consolidatedRunButton\": true`).*\n",
        "\n",
        "There's much more detail we could go into about debugging, but this will suffice for most purposes. It's generally a much more efficient way of debugging than using print statements or asserts (although these can also be helpful in some situations).\n"
      ]
    },
    {
      "cell_type": "markdown",
      "metadata": {
        "id": "zXg6vmcTCWzB"
      },
      "source": [
        "<details>\n",
        "<summary>Answer - what are the bugs, and how can they be fixed?</summary>\n",
        "\n",
        "```python\n",
        "NR = rays.size[0]\n",
        "```\n",
        "\n",
        "This should be `rays.size(0)` (or equivalently, `rays.shape[0]`). `size` is a method which takes an int and returns the size of that dimension; `shape` returns a `torch.Size` object which can be indexed into.\n",
        "\n",
        "This would have been pretty easy to realise without using the debugger, because the error message is informative.\n",
        "\n",
        "```python\n",
        "O, D = rays.unbind(-1)\n",
        "```\n",
        "\n",
        "We're unbinding from the wrong dimension. `rays` has shape `(nrays, points=2, dims=3)`, and we actually want to unbind along the `points` dimension. So we should use `rays.unbind(1)`.\n",
        "\n",
        "We could have found this by inspecting the `rays` object in the variables pane (you can click on the dropdown next to the variable name to look at its attributes, including `shape`), or you could just type `rays.shape` into the debug console. However, this error should also have been apparent given the type signature of the function (a good case for using typing!).\n",
        "\n",
        "```python\n",
        "mat = t.stack([- D, B - A, C - A])\n",
        "```\n",
        "\n",
        "This should have had the argument `dim=-1` on the end, because `torch.stack` by default stacks along the first dimension.\n",
        "\n",
        "This error is a bit harder to diagnose, because the line causing an error is after the line containing the mistake. Again, we could have diagnosed this with the debugger by inspecting the shape of our `mat` tensor in the variables pane.\n",
        "\n",
        "---\n",
        "\n",
        "These were all relatively easy bugs to diagnose (not all bugs will present as actual errors in your code, some might just be an unexpected set of results). But hopefully this has given you a sense for how to use the debugger. It's a very powerful tool, and can save you a lot of time!\n",
        "</details>\n"
      ]
    },
    {
      "cell_type": "markdown",
      "metadata": {
        "id": "By3naQA8CWzB"
      },
      "source": [
        "\\**If you're using Colab, you'll have to use different strategies for debugging. See [this page](https://zohaib.me/debugging-in-google-collab-notebook/) for one suggested approach.*\n"
      ]
    },
    {
      "cell_type": "markdown",
      "metadata": {
        "id": "FX1xycai6C-h"
      },
      "source": [
        "## Mesh Loading\n",
        "\n",
        "Use the given code to load the triangles for your Pikachu. By convention, files written with `torch.save` end in the `.pt` extension, but these are actually just zip files.\n"
      ]
    },
    {
      "cell_type": "code",
      "execution_count": null,
      "metadata": {
        "id": "INvLcPV_6Ifa"
      },
      "outputs": [],
      "source": [
        "with open(section_dir / \"pikachu.pt\", \"rb\") as f:\n",
        "    triangles = t.load(f)"
      ]
    },
    {
      "cell_type": "markdown",
      "metadata": {
        "id": "z6PUzY6V6GDJ"
      },
      "source": [
        "## Mesh Rendering\n",
        "\n",
        "For our purposes, a mesh is just a group of triangles, so to render it we'll intersect all rays and all triangles at once. We previously just returned a boolean for whether a given ray intersects the triangle, but now it's possible that more than one triangle intersects a given ray.\n",
        "\n",
        "For each ray (pixel) we will return a float representing the minimum distance to a triangle if applicable, otherwise the special value `float('inf')` representing infinity. We won't return which triangle was intersected for now.\n"
      ]
    },
    {
      "cell_type": "markdown",
      "metadata": {
        "id": "aluQML9z6xcz"
      },
      "source": [
        "### Exercise - implement `raytrace_mesh`\n",
        "\n",
        "```yaml\n",
        "Difficulty: 🔴🔴🔴⚪⚪\n",
        "Importance: 🔵🔵🔵🔵⚪\n",
        "\n",
        "You should spend up to 20-25 minutes on this exercise.\n",
        "\n",
        "This is the main function we've been building towards, and marks the end of the core exercises. If should involve a lot of repurposed code from the last excercise.\n",
        "```\n",
        "\n",
        "Implement `raytrace_mesh` and as before, reshape and visualize the output. Your Pikachu is centered on (0, 0, 0), so you'll want to slide the ray origin back to at least `x=-2` to see it properly.\n",
        "\n",
        "Reminder - `t.linalg.solve` (and most batched operations) can accept multiple dimensions as being batch dims. Previously, you've just used `NR` (the number of rays) as the batch dimension, but you can also use `(NR, NT)` (the number of rays and triangles) as your batch dimensions, so you can solve for all rays and triangles at once.\n",
        "\n",
        "Note - by distance to a triangle, we specifically mean **distance along the x-dimension**, not Euclidean distance."
      ]
    },
    {
      "cell_type": "code",
      "execution_count": null,
      "metadata": {
        "id": "zJt_9gWH61Tb"
      },
      "outputs": [],
      "source": [
        "def raytrace_mesh(\n",
        "    rays: Float[Tensor, \"nrays rayPoints=2 dims=3\"],\n",
        "    triangles: Float[Tensor, \"ntriangles trianglePoints=3 dims=3\"]\n",
        ") -> Float[Tensor, \"nrays\"]:\n",
        "    '''\n",
        "    For each ray, return the distance to the closest intersecting triangle, or infinity.\n",
        "    '''\n",
        "    pass\n",
        "\n",
        "num_pixels_y = 120\n",
        "num_pixels_z = 120\n",
        "y_limit = z_limit = 1\n",
        "\n",
        "rays = make_rays_2d(num_pixels_y, num_pixels_z, y_limit, z_limit)\n",
        "rays[:, 0] = t.tensor([-2, 0.0, 0.0])\n",
        "dists = raytrace_mesh(rays, triangles)\n",
        "intersects = t.isfinite(dists).view(num_pixels_y, num_pixels_z)\n",
        "dists_square = dists.view(num_pixels_y, num_pixels_z)\n",
        "img = t.stack([intersects, dists_square], dim=0)\n",
        "\n",
        "fig = px.imshow(img, facet_col=0, origin=\"lower\", color_continuous_scale=\"magma\", width=1000)\n",
        "fig.update_layout(coloraxis_showscale=False)\n",
        "for i, text in enumerate([\"Intersects\", \"Distance\"]):\n",
        "    fig.layout.annotations[i]['text'] = text\n",
        "fig.show()"
      ]
    },
    {
      "cell_type": "markdown",
      "metadata": {
        "id": "nUjytPB34Hag"
      },
      "source": [
        "Congratulations, you've now got to the end of the exercises! Read on for some more bonus material."
      ]
    },
    {
      "cell_type": "markdown",
      "metadata": {
        "id": "dASlCgACCI3q"
      },
      "source": [
        "## Bonus - more raytracing"
      ]
    },
    {
      "cell_type": "markdown",
      "metadata": {
        "id": "cOZ5dOyN4zuI"
      },
      "source": [
        "\n",
        "\n",
        "Here are a few bonus exercises for you to do with your time.\n",
        "\n",
        "- Vectorize further to make a video.\n",
        "    - Each frame will have its own rays coming from a slightly different position.\n",
        "    - Pan the camera around for some dramatic footage.\n",
        "    - One way to do it is using the `mediapy` library to render the video.\n",
        "- Try rendering on the GPU and see if you can make it faster.\n",
        "- Allow each triangle to have a corresponding RGB color value and render a colored image.\n",
        "- Use multiple rays per pixel and combine them somehow to have smoother edges.\n",
        "\n",
        "Since this is a very difficult exercise, it would be a great opportunity for you to wheel out GPT-4 and use it to generate code!\n",
        "\n",
        "We've also provided you with a handful of sample renders below.\n",
        "\n",
        "<details>\n",
        "<summary>Render animation (using Plotly)</summary>\n",
        "\n",
        "```python\n",
        "from typing import Callable\n",
        "from tqdm import tqdm\n",
        "\n",
        "def raytrace_mesh_video(\n",
        "    rays: TT[\"nrays\", \"points\": 2, \"ndims\": 3],\n",
        "    triangles: TT[\"ntriangles\", \"npoints\": 3, \"ndims\": 3],\n",
        "    rotation_matrix: Callable[[float], TT[3, 3]],\n",
        "    num_frames: int,\n",
        ") -> TT[\"nframes\", \"nrays\", bool]:\n",
        "    result = []\n",
        "    theta = t.tensor(2 * t.pi) / num_frames\n",
        "    R = rotation_matrix(theta)\n",
        "    for theta in tqdm(range(num_frames)):\n",
        "        triangles = triangles @ R\n",
        "        result.append(raytrace_mesh(rays, triangles))\n",
        "    return t.stack(result, dim=0)\n",
        "\n",
        "if MAIN:\n",
        "    num_pixels_y = 200\n",
        "    num_pixels_z = 200\n",
        "    y_limit = z_limit = 1\n",
        "    num_frames = 50\n",
        "\n",
        "    rotation_matrix = lambda theta: t.tensor([\n",
        "        [t.cos(theta), 0.0, t.sin(theta)],\n",
        "        [0.0, 1.0, 0.0],\n",
        "        [-t.sin(theta), 0.0, t.cos(theta)],\n",
        "    ])\n",
        "\n",
        "    rays = make_rays_2d(num_pixels_y, num_pixels_z, y_limit, z_limit)\n",
        "    rays[:, 0] = t.tensor([-2, 0.0, 0.0])\n",
        "    dists = raytrace_mesh_video(rays, triangles, rotation_matrix, num_frames)\n",
        "    dists_square = dists.view(num_frames, num_pixels_y, num_pixels_z)\n",
        "\n",
        "    fig = px.imshow(dists_square, animation_frame=0, origin=\"lower\", color_continuous_scale=\"viridis_r\")\n",
        "    # zmin=0, zmax=2, color_continuous_scale=\"Brwnyl\"\n",
        "    fig.update_layout(coloraxis_showscale=False)\n",
        "    fig.show()\n",
        "```\n",
        "</details>\n",
        "\n",
        "\n",
        "<details>\n",
        "<summary>Rendering on GPU</summary>\n",
        "\n",
        "```python\n",
        "from einops import repeat, reduce, rearrange\n",
        "\n",
        "def make_rays_2d_origin(\n",
        "    num_pixels_y: int, num_pixels_z: int, y_limit: float, z_limit: float, origin: t.Tensor\n",
        ") -> t.Tensor:\n",
        "    '''\n",
        "    num_pixels_y: The number of pixels in the y dimension\n",
        "    num_pixels_z: The number of pixels in the z dimension\n",
        "    y_limit: At x=1, the rays should extend from -y_limit to +y_limit, inclusive of both.\n",
        "    z_limit: At x=1, the rays should extend from -z_limit to +z_limit, inclusive of both.\n",
        "    Returns: shape (num_rays=num_pixels_y * num_pixels_z, num_points=2, num_dims=3).\n",
        "    '''\n",
        "    rays = t.zeros((num_pixels_y, num_pixels_z, 2, 3))\n",
        "    rays[:, :, 1, 0] = 1\n",
        "    rays[:, :, 1, 1] = repeat(\n",
        "        t.arange(num_pixels_y) * 2.0 * y_limit / (num_pixels_y - 1) - y_limit, \"y -> y z\", z=num_pixels_z\n",
        "    )\n",
        "    rays[:, :, 1, 2] = repeat(\n",
        "        t.arange(num_pixels_z) * 2.0 * z_limit / (num_pixels_z - 1) - z_limit, \"z -> y z\", y=num_pixels_y\n",
        "    )\n",
        "    rays[:, :, 0, :] = origin\n",
        "    return rearrange(rays, \"y z n d -> (y z) n d\", n=2, d=3)\n",
        "\n",
        "def raytrace_mesh_gpu(triangles: t.Tensor, rays: t.Tensor) -> t.Tensor:\n",
        "    '''For each ray, return the distance to the closest intersecting triangle, or infinity.\n",
        "    triangles: shape (n_triangles, n_points=3, n_dims=3)\n",
        "    rays: shape (n_pixels, n_points=2, n_dims=3)\n",
        "    return: shape (n_pixels, )\n",
        "    '''\n",
        "    n_triangles = triangles.size(0)\n",
        "    n_pixels = rays.size(0)\n",
        "    device = \"cuda\"\n",
        "    matrices = t.zeros((n_pixels, n_triangles, 3, 3)).to(device)\n",
        "    rays_gpu = rays.to(device)\n",
        "    matrices[:, :, :, 0] = repeat(rays_gpu[:, 0] - rays_gpu[:, 1], \"r d -> r t d\", t=n_triangles)\n",
        "    triangles_gpu = triangles.to(device)\n",
        "    matrices[:, :, :, 1] = repeat(triangles_gpu[:, 1] - triangles_gpu[:, 0], \"t d -> r t d\", r=n_pixels)\n",
        "    matrices[:, :, :, 2] = repeat(triangles_gpu[:, 2] - triangles_gpu[:, 0], \"t d -> r t d\", r=n_pixels)\n",
        "    bs = repeat(rays_gpu[:, 0], \"r d -> r t d\", t=n_triangles) - repeat(\n",
        "        triangles_gpu[:, 0], \"t d -> r t d\", r=n_pixels\n",
        "    )\n",
        "    mask = t.linalg.det(matrices) != 0\n",
        "    distances = t.full((n_pixels, n_triangles), float(\"inf\")).to(device)\n",
        "    solns = t.linalg.solve(matrices[mask], bs[mask])\n",
        "    distances[mask] = t.where(\n",
        "        (solns[:, 0] >= 0) & (solns[:, 1] >= 0) & (solns[:, 2] >= 0) & (solns[:, 1] + solns[:, 2] <= 1),\n",
        "        solns[:, 0],\n",
        "        t.tensor(float(\"inf\")).to(device),\n",
        "    )\n",
        "    return reduce(distances, \"r t -> r\", \"min\").to(\"cpu\")\n",
        "\n",
        "\n",
        "if MAIN:\n",
        "    num_pixels_y = 120\n",
        "    num_pixels_z = 120\n",
        "    y_limit = z_limit = 3\n",
        "    rays = make_rays_2d_origin(num_pixels_y, num_pixels_z, y_limit, z_limit, t.tensor([-3.0, 0, 0]))\n",
        "    intersections = raytrace_mesh_gpu(triangles, rays)\n",
        "    picture = rearrange(intersections, \"(y z) -> y z\", y=num_pixels_y, z=num_pixels_z)\n",
        "    \n",
        "    fig = px.imshow(picture, origin=\"lower\").update_layout(coloraxis_showscale=False)\n",
        "    fig.show()\n",
        "```\n",
        "</details>\n",
        "\n",
        "<details>\n",
        "<summary>Rendering with lighting</summary>\n",
        "\n",
        "```python\n",
        "import math\n",
        "\n",
        "def raytrace_mesh_lighting(\n",
        "    triangles: t.Tensor, rays: t.Tensor, light: t.Tensor, ambient_intensity: float, device: str = \"cpu\"\n",
        ") -> t.Tensor:\n",
        "    '''For each ray, return the shade of the nearest triangle.\n",
        "    triangles: shape (n_triangles, n_points=3, n_dims=3)\n",
        "    rays: shape (n_pixels, n_points=2, n_dims=3)\n",
        "    light: shape (n_dims=3, )\n",
        "    device: The device to place tensors on.\n",
        "    return: shape (n_pixels, )\n",
        "    '''\n",
        "    n_triangles = triangles.size(0)\n",
        "    n_pixels = rays.size(0)\n",
        "    triangles = triangles.to(device)\n",
        "    rays = rays.to(device)\n",
        "    light = light.to(device)\n",
        "\n",
        "    matrices = t.zeros((n_pixels, n_triangles, 3, 3)).to(device)\n",
        "    directions = rays[:, 1] - rays[:, 0]\n",
        "    matrices[:, :, :, 0] = repeat(-directions, \"r d -> r t d\", t=n_triangles)\n",
        "    matrices[:, :, :, 1] = repeat(triangles[:, 1] - triangles[:, 0], \"t d -> r t d\", r=n_pixels)\n",
        "    matrices[:, :, :, 2] = repeat(triangles[:, 2] - triangles[:, 0], \"t d -> r t d\", r=n_pixels)\n",
        "    bs = repeat(rays[:, 0], \"r d -> r t d\", t=n_triangles) - repeat(triangles[:, 0], \"t d -> r t d\", r=n_pixels)\n",
        "    mask = t.linalg.det(matrices) != 0\n",
        "    distances = t.full((n_pixels, n_triangles), float(\"inf\")).to(device)\n",
        "    solns = t.linalg.solve(matrices[mask], bs[mask])\n",
        "    distances[mask] = t.where(\n",
        "        (solns[:, 0] >= 0) & (solns[:, 1] >= 0) & (solns[:, 2] >= 0) & (solns[:, 1] + solns[:, 2] <= 1),\n",
        "        solns[:, 0],\n",
        "        t.tensor(float(\"inf\")).to(device),\n",
        "    )\n",
        "    closest_triangle = distances.argmin(1)\n",
        "\n",
        "    normals = t.cross(triangles[:, 1] - triangles[:, 0], triangles[:, 2] - triangles[:, 0], dim=1)\n",
        "    normals = t.nn.functional.normalize(normals, p=2.0, dim=1)\n",
        "    intensity = t.einsum(\"td,d->t\", normals, light).gather(0, closest_triangle)\n",
        "    side = t.einsum(\"rd,rd->r\", normals.gather(0, repeat(closest_triangle, \"r -> r d\", d=3)), directions)\n",
        "    intensity = t.maximum(t.sign(side) * intensity, t.zeros(())) + ambient_intensity\n",
        "    intensity = t.where(\n",
        "        distances.gather(1, closest_triangle.unsqueeze(1)).squeeze(1) == float(\"inf\"),\n",
        "        t.tensor(0.0).to(device),\n",
        "        intensity,\n",
        "    )\n",
        "\n",
        "    return intensity.to(\"cpu\")\n",
        "\n",
        "def make_rays_camera(\n",
        "    num_pixels_v: int,\n",
        "    num_pixels_w: int,\n",
        "    v_limit: float,\n",
        "    w_limit: float,\n",
        "    origin: t.Tensor,\n",
        "    screen_distance: float,\n",
        "    roll: float,\n",
        "    pitch: float,\n",
        "    yaw: float,\n",
        ") -> t.Tensor:\n",
        "    '''\n",
        "    num_pixels_y: The number of pixels in the y dimension\n",
        "    num_pixels_z: The number of pixels in the z dimension\n",
        "    y_limit: At x=1, the rays should extend from -y_limit to +y_limit, inclusive of both.\n",
        "    z_limit: At x=1, the rays should extend from -z_limit to +z_limit, inclusive of both.\n",
        "    Returns: shape (num_rays=num_pixels_y * num_pixels_z, num_points=2, num_dims=3).\n",
        "    '''\n",
        "\n",
        "    normal = t.tensor([math.cos(pitch) * math.cos(yaw), math.sin(pitch), math.cos(pitch) * math.sin(yaw)])\n",
        "    w_vec = t.nn.functional.normalize(t.tensor([normal[2], 0, -normal[0]]), p=2.0, dim=0)\n",
        "    v_vec = t.cross(normal, w_vec)\n",
        "    w_vec_r = math.cos(roll) * w_vec + math.sin(roll) * v_vec\n",
        "    v_vec_r = math.cos(roll) * v_vec - math.sin(roll) * w_vec\n",
        "\n",
        "    rays = t.zeros((num_pixels_y, num_pixels_z, 2, 3))\n",
        "    rays[:, :, 1, :] += repeat(origin + normal * screen_distance, \"d -> w v d\", w=num_pixels_w, v=num_pixels_v)\n",
        "    rays[:, :, 1, :] += repeat(\n",
        "        t.einsum(\"w, d -> w d\", (t.arange(num_pixels_w) * 2.0 * w_limit / (num_pixels_w - 1) - w_limit), w_vec_r),\n",
        "        \"w d -> w v d\",\n",
        "        v=num_pixels_v,\n",
        "    )\n",
        "    rays[:, :, 1, :] += repeat(\n",
        "        t.einsum(\"v, d -> v d\", t.arange(num_pixels_v) * 2.0 * v_limit / (num_pixels_v - 1) - v_limit, v_vec_r),\n",
        "        \"v d -> w v d\",\n",
        "        w=num_pixels_w,\n",
        "    )\n",
        "\n",
        "    rays[:, :, 0, :] = origin\n",
        "    return rearrange(rays, \"y z n d -> (y z) n d\", n=2, d=3)\n",
        "\n",
        "\n",
        "\n",
        "if MAIN:\n",
        "    num_pixels_y = 150\n",
        "    num_pixels_z = 150\n",
        "    y_limit = z_limit = 3\n",
        "    rays = make_rays_2d_origin(num_pixels_y, num_pixels_z, y_limit, z_limit, t.tensor([-3.0, 0, 0]))\n",
        "    light = t.tensor([0.0, -1.0, 1.0])\n",
        "    ambient_intensity = 0.5\n",
        "    intersections = raytrace_mesh_lighting(triangles, rays, light, ambient_intensity, \"cuda\")\n",
        "    picture = rearrange(intersections, \"(y z) -> y z\", y=num_pixels_y, z=num_pixels_z)\n",
        "    \n",
        "    fig = px.imshow(picture, origin=\"lower\", labels={\"x\": \"X\", \"y\": \"Y\"}, color_continuous_scale=\"magma\").update_layout(coloraxis_showscale=False)\n",
        "    fig.show()\n",
        "```\n",
        "\n",
        "```python\n",
        "def get_random_rotation_matrix(N, theta_max=t.pi):\n",
        "    mat = t.eye(N)\n",
        "    for i in range(N):\n",
        "        rot_mat = t.eye(N)\n",
        "        theta = (t.rand(1) - 0.5) * theta_max\n",
        "        rot_mat_2d = t.tensor([\n",
        "            [t.cos(theta), -t.sin(theta)],\n",
        "            [t.sin(theta), t.cos(theta)]\n",
        "        ])\n",
        "        if i == N - 1:\n",
        "            rot_mat[[-1, -1, 0, 0], [-1, 0, -1, 0]] = rot_mat_2d.flatten()\n",
        "        else:\n",
        "            rot_mat[i :i+2, i :i+2] = rot_mat_2d\n",
        "        mat = mat @ rot_mat\n",
        "    return mat\n",
        "\n",
        "if MAIN:\n",
        "    num_pixels_y = 150\n",
        "    num_pixels_z = 150\n",
        "    y_limit = z_limit = 3\n",
        "\n",
        "    rays = make_rays_camera(num_pixels_y, num_pixels_z, y_limit, z_limit, t.tensor([-1.0, 3.0, 0.0]), 3.0, 0.0, -1.0, 0.0)\n",
        "    light = t.tensor([0.0, -1.0, 1.0])\n",
        "    ambient_intensity = 0.5\n",
        "    intersections = raytrace_mesh_lighting(triangles, rays, light, ambient_intensity, \"cuda\")\n",
        "    picture = rearrange(intersections, \"(y z) -> y z\", y=num_pixels_y, z=num_pixels_z)\n",
        "    fig = px.imshow(picture, origin=\"lower\", labels={\"x\": \"X\", \"y\": \"Y\"}, color_continuous_scale=\"magma\").update_layout(coloraxis_showscale=False)\n",
        "    fig.show()\n",
        "```\n",
        "</details>\n",
        "\n",
        "<details>\n",
        "<summary>Rendering with lambert shading</summary>\n",
        "\n",
        "```python\n",
        "def raytrace_mesh_lambert(triangles: t.Tensor, rays: t.Tensor) -> t.Tensor:\n",
        "    '''For each ray, return the distance to the closest intersecting triangle, or infinity.\n",
        "    triangles: shape (n_triangles, n_points=3, n_dims=3)\n",
        "    rays: shape (n_pixels, n_points=2, n_dims=3)\n",
        "    return: shape (n_pixels, )\n",
        "    '''\n",
        "    # triangles = [triangle, point, coord]\n",
        "    # rays = [pixel, orig_dir, coord]\n",
        "\n",
        "    n_triangles = len(triangles)\n",
        "    n_pixels = len(rays)\n",
        "\n",
        "    rep_triangles = einops.repeat(triangles, \"triangle point coord -> pixel triangle point coord\", pixel=n_pixels)\n",
        "    rep_rays = einops.repeat(rays, \"pixel orig_dir coord -> pixel triangle orig_dir coord\", triangle=n_triangles)\n",
        "\n",
        "    O = rep_rays[:, :, 0, :]  # [pixel, triangle, coord]\n",
        "    D = rep_rays[:, :, 1, :]  # [pixel, triangle, coord]\n",
        "    A = rep_triangles[:, :, 0, :]  # [pixel, triangle, coord]\n",
        "    B = rep_triangles[:, :, 1, :]  # [pixel, triangle, coord]\n",
        "    C = rep_triangles[:, :, 2, :]  # [pixel, triangle, coord]\n",
        "    rhs = O - A  # [pixel, triangle, coord]\n",
        "    lhs = t.stack([-D, B - A, C - A], dim=3)  # [pixel, triangle, coord, suv]\n",
        "    dets = t.linalg.det(lhs)  # [pixel, triangle]\n",
        "    dets = dets < 1e-5\n",
        "    eyes = t.einsum(\"i j , k l -> i j k l\", [dets, t.eye(3)])\n",
        "    lhs += eyes\n",
        "    results = t.linalg.solve(lhs, rhs)  # [pixel, triangle, suv]\n",
        "    intersects = (\n",
        "        ((results[:, :, 1] + results[:, :, 2]) <= 1)\n",
        "        & (results[:, :, 0] >= 0)\n",
        "        & (results[:, :, 1] >= 0)\n",
        "        & (results[:, :, 2] >= 0)\n",
        "        & (dets == False)\n",
        "    )  # [pixel, triangle]\n",
        "    distances = t.where(intersects, results[:, :, 0].double(), t.inf)  # [pixel, triangle]\n",
        "\n",
        "    # Lambert shading (dot product of triangle's normal vector with light direction)\n",
        "    indices = t.argmin(distances, dim=1)\n",
        "    tri_vecs1 = triangles[:, 0, :] - triangles[:, 1, :]\n",
        "    tri_vecs2 = triangles[:, 1, :] - triangles[:, 2, :]\n",
        "    normvecs = t.cross(tri_vecs1, tri_vecs2, dim=1)  # [triangle coord]\n",
        "    normvecs -= normvecs.min(1, keepdim=True)[0]\n",
        "    normvecs /= normvecs.max(1, keepdim=True)[0]\n",
        "    lightvec = t.tensor([[0.0, 1.0, 1.0]] * n_triangles)\n",
        "    tri_lights = abs(t.einsum(\"t c , t c -> t\", [normvecs, lightvec]))  # triangle\n",
        "    pixel_lights = 1.0 / (einops.reduce(distances, \"pixel triangle -> pixel\", \"min\")) ** 2\n",
        "    pixel_lights *= tri_lights[indices]\n",
        "    return pixel_lights\n",
        "\n",
        "\n",
        "\n",
        "if MAIN:\n",
        "    rot_mat = get_random_rotation_matrix(N=3, theta_max=t.pi/3)\n",
        "    num_pixels_y = 200\n",
        "    num_pixels_z = 200\n",
        "    y_limit = z_limit = 1\n",
        "    rays = make_rays_2d(num_pixels_y, num_pixels_z, y_limit, z_limit)\n",
        "    rays[:, 0, 0] = -2\n",
        "    rays[0, :, 0]\n",
        "    result = raytrace_mesh_lambert(t.einsum(\"i j k, k l -> i j l\", [triangles, rot_mat]), rays)\n",
        "    result = result.reshape(num_pixels_y, num_pixels_z)\n",
        "    fig = px.imshow(result, origin=\"lower\", labels={\"x\": \"X\", \"y\": \"Y\"}, color_continuous_scale=\"magma\").update_layout(coloraxis_showscale=False)\n",
        "    fig.show()\n",
        "```\n",
        "</details>\n",
        "\n",
        "\n",
        "<details>\n",
        "<summary>Rendering with hollow triangles</summary>\n",
        "\n",
        "```python\n",
        "def raytrace_mesh_lambert_wireframe(triangles: t.Tensor, rays: t.Tensor, triangle_perim: float = 0) -> t.Tensor:\n",
        "    '''For each ray, return the distance to the closest intersecting triangle, or infinity.\n",
        "    triangles: shape (n_triangles, n_points=3, n_dims=3)\n",
        "    rays: shape (n_pixels, n_points=2, n_dims=3)\n",
        "    return: shape (n_pixels, )\n",
        "    '''\n",
        "    # triangles = [triangle, point, coord]\n",
        "    # rays = [pixel, orig_dir, coord]\n",
        "\n",
        "    n_triangles = len(triangles)\n",
        "    n_pixels = len(rays)\n",
        "\n",
        "    rep_triangles = einops.repeat(triangles, \"triangle point coord -> pixel triangle point coord\", pixel=n_pixels)\n",
        "    rep_rays = einops.repeat(rays, \"pixel orig_dir coord -> pixel triangle orig_dir coord\", triangle=n_triangles)\n",
        "\n",
        "    O = rep_rays[:, :, 0, :]  # [pixel, triangle, coord]\n",
        "    D = rep_rays[:, :, 1, :]  # [pixel, triangle, coord]\n",
        "    A = rep_triangles[:, :, 0, :]  # [pixel, triangle, coord]\n",
        "    B = rep_triangles[:, :, 1, :]  # [pixel, triangle, coord]\n",
        "    C = rep_triangles[:, :, 2, :]  # [pixel, triangle, coord]\n",
        "    rhs = O - A  # [pixel, triangle, coord]\n",
        "    lhs = t.stack([-D, B - A, C - A], dim=3)  # [pixel, triangle, coord, suv]\n",
        "    dets = t.linalg.det(lhs)  # [pixel, triangle]\n",
        "    dets = dets < 1e-5\n",
        "    eyes = t.einsum(\"i j , k l -> i j k l\", [dets, t.eye(3)])\n",
        "    lhs += eyes\n",
        "    results = t.linalg.solve(lhs, rhs)  # [pixel, triangle, suv]\n",
        "    intersects = (\n",
        "        ((results[:, :, 1] + results[:, :, 2]) <= 1)\n",
        "        & (results[:, :, 0] >= 0.0)\n",
        "        & (results[:, :, 1] >= 0.0)\n",
        "        & (results[:, :, 2] >= 0.0)\n",
        "        & (dets == False)\n",
        "    )  # [pixel, triangle]\n",
        "    intersects_perim = (\n",
        "        ((results[:, :, 1] + results[:, :, 2]) >= 1 - triangle_perim)\n",
        "        | (results[:, :, 1] <= triangle_perim)\n",
        "        | (results[:, :, 2] <= triangle_perim)\n",
        "    )\n",
        "    intersects = intersects & intersects_perim\n",
        "    distances = t.where(intersects, results[:, :, 0].double(), t.inf)  # [pixel, triangle]\n",
        "\n",
        "    # Lambert shading (dot product of triangle's normal vector with light direction)\n",
        "    indices = t.argmin(distances, dim=1)\n",
        "    tri_vecs1 = triangles[:, 0, :] - triangles[:, 1, :]\n",
        "    tri_vecs2 = triangles[:, 1, :] - triangles[:, 2, :]\n",
        "    normvecs = t.cross(tri_vecs1, tri_vecs2, dim=1)  # [triangle coord]\n",
        "    normvecs -= normvecs.min(1, keepdim=True)[0]\n",
        "    normvecs /= normvecs.max(1, keepdim=True)[0]\n",
        "    lightvec = t.tensor([[0.0, 1.0, 1.0]] * n_triangles)\n",
        "    tri_lights = abs(t.einsum(\"t c , t c -> t\", [normvecs, lightvec]))  # triangle\n",
        "    pixel_lights = 1.0 / (einops.reduce(distances, \"pixel triangle -> pixel\", \"min\")) ** 2\n",
        "    pixel_lights *= tri_lights[indices]\n",
        "    return pixel_lights\n",
        "\n",
        "\n",
        "if MAIN:\n",
        "    rot_mat = get_random_rotation_matrix(N=3, theta_max=t.pi/4)\n",
        "    num_pixels_y = 200\n",
        "    num_pixels_z = 200\n",
        "    y_limit = z_limit = 1\n",
        "\n",
        "    triangle_perim = 0.1\n",
        "\n",
        "    rays = make_rays_2d(num_pixels_y, num_pixels_z, y_limit, z_limit)\n",
        "    rays[:, 0, 0] = -2\n",
        "    rays[0, :, 0]\n",
        "    result = raytrace_mesh_lambert_wireframe(t.einsum(\"i j k, k l -> i j l\", [triangles, rot_mat]), rays, triangle_perim)\n",
        "    result = result.reshape(num_pixels_y, num_pixels_z)\n",
        "    fig = px.imshow(result, origin=\"lower\", labels={\"x\": \"X\", \"y\": \"Y\"}, color_continuous_scale=\"magma\").update_layout(coloraxis_showscale=False)\n",
        "    fig.show()\n",
        "```\n",
        "</details>\n"
      ]
    },
    {
      "cell_type": "markdown",
      "metadata": {
        "id": "qgMWkFcrCWzG"
      },
      "source": [
        "## Bonus - testing with `pytest`\n"
      ]
    },
    {
      "cell_type": "markdown",
      "metadata": {
        "id": "WZwyWAnZCWzG"
      },
      "source": [
        "> *Note - this section was also just written with VSCode in mind, so it might be less suitable for Colab, and you might consider skipping it.*"
      ]
    },
    {
      "cell_type": "markdown",
      "metadata": {
        "id": "eUup9MBqCWzG"
      },
      "source": [
        "To wrap up today, we're going to have a further discussion of **testing**. So far, our test functions have been pretty simple - we imported a test from the `part1_ray_tracing/tests.py` file, and ran it to compare our answers to the answers in `part1_ray_tracing/solutions.py`. This works perfectly fine, but there are other Python libraries which can make testing easier and more powerful. In particular, two such libraries are `unittest` and `pytest`. Both these libraries provide extensive features for modularizing and running test functions, and have nice integrations with VSCode. `unittest` is very powerful, but also has a steep learning curve and isn't worth the trouble of learning during a 6 week course. However, `pytest` is very useful and easy to learn, so we'll spend some time here discussing it.\n",
        "\n",
        "The pytest framework makes it easy to write small, readable tests, and can scale to support complex functional testing for applications and libraries. Today we'll just discuss a few features which will be particularly useful for the kinds of tests we'll be writing, but you're welcome to explore more tests later on.\n",
        "\n",
        "*Important note - if you're working on Colab or a notebook for these exercises, your tests won't work, because in this setup we'll be importing answers from our test file, rather than importing tests from our answers file. For this reason, we won't be using pytest for the structured exercises in this course (in case anybody is following these exercises in a notebook), but you're strongly recommended to use pytest when you're working from `.py` files instead - which is strongly recommended during much of the bonus content.*\n",
        "\n",
        "First, look at `part1_ray_tracing/tests.py`. The tests in this file all follow a similar pattern: evaluate your function on some input, check it equals the solution. This is a clear sign that we can use modularization to simplify our code! Compare this file to `part1_ray_tracing/test_with_pytest.py`, which contains the same tests but refactored using pytest. The latter is clearly separated into three sections: one for library imports, one for defining the inputs we'll use for our test functions, and one where we define our test functions.\n",
        "\n",
        "### Parametrization\n",
        "\n",
        "We use `pytest.mark.parametrize` to parametrize our tests. This means we can run the same test a bunch of different times on different inputs. In the non-pytest version, we did this by defining different functions (e.g. `test_intersect_ray_1d` and `test_intersect_ray_1d_special_case`), but this isn't necessary here.\n",
        "\n",
        "The syntax of a function decorated by `pytest.mark.parametrize` is:\n",
        "\n",
        "```python\n",
        "@pytest.mark.parametrize(\"arg1, arg2, arg3\", [\n",
        "    (val1, val2, val3),\n",
        "    (val4, val5, val6),\n",
        "    ...\n",
        "])\n",
        "def test_function(arg1, arg2, arg3):\n",
        "    ...\n",
        "```\n",
        "\n",
        "This will result in running `test_function` multiple times, the first time with `arg1=val1, arg2=val2, arg3=val3`, and the second time with `arg1=val4, arg2=val5, arg3=val6`, etc. This is a much better way to write tests, because it makes it easy for us to add new test cases without having to write new functions.\n",
        "\n",
        "### How to run these tests?\n",
        "\n",
        "There are three ways to run the above tests:\n",
        "\n",
        "1. **From the terminal**\n",
        "\n",
        "You can run them from the command line using the pytest command. Open your terminal in VSCode at the bottom of the screen, make sure you're in the directory `chapter0_fundamentals`, then enter the command `pytest`. This will search the current directory (or subdirectories) for any python files with the prefix `test_`, and within that file run all functions with the prefix `test_` (i.e. all the tests for these exercises).\n",
        "\n",
        "You can also add more complicated commands, like:\n",
        "\n",
        "* `pytest test_intersect_ray_1d` to specify the file to run tests from\n",
        "* `pytest test_intersect_ray_1d::test_intersect_ray_1d` to specify the file and test function\n",
        "\n",
        "2. **From your Python file**\n",
        "\n",
        "To do this, you need to call `pytest.main` (make sure this is wrapped in an `if MAIN` block). The first argument of this function is a list of args to `pytest`. This has analogous syntax to the command line option, for instance here are a few ways you can do this:\n",
        "\n",
        "```python\n",
        "if MAIN:\n",
        "    pytest.main([])\n",
        "    pytest.main([\"test_part1_ray_tracing.py\"])\n",
        "    pytest.main([\"test_part1_ray_tracing.py::test_intersect_ray_1d\"])\n",
        "```\n",
        "\n",
        "3. **From VSCode's testing display**\n",
        "\n",
        "This is by far the most useful way to run test functions. VSCode provides a helpful interface to run all test functions in your directory, and see which of them have passed. First, press the test icon on the left hand sidebar (it will look like a triangular flask). If this is your first time, then you'll need to click on the **Configure Python Tests** button, then select `pytest` as your framework (you may have to install pytest when prompted). This should automatically perform test discovery for you, showing you all the test files & functions in your current directory in the left hand window (it detects this the same way pytest does, using the `test_` prefix). You can hover over tests or files to see options like \"run test(s)\" or debug test(s)\". When you run them, you'll see a tick or cross appear next to the test, indicating whether it passed or failed.\n",
        "\n",
        "This is a very useful interface when you're working on a large project, because as you make updates you can easily re-run all tests, then identify & fix problems.\n",
        "\n",
        "<details>\n",
        "<summary>Help - I get <code>Error discovering pytest tests</code></summary>\n",
        "\n",
        "Try opening your terminal (at the bottom of the screen) and running `pytest --collect-only`. This should print output that helps you diagnose the problem.\n",
        "\n",
        "One possible issue is changing directories within your python files (e.g. with `os.chdir`), because this can often confuse PyTest's search for tests.\n",
        "</details>\n"
      ]
    },
    {
      "cell_type": "markdown",
      "metadata": {
        "id": "cuzT96BeCWzG"
      },
      "source": [
        "<details>\n",
        "<summary>Aside - <code># type: ignore</code></summary>\n",
        "\n",
        "Note that the test file has the annotation `# type: ignore` at the end of an import line, at the top of the file. This is because VSCode's typechecker will complain when you try and import a file that doesn't exist yet! This line removes the type error, and allows you to write functions without all those annoying squiggly red lines! However, don't overuse this annotation, because it can often be a signal that you've made a mistake in your code, or else have followed a bad coding practice.\n",
        "\n",
        "</details>\n",
        "\n",
        "<details>\n",
        "<summary>Aside - named tuples</summary>\n",
        "\n",
        "Another way you can clean this code up is to use **named tuples**. These are an especially nice and Pythonic structure which maintains the features of a tuple, but also allows you to define instances & access elements by name. For instance, instead of:\n",
        "\n",
        "```python\n",
        "ray_segment_batch = (\n",
        "    solutions.rays1d,\n",
        "    solutions.segments\n",
        ")\n",
        "```\n",
        "\n",
        "you could have:\n",
        "\n",
        "```python\n",
        "from collections import namedtuple\n",
        "TestCase = namedtuple(\"TestCase\", \"rays segments\")\n",
        "\n",
        "ray_segment_batch = TestCase(\n",
        "    rays = solutions.rays1d,\n",
        "    segments = solutions.segments\n",
        ")\n",
        "```\n",
        "\n",
        "and this `ray_segment_batch` object would still be treated like a tensor when it's used in a parameterized test.\n",
        "\n",
        "</details>\n"
      ]
    }
  ],
  "metadata": {
    "colab": {
      "collapsed_sections": [
        "niHe80GT0Sg3",
        "ecQF_djAMZzk"
      ],
      "provenance": []
    },
    "kernelspec": {
      "display_name": "Python 3",
      "name": "python3"
    },
    "language_info": {
      "codemirror_mode": {
        "name": "ipython",
        "version": 3
      },
      "file_extension": ".py",
      "mimetype": "text/x-python",
      "name": "python",
      "nbconvert_exporter": "python",
      "pygments_lexer": "ipython3",
      "version": "3.10.9"
    }
  },
  "nbformat": 4,
  "nbformat_minor": 0
}
