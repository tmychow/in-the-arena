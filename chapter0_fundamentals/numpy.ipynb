{
 "cells": [
  {
   "cell_type": "markdown",
   "id": "6293cc50",
   "metadata": {},
   "source": [
    "# 100 numpy exercises\n",
    "\n",
    "This is a collection of exercises that have been collected in the numpy mailing list, on stack overflow\n",
    "and in the numpy documentation. The goal of this collection is to offer a quick reference for both old\n",
    "and new users but also to provide a set of exercises for those who teach.\n",
    "\n",
    "\n",
    "If you find an error or think you've a better way to solve some of them, feel\n",
    "free to open an issue at <https://github.com/rougier/numpy-100>."
   ]
  },
  {
   "cell_type": "markdown",
   "id": "a167c052",
   "metadata": {},
   "source": [
    "File automatically generated. See the documentation to update questions/answers/hints programmatically."
   ]
  },
  {
   "cell_type": "markdown",
   "id": "57fc0ee5",
   "metadata": {},
   "source": [
    "Run the `initialize.py` module, then for each question you can query the\n",
    "answer or an hint with `hint(n)` or `answer(n)` for `n` question number."
   ]
  },
  {
   "cell_type": "code",
   "execution_count": 3,
   "id": "3d46fba2",
   "metadata": {},
   "outputs": [],
   "source": [
    "%run initialise.py"
   ]
  },
  {
   "cell_type": "markdown",
   "id": "3c1222ff",
   "metadata": {},
   "source": [
    "#### 1. Import the numpy package under the name `np` (★☆☆)"
   ]
  },
  {
   "cell_type": "code",
   "execution_count": 10,
   "id": "dcf0f3c1",
   "metadata": {},
   "outputs": [
    {
     "name": "stdout",
     "output_type": "stream",
     "text": [
      "import numpy as np\n"
     ]
    }
   ],
   "source": [
    "answer(1)"
   ]
  },
  {
   "cell_type": "markdown",
   "id": "9d9f4753",
   "metadata": {},
   "source": [
    "#### 2. Print the numpy version and the configuration (★☆☆)"
   ]
  },
  {
   "cell_type": "code",
   "execution_count": 9,
   "id": "798b9f8d",
   "metadata": {},
   "outputs": [
    {
     "name": "stdout",
     "output_type": "stream",
     "text": [
      "print(np.__version__)\n",
      "np.show_config()\n"
     ]
    }
   ],
   "source": [
    "answer(2)"
   ]
  },
  {
   "cell_type": "markdown",
   "id": "3e4c23c6",
   "metadata": {},
   "source": [
    "#### 3. Create a null vector of size 10 (★☆☆)"
   ]
  },
  {
   "cell_type": "code",
   "execution_count": 11,
   "id": "88e2f01d",
   "metadata": {},
   "outputs": [
    {
     "name": "stdout",
     "output_type": "stream",
     "text": [
      "Z = np.zeros(10)\n",
      "print(Z)\n"
     ]
    }
   ],
   "source": [
    "answer(3)"
   ]
  },
  {
   "cell_type": "markdown",
   "id": "c38bbe82",
   "metadata": {},
   "source": [
    "#### 4. How to find the memory size of any array (★☆☆)"
   ]
  },
  {
   "cell_type": "code",
   "execution_count": 13,
   "id": "5892c27c",
   "metadata": {},
   "outputs": [
    {
     "name": "stdout",
     "output_type": "stream",
     "text": [
      "Z = np.zeros((10,10))\n",
      "print(\"%d bytes\" % (Z.size * Z.itemsize))\n"
     ]
    }
   ],
   "source": [
    "answer(4)"
   ]
  },
  {
   "cell_type": "markdown",
   "id": "67f893d4",
   "metadata": {},
   "source": [
    "#### 5. How to get the documentation of the numpy add function from the command line? (★☆☆)"
   ]
  },
  {
   "cell_type": "code",
   "execution_count": 16,
   "id": "40e6b70d",
   "metadata": {},
   "outputs": [
    {
     "name": "stdout",
     "output_type": "stream",
     "text": [
      "%run `python -c \"import numpy; numpy.info(numpy.add)\"`\n"
     ]
    }
   ],
   "source": [
    "answer(5)"
   ]
  },
  {
   "cell_type": "markdown",
   "id": "e0c739c6",
   "metadata": {},
   "source": [
    "#### 6. Create a null vector of size 10 but the fifth value which is 1 (★☆☆)"
   ]
  },
  {
   "cell_type": "code",
   "execution_count": 17,
   "id": "bcceacf7",
   "metadata": {},
   "outputs": [
    {
     "name": "stdout",
     "output_type": "stream",
     "text": [
      "Z = np.zeros(10)\n",
      "Z[4] = 1\n",
      "print(Z)\n"
     ]
    }
   ],
   "source": [
    "answer(6)"
   ]
  },
  {
   "cell_type": "markdown",
   "id": "fbebedab",
   "metadata": {},
   "source": [
    "#### 7. Create a vector with values ranging from 10 to 49 (★☆☆)"
   ]
  },
  {
   "cell_type": "code",
   "execution_count": 18,
   "id": "3d117d54",
   "metadata": {},
   "outputs": [
    {
     "name": "stdout",
     "output_type": "stream",
     "text": [
      "Z = np.arange(10,50)\n",
      "print(Z)\n"
     ]
    }
   ],
   "source": [
    "answer(7)"
   ]
  },
  {
   "cell_type": "markdown",
   "id": "ad0bff02",
   "metadata": {},
   "source": [
    "#### 8. Reverse a vector (first element becomes last) (★☆☆)"
   ]
  },
  {
   "cell_type": "code",
   "execution_count": 19,
   "id": "22d23470",
   "metadata": {},
   "outputs": [
    {
     "name": "stdout",
     "output_type": "stream",
     "text": [
      "Z = np.arange(50)\n",
      "Z = Z[::-1]\n",
      "print(Z)\n"
     ]
    }
   ],
   "source": [
    "answer(8)"
   ]
  },
  {
   "cell_type": "markdown",
   "id": "9f59d7e1",
   "metadata": {},
   "source": [
    "#### 9. Create a 3x3 matrix with values ranging from 0 to 8 (★☆☆)"
   ]
  },
  {
   "cell_type": "code",
   "execution_count": 20,
   "id": "7449e82d",
   "metadata": {},
   "outputs": [
    {
     "name": "stdout",
     "output_type": "stream",
     "text": [
      "Z = np.arange(9).reshape(3, 3)\n",
      "print(Z)\n"
     ]
    }
   ],
   "source": [
    "answer(9)"
   ]
  },
  {
   "cell_type": "markdown",
   "id": "f374c4cf",
   "metadata": {},
   "source": [
    "#### 10. Find indices of non-zero elements from [1,2,0,0,4,0] (★☆☆)"
   ]
  },
  {
   "cell_type": "code",
   "execution_count": 21,
   "id": "1a84bed8",
   "metadata": {},
   "outputs": [
    {
     "name": "stdout",
     "output_type": "stream",
     "text": [
      "nz = np.nonzero([1,2,0,0,4,0])\n",
      "print(nz)\n"
     ]
    }
   ],
   "source": [
    "answer(10)"
   ]
  },
  {
   "cell_type": "markdown",
   "id": "9c4707f5",
   "metadata": {},
   "source": [
    "#### 11. Create a 3x3 identity matrix (★☆☆)"
   ]
  },
  {
   "cell_type": "code",
   "execution_count": 22,
   "id": "29dc1fd3",
   "metadata": {},
   "outputs": [
    {
     "name": "stdout",
     "output_type": "stream",
     "text": [
      "Z = np.eye(3)\n",
      "print(Z)\n"
     ]
    }
   ],
   "source": [
    "answer(11)"
   ]
  },
  {
   "cell_type": "markdown",
   "id": "3bac294a",
   "metadata": {},
   "source": [
    "#### 12. Create a 3x3x3 array with random values (★☆☆)"
   ]
  },
  {
   "cell_type": "code",
   "execution_count": 23,
   "id": "eadfae67",
   "metadata": {},
   "outputs": [
    {
     "name": "stdout",
     "output_type": "stream",
     "text": [
      "Z = np.random.random((3,3,3))\n",
      "print(Z)\n"
     ]
    }
   ],
   "source": [
    "answer(12)"
   ]
  },
  {
   "cell_type": "markdown",
   "id": "466c2989",
   "metadata": {},
   "source": [
    "#### 13. Create a 10x10 array with random values and find the minimum and maximum values (★☆☆)"
   ]
  },
  {
   "cell_type": "code",
   "execution_count": 24,
   "id": "9a74dbfc",
   "metadata": {},
   "outputs": [
    {
     "name": "stdout",
     "output_type": "stream",
     "text": [
      "Z = np.random.random((10,10))\n",
      "Zmin, Zmax = Z.min(), Z.max()\n",
      "print(Zmin, Zmax)\n"
     ]
    }
   ],
   "source": [
    "answer(13)"
   ]
  },
  {
   "cell_type": "markdown",
   "id": "53a8edb2",
   "metadata": {},
   "source": [
    "#### 14. Create a random vector of size 30 and find the mean value (★☆☆)"
   ]
  },
  {
   "cell_type": "code",
   "execution_count": 25,
   "id": "6691530b",
   "metadata": {},
   "outputs": [
    {
     "name": "stdout",
     "output_type": "stream",
     "text": [
      "Z = np.random.random(30)\n",
      "m = Z.mean()\n",
      "print(m)\n"
     ]
    }
   ],
   "source": [
    "answer(14)"
   ]
  },
  {
   "cell_type": "markdown",
   "id": "cbaad31c",
   "metadata": {},
   "source": [
    "#### 15. Create a 2d array with 1 on the border and 0 inside (★☆☆)"
   ]
  },
  {
   "cell_type": "code",
   "execution_count": 26,
   "id": "ad8308e3",
   "metadata": {},
   "outputs": [
    {
     "name": "stdout",
     "output_type": "stream",
     "text": [
      "Z = np.ones((10,10))\n",
      "Z[1:-1,1:-1] = 0\n",
      "print(Z)\n"
     ]
    }
   ],
   "source": [
    "answer(15)"
   ]
  },
  {
   "cell_type": "markdown",
   "id": "c5ecc267",
   "metadata": {},
   "source": [
    "#### 16. How to add a border (filled with 0's) around an existing array? (★☆☆)"
   ]
  },
  {
   "cell_type": "code",
   "execution_count": 27,
   "id": "9d5c78c4",
   "metadata": {},
   "outputs": [
    {
     "name": "stdout",
     "output_type": "stream",
     "text": [
      "Z = np.ones((5,5))\n",
      "Z = np.pad(Z, pad_width=1, mode='constant', constant_values=0)\n",
      "print(Z)\n",
      "\n",
      "# Using fancy indexing\n",
      "Z[:, [0, -1]] = 0\n",
      "Z[[0, -1], :] = 0\n",
      "print(Z)\n"
     ]
    }
   ],
   "source": [
    "answer(16)"
   ]
  },
  {
   "cell_type": "markdown",
   "id": "ef909b72",
   "metadata": {},
   "source": [
    "#### 17. What is the result of the following expression? (★☆☆)\n",
    "```python\n",
    "0 * np.nan\n",
    "np.nan == np.nan\n",
    "np.inf > np.nan\n",
    "np.nan - np.nan\n",
    "np.nan in set([np.nan])\n",
    "0.3 == 3 * 0.1\n",
    "```"
   ]
  },
  {
   "cell_type": "code",
   "execution_count": 28,
   "id": "3b4985f2",
   "metadata": {},
   "outputs": [
    {
     "name": "stdout",
     "output_type": "stream",
     "text": [
      "print(0 * np.nan)\n",
      "print(np.nan == np.nan)\n",
      "print(np.inf > np.nan)\n",
      "print(np.nan - np.nan)\n",
      "print(np.nan in set([np.nan]))\n",
      "print(0.3 == 3 * 0.1)\n"
     ]
    }
   ],
   "source": [
    "answer(17)"
   ]
  },
  {
   "cell_type": "markdown",
   "id": "502738ac",
   "metadata": {},
   "source": [
    "#### 18. Create a 5x5 matrix with values 1,2,3,4 just below the diagonal (★☆☆)"
   ]
  },
  {
   "cell_type": "code",
   "execution_count": 30,
   "id": "faed6e2b",
   "metadata": {},
   "outputs": [
    {
     "name": "stdout",
     "output_type": "stream",
     "text": [
      "Z = np.diag(1+np.arange(4),k=-1)\n",
      "print(Z)\n"
     ]
    }
   ],
   "source": [
    "answer(18)"
   ]
  },
  {
   "cell_type": "markdown",
   "id": "a65da660",
   "metadata": {},
   "source": [
    "#### 19. Create a 8x8 matrix and fill it with a checkerboard pattern (★☆☆)"
   ]
  },
  {
   "cell_type": "code",
   "execution_count": 32,
   "id": "ed150400",
   "metadata": {},
   "outputs": [
    {
     "name": "stdout",
     "output_type": "stream",
     "text": [
      "Z = np.zeros((8,8),dtype=int)\n",
      "Z[1::2,::2] = 1\n",
      "Z[::2,1::2] = 1\n",
      "print(Z)\n"
     ]
    }
   ],
   "source": [
    "answer(19)"
   ]
  },
  {
   "cell_type": "markdown",
   "id": "9f7f9c49",
   "metadata": {},
   "source": [
    "#### 20. Consider a (6,7,8) shape array, what is the index (x,y,z) of the 100th element? (★☆☆)"
   ]
  },
  {
   "cell_type": "code",
   "execution_count": 34,
   "id": "3782b5a9",
   "metadata": {},
   "outputs": [
    {
     "name": "stdout",
     "output_type": "stream",
     "text": [
      "print(np.unravel_index(99,(6,7,8)))\n"
     ]
    }
   ],
   "source": [
    "answer(20)"
   ]
  },
  {
   "cell_type": "markdown",
   "id": "66bfda35",
   "metadata": {},
   "source": [
    "#### 21. Create a checkerboard 8x8 matrix using the tile function (★☆☆)"
   ]
  },
  {
   "cell_type": "code",
   "execution_count": 35,
   "id": "4c07477c",
   "metadata": {},
   "outputs": [
    {
     "name": "stdout",
     "output_type": "stream",
     "text": [
      "Z = np.tile( np.array([[0,1],[1,0]]), (4,4))\n",
      "print(Z)\n"
     ]
    }
   ],
   "source": [
    "answer(21)"
   ]
  },
  {
   "cell_type": "markdown",
   "id": "d5bcfc08",
   "metadata": {},
   "source": [
    "#### 22. Normalize a 5x5 random matrix (★☆☆)"
   ]
  },
  {
   "cell_type": "code",
   "execution_count": 36,
   "id": "cea6c993",
   "metadata": {},
   "outputs": [
    {
     "name": "stdout",
     "output_type": "stream",
     "text": [
      "Z = np.random.random((5,5))\n",
      "Z = (Z - np.mean (Z)) / (np.std (Z))\n",
      "print(Z)\n"
     ]
    }
   ],
   "source": [
    "answer(22)"
   ]
  },
  {
   "cell_type": "markdown",
   "id": "f9a0911e",
   "metadata": {},
   "source": [
    "#### 23. Create a custom dtype that describes a color as four unsigned bytes (RGBA) (★☆☆)"
   ]
  },
  {
   "cell_type": "code",
   "execution_count": 37,
   "id": "d165044b",
   "metadata": {},
   "outputs": [
    {
     "name": "stdout",
     "output_type": "stream",
     "text": [
      "color = np.dtype([(\"r\", np.ubyte),\n",
      "                  (\"g\", np.ubyte),\n",
      "                  (\"b\", np.ubyte),\n",
      "                  (\"a\", np.ubyte)])\n"
     ]
    }
   ],
   "source": [
    "answer(23)"
   ]
  },
  {
   "cell_type": "markdown",
   "id": "654805b1",
   "metadata": {},
   "source": [
    "#### 24. Multiply a 5x3 matrix by a 3x2 matrix (real matrix product) (★☆☆)"
   ]
  },
  {
   "cell_type": "code",
   "execution_count": 39,
   "id": "6a42619f",
   "metadata": {},
   "outputs": [
    {
     "name": "stdout",
     "output_type": "stream",
     "text": [
      "Z = np.dot(np.ones((5,3)), np.ones((3,2)))\n",
      "print(Z)\n",
      "\n",
      "# Alternative solution, in Python 3.5 and above\n",
      "Z = np.ones((5,3)) @ np.ones((3,2))\n",
      "print(Z)\n"
     ]
    }
   ],
   "source": [
    "answer (24)"
   ]
  },
  {
   "cell_type": "markdown",
   "id": "994c25df",
   "metadata": {},
   "source": [
    "#### 25. Given a 1D array, negate all elements which are between 3 and 8, in place. (★☆☆)"
   ]
  },
  {
   "cell_type": "code",
   "execution_count": 40,
   "id": "e4b39c03",
   "metadata": {},
   "outputs": [
    {
     "name": "stdout",
     "output_type": "stream",
     "text": [
      "# Author: Evgeni Burovski\n",
      "\n",
      "Z = np.arange(11)\n",
      "Z[(3 < Z) & (Z < 8)] *= -1\n",
      "print(Z)\n"
     ]
    }
   ],
   "source": [
    "answer(25)"
   ]
  },
  {
   "cell_type": "markdown",
   "id": "b7d15d1a",
   "metadata": {},
   "source": [
    "#### 26. What is the output of the following script? (★☆☆)\n",
    "```python\n",
    "# Author: Jake VanderPlas\n",
    "\n",
    "print(sum(range(5),-1))\n",
    "from numpy import *\n",
    "print(sum(range(5),-1))\n",
    "```"
   ]
  },
  {
   "cell_type": "code",
   "execution_count": 42,
   "id": "4c95bc3f",
   "metadata": {},
   "outputs": [
    {
     "name": "stdout",
     "output_type": "stream",
     "text": [
      "# Author: Jake VanderPlas\n",
      "\n",
      "print(sum(range(5),-1))\n",
      "from numpy import *\n",
      "print(sum(range(5),-1))\n"
     ]
    }
   ],
   "source": [
    "answer(26)"
   ]
  },
  {
   "cell_type": "markdown",
   "id": "a34f0d08",
   "metadata": {},
   "source": [
    "#### 27. Consider an integer vector Z, which of these expressions are legal? (★☆☆)\n",
    "```python\n",
    "Z**Z\n",
    "2 << Z >> 2\n",
    "Z <- Z\n",
    "1j*Z\n",
    "Z/1/1\n",
    "Z<Z>Z\n",
    "```"
   ]
  },
  {
   "cell_type": "code",
   "execution_count": 43,
   "id": "564658fc",
   "metadata": {},
   "outputs": [
    {
     "name": "stdout",
     "output_type": "stream",
     "text": [
      "Z**Z\n",
      "2 << Z >> 2\n",
      "Z <- Z\n",
      "1j*Z\n",
      "Z/1/1\n",
      "Z<Z>Z\n"
     ]
    }
   ],
   "source": [
    "answer(27)"
   ]
  },
  {
   "cell_type": "markdown",
   "id": "c34e94bf",
   "metadata": {},
   "source": [
    "#### 28. What are the result of the following expressions? (★☆☆)\n",
    "```python\n",
    "np.array(0) / np.array(0)\n",
    "np.array(0) // np.array(0)\n",
    "np.array([np.nan]).astype(int).astype(float)\n",
    "```"
   ]
  },
  {
   "cell_type": "code",
   "execution_count": 45,
   "id": "56663562",
   "metadata": {},
   "outputs": [
    {
     "name": "stdout",
     "output_type": "stream",
     "text": [
      "print(np.array(0) / np.array(0))\n",
      "print(np.array(0) // np.array(0))\n",
      "print(np.array([np.nan]).astype(int).astype(float))\n"
     ]
    }
   ],
   "source": [
    "answer(28)"
   ]
  },
  {
   "cell_type": "markdown",
   "id": "546f5e7b",
   "metadata": {},
   "source": [
    "#### 29. How to round away from zero a float array ? (★☆☆)"
   ]
  },
  {
   "cell_type": "code",
   "execution_count": 47,
   "id": "f725a6d2",
   "metadata": {},
   "outputs": [
    {
     "name": "stdout",
     "output_type": "stream",
     "text": [
      "# Author: Charles R Harris\n",
      "\n",
      "Z = np.random.uniform(-10,+10,10)\n",
      "print(np.copysign(np.ceil(np.abs(Z)), Z))\n",
      "\n",
      "# More readable but less efficient\n",
      "print(np.where(Z>0, np.ceil(Z), np.floor(Z)))\n"
     ]
    }
   ],
   "source": [
    "answer(29)"
   ]
  },
  {
   "cell_type": "markdown",
   "id": "eadca856",
   "metadata": {},
   "source": [
    "#### 30. How to find common values between two arrays? (★☆☆)"
   ]
  },
  {
   "cell_type": "code",
   "execution_count": 48,
   "id": "e0270b5b",
   "metadata": {},
   "outputs": [
    {
     "name": "stdout",
     "output_type": "stream",
     "text": [
      "Z1 = np.random.randint(0,10,10)\n",
      "Z2 = np.random.randint(0,10,10)\n",
      "print(np.intersect1d(Z1,Z2))\n"
     ]
    }
   ],
   "source": [
    "answer(30)"
   ]
  },
  {
   "cell_type": "markdown",
   "id": "ca16ca22",
   "metadata": {},
   "source": [
    "#### 31. How to ignore all numpy warnings (not recommended)? (★☆☆)"
   ]
  },
  {
   "cell_type": "code",
   "execution_count": 49,
   "id": "7d7208ef",
   "metadata": {},
   "outputs": [
    {
     "name": "stdout",
     "output_type": "stream",
     "text": [
      "# Suicide mode on\n",
      "defaults = np.seterr(all=\"ignore\")\n",
      "Z = np.ones(1) / 0\n",
      "\n",
      "# Back to sanity\n",
      "_ = np.seterr(**defaults)\n",
      "\n",
      "# Equivalently with a context manager\n",
      "with np.errstate(all=\"ignore\"):\n",
      "    np.arange(3) / 0\n"
     ]
    }
   ],
   "source": [
    "answer(31)"
   ]
  },
  {
   "cell_type": "markdown",
   "id": "c7871d0d",
   "metadata": {},
   "source": [
    "#### 32. Is the following expressions true? (★☆☆)\n",
    "```python\n",
    "np.sqrt(-1) == np.emath.sqrt(-1)\n",
    "```"
   ]
  },
  {
   "cell_type": "code",
   "execution_count": 50,
   "id": "acc3701a",
   "metadata": {},
   "outputs": [
    {
     "name": "stdout",
     "output_type": "stream",
     "text": [
      "np.sqrt(-1) == np.emath.sqrt(-1)\n"
     ]
    }
   ],
   "source": [
    "answer(32)"
   ]
  },
  {
   "cell_type": "markdown",
   "id": "e0433e30",
   "metadata": {},
   "source": [
    "#### 33. How to get the dates of yesterday, today and tomorrow? (★☆☆)"
   ]
  },
  {
   "cell_type": "code",
   "execution_count": 53,
   "id": "9c4d2152",
   "metadata": {},
   "outputs": [
    {
     "name": "stdout",
     "output_type": "stream",
     "text": [
      "yesterday = np.datetime64('today') - np.timedelta64(1)\n",
      "today     = np.datetime64('today')\n",
      "tomorrow  = np.datetime64('today') + np.timedelta64(1)\n"
     ]
    }
   ],
   "source": [
    "answer(33)"
   ]
  },
  {
   "cell_type": "markdown",
   "id": "9f52a2ef",
   "metadata": {},
   "source": [
    "#### 34. How to get all the dates corresponding to the month of July 2016? (★★☆)"
   ]
  },
  {
   "cell_type": "code",
   "execution_count": 54,
   "id": "d6c34dec",
   "metadata": {},
   "outputs": [
    {
     "name": "stdout",
     "output_type": "stream",
     "text": [
      "Z = np.arange('2016-07', '2016-08', dtype='datetime64[D]')\n",
      "print(Z)\n"
     ]
    }
   ],
   "source": [
    "answer(34)"
   ]
  },
  {
   "cell_type": "markdown",
   "id": "4a64e059",
   "metadata": {},
   "source": [
    "#### 35. How to compute ((A+B)*(-A/2)) in place (without copy)? (★★☆)"
   ]
  },
  {
   "cell_type": "code",
   "execution_count": 56,
   "id": "49267f60",
   "metadata": {},
   "outputs": [
    {
     "name": "stdout",
     "output_type": "stream",
     "text": [
      "A = np.ones(3)*1\n",
      "B = np.ones(3)*2\n",
      "np.add(A,B,out=B)\n",
      "np.divide(A,2,out=A)\n",
      "np.negative(A,out=A)\n",
      "np.multiply(A,B,out=A)\n"
     ]
    }
   ],
   "source": [
    "answer(35)"
   ]
  },
  {
   "cell_type": "markdown",
   "id": "8a98c2a8",
   "metadata": {},
   "source": [
    "#### 36. Extract the integer part of a random array of positive numbers using 4 different methods (★★☆)"
   ]
  },
  {
   "cell_type": "code",
   "execution_count": 58,
   "id": "368130b3",
   "metadata": {},
   "outputs": [
    {
     "name": "stdout",
     "output_type": "stream",
     "text": [
      "Z = np.random.uniform(0,10,10)\n",
      "\n",
      "print(Z - Z%1)\n",
      "print(Z // 1)\n",
      "print(np.floor(Z))\n",
      "print(Z.astype(int))\n",
      "print(np.trunc(Z))\n"
     ]
    }
   ],
   "source": [
    "answer(36)"
   ]
  },
  {
   "cell_type": "markdown",
   "id": "5a2e3d85",
   "metadata": {},
   "source": [
    "#### 37. Create a 5x5 matrix with row values ranging from 0 to 4 (★★☆)"
   ]
  },
  {
   "cell_type": "code",
   "execution_count": 60,
   "id": "1d974e8f",
   "metadata": {},
   "outputs": [
    {
     "name": "stdout",
     "output_type": "stream",
     "text": [
      "Z = np.zeros((5,5))\n",
      "Z += np.arange(5)\n",
      "print(Z)\n",
      "\n",
      "# without broadcasting\n",
      "Z = np.tile(np.arange(0, 5), (5,1))\n",
      "print(Z)\n"
     ]
    }
   ],
   "source": [
    "answer(37)"
   ]
  },
  {
   "cell_type": "markdown",
   "id": "9720e2d5",
   "metadata": {},
   "source": [
    "#### 38. Consider a generator function that generates 10 integers and use it to build an array (★☆☆)"
   ]
  },
  {
   "cell_type": "code",
   "execution_count": 62,
   "id": "e5dd8fc9",
   "metadata": {},
   "outputs": [
    {
     "name": "stdout",
     "output_type": "stream",
     "text": [
      "def generate():\n",
      "    for x in range(10):\n",
      "        yield x\n",
      "Z = np.fromiter(generate(),dtype=float,count=-1)\n",
      "print(Z)\n"
     ]
    }
   ],
   "source": [
    "answer(38)"
   ]
  },
  {
   "cell_type": "markdown",
   "id": "c6f2c912",
   "metadata": {},
   "source": [
    "#### 39. Create a vector of size 10 with values ranging from 0 to 1, both excluded (★★☆)"
   ]
  },
  {
   "cell_type": "code",
   "execution_count": 63,
   "id": "6aaa27d3",
   "metadata": {},
   "outputs": [
    {
     "name": "stdout",
     "output_type": "stream",
     "text": [
      "Z = np.linspace(0,1,11,endpoint=False)[1:]\n",
      "print(Z)\n"
     ]
    }
   ],
   "source": [
    "answer(39)"
   ]
  },
  {
   "cell_type": "markdown",
   "id": "a36d6ee4",
   "metadata": {},
   "source": [
    "#### 40. Create a random vector of size 10 and sort it (★★☆)"
   ]
  },
  {
   "cell_type": "code",
   "execution_count": 64,
   "id": "e589d216",
   "metadata": {},
   "outputs": [
    {
     "name": "stdout",
     "output_type": "stream",
     "text": [
      "Z = np.random.random(10)\n",
      "Z.sort()\n",
      "print(Z)\n"
     ]
    }
   ],
   "source": [
    "answer(40)"
   ]
  },
  {
   "cell_type": "markdown",
   "id": "0fb4ad68",
   "metadata": {},
   "source": [
    "#### 41. How to sum a small array faster than np.sum? (★★☆)"
   ]
  },
  {
   "cell_type": "code",
   "execution_count": 65,
   "id": "a1ba05a0",
   "metadata": {},
   "outputs": [
    {
     "name": "stdout",
     "output_type": "stream",
     "text": [
      "# Author: Evgeni Burovski\n",
      "\n",
      "Z = np.arange(10)\n",
      "np.add.reduce(Z)\n"
     ]
    }
   ],
   "source": [
    "answer(41)"
   ]
  },
  {
   "cell_type": "markdown",
   "id": "024ac365",
   "metadata": {},
   "source": [
    "#### 42. Consider two random array A and B, check if they are equal (★★☆)"
   ]
  },
  {
   "cell_type": "code",
   "execution_count": 66,
   "id": "7db3846d",
   "metadata": {},
   "outputs": [
    {
     "name": "stdout",
     "output_type": "stream",
     "text": [
      "A = np.random.randint(0,2,5)\n",
      "B = np.random.randint(0,2,5)\n",
      "\n",
      "# Assuming identical shape of the arrays and a tolerance for the comparison of values\n",
      "equal = np.allclose(A,B)\n",
      "print(equal)\n",
      "\n",
      "# Checking both the shape and the element values, no tolerance (values have to be exactly equal)\n",
      "equal = np.array_equal(A,B)\n",
      "print(equal)\n"
     ]
    }
   ],
   "source": [
    "answer(42)"
   ]
  },
  {
   "cell_type": "markdown",
   "id": "c68d2401",
   "metadata": {},
   "source": [
    "#### 43. Make an array immutable (read-only) (★★☆)"
   ]
  },
  {
   "cell_type": "code",
   "execution_count": 67,
   "id": "7828539d",
   "metadata": {},
   "outputs": [
    {
     "name": "stdout",
     "output_type": "stream",
     "text": [
      "Z = np.zeros(10)\n",
      "Z.flags.writeable = False\n",
      "Z[0] = 1\n"
     ]
    }
   ],
   "source": [
    "answer(43)"
   ]
  },
  {
   "cell_type": "markdown",
   "id": "55df6280",
   "metadata": {},
   "source": [
    "#### 44. Consider a random 10x2 matrix representing cartesian coordinates, convert them to polar coordinates (★★☆)"
   ]
  },
  {
   "cell_type": "code",
   "execution_count": 68,
   "id": "f1c86ea0",
   "metadata": {},
   "outputs": [
    {
     "name": "stdout",
     "output_type": "stream",
     "text": [
      "Z = np.random.random((10,2))\n",
      "X,Y = Z[:,0], Z[:,1]\n",
      "R = np.sqrt(X**2+Y**2)\n",
      "T = np.arctan2(Y,X)\n",
      "print(R)\n",
      "print(T)\n"
     ]
    }
   ],
   "source": [
    "answer(44)"
   ]
  },
  {
   "cell_type": "markdown",
   "id": "2f60f1ec",
   "metadata": {},
   "source": [
    "#### 45. Create random vector of size 10 and replace the maximum value by 0 (★★☆)"
   ]
  },
  {
   "cell_type": "code",
   "execution_count": 69,
   "id": "d9f48f1c",
   "metadata": {},
   "outputs": [
    {
     "name": "stdout",
     "output_type": "stream",
     "text": [
      "Z = np.random.random(10)\n",
      "Z[Z.argmax()] = 0\n",
      "print(Z)\n"
     ]
    }
   ],
   "source": [
    "answer(45)"
   ]
  },
  {
   "cell_type": "markdown",
   "id": "084e8ad4",
   "metadata": {},
   "source": [
    "#### 46. Create a structured array with `x` and `y` coordinates covering the [0,1]x[0,1] area (★★☆)"
   ]
  },
  {
   "cell_type": "code",
   "execution_count": 70,
   "id": "58b47c13",
   "metadata": {},
   "outputs": [
    {
     "name": "stdout",
     "output_type": "stream",
     "text": [
      "Z = np.zeros((5,5), [('x',float),('y',float)])\n",
      "Z['x'], Z['y'] = np.meshgrid(np.linspace(0,1,5),\n",
      "                             np.linspace(0,1,5))\n",
      "print(Z)\n"
     ]
    }
   ],
   "source": [
    "answer(46)"
   ]
  },
  {
   "cell_type": "markdown",
   "id": "d7b9bc42",
   "metadata": {},
   "source": [
    "#### 47. Given two arrays, X and Y, construct the Cauchy matrix C (Cij =1/(xi - yj)) (★★☆)"
   ]
  },
  {
   "cell_type": "code",
   "execution_count": 71,
   "id": "a24824fb",
   "metadata": {},
   "outputs": [
    {
     "name": "stdout",
     "output_type": "stream",
     "text": [
      "# Author: Evgeni Burovski\n",
      "\n",
      "X = np.arange(8)\n",
      "Y = X + 0.5\n",
      "C = 1.0 / np.subtract.outer(X, Y)\n",
      "print(np.linalg.det(C))\n"
     ]
    }
   ],
   "source": [
    "answer(47)"
   ]
  },
  {
   "cell_type": "markdown",
   "id": "65ebc11b",
   "metadata": {},
   "source": [
    "#### 48. Print the minimum and maximum representable value for each numpy scalar type (★★☆)"
   ]
  },
  {
   "cell_type": "code",
   "execution_count": 72,
   "id": "e45d38fb",
   "metadata": {},
   "outputs": [
    {
     "name": "stdout",
     "output_type": "stream",
     "text": [
      "for dtype in [np.int8, np.int32, np.int64]:\n",
      "   print(np.iinfo(dtype).min)\n",
      "   print(np.iinfo(dtype).max)\n",
      "for dtype in [np.float32, np.float64]:\n",
      "   print(np.finfo(dtype).min)\n",
      "   print(np.finfo(dtype).max)\n",
      "   print(np.finfo(dtype).eps)\n"
     ]
    }
   ],
   "source": [
    "answer(48)"
   ]
  },
  {
   "cell_type": "markdown",
   "id": "9b317a98",
   "metadata": {},
   "source": [
    "#### 49. How to print all the values of an array? (★★☆)"
   ]
  },
  {
   "cell_type": "code",
   "execution_count": 73,
   "id": "309cdeb9",
   "metadata": {},
   "outputs": [
    {
     "name": "stdout",
     "output_type": "stream",
     "text": [
      "np.set_printoptions(threshold=float(\"inf\"))\n",
      "Z = np.zeros((40,40))\n",
      "print(Z)\n"
     ]
    }
   ],
   "source": [
    "answer(49)"
   ]
  },
  {
   "cell_type": "markdown",
   "id": "b580f9d0",
   "metadata": {},
   "source": [
    "#### 50. How to find the closest value (to a given scalar) in a vector? (★★☆)"
   ]
  },
  {
   "cell_type": "code",
   "execution_count": 74,
   "id": "ebfb6714",
   "metadata": {},
   "outputs": [
    {
     "name": "stdout",
     "output_type": "stream",
     "text": [
      "Z = np.arange(100)\n",
      "v = np.random.uniform(0,100)\n",
      "index = (np.abs(Z-v)).argmin()\n",
      "print(Z[index])\n"
     ]
    }
   ],
   "source": [
    "answer(50)"
   ]
  },
  {
   "cell_type": "markdown",
   "id": "602e6252",
   "metadata": {},
   "source": [
    "#### 51. Create a structured array representing a position (x,y) and a color (r,g,b) (★★☆)"
   ]
  },
  {
   "cell_type": "code",
   "execution_count": 75,
   "id": "cf002b3a",
   "metadata": {},
   "outputs": [
    {
     "name": "stdout",
     "output_type": "stream",
     "text": [
      "Z = np.zeros(10, [ ('position', [ ('x', float, 1),\n",
      "                                  ('y', float, 1)]),\n",
      "                   ('color',    [ ('r', float, 1),\n",
      "                                  ('g', float, 1),\n",
      "                                  ('b', float, 1)])])\n",
      "print(Z)\n"
     ]
    }
   ],
   "source": [
    "answer(51)"
   ]
  },
  {
   "cell_type": "markdown",
   "id": "78bcd92f",
   "metadata": {},
   "source": [
    "#### 52. Consider a random vector with shape (100,2) representing coordinates, find point by point distances (★★☆)"
   ]
  },
  {
   "cell_type": "code",
   "execution_count": 76,
   "id": "fea7f9a6",
   "metadata": {},
   "outputs": [
    {
     "name": "stdout",
     "output_type": "stream",
     "text": [
      "Z = np.random.random((10,2))\n",
      "X,Y = np.atleast_2d(Z[:,0], Z[:,1])\n",
      "D = np.sqrt( (X-X.T)**2 + (Y-Y.T)**2)\n",
      "print(D)\n",
      "\n",
      "# Much faster with scipy\n",
      "import scipy\n",
      "# Thanks Gavin Heverly-Coulson (#issue 1)\n",
      "import scipy.spatial\n",
      "\n",
      "Z = np.random.random((10,2))\n",
      "D = scipy.spatial.distance.cdist(Z,Z)\n",
      "print(D)\n"
     ]
    }
   ],
   "source": [
    "answer(52)"
   ]
  },
  {
   "cell_type": "markdown",
   "id": "343c5a85",
   "metadata": {},
   "source": [
    "#### 53. How to convert a float (32 bits) array into an integer (32 bits) in place?"
   ]
  },
  {
   "cell_type": "code",
   "execution_count": 77,
   "id": "fc1b687b",
   "metadata": {},
   "outputs": [
    {
     "name": "stdout",
     "output_type": "stream",
     "text": [
      "# Thanks Vikas (https://stackoverflow.com/a/10622758/5989906)\n",
      "# & unutbu (https://stackoverflow.com/a/4396247/5989906)\n",
      "Z = (np.random.rand(10)*100).astype(np.float32)\n",
      "Y = Z.view(np.int32)\n",
      "Y[:] = Z\n",
      "print(Y)\n"
     ]
    }
   ],
   "source": [
    "answer(53)"
   ]
  },
  {
   "cell_type": "markdown",
   "id": "a69e1ace",
   "metadata": {},
   "source": [
    "#### 54. How to read the following file? (★★☆)\n",
    "```\n",
    "1, 2, 3, 4, 5\n",
    "6,  ,  , 7, 8\n",
    " ,  , 9,10,11\n",
    "```"
   ]
  },
  {
   "cell_type": "code",
   "execution_count": 78,
   "id": "1c7957d4",
   "metadata": {},
   "outputs": [
    {
     "name": "stdout",
     "output_type": "stream",
     "text": [
      "from io import StringIO\n",
      "\n",
      "# Fake file\n",
      "s = StringIO('''1, 2, 3, 4, 5\n",
      "\n",
      "                6,  ,  , 7, 8\n",
      "\n",
      "                 ,  , 9,10,11\n",
      "''')\n",
      "Z = np.genfromtxt(s, delimiter=\",\", dtype=np.int)\n",
      "print(Z)\n"
     ]
    }
   ],
   "source": [
    "answer(54)"
   ]
  },
  {
   "cell_type": "markdown",
   "id": "c23bd80d",
   "metadata": {},
   "source": [
    "#### 55. What is the equivalent of enumerate for numpy arrays? (★★☆)"
   ]
  },
  {
   "cell_type": "code",
   "execution_count": 79,
   "id": "d95d9578",
   "metadata": {},
   "outputs": [
    {
     "name": "stdout",
     "output_type": "stream",
     "text": [
      "Z = np.arange(9).reshape(3,3)\n",
      "for index, value in np.ndenumerate(Z):\n",
      "    print(index, value)\n",
      "for index in np.ndindex(Z.shape):\n",
      "    print(index, Z[index])\n"
     ]
    }
   ],
   "source": [
    "answer(55)"
   ]
  },
  {
   "cell_type": "markdown",
   "id": "2153a5ec",
   "metadata": {},
   "source": [
    "#### 56. Generate a generic 2D Gaussian-like array (★★☆)"
   ]
  },
  {
   "cell_type": "code",
   "execution_count": 84,
   "id": "61122d1e",
   "metadata": {},
   "outputs": [
    {
     "name": "stdout",
     "output_type": "stream",
     "text": [
      "X, Y = np.meshgrid(np.linspace(-1,1,10), np.linspace(-1,1,10))\n",
      "D = np.sqrt(X*X+Y*Y)\n",
      "sigma, mu = 1.0, 0.0\n",
      "G = np.exp(-( (D-mu)**2 / ( 2.0 * sigma**2 ) ) )\n",
      "print(G)\n"
     ]
    }
   ],
   "source": [
    "answer(56)"
   ]
  },
  {
   "cell_type": "markdown",
   "id": "2e76d589",
   "metadata": {},
   "source": [
    "#### 57. How to randomly place p elements in a 2D array? (★★☆)"
   ]
  },
  {
   "cell_type": "code",
   "execution_count": 85,
   "id": "0c2e4fcc",
   "metadata": {},
   "outputs": [
    {
     "name": "stdout",
     "output_type": "stream",
     "text": [
      "# Author: Divakar\n",
      "\n",
      "n = 10\n",
      "p = 3\n",
      "Z = np.zeros((n,n))\n",
      "np.put(Z, np.random.choice(range(n*n), p, replace=False),1)\n",
      "print(Z)\n"
     ]
    }
   ],
   "source": [
    "answer(57)"
   ]
  },
  {
   "cell_type": "markdown",
   "id": "8b3933eb",
   "metadata": {},
   "source": [
    "#### 58. Subtract the mean of each row of a matrix (★★☆)"
   ]
  },
  {
   "cell_type": "code",
   "execution_count": 87,
   "id": "a306c9ef",
   "metadata": {},
   "outputs": [
    {
     "name": "stdout",
     "output_type": "stream",
     "text": [
      "# Author: Warren Weckesser\n",
      "\n",
      "X = np.random.rand(5, 10)\n",
      "\n",
      "# Recent versions of numpy\n",
      "Y = X - X.mean(axis=1, keepdims=True)\n",
      "\n",
      "# Older versions of numpy\n",
      "Y = X - X.mean(axis=1).reshape(-1, 1)\n",
      "\n",
      "print(Y)\n"
     ]
    }
   ],
   "source": [
    "answer(58)"
   ]
  },
  {
   "cell_type": "markdown",
   "id": "ea8807c0",
   "metadata": {},
   "source": [
    "#### 59. How to sort an array by the nth column? (★★☆)"
   ]
  },
  {
   "cell_type": "code",
   "execution_count": 88,
   "id": "cc89a699",
   "metadata": {},
   "outputs": [
    {
     "name": "stdout",
     "output_type": "stream",
     "text": [
      "# Author: Steve Tjoa\n",
      "\n",
      "Z = np.random.randint(0,10,(3,3))\n",
      "print(Z)\n",
      "print(Z[Z[:,1].argsort()])\n"
     ]
    }
   ],
   "source": [
    "answer(59)"
   ]
  },
  {
   "cell_type": "markdown",
   "id": "00fa00a1",
   "metadata": {},
   "source": [
    "#### 60. How to tell if a given 2D array has null columns? (★★☆)"
   ]
  },
  {
   "cell_type": "code",
   "execution_count": 89,
   "id": "3436e165",
   "metadata": {},
   "outputs": [
    {
     "name": "stdout",
     "output_type": "stream",
     "text": [
      "# Author: Warren Weckesser\n",
      "\n",
      "# null : 0 \n",
      "Z = np.random.randint(0,3,(3,10))\n",
      "print((~Z.any(axis=0)).any())\n",
      "\n",
      "# null : np.nan\n",
      "Z=np.array([\n",
      "    [0,1,np.nan],\n",
      "    [1,2,np.nan],\n",
      "    [4,5,np.nan]\n",
      "])\n",
      "print(np.isnan(Z).all(axis=0))\n"
     ]
    }
   ],
   "source": [
    "answer(60)"
   ]
  },
  {
   "cell_type": "markdown",
   "id": "5a65c7a2",
   "metadata": {},
   "source": [
    "#### 61. Find the nearest value from a given value in an array (★★☆)"
   ]
  },
  {
   "cell_type": "code",
   "execution_count": 91,
   "id": "73f149d6",
   "metadata": {},
   "outputs": [
    {
     "name": "stdout",
     "output_type": "stream",
     "text": [
      "Z = np.random.uniform(0,1,10)\n",
      "z = 0.5\n",
      "m = Z.flat[np.abs(Z - z).argmin()]\n",
      "print(m)\n"
     ]
    }
   ],
   "source": [
    "answer(61)"
   ]
  },
  {
   "cell_type": "markdown",
   "id": "dd83e8af",
   "metadata": {},
   "source": [
    "#### 62. Considering two arrays with shape (1,3) and (3,1), how to compute their sum using an iterator? (★★☆)"
   ]
  },
  {
   "cell_type": "code",
   "execution_count": 92,
   "id": "29a709a1",
   "metadata": {},
   "outputs": [
    {
     "name": "stdout",
     "output_type": "stream",
     "text": [
      "A = np.arange(3).reshape(3,1)\n",
      "B = np.arange(3).reshape(1,3)\n",
      "it = np.nditer([A,B,None])\n",
      "for x,y,z in it: z[...] = x + y\n",
      "print(it.operands[2])\n"
     ]
    }
   ],
   "source": [
    "answer(62)"
   ]
  },
  {
   "cell_type": "markdown",
   "id": "6c042efa",
   "metadata": {},
   "source": [
    "#### 63. Create an array class that has a name attribute (★★☆)"
   ]
  },
  {
   "cell_type": "code",
   "execution_count": 93,
   "id": "45b3d2e0",
   "metadata": {},
   "outputs": [
    {
     "name": "stdout",
     "output_type": "stream",
     "text": [
      "class NamedArray(np.ndarray):\n",
      "    def __new__(cls, array, name=\"no name\"):\n",
      "        obj = np.asarray(array).view(cls)\n",
      "        obj.name = name\n",
      "        return obj\n",
      "    def __array_finalize__(self, obj):\n",
      "        if obj is None: return\n",
      "        self.name = getattr(obj, 'name', \"no name\")\n",
      "\n",
      "Z = NamedArray(np.arange(10), \"range_10\")\n",
      "print (Z.name)\n"
     ]
    }
   ],
   "source": [
    "answer(63)"
   ]
  },
  {
   "cell_type": "markdown",
   "id": "0a075c3d",
   "metadata": {},
   "source": [
    "#### 64. Consider a given vector, how to add 1 to each element indexed by a second vector (be careful with repeated indices)? (★★★)"
   ]
  },
  {
   "cell_type": "code",
   "execution_count": 94,
   "id": "36c50470",
   "metadata": {},
   "outputs": [
    {
     "name": "stdout",
     "output_type": "stream",
     "text": [
      "# Author: Brett Olsen\n",
      "\n",
      "Z = np.ones(10)\n",
      "I = np.random.randint(0,len(Z),20)\n",
      "Z += np.bincount(I, minlength=len(Z))\n",
      "print(Z)\n",
      "\n",
      "# Another solution\n",
      "# Author: Bartosz Telenczuk\n",
      "np.add.at(Z, I, 1)\n",
      "print(Z)\n"
     ]
    }
   ],
   "source": [
    "answer(64)"
   ]
  },
  {
   "cell_type": "markdown",
   "id": "0fb2f0c5",
   "metadata": {},
   "source": [
    "#### 65. How to accumulate elements of a vector (X) to an array (F) based on an index list (I)? (★★★)"
   ]
  },
  {
   "cell_type": "code",
   "execution_count": 95,
   "id": "58aa5f82",
   "metadata": {},
   "outputs": [
    {
     "name": "stdout",
     "output_type": "stream",
     "text": [
      "# Author: Alan G Isaac\n",
      "\n",
      "X = [1,2,3,4,5,6]\n",
      "I = [1,3,9,3,4,1]\n",
      "F = np.bincount(I,X)\n",
      "print(F)\n"
     ]
    }
   ],
   "source": [
    "answer(65)"
   ]
  },
  {
   "cell_type": "markdown",
   "id": "d89dc506",
   "metadata": {},
   "source": [
    "#### 66. Considering a (w,h,3) image of (dtype=ubyte), compute the number of unique colors (★★☆)"
   ]
  },
  {
   "cell_type": "code",
   "execution_count": 96,
   "id": "8fb43a49",
   "metadata": {},
   "outputs": [
    {
     "name": "stdout",
     "output_type": "stream",
     "text": [
      "# Author: Fisher Wang\n",
      "\n",
      "w, h = 256, 256\n",
      "I = np.random.randint(0, 4, (h, w, 3)).astype(np.ubyte)\n",
      "colors = np.unique(I.reshape(-1, 3), axis=0)\n",
      "n = len(colors)\n",
      "print(n)\n",
      "\n",
      "# Faster version\n",
      "# Author: Mark Setchell\n",
      "# https://stackoverflow.com/a/59671950/2836621\n",
      "\n",
      "w, h = 256, 256\n",
      "I = np.random.randint(0,4,(h,w,3), dtype=np.uint8)\n",
      "\n",
      "# View each pixel as a single 24-bit integer, rather than three 8-bit bytes\n",
      "I24 = np.dot(I.astype(np.uint32),[1,256,65536])\n",
      "\n",
      "# Count unique colours\n",
      "n = len(np.unique(I24))\n",
      "print(n)\n"
     ]
    }
   ],
   "source": [
    "answer(66)"
   ]
  },
  {
   "cell_type": "markdown",
   "id": "535a5d81",
   "metadata": {},
   "source": [
    "#### 67. Considering a four dimensions array, how to get sum over the last two axis at once? (★★★)"
   ]
  },
  {
   "cell_type": "code",
   "execution_count": 97,
   "id": "f954ab9d",
   "metadata": {},
   "outputs": [
    {
     "name": "stdout",
     "output_type": "stream",
     "text": [
      "A = np.random.randint(0,10,(3,4,3,4))\n",
      "# solution by passing a tuple of axes (introduced in numpy 1.7.0)\n",
      "sum = A.sum(axis=(-2,-1))\n",
      "print(sum)\n",
      "# solution by flattening the last two dimensions into one\n",
      "# (useful for functions that don't accept tuples for axis argument)\n",
      "sum = A.reshape(A.shape[:-2] + (-1,)).sum(axis=-1)\n",
      "print(sum)\n"
     ]
    }
   ],
   "source": [
    "answer(67)"
   ]
  },
  {
   "cell_type": "markdown",
   "id": "eee66d3c",
   "metadata": {},
   "source": [
    "#### 68. Considering a one-dimensional vector D, how to compute means of subsets of D using a vector S of same size describing subset  indices? (★★★)"
   ]
  },
  {
   "cell_type": "code",
   "execution_count": 98,
   "id": "8929773a",
   "metadata": {},
   "outputs": [
    {
     "name": "stdout",
     "output_type": "stream",
     "text": [
      "# Author: Jaime Fernández del Río\n",
      "\n",
      "D = np.random.uniform(0,1,100)\n",
      "S = np.random.randint(0,10,100)\n",
      "D_sums = np.bincount(S, weights=D)\n",
      "D_counts = np.bincount(S)\n",
      "D_means = D_sums / D_counts\n",
      "print(D_means)\n",
      "\n",
      "# Pandas solution as a reference due to more intuitive code\n",
      "import pandas as pd\n",
      "print(pd.Series(D).groupby(S).mean())\n"
     ]
    }
   ],
   "source": [
    "answer(68)"
   ]
  },
  {
   "cell_type": "markdown",
   "id": "f90d4c40",
   "metadata": {},
   "source": [
    "#### 69. How to get the diagonal of a dot product? (★★★)"
   ]
  },
  {
   "cell_type": "code",
   "execution_count": 99,
   "id": "b47d392d",
   "metadata": {},
   "outputs": [
    {
     "name": "stdout",
     "output_type": "stream",
     "text": [
      "# Author: Mathieu Blondel\n",
      "\n",
      "A = np.random.uniform(0,1,(5,5))\n",
      "B = np.random.uniform(0,1,(5,5))\n",
      "\n",
      "# Slow version\n",
      "np.diag(np.dot(A, B))\n",
      "\n",
      "# Fast version\n",
      "np.sum(A * B.T, axis=1)\n",
      "\n",
      "# Faster version\n",
      "np.einsum(\"ij,ji->i\", A, B)\n"
     ]
    }
   ],
   "source": [
    "answer(69)"
   ]
  },
  {
   "cell_type": "markdown",
   "id": "a8a97e7d",
   "metadata": {},
   "source": [
    "#### 70. Consider the vector [1, 2, 3, 4, 5], how to build a new vector with 3 consecutive zeros interleaved between each value? (★★★)"
   ]
  },
  {
   "cell_type": "code",
   "execution_count": 100,
   "id": "ee6c6c37",
   "metadata": {},
   "outputs": [
    {
     "name": "stdout",
     "output_type": "stream",
     "text": [
      "# Author: Warren Weckesser\n",
      "\n",
      "Z = np.array([1,2,3,4,5])\n",
      "nz = 3\n",
      "Z0 = np.zeros(len(Z) + (len(Z)-1)*(nz))\n",
      "Z0[::nz+1] = Z\n",
      "print(Z0)\n"
     ]
    }
   ],
   "source": [
    "answer(70)"
   ]
  },
  {
   "cell_type": "markdown",
   "id": "d6a30d60",
   "metadata": {},
   "source": [
    "#### 71. Consider an array of dimension (5,5,3), how to mulitply it by an array with dimensions (5,5)? (★★★)"
   ]
  },
  {
   "cell_type": "code",
   "execution_count": 101,
   "id": "e9703f2e",
   "metadata": {},
   "outputs": [
    {
     "name": "stdout",
     "output_type": "stream",
     "text": [
      "A = np.ones((5,5,3))\n",
      "B = 2*np.ones((5,5))\n",
      "print(A * B[:,:,None])\n"
     ]
    }
   ],
   "source": [
    "answer(71)"
   ]
  },
  {
   "cell_type": "markdown",
   "id": "bac359a9",
   "metadata": {},
   "source": [
    "#### 72. How to swap two rows of an array? (★★★)"
   ]
  },
  {
   "cell_type": "code",
   "execution_count": 102,
   "id": "f1b432b1",
   "metadata": {},
   "outputs": [
    {
     "name": "stdout",
     "output_type": "stream",
     "text": [
      "# Author: Eelco Hoogendoorn\n",
      "\n",
      "A = np.arange(25).reshape(5,5)\n",
      "A[[0,1]] = A[[1,0]]\n",
      "print(A)\n"
     ]
    }
   ],
   "source": [
    "answer(72)"
   ]
  },
  {
   "cell_type": "markdown",
   "id": "620c9f83",
   "metadata": {},
   "source": [
    "#### 73. Consider a set of 10 triplets describing 10 triangles (with shared vertices), find the set of unique line segments composing all the  triangles (★★★)"
   ]
  },
  {
   "cell_type": "code",
   "execution_count": 103,
   "id": "4e595ffc",
   "metadata": {},
   "outputs": [
    {
     "name": "stdout",
     "output_type": "stream",
     "text": [
      "# Author: Nicolas P. Rougier\n",
      "\n",
      "faces = np.random.randint(0,100,(10,3))\n",
      "F = np.roll(faces.repeat(2,axis=1),-1,axis=1)\n",
      "F = F.reshape(len(F)*3,2)\n",
      "F = np.sort(F,axis=1)\n",
      "G = F.view( dtype=[('p0',F.dtype),('p1',F.dtype)] )\n",
      "G = np.unique(G)\n",
      "print(G)\n"
     ]
    }
   ],
   "source": [
    "answer(73)"
   ]
  },
  {
   "cell_type": "markdown",
   "id": "a76c55a2",
   "metadata": {},
   "source": [
    "#### 74. Given a sorted array C that corresponds to a bincount, how to produce an array A such that np.bincount(A) == C? (★★★)"
   ]
  },
  {
   "cell_type": "code",
   "execution_count": 105,
   "id": "2d2ae65a",
   "metadata": {},
   "outputs": [
    {
     "name": "stdout",
     "output_type": "stream",
     "text": [
      "# Author: Jaime Fernández del Río\n",
      "\n",
      "C = np.bincount([1,1,2,3,4,4,6])\n",
      "A = np.repeat(np.arange(len(C)), C)\n",
      "print(A)\n"
     ]
    }
   ],
   "source": [
    "answer(74)"
   ]
  },
  {
   "cell_type": "markdown",
   "id": "d550c8e2",
   "metadata": {},
   "source": [
    "#### 75. How to compute averages using a sliding window over an array? (★★★)"
   ]
  },
  {
   "cell_type": "code",
   "execution_count": 106,
   "id": "841c457c",
   "metadata": {},
   "outputs": [
    {
     "name": "stdout",
     "output_type": "stream",
     "text": [
      "# Author: Jaime Fernández del Río\n",
      "\n",
      "def moving_average(a, n=3) :\n",
      "    ret = np.cumsum(a, dtype=float)\n",
      "    ret[n:] = ret[n:] - ret[:-n]\n",
      "    return ret[n - 1:] / n\n",
      "Z = np.arange(20)\n",
      "print(moving_average(Z, n=3))\n",
      "\n",
      "# Author: Jeff Luo (@Jeff1999)\n",
      "# make sure your NumPy >= 1.20.0\n",
      "\n",
      "from numpy.lib.stride_tricks import sliding_window_view\n",
      "\n",
      "Z = np.arange(20)\n",
      "print(sliding_window_view(Z, window_shape=3).mean(axis=-1))\n"
     ]
    }
   ],
   "source": [
    "answer(75)"
   ]
  },
  {
   "cell_type": "markdown",
   "id": "6b170b00",
   "metadata": {},
   "source": [
    "#### 76. Consider a one-dimensional array Z, build a two-dimensional array whose first row is (Z[0],Z[1],Z[2]) and each subsequent row is  shifted by 1 (last row should be (Z[-3],Z[-2],Z[-1]) (★★★)"
   ]
  },
  {
   "cell_type": "code",
   "execution_count": 107,
   "id": "d9a0cf4e",
   "metadata": {},
   "outputs": [
    {
     "name": "stdout",
     "output_type": "stream",
     "text": [
      "# Author: Joe Kington / Erik Rigtorp\n",
      "from numpy.lib import stride_tricks\n",
      "\n",
      "def rolling(a, window):\n",
      "    shape = (a.size - window + 1, window)\n",
      "    strides = (a.strides[0], a.strides[0])\n",
      "    return stride_tricks.as_strided(a, shape=shape, strides=strides)\n",
      "Z = rolling(np.arange(10), 3)\n",
      "print(Z)\n",
      "\n",
      "# Author: Jeff Luo (@Jeff1999)\n",
      "\n",
      "Z = np.arange(10)\n",
      "print(sliding_window_view(Z, window_shape=3))\n"
     ]
    }
   ],
   "source": [
    "answer(76)"
   ]
  },
  {
   "cell_type": "markdown",
   "id": "e94a5c1d",
   "metadata": {},
   "source": [
    "#### 77. How to negate a boolean, or to change the sign of a float inplace? (★★★)"
   ]
  },
  {
   "cell_type": "code",
   "execution_count": 108,
   "id": "c0f9504f",
   "metadata": {},
   "outputs": [
    {
     "name": "stdout",
     "output_type": "stream",
     "text": [
      "# Author: Nathaniel J. Smith\n",
      "\n",
      "Z = np.random.randint(0,2,100)\n",
      "np.logical_not(Z, out=Z)\n",
      "\n",
      "Z = np.random.uniform(-1.0,1.0,100)\n",
      "np.negative(Z, out=Z)\n"
     ]
    }
   ],
   "source": [
    "answer(77)"
   ]
  },
  {
   "cell_type": "markdown",
   "id": "4eb8b5c1",
   "metadata": {},
   "source": [
    "#### 78. Consider 2 sets of points P0,P1 describing lines (2d) and a point p, how to compute distance from p to each line i (P0[i],P1[i])? (★★★)"
   ]
  },
  {
   "cell_type": "code",
   "execution_count": 109,
   "id": "487f47ec",
   "metadata": {},
   "outputs": [
    {
     "name": "stdout",
     "output_type": "stream",
     "text": [
      "def distance(P0, P1, p):\n",
      "    T = P1 - P0\n",
      "    L = (T**2).sum(axis=1)\n",
      "    U = -((P0[:,0]-p[...,0])*T[:,0] + (P0[:,1]-p[...,1])*T[:,1]) / L\n",
      "    U = U.reshape(len(U),1)\n",
      "    D = P0 + U*T - p\n",
      "    return np.sqrt((D**2).sum(axis=1))\n",
      "\n",
      "P0 = np.random.uniform(-10,10,(10,2))\n",
      "P1 = np.random.uniform(-10,10,(10,2))\n",
      "p  = np.random.uniform(-10,10,( 1,2))\n",
      "print(distance(P0, P1, p))\n"
     ]
    }
   ],
   "source": [
    "answer(78)"
   ]
  },
  {
   "cell_type": "markdown",
   "id": "3df99948",
   "metadata": {},
   "source": [
    "#### 79. Consider 2 sets of points P0,P1 describing lines (2d) and a set of points P, how to compute distance from each point j (P[j]) to each line i (P0[i],P1[i])? (★★★)"
   ]
  },
  {
   "cell_type": "code",
   "execution_count": 110,
   "id": "dc2df37b",
   "metadata": {},
   "outputs": [
    {
     "name": "stdout",
     "output_type": "stream",
     "text": [
      "# Author: Italmassov Kuanysh\n",
      "\n",
      "# based on distance function from previous question\n",
      "P0 = np.random.uniform(-10, 10, (10,2))\n",
      "P1 = np.random.uniform(-10,10,(10,2))\n",
      "p = np.random.uniform(-10, 10, (10,2))\n",
      "print(np.array([distance(P0,P1,p_i) for p_i in p]))\n"
     ]
    }
   ],
   "source": [
    "answer(79)"
   ]
  },
  {
   "cell_type": "markdown",
   "id": "11e972c2",
   "metadata": {},
   "source": [
    "#### 80. Consider an arbitrary array, write a function that extract a subpart with a fixed shape and centered on a given element (pad with a `fill` value when necessary) (★★★)"
   ]
  },
  {
   "cell_type": "code",
   "execution_count": 111,
   "id": "0291247f",
   "metadata": {},
   "outputs": [
    {
     "name": "stdout",
     "output_type": "stream",
     "text": [
      "# Author: Nicolas Rougier\n",
      "\n",
      "Z = np.random.randint(0,10,(10,10))\n",
      "shape = (5,5)\n",
      "fill  = 0\n",
      "position = (1,1)\n",
      "\n",
      "R = np.ones(shape, dtype=Z.dtype)*fill\n",
      "P  = np.array(list(position)).astype(int)\n",
      "Rs = np.array(list(R.shape)).astype(int)\n",
      "Zs = np.array(list(Z.shape)).astype(int)\n",
      "\n",
      "R_start = np.zeros((len(shape),)).astype(int)\n",
      "R_stop  = np.array(list(shape)).astype(int)\n",
      "Z_start = (P-Rs//2)\n",
      "Z_stop  = (P+Rs//2)+Rs%2\n",
      "\n",
      "R_start = (R_start - np.minimum(Z_start,0)).tolist()\n",
      "Z_start = (np.maximum(Z_start,0)).tolist()\n",
      "R_stop = np.maximum(R_start, (R_stop - np.maximum(Z_stop-Zs,0))).tolist()\n",
      "Z_stop = (np.minimum(Z_stop,Zs)).tolist()\n",
      "\n",
      "r = [slice(start,stop) for start,stop in zip(R_start,R_stop)]\n",
      "z = [slice(start,stop) for start,stop in zip(Z_start,Z_stop)]\n",
      "R[r] = Z[z]\n",
      "print(Z)\n",
      "print(R)\n"
     ]
    }
   ],
   "source": [
    "answer(80)"
   ]
  },
  {
   "cell_type": "markdown",
   "id": "93cfeab3",
   "metadata": {},
   "source": [
    "#### 81. Consider an array Z = [1,2,3,4,5,6,7,8,9,10,11,12,13,14], how to generate an array R = [[1,2,3,4], [2,3,4,5], [3,4,5,6], ..., [11,12,13,14]]? (★★★)"
   ]
  },
  {
   "cell_type": "code",
   "execution_count": 112,
   "id": "360de791",
   "metadata": {},
   "outputs": [
    {
     "name": "stdout",
     "output_type": "stream",
     "text": [
      "# Author: Stefan van der Walt\n",
      "\n",
      "Z = np.arange(1,15,dtype=np.uint32)\n",
      "R = stride_tricks.as_strided(Z,(11,4),(4,4))\n",
      "print(R)\n",
      "\n",
      "# Author: Jeff Luo (@Jeff1999)\n",
      "\n",
      "Z = np.arange(1, 15, dtype=np.uint32)\n",
      "print(sliding_window_view(Z, window_shape=4))\n"
     ]
    }
   ],
   "source": [
    "answer(81)"
   ]
  },
  {
   "cell_type": "markdown",
   "id": "4c15ceff",
   "metadata": {},
   "source": [
    "#### 82. Compute a matrix rank (★★★)"
   ]
  },
  {
   "cell_type": "code",
   "execution_count": 113,
   "id": "9a4272d2",
   "metadata": {},
   "outputs": [
    {
     "name": "stdout",
     "output_type": "stream",
     "text": [
      "# Author: Stefan van der Walt\n",
      "\n",
      "Z = np.random.uniform(0,1,(10,10))\n",
      "U, S, V = np.linalg.svd(Z) # Singular Value Decomposition\n",
      "rank = np.sum(S > 1e-10)\n",
      "print(rank)\n",
      "\n",
      "# alternative solution:\n",
      "# Author: Jeff Luo (@Jeff1999)\n",
      "\n",
      "rank = np.linalg.matrix_rank(Z)\n",
      "print(rank)\n"
     ]
    }
   ],
   "source": [
    "answer(82)"
   ]
  },
  {
   "cell_type": "markdown",
   "id": "1171cb84",
   "metadata": {},
   "source": [
    "#### 83. How to find the most frequent value in an array?"
   ]
  },
  {
   "cell_type": "code",
   "execution_count": 114,
   "id": "33e951c8",
   "metadata": {},
   "outputs": [
    {
     "name": "stdout",
     "output_type": "stream",
     "text": [
      "Z = np.random.randint(0,10,50)\n",
      "print(np.bincount(Z).argmax())\n"
     ]
    }
   ],
   "source": [
    "answer(83)"
   ]
  },
  {
   "cell_type": "markdown",
   "id": "04f472aa",
   "metadata": {},
   "source": [
    "#### 84. Extract all the contiguous 3x3 blocks from a random 10x10 matrix (★★★)"
   ]
  },
  {
   "cell_type": "code",
   "execution_count": 115,
   "id": "7aade14a",
   "metadata": {},
   "outputs": [
    {
     "name": "stdout",
     "output_type": "stream",
     "text": [
      "# Author: Chris Barker\n",
      "\n",
      "Z = np.random.randint(0,5,(10,10))\n",
      "n = 3\n",
      "i = 1 + (Z.shape[0]-3)\n",
      "j = 1 + (Z.shape[1]-3)\n",
      "C = stride_tricks.as_strided(Z, shape=(i, j, n, n), strides=Z.strides + Z.strides)\n",
      "print(C)\n",
      "\n",
      "# Author: Jeff Luo (@Jeff1999)\n",
      "\n",
      "Z = np.random.randint(0,5,(10,10))\n",
      "print(sliding_window_view(Z, window_shape=(3, 3)))\n"
     ]
    }
   ],
   "source": [
    "answer(84)"
   ]
  },
  {
   "cell_type": "markdown",
   "id": "52836346",
   "metadata": {},
   "source": [
    "#### 85. Create a 2D array subclass such that Z[i,j] == Z[j,i] (★★★)"
   ]
  },
  {
   "cell_type": "code",
   "execution_count": 116,
   "id": "4df70318",
   "metadata": {},
   "outputs": [
    {
     "name": "stdout",
     "output_type": "stream",
     "text": [
      "# Author: Eric O. Lebigot\n",
      "# Note: only works for 2d array and value setting using indices\n",
      "\n",
      "class Symetric(np.ndarray):\n",
      "    def __setitem__(self, index, value):\n",
      "        i,j = index\n",
      "        super(Symetric, self).__setitem__((i,j), value)\n",
      "        super(Symetric, self).__setitem__((j,i), value)\n",
      "\n",
      "def symetric(Z):\n",
      "    return np.asarray(Z + Z.T - np.diag(Z.diagonal())).view(Symetric)\n",
      "\n",
      "S = symetric(np.random.randint(0,10,(5,5)))\n",
      "S[2,3] = 42\n",
      "print(S)\n"
     ]
    }
   ],
   "source": [
    "answer(85)"
   ]
  },
  {
   "cell_type": "markdown",
   "id": "78c43ee5",
   "metadata": {},
   "source": [
    "#### 86. Consider a set of p matrices with shape (n,n) and a set of p vectors with shape (n,1). How to compute the sum of of the p matrix products at once? (result has shape (n,1)) (★★★)"
   ]
  },
  {
   "cell_type": "code",
   "execution_count": 117,
   "id": "32fd2c3b",
   "metadata": {},
   "outputs": [
    {
     "name": "stdout",
     "output_type": "stream",
     "text": [
      "# Author: Stefan van der Walt\n",
      "\n",
      "p, n = 10, 20\n",
      "M = np.ones((p,n,n))\n",
      "V = np.ones((p,n,1))\n",
      "S = np.tensordot(M, V, axes=[[0, 2], [0, 1]])\n",
      "print(S)\n",
      "\n",
      "# It works, because:\n",
      "# M is (p,n,n)\n",
      "# V is (p,n,1)\n",
      "# Thus, summing over the paired axes 0 and 0 (of M and V independently),\n",
      "# and 2 and 1, to remain with a (n,1) vector.\n"
     ]
    }
   ],
   "source": [
    "answer(86)"
   ]
  },
  {
   "cell_type": "markdown",
   "id": "158f9945",
   "metadata": {},
   "source": [
    "#### 87. Consider a 16x16 array, how to get the block-sum (block size is 4x4)? (★★★)"
   ]
  },
  {
   "cell_type": "code",
   "execution_count": 118,
   "id": "5a9b808f",
   "metadata": {},
   "outputs": [
    {
     "name": "stdout",
     "output_type": "stream",
     "text": [
      "# Author: Robert Kern\n",
      "\n",
      "Z = np.ones((16,16))\n",
      "k = 4\n",
      "S = np.add.reduceat(np.add.reduceat(Z, np.arange(0, Z.shape[0], k), axis=0),\n",
      "                                       np.arange(0, Z.shape[1], k), axis=1)\n",
      "print(S)\n",
      "\n",
      "# alternative solution:\n",
      "# Author: Sebastian Wallkötter (@FirefoxMetzger)\n",
      "\n",
      "Z = np.ones((16,16))\n",
      "k = 4\n",
      "\n",
      "windows = np.lib.stride_tricks.sliding_window_view(Z, (k, k))\n",
      "S = windows[::k, ::k, ...].sum(axis=(-2, -1))\n",
      "\n",
      "# Author: Jeff Luo (@Jeff1999)\n",
      "\n",
      "Z = np.ones((16, 16))\n",
      "k = 4\n",
      "print(sliding_window_view(Z, window_shape=(k, k))[::k, ::k].sum(axis=(-2, -1)))\n"
     ]
    }
   ],
   "source": [
    "answer(87)"
   ]
  },
  {
   "cell_type": "markdown",
   "id": "2e0ad860",
   "metadata": {},
   "source": [
    "#### 88. How to implement the Game of Life using numpy arrays? (★★★)"
   ]
  },
  {
   "cell_type": "code",
   "execution_count": 119,
   "id": "574acff5",
   "metadata": {},
   "outputs": [
    {
     "name": "stdout",
     "output_type": "stream",
     "text": [
      "# Author: Nicolas Rougier\n",
      "\n",
      "def iterate(Z):\n",
      "    # Count neighbours\n",
      "    N = (Z[0:-2,0:-2] + Z[0:-2,1:-1] + Z[0:-2,2:] +\n",
      "         Z[1:-1,0:-2]                + Z[1:-1,2:] +\n",
      "         Z[2:  ,0:-2] + Z[2:  ,1:-1] + Z[2:  ,2:])\n",
      "\n",
      "    # Apply rules\n",
      "    birth = (N==3) & (Z[1:-1,1:-1]==0)\n",
      "    survive = ((N==2) | (N==3)) & (Z[1:-1,1:-1]==1)\n",
      "    Z[...] = 0\n",
      "    Z[1:-1,1:-1][birth | survive] = 1\n",
      "    return Z\n",
      "\n",
      "Z = np.random.randint(0,2,(50,50))\n",
      "for i in range(100): Z = iterate(Z)\n",
      "print(Z)\n"
     ]
    }
   ],
   "source": [
    "answer(88)"
   ]
  },
  {
   "cell_type": "markdown",
   "id": "69a892fa",
   "metadata": {},
   "source": [
    "#### 89. How to get the n largest values of an array (★★★)"
   ]
  },
  {
   "cell_type": "code",
   "execution_count": 120,
   "id": "21b2bd48",
   "metadata": {},
   "outputs": [
    {
     "name": "stdout",
     "output_type": "stream",
     "text": [
      "Z = np.arange(10000)\n",
      "np.random.shuffle(Z)\n",
      "n = 5\n",
      "\n",
      "# Slow\n",
      "print (Z[np.argsort(Z)[-n:]])\n",
      "\n",
      "# Fast\n",
      "print (Z[np.argpartition(-Z,n)[:n]])\n"
     ]
    }
   ],
   "source": [
    "answer(89)"
   ]
  },
  {
   "cell_type": "markdown",
   "id": "b55ccacc",
   "metadata": {},
   "source": [
    "#### 90. Given an arbitrary number of vectors, build the cartesian product (every combinations of every item) (★★★)"
   ]
  },
  {
   "cell_type": "code",
   "execution_count": 121,
   "id": "4b645da4",
   "metadata": {},
   "outputs": [
    {
     "name": "stdout",
     "output_type": "stream",
     "text": [
      "# Author: Stefan Van der Walt\n",
      "\n",
      "def cartesian(arrays):\n",
      "    arrays = [np.asarray(a) for a in arrays]\n",
      "    shape = (len(x) for x in arrays)\n",
      "\n",
      "    ix = np.indices(shape, dtype=int)\n",
      "    ix = ix.reshape(len(arrays), -1).T\n",
      "\n",
      "    for n, arr in enumerate(arrays):\n",
      "        ix[:, n] = arrays[n][ix[:, n]]\n",
      "\n",
      "    return ix\n",
      "\n",
      "print (cartesian(([1, 2, 3], [4, 5], [6, 7])))\n"
     ]
    }
   ],
   "source": [
    "answer(90)"
   ]
  },
  {
   "cell_type": "markdown",
   "id": "89187a23",
   "metadata": {},
   "source": [
    "#### 91. How to create a record array from a regular array? (★★★)"
   ]
  },
  {
   "cell_type": "code",
   "execution_count": 122,
   "id": "da94c71a",
   "metadata": {},
   "outputs": [
    {
     "name": "stdout",
     "output_type": "stream",
     "text": [
      "Z = np.array([(\"Hello\", 2.5, 3),\n",
      "              (\"World\", 3.6, 2)])\n",
      "R = np.core.records.fromarrays(Z.T,\n",
      "                               names='col1, col2, col3',\n",
      "                               formats = 'S8, f8, i8')\n",
      "print(R)\n"
     ]
    }
   ],
   "source": [
    "answer(91)"
   ]
  },
  {
   "cell_type": "markdown",
   "id": "aa70d4ca",
   "metadata": {},
   "source": [
    "#### 92. Consider a large vector Z, compute Z to the power of 3 using 3 different methods (★★★)"
   ]
  },
  {
   "cell_type": "code",
   "execution_count": 123,
   "id": "7cff1bf5",
   "metadata": {},
   "outputs": [
    {
     "name": "stdout",
     "output_type": "stream",
     "text": [
      "# Author: Ryan G.\n",
      "\n",
      "x = np.random.rand(int(5e7))\n",
      "\n",
      "%timeit np.power(x,3)\n",
      "%timeit x*x*x\n",
      "%timeit np.einsum('i,i,i->i',x,x,x)\n"
     ]
    }
   ],
   "source": [
    "answer(92)"
   ]
  },
  {
   "cell_type": "markdown",
   "id": "5f79dd00",
   "metadata": {},
   "source": [
    "#### 93. Consider two arrays A and B of shape (8,3) and (2,2). How to find rows of A that contain elements of each row of B regardless of the order of the elements in B? (★★★)"
   ]
  },
  {
   "cell_type": "code",
   "execution_count": 124,
   "id": "20c105b2",
   "metadata": {},
   "outputs": [
    {
     "name": "stdout",
     "output_type": "stream",
     "text": [
      "# Author: Gabe Schwartz\n",
      "\n",
      "A = np.random.randint(0,5,(8,3))\n",
      "B = np.random.randint(0,5,(2,2))\n",
      "\n",
      "C = (A[..., np.newaxis, np.newaxis] == B)\n",
      "rows = np.where(C.any((3,1)).all(1))[0]\n",
      "print(rows)\n"
     ]
    }
   ],
   "source": [
    "answer(93)"
   ]
  },
  {
   "cell_type": "markdown",
   "id": "a80570cd",
   "metadata": {},
   "source": [
    "#### 94. Considering a 10x3 matrix, extract rows with unequal values (e.g. [2,2,3]) (★★★)"
   ]
  },
  {
   "cell_type": "code",
   "execution_count": 125,
   "id": "84db8de1",
   "metadata": {},
   "outputs": [
    {
     "name": "stdout",
     "output_type": "stream",
     "text": [
      "# Author: Robert Kern\n",
      "\n",
      "Z = np.random.randint(0,5,(10,3))\n",
      "print(Z)\n",
      "# solution for arrays of all dtypes (including string arrays and record arrays)\n",
      "E = np.all(Z[:,1:] == Z[:,:-1], axis=1)\n",
      "U = Z[~E]\n",
      "print(U)\n",
      "# soluiton for numerical arrays only, will work for any number of columns in Z\n",
      "U = Z[Z.max(axis=1) != Z.min(axis=1),:]\n",
      "print(U)\n"
     ]
    }
   ],
   "source": [
    "answer(94)"
   ]
  },
  {
   "cell_type": "markdown",
   "id": "ba154f43",
   "metadata": {},
   "source": [
    "#### 95. Convert a vector of ints into a matrix binary representation (★★★)"
   ]
  },
  {
   "cell_type": "code",
   "execution_count": 126,
   "id": "cfa96e1b",
   "metadata": {},
   "outputs": [
    {
     "name": "stdout",
     "output_type": "stream",
     "text": [
      "# Author: Warren Weckesser\n",
      "\n",
      "I = np.array([0, 1, 2, 3, 15, 16, 32, 64, 128])\n",
      "B = ((I.reshape(-1,1) & (2**np.arange(8))) != 0).astype(int)\n",
      "print(B[:,::-1])\n",
      "\n",
      "# Author: Daniel T. McDonald\n",
      "\n",
      "I = np.array([0, 1, 2, 3, 15, 16, 32, 64, 128], dtype=np.uint8)\n",
      "print(np.unpackbits(I[:, np.newaxis], axis=1))\n"
     ]
    }
   ],
   "source": [
    "answer(95)"
   ]
  },
  {
   "cell_type": "markdown",
   "id": "420e2343",
   "metadata": {},
   "source": [
    "#### 96. Given a two dimensional array, how to extract unique rows? (★★★)"
   ]
  },
  {
   "cell_type": "code",
   "execution_count": 127,
   "id": "4680dfd0",
   "metadata": {},
   "outputs": [
    {
     "name": "stdout",
     "output_type": "stream",
     "text": [
      "# Author: Jaime Fernández del Río\n",
      "\n",
      "Z = np.random.randint(0,2,(6,3))\n",
      "T = np.ascontiguousarray(Z).view(np.dtype((np.void, Z.dtype.itemsize * Z.shape[1])))\n",
      "_, idx = np.unique(T, return_index=True)\n",
      "uZ = Z[idx]\n",
      "print(uZ)\n",
      "\n",
      "# Author: Andreas Kouzelis\n",
      "# NumPy >= 1.13\n",
      "uZ = np.unique(Z, axis=0)\n",
      "print(uZ)\n"
     ]
    }
   ],
   "source": [
    "answer(96)"
   ]
  },
  {
   "cell_type": "markdown",
   "id": "89fef2f3",
   "metadata": {},
   "source": [
    "#### 97. Considering 2 vectors A & B, write the einsum equivalent of inner, outer, sum, and mul function (★★★)"
   ]
  },
  {
   "cell_type": "code",
   "execution_count": 128,
   "id": "bb9c14b2",
   "metadata": {},
   "outputs": [
    {
     "name": "stdout",
     "output_type": "stream",
     "text": [
      "# Author: Alex Riley\n",
      "# Make sure to read: http://ajcr.net/Basic-guide-to-einsum/\n",
      "\n",
      "A = np.random.uniform(0,1,10)\n",
      "B = np.random.uniform(0,1,10)\n",
      "\n",
      "np.einsum('i->', A)       # np.sum(A)\n",
      "np.einsum('i,i->i', A, B) # A * B\n",
      "np.einsum('i,i', A, B)    # np.inner(A, B)\n",
      "np.einsum('i,j->ij', A, B)    # np.outer(A, B)\n"
     ]
    }
   ],
   "source": [
    "answer(97)"
   ]
  },
  {
   "cell_type": "markdown",
   "id": "7ad5cc5f",
   "metadata": {},
   "source": [
    "#### 98. Considering a path described by two vectors (X,Y), how to sample it using equidistant samples (★★★)?"
   ]
  },
  {
   "cell_type": "code",
   "execution_count": 129,
   "id": "0899d1d5",
   "metadata": {},
   "outputs": [
    {
     "name": "stdout",
     "output_type": "stream",
     "text": [
      "# Author: Bas Swinckels\n",
      "\n",
      "phi = np.arange(0, 10*np.pi, 0.1)\n",
      "a = 1\n",
      "x = a*phi*np.cos(phi)\n",
      "y = a*phi*np.sin(phi)\n",
      "\n",
      "dr = (np.diff(x)**2 + np.diff(y)**2)**.5 # segment lengths\n",
      "r = np.zeros_like(x)\n",
      "r[1:] = np.cumsum(dr)                # integrate path\n",
      "r_int = np.linspace(0, r.max(), 200) # regular spaced path\n",
      "x_int = np.interp(r_int, r, x)       # integrate path\n",
      "y_int = np.interp(r_int, r, y)\n"
     ]
    }
   ],
   "source": [
    "answer(98)"
   ]
  },
  {
   "cell_type": "markdown",
   "id": "2b69272e",
   "metadata": {},
   "source": [
    "#### 99. Given an integer n and a 2D array X, select from X the rows which can be interpreted as draws from a multinomial distribution with n degrees, i.e., the rows which only contain integers and which sum to n. (★★★)"
   ]
  },
  {
   "cell_type": "code",
   "execution_count": 130,
   "id": "55c8b034",
   "metadata": {},
   "outputs": [
    {
     "name": "stdout",
     "output_type": "stream",
     "text": [
      "# Author: Evgeni Burovski\n",
      "\n",
      "X = np.asarray([[1.0, 0.0, 3.0, 8.0],\n",
      "                [2.0, 0.0, 1.0, 1.0],\n",
      "                [1.5, 2.5, 1.0, 0.0]])\n",
      "n = 4\n",
      "M = np.logical_and.reduce(np.mod(X, 1) == 0, axis=-1)\n",
      "M &= (X.sum(axis=-1) == n)\n",
      "print(X[M])\n"
     ]
    }
   ],
   "source": [
    "answer(99)"
   ]
  },
  {
   "cell_type": "markdown",
   "id": "59ab5516",
   "metadata": {},
   "source": [
    "#### 100. Compute bootstrapped 95% confidence intervals for the mean of a 1D array X (i.e., resample the elements of an array with replacement N times, compute the mean of each sample, and then compute percentiles over the means). (★★★)"
   ]
  },
  {
   "cell_type": "code",
   "execution_count": 131,
   "id": "450877d8",
   "metadata": {},
   "outputs": [
    {
     "name": "stdout",
     "output_type": "stream",
     "text": [
      "# Author: Jessica B. Hamrick\n",
      "\n",
      "X = np.random.randn(100) # random 1D array\n",
      "N = 1000 # number of bootstrap samples\n",
      "idx = np.random.randint(0, X.size, (N, X.size))\n",
      "means = X[idx].mean(axis=1)\n",
      "confint = np.percentile(means, [2.5, 97.5])\n",
      "print(confint)\n"
     ]
    }
   ],
   "source": [
    "answer(100)"
   ]
  }
 ],
 "metadata": {
  "kernelspec": {
   "display_name": "Python 3",
   "language": "python",
   "name": "python3"
  },
  "language_info": {
   "codemirror_mode": {
    "name": "ipython",
    "version": 3
   },
   "file_extension": ".py",
   "mimetype": "text/x-python",
   "name": "python",
   "nbconvert_exporter": "python",
   "pygments_lexer": "ipython3",
   "version": "3.10.6"
  }
 },
 "nbformat": 4,
 "nbformat_minor": 5
}
